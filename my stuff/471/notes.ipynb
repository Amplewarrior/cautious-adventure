{
 "cells": [
  {
   "cell_type": "markdown",
   "metadata": {},
   "source": [
    "Birge's PHY 471 Quantum Mechanics 1\n",
    "Notes for office hours <br>\n",
    "Why are lasers coherent? <br> what detectors are used to detect electrons, how do they detect in a specific location, is it based on the location of the detector?\n"
   ]
  },
  {
   "cell_type": "markdown",
   "metadata": {},
   "source": [
    "I'm starting to suspect quantum mechanics is taught to be confusing on purpose. Why don't we talk at all about the collapse of the wave function? Why do we spend two weeks trying to make students confused?"
   ]
  },
  {
   "cell_type": "code",
   "execution_count": 19,
   "metadata": {},
   "outputs": [
    {
     "name": "stdout",
     "output_type": "stream",
     "text": [
      "5.214285714285714\n"
     ]
    }
   ],
   "source": [
    "original_string = \"1; 3; 3; 4; 4; 5; 5; 5; 5; 7; 7; 7; 8; 9\"\n",
    "clean_list = original_string.split(';')\n",
    "clean_list = [item.strip() for item in clean_list if item.strip()]  # Remove empty strings\n",
    "sum = 0 \n",
    "\n",
    "for i in clean_list:\n",
    "    sum = sum + int(i)\n",
    "print(sum / 14)"
   ]
  },
  {
   "cell_type": "code",
   "execution_count": 7,
   "metadata": {},
   "outputs": [
    {
     "name": "stdout",
     "output_type": "stream",
     "text": [
      "3\n"
     ]
    }
   ],
   "source": [
    "print(clean_list[1])"
   ]
  },
  {
   "cell_type": "code",
   "execution_count": 20,
   "metadata": {},
   "outputs": [
    {
     "name": "stdout",
     "output_type": "stream",
     "text": [
      "2.110469528956308\n"
     ]
    }
   ],
   "source": [
    "sigma = 0\n",
    "for i in clean_list:\n",
    "    sigma = sigma + (float(i) - sum / 14) ** 2\n",
    "print((sigma / 14) ** (1/2))"
   ]
  },
  {
   "cell_type": "markdown",
   "metadata": {},
   "source": [
    "I knew this class was fucking with us! they're going back over the stuff we did the first two weeks, only explaining it so it makes sense. What a waste of time."
   ]
  },
  {
   "cell_type": "markdown",
   "metadata": {},
   "source": [
    "# Quantum Mechanics"
   ]
  },
  {
   "cell_type": "markdown",
   "metadata": {},
   "source": [
    "## Notes"
   ]
  },
  {
   "cell_type": "markdown",
   "metadata": {},
   "source": [
    "Projection Operator $$ \\hat P_+ \\equiv |+><+|$$ $$\\hat P_+ + \\hat P_- = \\hat I $$ In class we checked if this works for Postulate 4. We noted we must normalize afterwards. "
   ]
  },
  {
   "cell_type": "markdown",
   "metadata": {},
   "source": [
    "https://www.youtube.com/@ascphysicsandastronomy8183/videos"
   ]
  }
 ],
 "metadata": {
  "kernelspec": {
   "display_name": "Python 3",
   "language": "python",
   "name": "python3"
  },
  "language_info": {
   "codemirror_mode": {
    "name": "ipython",
    "version": 3
   },
   "file_extension": ".py",
   "mimetype": "text/x-python",
   "name": "python",
   "nbconvert_exporter": "python",
   "pygments_lexer": "ipython3",
   "version": "3.11.5"
  },
  "orig_nbformat": 4
 },
 "nbformat": 4,
 "nbformat_minor": 2
}
