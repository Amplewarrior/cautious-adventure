{
 "cells": [
  {
   "cell_type": "markdown",
   "metadata": {},
   "source": [
    "# Economics"
   ]
  },
  {
   "cell_type": "markdown",
   "metadata": {},
   "source": [
    "On the first day he said paper notes are prefered to laptops"
   ]
  },
  {
   "cell_type": "markdown",
   "metadata": {},
   "source": [
    "Homework: show expecting a lottery has the same outcomes as expecting the expected value of the lottery\n",
    "\n",
    "Question: What does that mean about utility? Should utility and hapiness be decoupled? It makes sense that hapiness should come from other sources."
   ]
  },
  {
   "cell_type": "markdown",
   "metadata": {},
   "source": [
    "$U \\equiv u_1 + \\delta u_2 +... = \\sum_{t=1}^T \\delta^{t-1}u_t $"
   ]
  }
 ],
 "metadata": {
  "language_info": {
   "name": "python"
  }
 },
 "nbformat": 4,
 "nbformat_minor": 2
}
