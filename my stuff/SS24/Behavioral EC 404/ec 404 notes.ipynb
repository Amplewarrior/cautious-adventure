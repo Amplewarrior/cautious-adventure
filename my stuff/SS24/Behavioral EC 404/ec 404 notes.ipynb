{
 "cells": [
  {
   "cell_type": "markdown",
   "metadata": {},
   "source": [
    "# Economics"
   ]
  },
  {
   "cell_type": "markdown",
   "metadata": {},
   "source": [
    "On the first day he said paper notes are prefered to laptops"
   ]
  },
  {
   "cell_type": "markdown",
   "metadata": {},
   "source": [
    "Homework: show expecting a lottery has the same outcomes as expecting the expected value of the lottery\n",
    "\n",
    "Question: What does that mean about utility? Should utility and hapiness be decoupled? It makes sense that hapiness should come from other sources."
   ]
  },
  {
   "cell_type": "markdown",
   "metadata": {},
   "source": [
    "$U \\equiv u_1 + \\delta u_2 +... = \\sum_{t=1}^T \\delta^{t-1}u_t $"
   ]
  },
  {
   "cell_type": "markdown",
   "metadata": {},
   "source": [
    "If I eat all the cookies now, future Andrew won't get any. I understand having compassion for my peers, what about myself? If I believe in fulfilling past and future Andrew's goals and have established a disjoint between me (current Andrew) and the other guys, then I should also apply my beliefs about caring for others to caring for myself."
   ]
  },
  {
   "cell_type": "markdown",
   "metadata": {},
   "source": [
    "According to math, we don't do stuff because of its importance but despite it"
   ]
  },
  {
   "cell_type": "markdown",
   "metadata": {},
   "source": [
    "<hr>"
   ]
  },
  {
   "cell_type": "markdown",
   "metadata": {},
   "source": [
    "Descisions over time notes\n",
    "\n",
    "Money over time $P' = P(1+r)^T$ once/year\n",
    "\n",
    "Money over time compounding n times $P_T = P_0\\left[(1+r/n)^n\\right]^T$\n",
    "\n",
    "Also works backwards: If you get paid in the future, you can take a loan at $T<0$ of value $P_T$ and payment at $T$ will afford it\n",
    "\n",
    "MEANING: Future money is worth less than present money. Divide future money by current&future rates to get their value today"
   ]
  },
  {
   "cell_type": "markdown",
   "metadata": {},
   "source": [
    "Illiquid asset: lock money to teleport it to period 3 guy. Can be broken by borrowing against illiquid assets like HLOT.\n",
    "\n"
   ]
  },
  {
   "cell_type": "markdown",
   "metadata": {},
   "source": [
    "is w-to-inc current income? like if I make 100k should it be 1.5m? (59-64, pays for next 20 years, assuming you live of 80% (80k))"
   ]
  },
  {
   "cell_type": "markdown",
   "metadata": {},
   "source": [
    "expectation $\\phi:$ $u(c_t,c_{t+1}) = v(c_t) + \\phi * v(c_{t+1}) + $ delay expansion\n",
    "\n",
    "$\\phi$ triggers period before recieving, doesn't trigger if imediately recieved"
   ]
  },
  {
   "cell_type": "markdown",
   "metadata": {},
   "source": [
    "## Fundamental problem\n",
    "\n",
    "With an infinite number of options, we can't make certain the future. We either consume now or have expectations for the future. To control current action (consume/dont) we must control expectations. End of problem. Don't even iterate to the future"
   ]
  },
  {
   "cell_type": "markdown",
   "metadata": {},
   "source": [
    "The professor goes on to explain anticipations encourages pushing back immediate consumption (present bias)\n",
    "\n"
   ]
  }
 ],
 "metadata": {
  "language_info": {
   "name": "python"
  }
 },
 "nbformat": 4,
 "nbformat_minor": 2
}
