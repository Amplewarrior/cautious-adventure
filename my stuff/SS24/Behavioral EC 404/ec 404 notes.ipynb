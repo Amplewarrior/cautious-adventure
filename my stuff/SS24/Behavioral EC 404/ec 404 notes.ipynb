{
 "cells": [
  {
   "cell_type": "markdown",
   "metadata": {},
   "source": [
    "# Economics"
   ]
  },
  {
   "cell_type": "markdown",
   "metadata": {},
   "source": [
    "On the first day he said paper notes are prefered to laptops"
   ]
  },
  {
   "cell_type": "markdown",
   "metadata": {},
   "source": [
    "Homework: show expecting a lottery has the same outcomes as expecting the expected value of the lottery\n",
    "\n",
    "Question: What does that mean about utility? Should utility and hapiness be decoupled? It makes sense that hapiness should come from other sources."
   ]
  }
 ],
 "metadata": {
  "language_info": {
   "name": "python"
  }
 },
 "nbformat": 4,
 "nbformat_minor": 2
}
