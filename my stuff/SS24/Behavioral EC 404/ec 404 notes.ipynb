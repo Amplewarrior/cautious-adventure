{
 "cells": [
  {
   "cell_type": "markdown",
   "metadata": {},
   "source": [
    "# Economics"
   ]
  },
  {
   "cell_type": "markdown",
   "metadata": {},
   "source": [
    "On the first day he said paper notes are prefered to laptops"
   ]
  },
  {
   "cell_type": "markdown",
   "metadata": {},
   "source": [
    "Homework: show expecting a lottery has the same outcomes as expecting the expected value of the lottery\n",
    "\n",
    "Question: What does that mean about utility? Should utility and hapiness be decoupled? It makes sense that hapiness should come from other sources."
   ]
  },
  {
   "cell_type": "markdown",
   "metadata": {},
   "source": [
    "$U \\equiv u_1 + \\delta u_2 +... = \\sum_{t=1}^T \\delta^{t-1}u_t $"
   ]
  },
  {
   "cell_type": "markdown",
   "metadata": {},
   "source": [
    "If I eat all the cookies now, future Andrew won't get any. I understand having compassion for my peers, what about myself? If I believe in fulfilling past and future Andrew's goals and have established a disjoint between me (current Andrew) and the other guys, then I should also apply my beliefs about caring for others to caring for myself."
   ]
  },
  {
   "cell_type": "markdown",
   "metadata": {},
   "source": [
    "According to math, we don't do stuff because of its importance but despite it"
   ]
  }
 ],
 "metadata": {
  "language_info": {
   "name": "python"
  }
 },
 "nbformat": 4,
 "nbformat_minor": 2
}
