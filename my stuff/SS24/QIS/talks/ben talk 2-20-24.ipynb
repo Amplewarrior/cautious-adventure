{
 "cells": [
  {
   "cell_type": "markdown",
   "metadata": {},
   "source": [
    "# Ben's talk - k commutativity"
   ]
  },
  {
   "attachments": {
    "image-2.png": {
     "image/png": "[encoded data removed]"
    }
   },
   "cell_type": "markdown",
   "metadata": {},
   "source": [
    "<br>Bell's theorem\n",
    "<br>We can only measure diagonal matricies\n",
    "<br>Ising chain\n",
    "<br>qubit-wise commuting diagonalizing matricies:\n",
    "<br>I: I, Y: ![image-2.png](attachment:image-2.png), etc\n",
    "<br>what's a hopping term?\n",
    "\n",
    "\n",
    "Maybe include paulis?\n",
    "<!-- Maybe just say \"we separate the pauli strings into commuting buckets\" -> skip slide 10 -->\n",
    "Say qbit-wise commuting implies full commuting. 11\n",
    "Do people know what the fermi-hubbard model is? \n",
    "\n",
    "\n",
    "motivation good\n",
    "pacing good\n",
    "not overly complex"
   ]
  },
  {
   "cell_type": "markdown",
   "metadata": {},
   "source": [
    "\n",
    "<br>swap 5 & (6,7)\n",
    "<br>Slide 9: put top text section below first equation\n",
    "<br>Slide 10: error sorting & B_j\n",
    "\n",
    "\n",
    "\n"
   ]
  }
 ],
 "metadata": {
  "language_info": {
   "name": "python"
  }
 },
 "nbformat": 4,
 "nbformat_minor": 2
}
