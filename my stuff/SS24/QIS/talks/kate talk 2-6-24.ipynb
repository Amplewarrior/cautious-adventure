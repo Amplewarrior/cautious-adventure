{
 "cells": [
  {
   "cell_type": "markdown",
   "metadata": {},
   "source": []
  },
  {
   "cell_type": "markdown",
   "metadata": {},
   "source": [
    "# Washington U in st luis talk"
   ]
  },
  {
   "cell_type": "markdown",
   "metadata": {},
   "source": [
    "Kate Head-Marsden"
   ]
  },
  {
   "cell_type": "markdown",
   "metadata": {},
   "source": [
    "Quantum chem and quantum com\n",
    "\n",
    "qchem crazy in 2016->but what can we actually extract?\n",
    "\n",
    "we did a lot of schrodinger stuff classically, now lets do quantum\n",
    "\n",
    "Hartree-Fock meme for energy measurements between electrons (google did it 4 lolz) after error correction they're still no chemically accurate, even with the easiest problem on the best machine on the planet\n",
    "\n",
    "NISQ era -> today. Nobody has 1k qubits with sub 10^-2 error rate. (today was 2018, they wanted us out a year ago, stuck)\n",
    "<!-- noisy intermediate sized qubits -->\n",
    "So what can we do if we're in NISQ?\n",
    "\n",
    "Hermetian we don't care about e^{-iHt} its just U, but schrodinger requires isolation and unitary means rotations only\n"
   ]
  },
  {
   "cell_type": "markdown",
   "metadata": {},
   "source": [
    "\n",
    "Okay Ben, here's what you care about -> open quantum dynamics.\n",
    "\n",
    "e^{Lt} -> P but that aint a unitary (not hermetian). Ancillary qubits allow us to look at these, where ancilla tracks us leaving/entering the system\n",
    "\n",
    "irreversible sink dump though. we need to increase the system size to track movement through the original system\n",
    "\n",
    "requires knowledge of physical systems\n",
    "\n",
    "Explicit mathematical dialtion. works in the simplest case. dynamic approximation causes errors\n",
    "\n",
    "operator decomposition via taylor expansion (epsilon small). bad scaling, super general, messy. \n",
    "\n",
    "singular value decomposition w/ error mitigation. SVD's at every time, but doesn't have error with time! noise will always be worse than svd, but when we get out of nist we won't need it anymore\n",
    "\n",
    "Next: pt symmetric systems (physics!), optimization, non-markovianity? \n",
    "\n",
    "Questions:\n",
    "Trotterize?\n",
    "Btw: IBM is making things harder for random people. Thanks Marriam! (she'll talk in march)\n",
    "\n",
    "Next next: alternative platforms (molecules?)"
   ]
  },
  {
   "cell_type": "markdown",
   "metadata": {},
   "source": [
    "Alternative platforms:\n",
    "\n",
    "Kate's got metals, but organics seem cool. Zeeman splitting?\n",
    "\n",
    "Benefits? rt, qubit connectivity (chemists are smart), transferable to probe dev\n",
    "\n",
    "Y. Guo C,S,Cu with zeeman has 3eV split, nice and big. Nuclear spins decohere tho :<(, but we're working on that.\n",
    "\n",
    "The Head-Marsden group is figuring out how to take over. "
   ]
  },
  {
   "cell_type": "markdown",
   "metadata": {},
   "source": [
    "Questions?\n",
    "\n",
    "Chips won't be fully isolated\n",
    "\n",
    "Dean Lee: which one scales best? svd can be done on computer w no classical overhead, but decomposing untaries is always tough\n",
    "\n",
    "Can svd?\n",
    "\n",
    "Non markovian issues? Hard problem\n",
    "\n",
    "Copper system: decorrelation? They got a system for accounting for nuclear spins, but it isn't easy. Working from ground up\n"
   ]
  },
  {
   "cell_type": "markdown",
   "metadata": {},
   "source": [
    "# Parametric matrix modeling\n",
    "\n",
    "Patrick Cook & Danny\n",
    "\n",
    "Machine learn (atom gradient descent) a matrix smaller than the hamiltonian with the same eigenvalues\n",
    "\n",
    "H <-> M. Put physical restraints on M. If we know stuff, we bake it into the matrix model to include that\n",
    "\n",
    "traditional autoencoders do this kinda. Well we don't decode, only encode, and we're model driven not data driven. \n",
    "\n",
    "Baking in physics & caring about models: \n",
    "\n",
    "Neural nets get overparameterized & lobotomized. They get each MNIST to do 270 parameters (not thousands). \n",
    "\n",
    "When can we use this on a hamiltonian? 1. size. desired eigenvalues k << n, micro matrix usually about 2k. Observables should be as well. \n",
    "\n",
    "What about quantum circuit applications? We want to but not yet, they've got trotterization. \n",
    "What about random quantum circuits? Bit strings? \n"
   ]
  },
  {
   "cell_type": "markdown",
   "metadata": {},
   "source": [
    "What did you do with Kyle & Pablo?\n",
    "\n",
    "Eigenvectors aren't in physical systems? I know eigenvalues are energies\n",
    "\n",
    "If you stick in analytical equations does it machine learn the entire domain? Yes/no, needs to be unitaries\n",
    "\n",
    "Why aren't people doing this already? Gradient is tough now, has to be hand-written.\n",
    "\n",
    "On a qc? Noisy data needs regularizer. Whole algorithm? Haven't though about it.\n",
    "\n",
    "Whats an autoencoder?\n"
   ]
  },
  {
   "cell_type": "markdown",
   "metadata": {},
   "source": [
    "I do compiling & math"
   ]
  },
  {
   "cell_type": "markdown",
   "metadata": {},
   "source": [
    "Wellcome leap \n",
    "\n",
    "error mitigation / molecular dynamics\n"
   ]
  }
 ],
 "metadata": {
  "language_info": {
   "name": "python"
  }
 },
 "nbformat": 4,
 "nbformat_minor": 2
}
