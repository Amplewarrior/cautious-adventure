{
 "cells": [
  {
   "cell_type": "markdown",
   "metadata": {},
   "source": [
    "k - commutativity\n",
    "\n",
    "$P_n$ pauli string of $XYZI$\n",
    "\n",
    "rotation means apply \n",
    "\n",
    "Adjacency matrix $A_{ij}=1$ if adjacent. \n",
    "$Z_{ij}$ control Z. \n",
    "$H^{\\times n}|0>$ is just superposition\n",
    "\n",
    "I need help with |G> and $|\\Psi>$ and stabilizers. and abelian groups. \n",
    "\n"
   ]
  },
  {
   "cell_type": "markdown",
   "metadata": {},
   "source": [
    "c* algebra\n",
    "\n",
    "is this msu-q?\n",
    "\n"
   ]
  }
 ],
 "metadata": {
  "language_info": {
   "name": "python"
  }
 },
 "nbformat": 4,
 "nbformat_minor": 2
}
