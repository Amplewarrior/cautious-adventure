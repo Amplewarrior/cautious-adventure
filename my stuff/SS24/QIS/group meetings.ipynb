{
 "cells": [
  {
   "cell_type": "markdown",
   "metadata": {},
   "source": [
    "# Group Meetings"
   ]
  },
  {
   "cell_type": "markdown",
   "metadata": {},
   "source": [
    "## 2/20/24\n",
    "\n",
    "Today Ryan wasn't here, and we listened to Ben's talk for FRIB "
   ]
  },
  {
   "cell_type": "markdown",
   "metadata": {},
   "source": [
    "Density function Pures state $P=|\\psi><\\psi|$\n",
    "\n",
    "For mixed states things get wild\n",
    "\n",
    "Closed system $|\\psi> \\rightarrow e^{-iHt}|\\psi>$\n",
    "\n",
    "Open system we have a bit more complicated.\n",
    "\n"
   ]
  },
  {
   "cell_type": "markdown",
   "metadata": {},
   "source": [
    "## 3/5/24"
   ]
  },
  {
   "cell_type": "markdown",
   "metadata": {},
   "source": [
    "Make OKR\n",
    "\n",
    "AFRL is doing quantum stuff\n",
    "\n",
    "Andrew Christlieb\n",
    "\n",
    "How bad of a gpa do you need for remco to throw a fuss?\n",
    "\n"
   ]
  },
  {
   "cell_type": "markdown",
   "metadata": {},
   "source": [
    "quasm or tequila\n",
    "HGSA \n",
    "\n",
    "Move away from hamlib, use their code for the hams. We never got their source for diag circuits, but its okay since we're doing k-commute diag circuits (from dawn). From here we can just pump into HGSA. "
   ]
  },
  {
   "cell_type": "markdown",
   "metadata": {},
   "source": [
    "check matrix\n",
    "\n",
    "Krauss operator\n",
    "\n",
    "Linear combinations of unitaries YQIS 6 tutorial six. We know it well, but what about LC of channels? (Also I forgot what a channel is) <!-- (also whats open-system physics) -->\n",
    "\n",
    "Whats a gate? Can I go to the quantum store and pick some up from the bargain bin?\n",
    "\n",
    "Markovian vs non-markovian\n",
    "\n",
    "What classes should I sign up? Error mitigation? CSE? CMSE? "
   ]
  },
  {
   "cell_type": "markdown",
   "metadata": {},
   "source": [
    "Brandon: Hamiltonian without lagrangian\n",
    "\n",
    "Lie algebra. Does Sir Hamilton talk about Hamiltonian mechanics in a paper?"
   ]
  },
  {
   "cell_type": "markdown",
   "metadata": {},
   "source": [
    "Unitary time evolution"
   ]
  },
  {
   "cell_type": "markdown",
   "metadata": {},
   "source": [
    "Ansatz questions:\n",
    "So all of these get to ground state from the z-basis zero state because thats useful "
   ]
  }
 ],
 "metadata": {
  "language_info": {
   "name": "python"
  }
 },
 "nbformat": 4,
 "nbformat_minor": 2
}
