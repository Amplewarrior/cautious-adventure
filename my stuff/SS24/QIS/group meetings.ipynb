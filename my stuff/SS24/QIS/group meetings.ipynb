{
 "cells": [
  {
   "cell_type": "markdown",
   "metadata": {},
   "source": [
    "# Group Meetings"
   ]
  },
  {
   "cell_type": "markdown",
   "metadata": {},
   "source": [
    "## 2/20/24\n",
    "\n",
    "Today Ryan wasn't here, and we listened to Ben's talk for FRIB "
   ]
  },
  {
   "cell_type": "markdown",
   "metadata": {},
   "source": [
    "Density function Pures state $P=|\\psi><\\psi|$\n",
    "\n",
    "For mixed states things get wild\n",
    "\n",
    "Closed system $|\\psi> \\rightarrow e^{-iHt}|\\psi>$\n",
    "\n",
    "Open system we have a bit more complicated.\n",
    "\n"
   ]
  },
  {
   "cell_type": "markdown",
   "metadata": {},
   "source": [
    "## 3//24"
   ]
  }
 ],
 "metadata": {
  "language_info": {
   "name": "python"
  }
 },
 "nbformat": 4,
 "nbformat_minor": 2
}
