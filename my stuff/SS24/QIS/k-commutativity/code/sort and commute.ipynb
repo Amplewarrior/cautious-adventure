{
 "cells": [
  {
   "cell_type": "markdown",
   "metadata": {},
   "source": [
    "# Sort and commute\n",
    "\n",
    "1. import hdf5 archives\n",
    "2. decode hamiltonians from hdf5's\n",
    "3. Sort paulis by size, group into commuting buckets, keep coefficients\n",
    "    - Learn cirq/of package"
   ]
  },
  {
   "cell_type": "code",
   "execution_count": 1,
   "metadata": {},
   "outputs": [],
   "source": [
    "import matplotlib.pyplot as plt\n",
    "import numpy as np\n",
    "\n",
    "import cirq\n",
    "import openfermion as of\n",
    "\n",
    "import math\n",
    "import os\n",
    "from typing import Callable, Iterable, List, Set\n",
    "#from tqdm.notebook import tqdm"
   ]
  },
  {
   "cell_type": "markdown",
   "metadata": {},
   "source": [
    "1. Import hdf5 archives"
   ]
  },
  {
   "cell_type": "code",
   "execution_count": 2,
   "metadata": {},
   "outputs": [],
   "source": [
    "from urllib.request import urlopen\n",
    "from io import BytesIO\n",
    "from zipfile import ZipFile\n",
    "\n",
    "\n",
    "def download_and_unzip(url, extract_to='.'):\n",
    "    http_response = urlopen(url)\n",
    "    zipfile = ZipFile(BytesIO(http_response.read()))\n",
    "    zipfile.extractall(path=extract_to)"
   ]
  },
  {
   "cell_type": "code",
   "execution_count": 3,
   "metadata": {},
   "outputs": [],
   "source": [
    "url=\"https://portal.nersc.gov/cfs/m888/dcamps/hamlib/chemistry/electronic/standard/\"\n",
    "molecules=['O2', 'B2', 'BeH', 'BH', 'CH', 'HF', 'C2', 'OH', 'N2', 'Li2', 'NaLi']\n",
    "\n",
    "\n",
    "for molecule in molecules:\n",
    "    if os.path.isfile('./'+molecule+'.hdf5') != True:\n",
    "        download_and_unzip(url+molecule+'.hdf5.zip')\n"
   ]
  },
  {
   "cell_type": "markdown",
   "metadata": {},
   "source": [
    "2. Decode hdf5 hamiltonians, done primarily using code from k-commute paper"
   ]
  },
  {
   "cell_type": "code",
   "execution_count": 4,
   "metadata": {},
   "outputs": [],
   "source": [
    "import h5py\n",
    "\n",
    "\n",
    "def read_openfermion_hdf5(fname_hdf5: str, key: str, optype=of.QubitOperator):\n",
    "    \"\"\"\n",
    "    Read any openfermion operator object from HDF5 file at specified key.\n",
    "    'optype' is the op class, can be of.QubitOperator or of.FermionOperator.\n",
    "    \"\"\"\n",
    "\n",
    "    with h5py.File(fname_hdf5, 'r', libver='latest') as f:\n",
    "        op = optype(f[key][()].decode(\"utf-8\"))\n",
    "    return op\n",
    "\n",
    "\n",
    "def parse_through_hdf5(func):\n",
    "    \"\"\"\n",
    "    Decorator function that iterates through an HDF5 file and performs\n",
    "    the action specified by ‘ func ‘ on the internal and leaf nodes in the HDF5 file.\n",
    "    \"\"\"\n",
    "\n",
    "    def wrapper (obj, path = '/', key = None) :\n",
    "        if type(obj) in [h5py._hl.group.Group, h5py._hl.files.File]:\n",
    "            for ky in obj.keys() :\n",
    "                func(obj, path, key=ky, leaf = False)\n",
    "                wrapper(obj = obj[ky], path = path + ky + ',', key = ky)\n",
    "        elif type (obj) == h5py._hl.dataset.Dataset:\n",
    "            func(obj, path, key = None, leaf = True)\n",
    "    return wrapper\n",
    "\n",
    "\n",
    "def get_hdf5_keys ( fname_hdf5 : str ) :\n",
    "    \"\"\" Get a list of keys to all datasets stored in the HDF5 file .\n",
    "    Args\n",
    "    ----\n",
    "    fname_hdf5 ( str ) : full path where HDF5 file is stored\n",
    "    \"\"\"\n",
    "\n",
    "    all_keys = []\n",
    "    @parse_through_hdf5\n",
    "    def action(obj, path = '/', key = None, leaf = False):\n",
    "        if leaf is True :\n",
    "            all_keys.append(path)\n",
    "\n",
    "    with h5py.File(fname_hdf5, 'r') as f:\n",
    "        action(f['/'])\n",
    "    return all_keys"
   ]
  },
  {
   "cell_type": "code",
   "execution_count": 5,
   "metadata": {},
   "outputs": [],
   "source": [
    "molecule_to_read = 'O2'\n",
    "\n",
    "hamiltonian = read_openfermion_hdf5(\n",
    "    './'+molecule_to_read+'.hdf5',\n",
    "    get_hdf5_keys('./'+molecule_to_read+'.hdf5')[0].rstrip(\",\")\n",
    ")\n"
   ]
  },
  {
   "cell_type": "markdown",
   "metadata": {},
   "source": [
    "Sort by size"
   ]
  },
  {
   "cell_type": "code",
   "execution_count": 6,
   "metadata": {},
   "outputs": [],
   "source": [
    "\n",
    "hamiltonian = hamiltonian\n",
    "\n",
    "sorted_h = sorted(hamiltonian.terms.items(), key=lambda x: abs(x[-1]), reverse=True)\n",
    "#get back to of operators\n",
    "sorted_hamiltonian = [of.QubitOperator(string[0],string[1]) for string in sorted_h]"
   ]
  },
  {
   "cell_type": "code",
   "execution_count": 23,
   "metadata": {},
   "outputs": [
    {
     "data": {
      "text/plain": [
       "openfermion.ops.operators.qubit_operator.QubitOperator"
      ]
     },
     "execution_count": 23,
     "metadata": {},
     "output_type": "execute_result"
    }
   ],
   "source": []
  },
  {
   "cell_type": "markdown",
   "metadata": {},
   "source": [
    "Group into commuting sets"
   ]
  },
  {
   "cell_type": "code",
   "execution_count": 7,
   "metadata": {},
   "outputs": [],
   "source": [
    "def restrict_to(\n",
    "    pauli: cirq.PauliString, qubits: Iterable[cirq.Qid]\n",
    ") -> cirq.PauliString:\n",
    "    \"\"\"Returns the Pauli string restricted to the provided qubits.\n",
    "\n",
    "    Arguments:\n",
    "        pauli: A Pauli string.\n",
    "        qubits: A set of 6 qubits.\n",
    "\n",
    "    Returns:\n",
    "        The provided Pauli string acting only on the provided qubits.\n",
    "        Note: This could potentially be empty (identity).\n",
    "    \"\"\"\n",
    "    return cirq.PauliString(p.on(q) for q, p in pauli.items() if q in qubits) #this is used in commutes()\n",
    "\n",
    "\n",
    "def commutes(pauli1: cirq.PauliString, pauli2: cirq.PauliString, k: int = 1) -> bool:\n",
    "    \"\"\"Returns True if pauli1 k-commutes with pauli2, else False.\n",
    "\n",
    "    Arguments:\n",
    "        pauli1: A Pauli string.\n",
    "        pauli2: A Pauli string.\n",
    "        k: The integer k in k-commutativity.\n",
    "    \"\"\"\n",
    "    all_qubits = sorted(set(pauli1.qubits).union(pauli2.qubits)) #checks depth of circuit\n",
    "    if k >= len(all_qubits):\n",
    "        return cirq.commutes(pauli1, pauli2) #so just does normal commuting\n",
    "\n",
    "    blocks = [\n",
    "        all_qubits[k * i : k * (i + 1)] for i in range(math.ceil(len(all_qubits) / k))\n",
    "    ]\n",
    "    for block in blocks:\n",
    "        if not cirq.commutes(restrict_to(pauli1, block), restrict_to(pauli2, block)):\n",
    "            return False\n",
    "    return True"
   ]
  },
  {
   "cell_type": "code",
   "execution_count": 18,
   "metadata": {},
   "outputs": [
    {
     "data": {
      "text/plain": [
       "cirq.PauliSum(cirq.LinearDict({frozenset({(cirq.LineQubit(1), cirq.Z), (cirq.LineQubit(0), cirq.Z)}): (1.8741571908615127+0j)}))"
      ]
     },
     "execution_count": 18,
     "metadata": {},
     "output_type": "execute_result"
    }
   ],
   "source": [
    "\n",
    "of.transforms.qubit_operator_to_pauli_sum(sorted_hamiltonian[2])"
   ]
  }
 ],
 "metadata": {
  "kernelspec": {
   "display_name": "Python 3",
   "language": "python",
   "name": "python3"
  },
  "language_info": {
   "codemirror_mode": {
    "name": "ipython",
    "version": 3
   },
   "file_extension": ".py",
   "mimetype": "text/x-python",
   "name": "python",
   "nbconvert_exporter": "python",
   "pygments_lexer": "ipython3",
   "version": "3.11.8"
  }
 },
 "nbformat": 4,
 "nbformat_minor": 2
}
