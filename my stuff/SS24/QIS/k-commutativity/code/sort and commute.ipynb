{
 "cells": [
  {
   "cell_type": "markdown",
   "metadata": {},
   "source": [
    "# Sort and commute\n",
    "\n",
    "1. import hdf5 archives\n",
    "2. decode hamiltonians from hdf5's\n",
    "3. Sort paulis into commuting buckets, keep coefficients\n",
    "    - Learn cirq/of"
   ]
  },
  {
   "cell_type": "code",
   "execution_count": null,
   "metadata": {},
   "outputs": [],
   "source": []
  }
 ],
 "metadata": {
  "language_info": {
   "name": "python"
  }
 },
 "nbformat": 4,
 "nbformat_minor": 2
}
