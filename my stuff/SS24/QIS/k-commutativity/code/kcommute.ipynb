{
  "cells": [
    {
      "cell_type": "markdown",
      "metadata": {
        "id": "Yf_3CSfS9Rhj"
      },
      "source": [
        "# Code for $k$-commutativity"
      ]
    },
    {
      "cell_type": "markdown",
      "metadata": {
        "id": "zE8I8Wgv9XjO"
      },
      "source": [
        "This notebook contains companion code for the paper [$k$-commutativity and measurement reduction for expectation values](https://arxiv.org/abs/2312.11840)."
      ]
    },
    {
      "cell_type": "markdown",
      "metadata": {
        "id": "jeTeJ5zq--rw"
      },
      "source": [
        "## Setup"
      ]
    },
    {
      "cell_type": "code",
      "execution_count": 41,
      "metadata": {
        "id": "qINMDNdV9PWs"
      },
      "outputs": [
        {
          "name": "stderr",
          "output_type": "stream",
          "text": [
            "\n",
            "[notice] A new release of pip is available: 23.3.2 -> 24.0\n",
            "[notice] To update, run: C:\\Users\\andre\\AppData\\Local\\Microsoft\\WindowsApps\\PythonSoftwareFoundation.Python.3.11_qbz5n2kfra8p0\\python.exe -m pip install --upgrade pip\n"
          ]
        }
      ],
      "source": [
        "#!pip install cirq-core openfermion --quiet"
      ]
    },
    {
      "cell_type": "code",
      "execution_count": 1,
      "metadata": {
        "id": "-qvPVz__ANWF"
      },
      "outputs": [],
      "source": [
        "import math\n",
        "import os\n",
        "from typing import Callable, Iterable, List, Set\n",
        "\n",
        "import matplotlib.pyplot as plt\n",
        "import numpy as np\n",
        "import pprint\n",
        "from tqdm.notebook import tqdm\n",
        "\n",
        "import cirq\n",
        "import openfermion as of"
      ]
    },
    {
      "cell_type": "markdown",
      "metadata": {
        "id": "0TstknDW9fA4"
      },
      "source": [
        "## The definition of $k$-commutativity"
      ]
    },
    {
      "cell_type": "markdown",
      "metadata": {
        "id": "5ZTlJPGN9i3k"
      },
      "source": [
        "Any standard quantum software package will contain a function to check if two Pauli strings commute. (It's also simple to write such a function by checking the number of places the two strings disagree, modulo two, in the stabilizer representation.)\n",
        "\n",
        "We show how to use this function from Cirq to check for $k$-commutativity as follows."
      ]
    },
    {
      "cell_type": "code",
      "execution_count": 2,
      "metadata": {
        "id": "ILCZiiFH_Fqf"
      },
      "outputs": [],
      "source": [
        "def restrict_to(\n",
        "    pauli: cirq.PauliString, qubits: Iterable[cirq.Qid]\n",
        ") -> cirq.PauliString:\n",
        "    \"\"\"Returns the Pauli string restricted to the provided qubits.\n",
        "\n",
        "    Arguments:\n",
        "        pauli: A Pauli string.\n",
        "        qubits: A set of 6 qubits.\n",
        "\n",
        "    Returns:\n",
        "        The provided Pauli string acting only on the provided qubits.\n",
        "        Note: This could potentially be empty (identity).\n",
        "    \"\"\"\n",
        "    return cirq.PauliString(p.on(q) for q, p in pauli.items() if q in qubits) #this is used in commutes()\n",
        "\n",
        "\n",
        "def commutes(pauli1: cirq.PauliString, pauli2: cirq.PauliString, k: int = 1) -> bool:\n",
        "    \"\"\"Returns True if pauli1 k-commutes with pauli2, else False.\n",
        "\n",
        "    Arguments:\n",
        "        pauli1: A Pauli string.\n",
        "        pauli2: A Pauli string.\n",
        "        k: The integer k in k-commutativity.\n",
        "    \"\"\"\n",
        "    all_qubits = sorted(set(pauli1.qubits).union(pauli2.qubits)) #checks depth of circuit\n",
        "    if k >= len(all_qubits):\n",
        "        return cirq.commutes(pauli1, pauli2) #so just does normal commuting\n",
        "\n",
        "    blocks = [\n",
        "        all_qubits[k * i : k * (i + 1)] for i in range(math.ceil(len(all_qubits) / k))\n",
        "    ]\n",
        "    for block in blocks:\n",
        "        if not cirq.commutes(restrict_to(pauli1, block), restrict_to(pauli2, block)):\n",
        "            return False\n",
        "    return True"
      ]
    },
    {
      "cell_type": "markdown",
      "metadata": {
        "id": "b1UgisjGBGMV"
      },
      "source": [
        "Some unit tests for this function are below."
      ]
    },
    {
      "cell_type": "code",
      "execution_count": 6,
      "metadata": {
        "id": "jWtdrOeCAVwV"
      },
      "outputs": [],
      "source": [
        "\"\"\"Unit tests for k-commutativity.\"\"\"\n",
        "a, b, c, d = cirq.LineQubit.range(4) #4 q-bits\n",
        "pauli1 = cirq.Z.on(a) * cirq.Z.on(b) * cirq.X.on(c) * cirq.X.on(d) #places paulis on slots\n",
        "pauli2 = cirq.X.on(a) * cirq.X.on(b) * cirq.X.on(c) * cirq.X.on(d)\n",
        "\n",
        "commutes(pauli1, pauli2, k=1)\n",
        "assert commutes(pauli1, pauli2, k=2)\n",
        "assert commutes(pauli2, pauli2, k=3)\n",
        "assert commutes(pauli1, pauli2, k=4)\n",
        "\n",
        "a, b, c, d, e = cirq.LineQubit.range(5)\n",
        "pauli1 = cirq.Z.on(a) * cirq.I.on(b) * cirq.X.on(c) * cirq.I.on(d) * cirq.X.on(e)\n",
        "pauli2 = cirq.Z.on(a) * cirq.Z.on(b) * cirq.X.on(c) * cirq.X.on(d) * cirq.X.on(e)\n",
        "\n",
        "assert commutes(pauli1, pauli2, k=1)\n",
        "assert commutes(pauli1, pauli2, k=2)\n",
        "assert commutes(pauli1, pauli2, k=3)\n",
        "assert commutes(pauli1, pauli2, k=4)\n",
        "assert commutes(pauli1, pauli2, k=5)\n",
        "\n",
        "#so do these k-commute for all k, and standard commute as well (k=5)?\n",
        "\n"
      ]
    },
    {
      "cell_type": "markdown",
      "metadata": {
        "id": "Yw5_RceCBQ3J"
      },
      "source": [
        "## Helper functions for numerical experiments"
      ]
    },
    {
      "cell_type": "markdown",
      "metadata": {
        "id": "cm2sxWJmEQDx"
      },
      "source": [
        "### Sorted insertion"
      ]
    },
    {
      "cell_type": "markdown",
      "metadata": {
        "id": "ZsxbkKn9BvPz"
      },
      "source": [
        "An implementation of the sorted insertion algorithm from https://quantum-journal.org/papers/q-2021-01-20-385/ is provided below."
      ]
    },
    {
      "cell_type": "code",
      "execution_count": 7,
      "metadata": {
        "id": "oMkbil9GBS9y"
      },
      "outputs": [],
      "source": [
        "def get_terms_ordered_by_abscoeff(op: of.QubitOperator) -> List[of.QubitOperator]:\n",
        "    \"\"\"Returns the terms of QubitOperator ordered by coefficient absolute value.\n",
        "\n",
        "    Args:\n",
        "        op: A QubitOperator.\n",
        "    \"\"\"\n",
        "    terms = sorted(op.terms.items(), key=lambda x: abs(x[1]), reverse=True)\n",
        "    return [of.QubitOperator(t[0], t[1]) for t in terms]\n",
        "\n",
        "\n",
        "def get_si_sets(op, k: int = 1) -> List[List[of.QubitOperator]]:\n",
        "    \"\"\"Returns grouping from the sorted insertion algorithm [https://quantum-journal.org/papers/q-2021-01-20-385/].\n",
        "\n",
        "    Args:\n",
        "        op: The observable to group.\n",
        "        k: The integer k in k-commutativity.\n",
        "    \"\"\"\n",
        "    qo_to_ps = lambda qo: next(iter(of.transforms.qubit_operator_to_pauli_sum(qo))) #idk\n",
        "    comm_func = lambda ps1, ps2: commutes(qo_to_ps(ps1), qo_to_ps(ps2), k) #checks if items k-commute\n",
        "\n",
        "    commuting_sets = []\n",
        "    for pstring in get_terms_ordered_by_abscoeff(op):\n",
        "        found_commuting_set = False\n",
        "\n",
        "        for commset in commuting_sets:\n",
        "            cant_add = False\n",
        "\n",
        "            for pauli in commset:\n",
        "                if not comm_func(pstring, pauli):\n",
        "                    cant_add = True\n",
        "                    break\n",
        "\n",
        "            if not cant_add:\n",
        "                commset.append(pstring)\n",
        "                found_commuting_set = True\n",
        "                break\n",
        "\n",
        "        if not found_commuting_set:\n",
        "            commuting_sets.append([pstring])\n",
        "\n",
        "    return commuting_sets"
      ]
    },
    {
      "cell_type": "markdown",
      "metadata": {
        "id": "NwlDwQY8EeD7"
      },
      "source": [
        "### The $\\hat{R}$ metric"
      ]
    },
    {
      "cell_type": "markdown",
      "metadata": {
        "id": "j9ZCw_GMUVMT"
      },
      "source": [
        "An implementation of the $\\hat{R}$ metric from https://quantum-journal.org/papers/q-2021-01-20-385/ is provided below."
      ]
    },
    {
      "cell_type": "code",
      "execution_count": 8,
      "metadata": {
        "id": "PV75ktZ4EhRV"
      },
      "outputs": [],
      "source": [
        "def compute_rhat(groupings):\n",
        "    r_numerator = 0\n",
        "    r_denominator = 0\n",
        "    for group in groupings:\n",
        "        if isinstance(group, of.QubitOperator):\n",
        "            a_ij = sum(list(group.terms.values()))\n",
        "            r_numerator += abs(a_ij)\n",
        "            r_denominator += np.sqrt(abs(a_ij) ** 2)\n",
        "        else:\n",
        "            a_ij = np.array([list(op.terms.values())[0] for op in group])\n",
        "            group_sum = np.sum(np.abs(a_ij))\n",
        "            group_sum_squares = np.sum(np.abs(a_ij) ** 2)\n",
        "            r_numerator += group_sum\n",
        "            r_denominator += np.sqrt(group_sum_squares)\n",
        "    return (r_numerator / r_denominator) ** 2"
      ]
    },
    {
      "cell_type": "markdown",
      "metadata": {
        "id": "SL9OUSfsF2kr"
      },
      "source": [
        "### Miscellaneous"
      ]
    },
    {
      "cell_type": "code",
      "execution_count": 9,
      "metadata": {
        "id": "MWTYsMB_F7vC"
      },
      "outputs": [],
      "source": [
        "def get_qubits(hamiltonian: of.QubitOperator) -> Set[int]:\n",
        "    qubits = set()\n",
        "    for term in hamiltonian.terms:\n",
        "        for qubit_index, _ in term:\n",
        "            qubits.add(qubit_index)\n",
        "    return qubits\n",
        "\n",
        "\n",
        "def get_num_qubits(hamiltonian: of.QubitOperator) -> int:\n",
        "    return len(get_qubits(hamiltonian))"
      ]
    },
    {
      "cell_type": "markdown",
      "metadata": {
        "id": "z6ETlC0OFmIn"
      },
      "source": [
        "## The Fermi-Hubbard experiment"
      ]
    },
    {
      "cell_type": "markdown",
      "metadata": {
        "id": "ayZJiKFNGkhY"
      },
      "source": [
        "### Run the experiment"
      ]
    },
    {
      "cell_type": "code",
      "execution_count": 10,
      "metadata": {
        "colab": {
          "base_uri": "https://localhost:8080/",
          "referenced_widgets": [
            "6ccd993fcd1f4a79a98a81b730580c51",
            "8bb53686d957477b82258fd9953453b1",
            "2d9e7e0988284a83a4fcd17559bca4bc",
            "ae95b1397a344a6eafa04c7978ff79a1",
            "54a2bcb701de49bb9420f9c7edc21183",
            "73fd93dda6b243da984d6c0579ed4d7b",
            "90f4820e66284fc79fdc390c161ec134",
            "7cb48372dea6409ebedfe0cb50e66730",
            "e4420bbb23e54c0a9f1a399b6b2472c6",
            "b84b73ceddc94ea98b99bd19a0f4ff58",
            "ef6a6489d8454ba4b77c19ae5e937010"
          ]
        },
        "id": "VI7fEwsTFolN",
        "outputId": "5223b134-8863-4312-d992-de44a39d458e"
      },
      "outputs": [
        {
          "data": {
            "application/vnd.jupyter.widget-view+json": {
              "model_id": "b201d0e0fa1b467d8e60c58ab154ecd3",
              "version_major": 2,
              "version_minor": 0
            },
            "text/plain": [
              "  0%|          | 0/20 [00:00<?, ?it/s]"
            ]
          },
          "metadata": {},
          "output_type": "display_data"
        }
      ],
      "source": [
        "x_dimension = 4  # @param {type:\"slider\", min:1, max:8, step:1}\n",
        "y_dimension = 5  # @param {type:\"slider\", min:1, max:8, step:1}\n",
        "encoding = \"bravyi-kitaev\"  # @param [\"jordan-wigner\", \"bravyi-kitaev\"]\n",
        "periodic = False  #@param {type:\"boolean\"}\n",
        "spinless = True\n",
        "tunneling = 2.0\n",
        "coulomb = 1.0\n",
        "magnetic_field = 0.5\n",
        "chemical_potential = 0.25\n",
        "\n",
        "hubbard_model = of.hamiltonians.fermi_hubbard(\n",
        "    x_dimension, y_dimension, tunneling, coulomb, chemical_potential,\n",
        "    magnetic_field, periodic, spinless)\n",
        "\n",
        "encode = {\n",
        "    \"jordan-wigner\": of.transforms.jordan_wigner,\n",
        "    \"bravyi-kitaev\": of.transforms.bravyi_kitaev,\n",
        "}.get(encoding)\n",
        "\n",
        "hamiltonian = encode(hubbard_model)\n",
        "\n",
        "# print(\"Number of qubits in Hamiltonian:\", get_num_qubits(hamiltonian))\n",
        "# print(\"Number of paulis in Hamiltonian:\", len(hamiltonian.terms))\n",
        "\n",
        "ngroups = []\n",
        "rhats = []\n",
        "kvals = np.arange(1, x_dimension * y_dimension + 1, 1)\n",
        "for k in tqdm(kvals):\n",
        "    groups = get_si_sets(hamiltonian, k=k)\n",
        "    rhat = compute_rhat(groups)\n",
        "\n",
        "    # print(f\"Results for k = {k}\")\n",
        "    # print(f\"# groups: {len(groups)}\")\n",
        "    # print(f\"{rhat=}\")\n",
        "    ngroups.append(len(groups))\n",
        "    rhats.append(rhat)\n"
      ]
    },
    {
      "cell_type": "markdown",
      "metadata": {
        "id": "8UnuunU0Goj9"
      },
      "source": [
        "### Plot the results"
      ]
    },
    {
      "cell_type": "code",
      "execution_count": null,
      "metadata": {
        "cellView": "form",
        "colab": {
          "base_uri": "https://localhost:8080/",
          "height": 486
        },
        "id": "FVWYnWywGLN5",
        "outputId": "eed798ed-7a8f-4708-8ab6-c9ed5812efd5"
      },
      "outputs": [
        {
          "data": {
            "image/png": "[encoded data removed]",
            "text/plain": [
              "<Figure size 640x480 with 2 Axes>"
            ]
          },
          "metadata": {},
          "output_type": "display_data"
        }
      ],
      "source": [
        "#@markdown Plotting code.\n",
        "color1 = \"tab:blue\"\n",
        "color2 = \"tab:green\"\n",
        "\n",
        "fig, ax1 = plt.subplots()\n",
        "ax2 = ax1.twinx()\n",
        "\n",
        "ax1.plot(kvals, ngroups, \"--o\", color=color1, lw=2)\n",
        "ax2.plot(kvals, rhats, \"--o\", color=color2, lw=2)\n",
        "\n",
        "ax1.set_xlabel(\"$k$\")\n",
        "ax1.set_ylabel(\"Number of groups\", color=color1)\n",
        "ax1.tick_params(axis=\"y\", labelcolor=color1)\n",
        "\n",
        "ax2.set_ylabel(\"$\\hat{R}$\", color=color2)\n",
        "ax2.tick_params(axis=\"y\", labelcolor=color2)\n",
        "\n",
        "plt.tight_layout()"
      ]
    },
    {
      "cell_type": "markdown",
      "metadata": {
        "id": "Pj5yVJ3DI92F"
      },
      "source": [
        "## Molecular Hamiltonians experiment"
      ]
    },
    {
      "cell_type": "markdown",
      "metadata": {
        "id": "HVFI3F8vKFZd"
      },
      "source": [
        "This section reproduces the molecular Hamiltonians experiment using Hamiltonians from [HamLib](https://portal.nersc.gov/cfs/m888/dcamps/hamlib/)."
      ]
    },
    {
      "cell_type": "markdown",
      "metadata": {
        "id": "1B5hQhxMJm5K"
      },
      "source": [
        "### Downloading data from HamLib"
      ]
    },
    {
      "cell_type": "code",
      "execution_count": null,
      "metadata": {},
      "outputs": [],
      "source": [
        "from urllib.request import urlopen\n",
        "from io import BytesIO\n",
        "from zipfile import ZipFile\n",
        "\n",
        "\n",
        "def download_and_unzip(url, extract_to='.'):\n",
        "    http_response = urlopen(url)\n",
        "    zipfile = ZipFile(BytesIO(http_response.read()))\n",
        "    zipfile.extractall(path=extract_to)"
      ]
    },
    {
      "cell_type": "code",
      "execution_count": null,
      "metadata": {
        "colab": {
          "base_uri": "https://localhost:8080/"
        },
        "id": "1_GybpClLT9y",
        "outputId": "4a39c2ab-d67c-47ec-8257-86639e80cfeb"
      },
      "outputs": [],
      "source": [
        "url=\"https://portal.nersc.gov/cfs/m888/dcamps/hamlib/chemistry/electronic/standard/\"\n",
        "molecules=['O2', 'B2', 'BeH', 'BH', 'CH', 'HF', 'C2', 'OH', 'N2', 'Li2', 'NaLi']\n",
        "\n",
        "for molecule in molecules:\n",
        "    download_and_unzip(url+molecule+'.hdf5.zip')"
      ]
    },
    {
      "cell_type": "markdown",
      "metadata": {
        "id": "raBujTG3JpiB"
      },
      "source": [
        "### Loading data from HamLib"
      ]
    },
    {
      "cell_type": "code",
      "execution_count": 11,
      "metadata": {
        "id": "mEEwFCocJrb0"
      },
      "outputs": [],
      "source": [
        "import h5py\n",
        "\n",
        "\n",
        "def read_openfermion_hdf5(fname_hdf5: str, key: str, optype=of.QubitOperator):\n",
        "    \"\"\"\n",
        "    Read any openfermion operator object from HDF5 file at specified key.\n",
        "    'optype' is the op class, can be of.QubitOperator or of.FermionOperator.\n",
        "    \"\"\"\n",
        "\n",
        "    with h5py.File(fname_hdf5, 'r', libver='latest') as f:\n",
        "        op = optype(f[key][()].decode(\"utf-8\"))\n",
        "    return op\n",
        "\n",
        "\n",
        "def parse_through_hdf5(func):\n",
        "    \"\"\"\n",
        "    Decorator function that iterates through an HDF5 file and performs\n",
        "    the action specified by ‘ func ‘ on the internal and leaf nodes in the HDF5 file.\n",
        "    \"\"\"\n",
        "\n",
        "    def wrapper (obj, path = '/', key = None) :\n",
        "        if type(obj) in [h5py._hl.group.Group, h5py._hl.files.File]:\n",
        "            for ky in obj.keys() :\n",
        "                func(obj, path, key=ky, leaf = False)\n",
        "                wrapper(obj = obj[ky], path = path + ky + ',', key = ky)\n",
        "        elif type (obj) == h5py._hl.dataset.Dataset:\n",
        "            func(obj, path, key = None, leaf = True)\n",
        "    return wrapper\n",
        "\n",
        "\n",
        "def get_hdf5_keys ( fname_hdf5 : str ) :\n",
        "    \"\"\" Get a list of keys to all datasets stored in the HDF5 file .\n",
        "    Args\n",
        "    ----\n",
        "    fname_hdf5 ( str ) : full path where HDF5 file is stored\n",
        "    \"\"\"\n",
        "\n",
        "    all_keys = []\n",
        "    @parse_through_hdf5\n",
        "    def action(obj, path = '/', key = None, leaf = False):\n",
        "        if leaf is True :\n",
        "            all_keys.append(path)\n",
        "\n",
        "    with h5py.File(fname_hdf5, 'r') as f:\n",
        "        action(f['/'])\n",
        "    return all_keys"
      ]
    },
    {
      "cell_type": "markdown",
      "metadata": {
        "id": "67_n_aKEQfcX"
      },
      "source": [
        "### Helper functions"
      ]
    },
    {
      "cell_type": "code",
      "execution_count": 12,
      "metadata": {
        "id": "hfM5_RsxP-kd"
      },
      "outputs": [],
      "source": [
        "def preprocess_hamiltonian(\n",
        "    hamiltonian: of.QubitOperator,\n",
        "    drop_term_if: Iterable[Callable[[], bool]] | None = None,\n",
        ") -> of.QubitOperator:\n",
        "    if drop_term_if is None:\n",
        "        drop_term_if = []\n",
        "\n",
        "    new = of.QubitOperator()\n",
        "\n",
        "    for term in hamiltonian.terms:\n",
        "        add_term = True\n",
        "\n",
        "        for drop_term in drop_term_if:\n",
        "            if drop_term(term):\n",
        "                add_term = False\n",
        "                break\n",
        "\n",
        "        if add_term:\n",
        "            key = \" \".join(pauli + str(index) for index, pauli in term)\n",
        "            new += of.QubitOperator(key, hamiltonian.terms.get(term))\n",
        "\n",
        "    return new"
      ]
    },
    {
      "cell_type": "markdown",
      "metadata": {
        "id": "VSR440NWSnzt"
      },
      "source": [
        "### Run the experiment"
      ]
    },
    {
      "cell_type": "code",
      "execution_count": 29,
      "metadata": {
        "cellView": "form",
        "colab": {
          "base_uri": "https://localhost:8080/"
        },
        "id": "jiD8yKuzQdCK",
        "outputId": "3bb0dfa1-80df-470a-d394-9867cf2a8638"
      },
      "outputs": [
        {
          "data": {
            "text/plain": [
              "['O2', 'B2', 'BeH', 'BH', 'CH', 'HF', 'C2', 'OH', 'N2', 'Li2', 'NaLi']"
            ]
          },
          "execution_count": 29,
          "metadata": {},
          "output_type": "execute_result"
        }
      ],
      "source": [
        "#@markdown Run the experiment.\n",
        "data_directory: str = \"./\"\n",
        "extension: str = \".hdf5\"\n",
        "fnames_encodings = {\n",
        "    \"O2\": \"/ham_JW16\",\n",
        "    \"B2\": \"/ham_JW-10\",\n",
        "    \"BeH\": \"/ham_JW10\",\n",
        "    \"BH\": \"/ham_JW-10\",\n",
        "    \"CH\": \"/ham_JW-10\",\n",
        "    \"HF\": \"/ham_JW10\",\n",
        "    \"C2\": \"/ham_JW-10\",\n",
        "    \"OH\": \"/ham_JW10\",\n",
        "    \"N2\": \"/ham_JW-14\",\n",
        "    \"Li2\": \"/ham_JW10\",\n",
        "    \"NaLi\": \"/ham_JW-14\",\n",
        "}\n",
        "fnames = list(fnames_encodings.keys())\n",
        "fermion_to_qubit_mapping_key: int = 0\n",
        "\n",
        "all_rhats = []\n",
        "all_ngroups = []\n",
        "\n",
        "fnames"
      ]
    },
    {
      "cell_type": "code",
      "execution_count": 30,
      "metadata": {},
      "outputs": [
        {
          "name": "stdout",
          "output_type": "stream",
          "text": [
            "O2\n",
            "Hamiltonian has 1176 term(s) and acts on 16 qubit(s).\n",
            "Number of groups:\n",
            "{'1-qubit-wise commuting': 442,\n",
            " '12-qubit-wise commuting': 37,\n",
            " '4-qubit-wise commuting': 206,\n",
            " '8-qubit-wise commuting': 134,\n",
            " 'Fully commuting': 30}\n",
            "Rhat values:\n",
            "{'1-qubit-wise commuting': 14.09854644875524,\n",
            " '12-qubit-wise commuting': 40.855944751571066,\n",
            " '4-qubit-wise commuting': 21.282294945432692,\n",
            " '8-qubit-wise commuting': 26.210177169043263,\n",
            " 'Fully commuting': 41.86811115542467}\n",
            "B2\n",
            "Hamiltonian has 155 term(s) and acts on 10 qubit(s).\n",
            "Number of groups:\n",
            "{'1-qubit-wise commuting': 23,\n",
            " '2-qubit-wise commuting': 20,\n",
            " '5-qubit-wise commuting': 16,\n",
            " '7-qubit-wise commuting': 11,\n",
            " 'Fully commuting': 11}\n",
            "Rhat values:\n",
            "{'1-qubit-wise commuting': 21.904872199202934,\n",
            " '2-qubit-wise commuting': 24.10484017677958,\n",
            " '5-qubit-wise commuting': 25.17114393915515,\n",
            " '7-qubit-wise commuting': 26.972770306144643,\n",
            " 'Fully commuting': 26.972770306144643}\n",
            "BeH\n",
            "Hamiltonian has 275 term(s) and acts on 10 qubit(s).\n",
            "Number of groups:\n",
            "{'1-qubit-wise commuting': 63,\n",
            " '2-qubit-wise commuting': 59,\n",
            " '5-qubit-wise commuting': 41,\n",
            " '7-qubit-wise commuting': 31,\n",
            " 'Fully commuting': 21}\n",
            "Rhat values:\n",
            "{'1-qubit-wise commuting': 21.099702645332652,\n",
            " '2-qubit-wise commuting': 21.357700892684516,\n",
            " '5-qubit-wise commuting': 24.006684566039052,\n",
            " '7-qubit-wise commuting': 26.874265767679134,\n",
            " 'Fully commuting': 29.127360612890037}\n",
            "BH\n",
            "Hamiltonian has 275 term(s) and acts on 10 qubit(s).\n",
            "Number of groups:\n",
            "{'1-qubit-wise commuting': 60,\n",
            " '2-qubit-wise commuting': 55,\n",
            " '5-qubit-wise commuting': 42,\n",
            " '7-qubit-wise commuting': 34,\n",
            " 'Fully commuting': 21}\n",
            "Rhat values:\n",
            "{'1-qubit-wise commuting': 21.88471067764982,\n",
            " '2-qubit-wise commuting': 22.61886959951616,\n",
            " '5-qubit-wise commuting': 24.245253931999446,\n",
            " '7-qubit-wise commuting': 27.45653427004683,\n",
            " 'Fully commuting': 31.607282322942613}\n",
            "CH\n",
            "Hamiltonian has 275 term(s) and acts on 10 qubit(s).\n",
            "Number of groups:\n",
            "{'1-qubit-wise commuting': 63,\n",
            " '2-qubit-wise commuting': 52,\n",
            " '5-qubit-wise commuting': 40,\n",
            " '7-qubit-wise commuting': 33,\n",
            " 'Fully commuting': 21}\n",
            "Rhat values:\n",
            "{'1-qubit-wise commuting': 19.799046419659643,\n",
            " '2-qubit-wise commuting': 21.271023284056678,\n",
            " '5-qubit-wise commuting': 23.01050747125203,\n",
            " '7-qubit-wise commuting': 25.51705513962669,\n",
            " 'Fully commuting': 30.161001150675805}\n",
            "HF\n",
            "Hamiltonian has 275 term(s) and acts on 10 qubit(s).\n",
            "Number of groups:\n",
            "{'1-qubit-wise commuting': 67,\n",
            " '2-qubit-wise commuting': 59,\n",
            " '5-qubit-wise commuting': 39,\n",
            " '7-qubit-wise commuting': 33,\n",
            " 'Fully commuting': 19}\n",
            "Rhat values:\n",
            "{'1-qubit-wise commuting': 12.48959842900447,\n",
            " '2-qubit-wise commuting': 12.708545538441882,\n",
            " '5-qubit-wise commuting': 14.672322851082106,\n",
            " '7-qubit-wise commuting': 15.787518036351829,\n",
            " 'Fully commuting': 17.127171276467408}\n",
            "C2\n",
            "Hamiltonian has 155 term(s) and acts on 10 qubit(s).\n",
            "Number of groups:\n",
            "{'1-qubit-wise commuting': 33,\n",
            " '2-qubit-wise commuting': 27,\n",
            " '5-qubit-wise commuting': 23,\n",
            " '7-qubit-wise commuting': 19,\n",
            " 'Fully commuting': 11}\n",
            "Rhat values:\n",
            "{'1-qubit-wise commuting': 15.689719410608229,\n",
            " '2-qubit-wise commuting': 16.45249172662539,\n",
            " '5-qubit-wise commuting': 17.19291138622679,\n",
            " '7-qubit-wise commuting': 18.49210483608053,\n",
            " 'Fully commuting': 19.64127952204451}\n",
            "OH\n",
            "Hamiltonian has 275 term(s) and acts on 10 qubit(s).\n",
            "Number of groups:\n",
            "{'1-qubit-wise commuting': 67,\n",
            " '2-qubit-wise commuting': 60,\n",
            " '5-qubit-wise commuting': 38,\n",
            " '7-qubit-wise commuting': 32,\n",
            " 'Fully commuting': 20}\n",
            "Rhat values:\n",
            "{'1-qubit-wise commuting': 13.912100246764373,\n",
            " '2-qubit-wise commuting': 14.218005328678704,\n",
            " '5-qubit-wise commuting': 16.698501546742857,\n",
            " '7-qubit-wise commuting': 18.037459672476583,\n",
            " 'Fully commuting': 20.092426717220775}\n",
            "N2\n",
            "Hamiltonian has 669 term(s) and acts on 14 qubit(s).\n",
            "Number of groups:\n",
            "{'1-qubit-wise commuting': 235,\n",
            " '10-qubit-wise commuting': 41,\n",
            " '3-qubit-wise commuting': 127,\n",
            " '7-qubit-wise commuting': 79,\n",
            " 'Fully commuting': 28}\n",
            "Rhat values:\n",
            "{'1-qubit-wise commuting': 16.34223739574877,\n",
            " '10-qubit-wise commuting': 31.465950335628605,\n",
            " '3-qubit-wise commuting': 20.864154461995813,\n",
            " '7-qubit-wise commuting': 26.13730926270257,\n",
            " 'Fully commuting': 34.14026241281305}\n",
            "Li2\n",
            "Hamiltonian has 155 term(s) and acts on 10 qubit(s).\n",
            "Number of groups:\n",
            "{'1-qubit-wise commuting': 31,\n",
            " '2-qubit-wise commuting': 26,\n",
            " '5-qubit-wise commuting': 22,\n",
            " '7-qubit-wise commuting': 19,\n",
            " 'Fully commuting': 11}\n",
            "Rhat values:\n",
            "{'1-qubit-wise commuting': 21.94445358073421,\n",
            " '2-qubit-wise commuting': 23.176069469891793,\n",
            " '5-qubit-wise commuting': 23.4005558886361,\n",
            " '7-qubit-wise commuting': 24.75521248096036,\n",
            " 'Fully commuting': 26.40008943800987}\n",
            "NaLi\n",
            "Hamiltonian has 1269 term(s) and acts on 14 qubit(s).\n",
            "Number of groups:\n",
            "{'1-qubit-wise commuting': 338,\n",
            " '10-qubit-wise commuting': 84,\n",
            " '3-qubit-wise commuting': 222,\n",
            " '7-qubit-wise commuting': 139,\n",
            " 'Fully commuting': 61}\n",
            "Rhat values:\n",
            "{'1-qubit-wise commuting': 16.605654093510278,\n",
            " '10-qubit-wise commuting': 19.587852396676766,\n",
            " '3-qubit-wise commuting': 16.665291536114715,\n",
            " '7-qubit-wise commuting': 18.62662151460635,\n",
            " 'Fully commuting': 19.73131862989255}\n"
          ]
        }
      ],
      "source": [
        "\n",
        "\n",
        "for i, fname in enumerate(fnames):\n",
        "    print(fname)\n",
        "    hamiltonian = read_openfermion_hdf5(\n",
        "        os.path.join(data_directory, fname + extension),\n",
        "        get_hdf5_keys(os.path.join(data_directory, fname + extension))[fermion_to_qubit_mapping_key].rstrip(\",\"),  # Or # fnames_encodings[fname]\n",
        "    )\n",
        "    hamiltonian = preprocess_hamiltonian(hamiltonian, drop_term_if=[lambda term: term == ()])  # Drop identity.\n",
        "\n",
        "    nqubits = get_num_qubits(hamiltonian)\n",
        "    nterms = len(hamiltonian.terms)\n",
        "    print(f\"Hamiltonian has {nterms} term(s) and acts on {nqubits} qubit(s).\")\n",
        "\n",
        "    grouping_algorithms = {\n",
        "        lambda ham: get_si_sets(ham, k=1): \"1-qubit-wise commuting\",\n",
        "        lambda ham: get_si_sets(ham, k=nqubits // 4): f\"{nqubits // 4}-qubit-wise commuting\",\n",
        "        lambda ham: get_si_sets(ham, k=nqubits // 2): f\"{nqubits // 2}-qubit-wise commuting\",\n",
        "        lambda ham: get_si_sets(ham, k=3 * nqubits // 4): f\"{3 * nqubits // 4}-qubit-wise commuting\",\n",
        "        lambda ham: get_si_sets(ham, k=nqubits): \"Fully commuting\",\n",
        "    }\n",
        "\n",
        "    metric_groups = {label: group(hamiltonian) for group, label in grouping_algorithms.items()}\n",
        "\n",
        "    ngroups = {label: len(groups) for label, groups in metric_groups.items()}\n",
        "    print(\"Number of groups:\")\n",
        "    pprint.pprint(ngroups)\n",
        "    all_ngroups.append(ngroups)\n",
        "\n",
        "    rhats = {label: compute_rhat(groups) for label, groups in metric_groups.items()}\n",
        "    print(\"Rhat values:\")\n",
        "    pprint.pprint(rhats)\n",
        "    all_rhats.append(rhats)"
      ]
    },
    {
      "cell_type": "markdown",
      "metadata": {
        "id": "MbOCAfDZRRpG"
      },
      "source": [
        "### Plot the results"
      ]
    },
    {
      "cell_type": "markdown",
      "metadata": {
        "id": "GO4k3WcbRbxW"
      },
      "source": [
        "#### Number of groups"
      ]
    },
    {
      "cell_type": "code",
      "execution_count": null,
      "metadata": {
        "cellView": "form",
        "colab": {
          "base_uri": "https://localhost:8080/",
          "height": 480
        },
        "id": "bLcQz70mQ0gd",
        "outputId": "5ead34ca-5e2a-4b85-d4ce-19a6893b5613"
      },
      "outputs": [
        {
          "data": {
            "image/png": "[encoded data removed]",
            "text/plain": [
              "<Figure size 640x480 with 1 Axes>"
            ]
          },
          "metadata": {},
          "output_type": "display_data"
        }
      ],
      "source": [
        "#@markdown Plotting code.\n",
        "# Parse data.\n",
        "ngroups_to_plot = []\n",
        "\n",
        "for ngroups in all_ngroups:\n",
        "    ngroups_to_plot.append(list(ngroups.values()))\n",
        "\n",
        "ngroups_to_plot = np.array(ngroups_to_plot)\n",
        "\n",
        "# Plot.\n",
        "plt.rcParams.update({\"font.family\": \"serif\", \"font.size\": 12})\n",
        "\n",
        "xs = np.arange(len(fnames))\n",
        "width = 2.0 / len(xs)\n",
        "\n",
        "for i, rhats in enumerate(ngroups_to_plot.T):\n",
        "    plt.bar(xs + (i - len(ngroups_to_plot.T) // 2) * width, rhats, width=width, align=\"center\")\n",
        "\n",
        "plt.xticks(xs, labels=fnames)\n",
        "plt.ylabel(\"Number of groups\")\n",
        "plt.legend([\"$1$-commute\", r\"$\\frac{n}{4}$-commute\", r\"$\\frac{2n}{4}$-commute\", r\"$\\frac{3n}{4}$-commute\", \"$n$-commute\"])\n",
        "plt.tight_layout()"
      ]
    },
    {
      "cell_type": "markdown",
      "metadata": {
        "id": "J5RjPVMQQ07o"
      },
      "source": [
        "#### Values of $\\hat{R}$"
      ]
    },
    {
      "cell_type": "code",
      "execution_count": null,
      "metadata": {
        "cellView": "form",
        "colab": {
          "base_uri": "https://localhost:8080/",
          "height": 480
        },
        "id": "ebnaSPyiRe61",
        "outputId": "02455450-74f6-4a49-d09e-b56a8d99db60"
      },
      "outputs": [
        {
          "data": {
            "image/png": "[encoded data removed]",
            "text/plain": [
              "<Figure size 640x480 with 1 Axes>"
            ]
          },
          "metadata": {},
          "output_type": "display_data"
        }
      ],
      "source": [
        "#@markdown Plotting code.\n",
        "# Parse data.\n",
        "rhats_to_plot = []\n",
        "\n",
        "for rhats in all_rhats:\n",
        "    rhats_to_plot.append(list(rhats.values()))\n",
        "\n",
        "rhats_to_plot = np.array(rhats_to_plot)\n",
        "\n",
        "# Plot.\n",
        "plt.rcParams.update({\"font.family\": \"serif\", \"font.size\": 12})\n",
        "\n",
        "xs = np.arange(len(fnames))\n",
        "width = 2.0 / len(xs)\n",
        "\n",
        "for i, rhats in enumerate(rhats_to_plot.T):\n",
        "    plt.bar(xs + (i - len(rhats_to_plot.T) // 2) * width, rhats, width=width, align=\"center\")\n",
        "\n",
        "plt.xticks(xs, labels=fnames)\n",
        "plt.ylabel(r\"$\\hat{R}$\")\n",
        "plt.legend([\"$1$-commute\", r\"$\\frac{n}{4}$-commute\", r\"$\\frac{2n}{4}$-commute\", r\"$\\frac{3n}{4}$-commute\", \"$n$-commute\"])\n",
        "plt.tight_layout()"
      ]
    },
    {
      "cell_type": "markdown",
      "metadata": {
        "id": "D-xzfvLMRf0H"
      },
      "source": [
        "Comments and corrections welcome to rmlarose@msu.edu."
      ]
    }
  ],
  "metadata": {
    "colab": {
      "provenance": [],
      "toc_visible": true
    },
    "kernelspec": {
      "display_name": "Python 3",
      "name": "python3"
    },
    "language_info": {
      "codemirror_mode": {
        "name": "ipython",
        "version": 3
      },
      "file_extension": ".py",
      "mimetype": "text/x-python",
      "name": "python",
      "nbconvert_exporter": "python",
      "pygments_lexer": "ipython3",
      "version": "3.11.8"
    },
    "widgets": {
      "application/vnd.jupyter.widget-state+json": {
        "2d9e7e0988284a83a4fcd17559bca4bc": {
          "model_module": "@jupyter-widgets/controls",
          "model_module_version": "1.5.0",
          "model_name": "FloatProgressModel",
          "state": {
            "_dom_classes": [],
            "_model_module": "@jupyter-widgets/controls",
            "_model_module_version": "1.5.0",
            "_model_name": "FloatProgressModel",
            "_view_count": null,
            "_view_module": "@jupyter-widgets/controls",
            "_view_module_version": "1.5.0",
            "_view_name": "ProgressView",
            "bar_style": "success",
            "description": "",
            "description_tooltip": null,
            "layout": "IPY_MODEL_7cb48372dea6409ebedfe0cb50e66730",
            "max": 20,
            "min": 0,
            "orientation": "horizontal",
            "style": "IPY_MODEL_e4420bbb23e54c0a9f1a399b6b2472c6",
            "value": 20
          }
        },
        "54a2bcb701de49bb9420f9c7edc21183": {
          "model_module": "@jupyter-widgets/base",
          "model_module_version": "1.2.0",
          "model_name": "LayoutModel",
          "state": {
            "_model_module": "@jupyter-widgets/base",
            "_model_module_version": "1.2.0",
            "_model_name": "LayoutModel",
            "_view_count": null,
            "_view_module": "@jupyter-widgets/base",
            "_view_module_version": "1.2.0",
            "_view_name": "LayoutView",
            "align_content": null,
            "align_items": null,
            "align_self": null,
            "border": null,
            "bottom": null,
            "display": null,
            "flex": null,
            "flex_flow": null,
            "grid_area": null,
            "grid_auto_columns": null,
            "grid_auto_flow": null,
            "grid_auto_rows": null,
            "grid_column": null,
            "grid_gap": null,
            "grid_row": null,
            "grid_template_areas": null,
            "grid_template_columns": null,
            "grid_template_rows": null,
            "height": null,
            "justify_content": null,
            "justify_items": null,
            "left": null,
            "margin": null,
            "max_height": null,
            "max_width": null,
            "min_height": null,
            "min_width": null,
            "object_fit": null,
            "object_position": null,
            "order": null,
            "overflow": null,
            "overflow_x": null,
            "overflow_y": null,
            "padding": null,
            "right": null,
            "top": null,
            "visibility": null,
            "width": null
          }
        },
        "6ccd993fcd1f4a79a98a81b730580c51": {
          "model_module": "@jupyter-widgets/controls",
          "model_module_version": "1.5.0",
          "model_name": "HBoxModel",
          "state": {
            "_dom_classes": [],
            "_model_module": "@jupyter-widgets/controls",
            "_model_module_version": "1.5.0",
            "_model_name": "HBoxModel",
            "_view_count": null,
            "_view_module": "@jupyter-widgets/controls",
            "_view_module_version": "1.5.0",
            "_view_name": "HBoxView",
            "box_style": "",
            "children": [
              "IPY_MODEL_8bb53686d957477b82258fd9953453b1",
              "IPY_MODEL_2d9e7e0988284a83a4fcd17559bca4bc",
              "IPY_MODEL_ae95b1397a344a6eafa04c7978ff79a1"
            ],
            "layout": "IPY_MODEL_54a2bcb701de49bb9420f9c7edc21183"
          }
        },
        "73fd93dda6b243da984d6c0579ed4d7b": {
          "model_module": "@jupyter-widgets/base",
          "model_module_version": "1.2.0",
          "model_name": "LayoutModel",
          "state": {
            "_model_module": "@jupyter-widgets/base",
            "_model_module_version": "1.2.0",
            "_model_name": "LayoutModel",
            "_view_count": null,
            "_view_module": "@jupyter-widgets/base",
            "_view_module_version": "1.2.0",
            "_view_name": "LayoutView",
            "align_content": null,
            "align_items": null,
            "align_self": null,
            "border": null,
            "bottom": null,
            "display": null,
            "flex": null,
            "flex_flow": null,
            "grid_area": null,
            "grid_auto_columns": null,
            "grid_auto_flow": null,
            "grid_auto_rows": null,
            "grid_column": null,
            "grid_gap": null,
            "grid_row": null,
            "grid_template_areas": null,
            "grid_template_columns": null,
            "grid_template_rows": null,
            "height": null,
            "justify_content": null,
            "justify_items": null,
            "left": null,
            "margin": null,
            "max_height": null,
            "max_width": null,
            "min_height": null,
            "min_width": null,
            "object_fit": null,
            "object_position": null,
            "order": null,
            "overflow": null,
            "overflow_x": null,
            "overflow_y": null,
            "padding": null,
            "right": null,
            "top": null,
            "visibility": null,
            "width": null
          }
        },
        "7cb48372dea6409ebedfe0cb50e66730": {
          "model_module": "@jupyter-widgets/base",
          "model_module_version": "1.2.0",
          "model_name": "LayoutModel",
          "state": {
            "_model_module": "@jupyter-widgets/base",
            "_model_module_version": "1.2.0",
            "_model_name": "LayoutModel",
            "_view_count": null,
            "_view_module": "@jupyter-widgets/base",
            "_view_module_version": "1.2.0",
            "_view_name": "LayoutView",
            "align_content": null,
            "align_items": null,
            "align_self": null,
            "border": null,
            "bottom": null,
            "display": null,
            "flex": null,
            "flex_flow": null,
            "grid_area": null,
            "grid_auto_columns": null,
            "grid_auto_flow": null,
            "grid_auto_rows": null,
            "grid_column": null,
            "grid_gap": null,
            "grid_row": null,
            "grid_template_areas": null,
            "grid_template_columns": null,
            "grid_template_rows": null,
            "height": null,
            "justify_content": null,
            "justify_items": null,
            "left": null,
            "margin": null,
            "max_height": null,
            "max_width": null,
            "min_height": null,
            "min_width": null,
            "object_fit": null,
            "object_position": null,
            "order": null,
            "overflow": null,
            "overflow_x": null,
            "overflow_y": null,
            "padding": null,
            "right": null,
            "top": null,
            "visibility": null,
            "width": null
          }
        },
        "8bb53686d957477b82258fd9953453b1": {
          "model_module": "@jupyter-widgets/controls",
          "model_module_version": "1.5.0",
          "model_name": "HTMLModel",
          "state": {
            "_dom_classes": [],
            "_model_module": "@jupyter-widgets/controls",
            "_model_module_version": "1.5.0",
            "_model_name": "HTMLModel",
            "_view_count": null,
            "_view_module": "@jupyter-widgets/controls",
            "_view_module_version": "1.5.0",
            "_view_name": "HTMLView",
            "description": "",
            "description_tooltip": null,
            "layout": "IPY_MODEL_73fd93dda6b243da984d6c0579ed4d7b",
            "placeholder": "​",
            "style": "IPY_MODEL_90f4820e66284fc79fdc390c161ec134",
            "value": "100%"
          }
        },
        "90f4820e66284fc79fdc390c161ec134": {
          "model_module": "@jupyter-widgets/controls",
          "model_module_version": "1.5.0",
          "model_name": "DescriptionStyleModel",
          "state": {
            "_model_module": "@jupyter-widgets/controls",
            "_model_module_version": "1.5.0",
            "_model_name": "DescriptionStyleModel",
            "_view_count": null,
            "_view_module": "@jupyter-widgets/base",
            "_view_module_version": "1.2.0",
            "_view_name": "StyleView",
            "description_width": ""
          }
        },
        "ae95b1397a344a6eafa04c7978ff79a1": {
          "model_module": "@jupyter-widgets/controls",
          "model_module_version": "1.5.0",
          "model_name": "HTMLModel",
          "state": {
            "_dom_classes": [],
            "_model_module": "@jupyter-widgets/controls",
            "_model_module_version": "1.5.0",
            "_model_name": "HTMLModel",
            "_view_count": null,
            "_view_module": "@jupyter-widgets/controls",
            "_view_module_version": "1.5.0",
            "_view_name": "HTMLView",
            "description": "",
            "description_tooltip": null,
            "layout": "IPY_MODEL_b84b73ceddc94ea98b99bd19a0f4ff58",
            "placeholder": "​",
            "style": "IPY_MODEL_ef6a6489d8454ba4b77c19ae5e937010",
            "value": " 20/20 [00:30&lt;00:00,  1.16it/s]"
          }
        },
        "b84b73ceddc94ea98b99bd19a0f4ff58": {
          "model_module": "@jupyter-widgets/base",
          "model_module_version": "1.2.0",
          "model_name": "LayoutModel",
          "state": {
            "_model_module": "@jupyter-widgets/base",
            "_model_module_version": "1.2.0",
            "_model_name": "LayoutModel",
            "_view_count": null,
            "_view_module": "@jupyter-widgets/base",
            "_view_module_version": "1.2.0",
            "_view_name": "LayoutView",
            "align_content": null,
            "align_items": null,
            "align_self": null,
            "border": null,
            "bottom": null,
            "display": null,
            "flex": null,
            "flex_flow": null,
            "grid_area": null,
            "grid_auto_columns": null,
            "grid_auto_flow": null,
            "grid_auto_rows": null,
            "grid_column": null,
            "grid_gap": null,
            "grid_row": null,
            "grid_template_areas": null,
            "grid_template_columns": null,
            "grid_template_rows": null,
            "height": null,
            "justify_content": null,
            "justify_items": null,
            "left": null,
            "margin": null,
            "max_height": null,
            "max_width": null,
            "min_height": null,
            "min_width": null,
            "object_fit": null,
            "object_position": null,
            "order": null,
            "overflow": null,
            "overflow_x": null,
            "overflow_y": null,
            "padding": null,
            "right": null,
            "top": null,
            "visibility": null,
            "width": null
          }
        },
        "e4420bbb23e54c0a9f1a399b6b2472c6": {
          "model_module": "@jupyter-widgets/controls",
          "model_module_version": "1.5.0",
          "model_name": "ProgressStyleModel",
          "state": {
            "_model_module": "@jupyter-widgets/controls",
            "_model_module_version": "1.5.0",
            "_model_name": "ProgressStyleModel",
            "_view_count": null,
            "_view_module": "@jupyter-widgets/base",
            "_view_module_version": "1.2.0",
            "_view_name": "StyleView",
            "bar_color": null,
            "description_width": ""
          }
        },
        "ef6a6489d8454ba4b77c19ae5e937010": {
          "model_module": "@jupyter-widgets/controls",
          "model_module_version": "1.5.0",
          "model_name": "DescriptionStyleModel",
          "state": {
            "_model_module": "@jupyter-widgets/controls",
            "_model_module_version": "1.5.0",
            "_model_name": "DescriptionStyleModel",
            "_view_count": null,
            "_view_module": "@jupyter-widgets/base",
            "_view_module_version": "1.2.0",
            "_view_name": "StyleView",
            "description_width": ""
          }
        }
      }
    }
  },
  "nbformat": 4,
  "nbformat_minor": 0
}
