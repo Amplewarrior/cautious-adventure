{
 "cells": [
  {
   "cell_type": "markdown",
   "metadata": {},
   "source": [
    "# Classical Mechanics"
   ]
  },
  {
   "cell_type": "markdown",
   "metadata": {},
   "source": [
    "## Chapter 1: Physics 1+"
   ]
  },
  {
   "cell_type": "markdown",
   "metadata": {},
   "source": [
    "Ex 1 Fally Bally\n",
    "\n",
    "F(v) describes the forces on Fally Bally\n",
    "\n",
    "Taylor Expansion f(x)\n",
    "$$f(x)=\\sum_{n=0}^\\infty \\dfrac{1}{n!}\\dfrac{d^nf}{dx^n}|_{x=a}(x-a)^n$$\n",
    "\n",
    "Lets expand F(v) at x=0\n",
    "$$F(v=0) = 0 + F'(v=0)v+\\dfrac{1}{2}F''(v=0)v^2+...$$\n",
    "\n",
    "Which lets us model F(v) in terms of coefficients that represent the derivatives\n",
    "$$F(v) = cv + dv^2+...$$ \n",
    "\n",
    "We're all about equations of motion <br>\n",
    "$Fy = ma_y = mg-bv-cv^2$, where $a_y = \\dfrac{d^2x}{dt^2} = \\dfrac{dy}{dt}$\n",
    "\n",
    "Now remember we're in numericalverse, so we'll do some euler discretization.<br>\n",
    "Rule: constant time step $\\Delta t$\n",
    "<br> Result: average velocity -> discrete velocity $v_i = \\dfrac{y(t+\\Delta t)-y(t)}{\\Delta t} = \\dfrac{y_{i+1}-y_i}{\\Delta t} $ for every point\n",
    "<br> also discrete acceleration $a_i = \\dfrac{v_{i+1}-v_i}{\\Delta t}$\n",
    "\n",
    "Discrete mechanics also gives us $v_{i+1} = v_i + \\dfrac{F_i}{m}$, where $F_i = ma_i$\n",
    "\n",
    "Result (which I don't think euler realized): great computing!"
   ]
  },
  {
   "cell_type": "markdown",
   "metadata": {},
   "source": []
  }
 ],
 "metadata": {
  "language_info": {
   "name": "python"
  }
 },
 "nbformat": 4,
 "nbformat_minor": 2
}
