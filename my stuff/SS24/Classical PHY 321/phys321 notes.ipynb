{
 "cells": [
  {
   "cell_type": "markdown",
   "metadata": {},
   "source": [
    "# Classical Mechanics"
   ]
  },
  {
   "cell_type": "markdown",
   "metadata": {},
   "source": [
    "## Chapter 1: Physics 1+"
   ]
  },
  {
   "cell_type": "markdown",
   "metadata": {},
   "source": [
    "Ex 1 Fally Bally\n",
    "\n",
    "F(v) describes the forces on Fally Bally\n",
    "\n",
    "Taylor Expansion f(x)\n",
    "$$f(x)=\\sum_{n=0}^\\infty \\dfrac{1}{n!}\\dfrac{d^nf}{dx^n}|_{x=a}(x-a)^n$$\n",
    "\n",
    "Lets expand F(v) at x=0\n",
    "$$F(v=0) = 0 + F'(v=0)v+\\dfrac{1}{2}F''(v=0)v^2+...$$\n",
    "\n",
    "Which lets us model F(v) in terms of coefficients that represent the derivatives\n",
    "$$F(v) = cv + dv^2+...$$ \n",
    "\n",
    "We're all about equations of motion <br>\n",
    "$Fy = ma_y = mg-bv-cv^2$, where $a_y = \\dfrac{d^2x}{dt^2} = \\dfrac{dy}{dt}$\n",
    "\n",
    "Now remember we're in numericalverse, so we'll do some euler discretization.<br>\n",
    "Rule: constant time step $\\Delta t$\n",
    "<br> Result: average velocity -> discrete velocity $v_i = \\dfrac{y(t+\\Delta t)-y(t)}{\\Delta t} = \\dfrac{y_{i+1}-y_i}{\\Delta t} $ for every point\n",
    "<br> also discrete acceleration $a_i = \\dfrac{v_{i+1}-v_i}{\\Delta t}$\n",
    "\n",
    "Discrete mechanics also gives us $v_{i+1} = v_i + \\dfrac{F_i}{m}$, where $F_i = ma_i$\n",
    "\n",
    "Result (which I don't think euler realized): great computing!"
   ]
  },
  {
   "cell_type": "markdown",
   "metadata": {},
   "source": [
    "# Chapter 2\n",
    "\n",
    "Work, energy, kinetic energy.\n",
    "\n",
    "Lattice of atoms example\n",
    "$F(x)=-F_0\\sin(\\frac{2\\pi x}{b})$\n",
    "\n",
    "$\\int_0^{x_1}F(x)dx=-F_0\\int_0^{x_1}\\sin(\\frac{2\\pi x}{b})=F_0\\frac{2\\pi}{b}\\cos(\\frac{2\\pi x}{b})|_0^{x_0}=F_0\\frac{2\\pi}{b}(\\cos(\\frac{2\\pi x_0}{b})-1)$"
   ]
  },
  {
   "cell_type": "markdown",
   "metadata": {},
   "source": [
    "$U=-W$ potential energy decreases when the system does work.\n",
    "\n",
    "$E=k+U=T+V$ k is kinetic energy, U is potential (hence $U_\\text{grav}$)\n",
    "\n",
    "Conservative forces are usually functions of position $\\vec r$\n",
    "\n",
    "Conservation of angular momentum\n",
    "\n",
    "no torque $\\Delta \\vec L_{sys}=0$"
   ]
  },
  {
   "cell_type": "markdown",
   "metadata": {},
   "source": [
    "### Potential\n",
    "Hey, I'm doing this in calc rn\n",
    "\n",
    "$$\n",
    "U(x)=(ax^4-bx^2) \\\\\n",
    "\\dot U(x)=4ax^3-2bx \\implies F(x) = -4x^3+2bx\\\\\n",
    "\\ddot U(x)=12ax^2-2b \\implies \\text{ stable at } x=\\pm \\sqrt{b/2a}, \\text{ unstable at } x=0 \\\\\n",
    "$$\n",
    "\n",
    "$U = -W, \\dot U = -F$\n"
   ]
  },
  {
   "cell_type": "markdown",
   "metadata": {},
   "source": [
    "$$\n",
    "T+U=E_{tot} \\\\\n",
    "\\frac{1}{2}mv_x^2+(ax^4-bx^2)=E_{tot} \\\\\n",
    "V_x(x)=\\pm \\sqrt{\\frac{2(E_{tot}-ax^4+bx^2)}{m}}\n",
    "$$\n",
    "\n",
    "What is $E_min$ that this actually works? $E_{min}=\\min(ax^4-bx^2)$, which occurs at $x=\\sqrt{\\frac{b}{2a}} \\implies a\\left(\\frac{b}{2a}\\right)^4-b\\left(\\frac{b}{2a}\\right)^2$\n",
    "\n",
    "The maximum kinetic energy is $E_{max}-E_{min}$"
   ]
  },
  {
   "cell_type": "markdown",
   "metadata": {},
   "source": [
    "$\\vec F(\\vec r)= - \\nabla V(\\vec r)$\n",
    "\n",
    "$F_x=-\\frac{\\partial V}{\\partial x}$\n",
    "\n",
    "Is $P_x$ conserved? $\\implies \\nabla \\times \\vec F = 0$\n",
    "\n",
    "$\\frac{d\\vec p}{dt}=\\vec F_{net} \\implies F_x=\\frac{dp_x}{dt}$\n",
    "\n",
    "Momentum is definitely independently conserved in y, since $F_y=0$\n",
    "\n",
    "Hint: show $\\frac{dL_x}{dt}=(\\vec r \\times \\vec F)_x$\n",
    "\n"
   ]
  },
  {
   "cell_type": "markdown",
   "metadata": {},
   "source": [
    "### Phase space\n",
    "$v(x);x(v)$ finds families of solutions, more important than trajectories"
   ]
  },
  {
   "cell_type": "markdown",
   "metadata": {},
   "source": [
    "Extremizing $S:\\ \\frac{dS}{d\\alpha}$ when $Y(x)=y(x)+\\alpha \\epsilon(x)$\n",
    "\n",
    "$$\n",
    "S = \\int_{x_1}^{x_2} f(y,y',x)dx \n",
    "$$\n",
    "\n",
    "Extremization always yields a critical point, we need to construct it in a certain way to make it a minimum.\n",
    "\n",
    "$Y(x)$ is $y(x)$ with error"
   ]
  },
  {
   "cell_type": "markdown",
   "metadata": {},
   "source": [
    "Euler-lagrange $$\\frac{df}{dy}-\\frac{d}{dx}\\left(\\frac{df}{dy'}\\right)=0$$"
   ]
  },
  {
   "cell_type": "markdown",
   "metadata": {},
   "source": [
    "$$\n",
    "f(y,y',x)=\\sqrt{1+y'^2}\\\\\n",
    "l=\\int_{x_1}^{x_2} dx \\sqrt{1+y'^2} \\\\\n",
    "\\frac{df}{dy} = 0 \\\\\n",
    "\\frac{df}{dy'} = \\frac{y'}{1+y'^2} \\\\\n",
    "\\frac{d}{dx} \\frac{y'}{1+y'^2} =0 \\checkmark\n",
    "$$"
   ]
  },
  {
   "cell_type": "markdown",
   "metadata": {},
   "source": [
    "Snells law == Sharks law\n",
    "\n"
   ]
  }
 ],
 "metadata": {
  "language_info": {
   "name": "python"
  }
 },
 "nbformat": 4,
 "nbformat_minor": 2
}
