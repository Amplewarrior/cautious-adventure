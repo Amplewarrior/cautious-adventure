{
 "cells": [
  {
   "cell_type": "markdown",
   "id": "b3238251",
   "metadata": {
    "editable": true
   },
   "source": [
    "<!-- HTML file automatically generated from DocOnce source (https://github.com/doconce/doconce/)\n",
    "doconce format html Firstmidterm2022.do.txt --no_mako -->\n",
    "<!-- dom:TITLE: PHY321: Classical Mechanics 1 -->"
   ]
  },
  {
   "cell_type": "markdown",
   "id": "6a9192af",
   "metadata": {
    "editable": true
   },
   "source": [
    "# Midterm 1 (Due 23 Feb)\n",
    "\n",
    "Date: **12 Feb 24**"
   ]
  },
  {
   "cell_type": "markdown",
   "id": "c926dbcc",
   "metadata": {
    "editable": true
   },
   "source": [
    "## Introduction to the first midterm project, total score 100 points\n",
    "\n",
    "The relevant reading background is:\n",
    "\n",
    "1. chapters 2-5 of Taylor.\n",
    "2. chapters 6-14 of Malthe-Sørenssen.\n",
    "\n",
    "In this midterm project we will start with a potential. There are some elements\n",
    "of that exercise which are repeated here, similarly, a good fraction\n",
    "of the codes you have developed for homeworks can be used here.\n",
    "We start with a one-dimensional potential and motion.  Thereafter we\n",
    "extend this potential model for quarks and study the\n",
    "numerical solution of the corresponding problem.\n",
    "\n",
    "### Practicalities about midterm projects\n",
    "\n",
    "You can work in groups (optimal groups are often 2-3 people) or by yourself. If you work as a group, you **must** hand in your own work. **Remember to write your name(s)** and indicate how each person contributed.\n",
    "\n",
    "Midterms might cover topics from prior homework, lectures, and readings. It is likely that some of the problems might require a little research on your own or might be slightly beyond what we have done on class and in homework. The midterm is meant to be challenging, but it should also be a good place to learn more about the topics covered in the course. We encourage you to use the textbook, notes, and other resources when solving the midterm. Of course, you can also work with others on the midterm, but make sure you write up the solutions yourself. You can ask the any of the teaching staff for help."
   ]
  },
  {
   "cell_type": "markdown",
   "id": "7ba13ef0",
   "metadata": {
    "editable": true
   },
   "source": [
    "### Part 1, Particle in a one-dimensional  potential\n",
    "\n",
    "We consider a particle (for example an atom) of mass $m$ moving in a one-dimensional potential,"
   ]
  },
  {
   "cell_type": "markdown",
   "id": "f91f972d",
   "metadata": {
    "editable": true
   },
   "source": [
    "$$\n",
    "V(x)=\\frac{V_0}{d^4}\\left(x^4-2x^2d^2+d^4\\right).\n",
    "$$"
   ]
  },
  {
   "cell_type": "markdown",
   "id": "17e66ddd",
   "metadata": {
    "editable": true
   },
   "source": [
    "We will assume all other forces on the particle are small in comparison, and neglect them in our model.  The parameters $V_0$ and $d$ are known constants. \n",
    "\n",
    "1. (5pt) Plot the potential and find the  equilibrium points (stable and unstable) by requiring that the first derivative of the potential is zero. Make an energy diagram (see for example Malthe-Sørenssen chapter 11.3) and mark the equilibrium points on the diagram and characterize their stability. The position of the particle is $x$. \n",
    "\n",
    "2. (5pt) Choose two different energies that give two distinct types of motions, draw them on the energy diagram, and describe the motion in each case.\n",
    "\n",
    "3. (5pt) If the particle  starts at rest at $x=2d$, what is the velocity of the particle at the point $x=d$?\n",
    "\n",
    "4. (5pt) If the particle  starts at $x=d$ with velocity $v_0$, how large must $v_0$ be for the  particle to reach the point $x=−d$?\n",
    "\n",
    "5. (5pt) Use the above potential to find the net force acting on the particle.  Find the acceleration acting on the particle. Is this net force conservative? Calculate the **curl** of the force  $\\boldsymbol{\\nabla}\\times \\boldsymbol{F}$ in order to validate your conclusion. \n",
    "\n",
    "6. (5pt) Are linear momentum and angular momentum conserved? You need to show this by calculating these quantities.\n",
    "\n",
    "7. (10pt) Write a numerical algorithm to find the position and velocity of the particle at a time $t+\\Delta t$ given the position and velocity at a time $t$. Here you can use either the standard forward Euler, or the Euler-Cromer or the Velocity Verlet algorithms.   You need to justify your choice here (hint: consider energy conservation).\n",
    "\n",
    "8. (10pt) Use now your program to find the position of the particle as function of time from $t=0$ to $t=30$ s using a mass  $m=1.0$ kg, the parameter $V_0=1$ J and $d=0.1$ m. Make a plot of three distinct positions with initial conditions $x_0=d$ and $v_0=0.5$ m/s, $x_0=d$ and $v_0=1.5$ m/s, and $x_0=d$ and $v_0=2.5$ m/s. Plot the velocity.  Perform these analyses with and without the term $x^4$ in the potential. Do you see a difference? What do you notice?\n",
    "\n",
    "9. (10pt) Describe the behavior of the particle for the three initial conditions  and sketch the motion in an energy diagram. Is energy conserved in your simulations?"
   ]
  },
  {
   "cell_type": "markdown",
   "id": "dc224832",
   "metadata": {
    "editable": true
   },
   "source": [
    "### Part 2, a model of quark confinement\n",
    "\n",
    "In part 2, we are going to study a new potential. This potential contains the basic mathematical components needed to describe the confinement of quarks through a term $\\kappa x$. The aim of this exercise is to try to develop your intuition about the motion of physical objects due to specific forces. Then we will test our intuition by running simulations. The potential, in one dimension only is defined for $x\\in [0.2,\\infty)$.  It reads:\n",
    "\n",
    "$$\n",
    "V(x) = -\\frac{\\gamma}{x}+\\frac{\\delta}{x^2}+\\kappa x,\n",
    "$$\n",
    "\n",
    "where the last term is the one which ensures confinement of for example quarks.\n",
    "\n",
    "1. (5pt) Plot the potential for $x\\in [0.2,10]$ and set $\\gamma=10$, $\\delta = 3$ and $\\kappa =1$. Find the value of $x$ where the potential has a minimum.\n",
    "\n",
    "2. (5pt) Show that this potential leads to an energy conserving force by calculating the **curl** of the resulting force.\n",
    "\n",
    "3. (10pt) Assume now that at $x=2$ the particle moving in this potential is at rest, that is its velocity is zero. Find the total energy and describe what kind of motion you can expect. The point $x=2$ is a so-called turning point. Can you find the other turning point where the kinetic energy is zero. If you keep increasing $x$, will the particle ever be able to escape the potential well?\n",
    "\n",
    "4. (20pt) Finally we will now change our program (using either the Euler-Cromer or the Velocity-Verlet method) and compute the position and the velocity as functions of time using the force computed from the above potential. Use as initial condition at time $t=0$ that the particle is $x_0=2$ and has initial velocity $v_0=0$. Test numerically that energy is conserved as function of time. "
   ]
  },
  {
   "cell_type": "markdown",
   "id": "5ce3d1bd",
   "metadata": {},
   "source": []
  }
 ],
 "metadata": {
  "language_info": {
   "name": "python"
  }
 },
 "nbformat": 4,
 "nbformat_minor": 5
}
