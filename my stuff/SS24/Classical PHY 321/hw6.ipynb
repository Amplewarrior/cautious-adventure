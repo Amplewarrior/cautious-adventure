{
 "cells": [
  {
   "cell_type": "markdown",
   "id": "61477505",
   "metadata": {
    "editable": true
   },
   "source": [
    "<!-- HTML file automatically generated from DocOnce source (https://github.com/doconce/doconce/)\n",
    "doconce format html hw5.do.txt --no_mako -->\n",
    "<!-- dom:TITLE: PHY321: Classical Mechanics 1 -->"
   ]
  },
  {
   "cell_type": "markdown",
   "id": "97e96985",
   "metadata": {
    "editable": true
   },
   "source": [
    "# Homework 6 (Due 15 Mar)\n",
    "**Due Mar 15 (midnight)**\n",
    "\n",
    "Date: **Mar 4, 2024**\n",
    "Total points: **100**"
   ]
  },
  {
   "cell_type": "code",
   "execution_count": 2,
   "id": "20eb8b0c-ac27-4107-a14c-d228c615b5b6",
   "metadata": {
    "editable": true
   },
   "outputs": [],
   "source": [
    "import numpy as np\n",
    "from math import *\n",
    "import matplotlib.pyplot as plt\n",
    "import pandas as pd\n",
    "%matplotlib inline\n",
    "plt.style.use('seaborn-v0_8-colorblind')"
   ]
  },
  {
   "cell_type": "markdown",
   "id": "c9f69fcd",
   "metadata": {
    "editable": true
   },
   "source": [
    "## Introduction to Homework 6\n",
    "\n",
    "This week's exercises focus on oscillators and how to approximate the solution to the equations of motion using the SHO. The relevant reading background is:\n",
    "1. chapter 5 of Taylor \n",
    "\n",
    "2. chapter 6.6-6.8 of Boas\n",
    "\n",
    "3. chapters 2.0-2.3 and 5.0-5.2 of Strogatz\n",
    "\n",
    "In both textbooks there are many nice worked out examples. \n",
    "\n",
    "\n",
    "### Practicalities about  homeworks and projects\n",
    "\n",
    "1. You can work in groups (optimal groups are often 2-3 people) or by yourself. If you work as a group you can hand in one answer only if you wish. **Remember to write your name(s)**!\n",
    "\n",
    "2. Homeworks are available ten days before the deadline.\n",
    "\n",
    "3. How do I(we)  hand in?  You can hand in the paper and pencil exercises as a scanned document. For this homework this applies to exercises 1-4. Alternatively, you can hand in everything (if you are ok with typing mathematical formulae using say Latex) as a jupyter notebook at D2L. The numerical exercise(s) (exercise 5-6 here) should always be handed in as a jupyter notebook by the deadline at D2L."
   ]
  },
  {
   "cell_type": "markdown",
   "id": "acbabb39",
   "metadata": {},
   "source": [
    "### Exercise 1 (10pt) Morse Potential as an SHO\n",
    "\n",
    "If the potential has a local minimum, we can often find SHO approximation for that potential near the local minimum. \n",
    "\n",
    "The [Morse potential](https://en.wikipedia.org/wiki/Morse_potential) is a convenient model for the potential energy of a diatomic molecule. The potential is a radial one and thus one-dimensional. It is given by,\n",
    "\n",
    "$$U(r) = A\\left[ \\left(e^{(R-r)/S}-1\\right)^2-1\\right]$$\n",
    "\n",
    "where the distance between the centers of the two atoms is $r$, and the constants $A$, $R$, and $S$ are all positive. Here $S<<R$.\n",
    "\n",
    "* 1a (2pt) Sketch (or plot) the potential as a function of $r$.\n",
    "\n",
    "* 1b (3pt) Find the equilibrium position of the potential, i.e. the position where the potential is at a minimum. We will call this $r_e$.\n",
    "* 1c (3pt) Rewrite the potential in terms of the displacement from equilibrium, $r = r_e + x$. Expand the potential to second order in $x$.\n",
    "* 1d (2pt) Find the effective spring constant, $k$, for the potential near the minimum. What is the frequency of small oscillations about the minimum?"
   ]
  },
  {
   "cell_type": "markdown",
   "id": "10b3fd36",
   "metadata": {},
   "source": [
    "<div style=\"background-color:PaleGreen;color:black;padding:2%;\">\n",
    "\n",
    "1a lets plot with dummy constats A=R=S=1. This is just to illustrate the shape of the plot, since S<<R is kind of difficult"
   ]
  },
  {
   "cell_type": "code",
   "execution_count": 7,
   "id": "e4db37f3",
   "metadata": {},
   "outputs": [
    {
     "data": {
      "image/png": "[encoded data removed]",
      "text/plain": [
       "<Figure size 640x480 with 1 Axes>"
      ]
     },
     "metadata": {},
     "output_type": "display_data"
    }
   ],
   "source": [
    "def morse(r):\n",
    "    A = 1\n",
    "    R = 1\n",
    "    S = 1\n",
    "    return A*((e**((R-r)/S)-1)**2-1)\n",
    "\n",
    "distance = np.linspace(-0.5, 2,1000)\n",
    "\n",
    "plt.plot(distance,morse(distance))\n",
    "plt.axhline(min(morse(distance)),color = 'r')\n",
    "plt.show()"
   ]
  },
  {
   "cell_type": "markdown",
   "id": "ddb359c8",
   "metadata": {},
   "source": [
    "<div style=\"background-color:PaleGreen;color:black;padding:2%;\">\n",
    "\n",
    "1b U(r) is minimized when $\\left(e^{(R-r)/S}-1 \\right)^2$ is minimized, which cannot be below zero\n",
    "\n",
    "$$\n",
    "e^{(R-r)/S}-1 = 0 \\\\\n",
    "e^{(R-R)}=e^0= 1\n",
    "$$\n",
    "<!-- \\ln(e^{(R-r)/S}) = \\ln(1) \\\\\n",
    "\\frac{R-r}{S}=0 \\\\\n",
    "R = r\n",
    "$$ -->\n",
    "This is clearly $0$ when $R = r$, which returns $-A$"
   ]
  },
  {
   "cell_type": "markdown",
   "id": "514f8690",
   "metadata": {},
   "source": [
    "<div style=\"background-color:PaleGreen;color:black;padding:2%;\">\n",
    "\n",
    "1c $r_e = R$, so  $U(x) = A\\left[ \\left(e^{-x/S}-1\\right)^2-1\\right]$\n",
    "\n",
    "$$\n",
    "U'(0) = \\frac{2A}{S}e^{0/S}(e^{0/S}-1) = 0\\\\\n",
    "U''(0) = \\frac{-2A}{S}e^{0/S}(e^{0/S}-2)=\\frac{2A}{S}\\\\\n",
    "U(x) = -A  + \\frac{2A}{S} x^2\n",
    "$$"
   ]
  },
  {
   "cell_type": "markdown",
   "id": "42f2cb1d",
   "metadata": {},
   "source": [
    "<div style=\"background-color:PaleGreen;color:black;padding:2%;\">\n",
    "\n",
    "1d $U_s  = \\frac{1}{2}kx^2,$ so $ k = \\frac{4A}{S}$\n",
    "\n",
    "For springs $\\omega = \\sqrt{\\frac{k}{m}}$ and $f = \\frac{2\\pi}{\\omega}=2\\pi\\sqrt{\\frac{m}{k}},$ yielding\n",
    "\n",
    "$$\n",
    "f(m) =  2\\pi \\sqrt{\\frac{Sm}{4A}}= \\pi\\sqrt{Sm/A} \n",
    "$$"
   ]
  },
  {
   "cell_type": "markdown",
   "id": "64396455",
   "metadata": {},
   "source": [
    "### Exercise 2 (10pt), Simple Pendulum as an SHO\n",
    "\n",
    "Consider a pendulum of length $L$ and mass $m$. It can swing back and forth in a plane, under the influence of gravity. The pendulum is designed so that it can swing through a full circle.\n",
    "\n",
    "* 2a (3pt) Draw the free-body diagram for the pendulum, and write the equations of motion.\n",
    "* 2b (3pt) Find the potential energy of the pendulum as a function of the angle $\\phi$ it makes with the vertical. (Choose the zero of potential energy to be at the bottom of the pendulum's swing.)\n",
    "* 2c (4pt) For small angles, show the potential reduces to an SHO. What is the effective spring constant, $k$, for the potential near the minimum? What is the frequency of small oscillations about the minimum?"
   ]
  },
  {
   "cell_type": "markdown",
   "id": "986a6461",
   "metadata": {},
   "source": [
    "### Exercise 3 (10pt), Time Averaging and the SHO\n",
    "\n",
    "Time Averaging is a common tool to use with periodic systems. It also us to discuss what happens to different properties of the system over one period.\n",
    "\n",
    "An SHO has a period $\\tau$. We can find the time average of a variable $f(t)$ over one period, $\\langle f \\rangle$, by averaging over the period,\n",
    "\n",
    "$$\\langle f \\rangle = \\frac{1}{\\tau}\\int_0^\\tau f(t)dt$$\n",
    "\n",
    "* 3a (2pt) Show that the time average of the position of the SHO is zero.\n",
    "* 3b (2pt) Show that the time average of the velocity of the SHO is zero.\n",
    "* 3c (6pt) Show that the time average of the kinetic energy of the SHO is equal to the time average of the potential energy (and importantly, non-zero).  If the total energy is $E$, these time averages are equal to $E/2$. You might need to show that the very useful trigonometric identity,\n",
    "\n",
    "$$\\langle \\sin^2(\\omega t-\\delta)\\rangle = \\langle \\cos^2(\\omega t-delta)\\rangle = \\frac{1}{2}$$"
   ]
  },
  {
   "cell_type": "markdown",
   "id": "4745369c",
   "metadata": {},
   "source": [
    "### Exercise 4 (10pt), Toy Potential\n",
    "\n",
    "Consider a toy potential of the form,\n",
    "\n",
    "$$U(r) = U_0\\left(\\dfrac{r}{R}+\\lambda^2\\frac{R}{r}\\right)$$\n",
    "\n",
    "where $U_0$, $R$, and $\\lambda$ are all positive constants and the domain of the potential is $0<r<\\infty$. \n",
    "\n",
    "* 4a (2pt) Sketch (or plot) the potential as a function of $r$.\n",
    "* 4b (3pt) Find the equilibrium position of the potential, i.e. the position where the potential is at a minimum. We will call this $r_e$.\n",
    "* 4c (5pt) Rewrite the potential in terms of the displacement from equilibrium, $r = r_e + x$. Expand the potential to second order in $x$. What is the effective spring constant, $k$, for the potential near the minimum? What is the frequency of small oscillations about the minimum?"
   ]
  },
  {
   "cell_type": "markdown",
   "id": "683ea31a",
   "metadata": {},
   "source": [
    "### Exercise 5 (10pt), Defining Periodicity\n",
    "\n",
    "A common issue with oscillators is determining their periodicity. For the SHO, we can show that the period is $2\\pi/\\omega_0$ where $\\omega_0$ is the natural frequency of the SHO. How might we define a periodicity more generally? Let's start with the damped harmonic oscillator. Consider a weakly damped oscillator ($\\beta < \\omega_0$). The motion of the oscillator is given by,\n",
    "\n",
    "$$x(t) = A e^{-\\beta t}\\cos(\\omega_1 t - \\delta)$$\n",
    "\n",
    "where $A$ is the amplitude, $\\beta$ is the damping constant, $\\omega_1 = \\sqrt{\\omega_0^2 - \\beta^2}$  and $\\delta$ is the phase.\n",
    "\n",
    "The motion decays with time, but we can still define a periodicity, $\\tau_1$, which is the time between peaks in the motion.\n",
    "\n",
    "* 5a (4pt) Sketch (or plot) the motion of the oscillator as a function of time. Show that you can find $\\tau_1 = 2\\pi/omega_1$ from looking at successive maxima.\n",
    "* 5b (3pt) Show that an equivalent definition of $\\tau_1$ is twice the time between zero crossings of the motion.\n",
    "* 5c (3pt) If the damping $\\beta$ is half the natural frequency ($\\omega_0$), how does the amplitude of the motion decay in one period?"
   ]
  },
  {
   "cell_type": "markdown",
   "id": "e311b684",
   "metadata": {},
   "source": [
    "### Exercise 6 (50 pt), Find your own 1D Oscillator\n",
    "\n",
    "We have built all the tools to study 1D unforced oscillators. Now you get to pick your own potential and study it. You can pick any 1D potential you like, but it should have a local minimum. Make sure it is not a driven oscillator (i.e., no explicit time dependence in the equations of motion). To earn full credit for this exercise, you must:\n",
    "\n",
    "* 6a (5pt) Present the potential and describe its origin, why it is interesting, where it comes from, etc. Educate us about it.\n",
    "* 6b (5pt) Sketch (or plot) the potential as a function of it's argument (and chosen variables) and find the equilibrium position of the potential, i.e. the position where the potential is at a minimum. \n",
    "* 6c (10pt) Rewrite the potential in terms of the displacement from equilibrium. Expand the potential to second order to find the effective spring constant, $k$, for the potential near the minimum. What is the frequency of small oscillations about the minimum?\n",
    "* 6d (10pt) Construct the equations of motion for the potential and solve them numerically. Choose initial conditions and parameters that give oscillatory motion. Note it doesn't have to be SHO (In fact, it probably won't be). Plot the position as a function of time. Make sure we can see the oscillations.\n",
    "* 6e (10pt) Plot the phase diagram of the trajectory (you don't have to produce a phase diagram, but just plot the trajectory in phase space). What does the phase diagram tell you about the motion?\n",
    "* 6f (10pt) Find the period of your motion. Here you might have to make some definitions of what periodicity means for your potential.\n",
    "\n",
    "\n",
    "#### Examples of 1D potentials\n",
    "\n",
    "1. **Simple Pendulum (Nonlinear Small Angle Approximation)**:\n",
    "   - Potential: $ V(\\theta) = mgh(1 - \\cos(\\theta)) $, where $m$ is the mass, $g$ is the acceleration due to gravity, $h$ is the length of the pendulum, and $\\theta$ is the angular displacement.\n",
    "2. **Nonlinear Spring (Hardening or Softening)**:\n",
    "   - Potential: $ V(x) = \\frac{k}{2} x^2 + \\frac{\\beta}{3} x^3 $, where $k$ and $\\beta$ are constants. Depending on the sign of $\\beta$, the spring can exhibit hardening ($\\beta > 0$) or softening ($\\beta < 0$) nonlinearity.\n",
    "3. **Lennard-Jones Potential Oscillator** (for a diatomic molecule model):\n",
    "   - Potential: $ V(r) = 4\\epsilon \\left[ \\left(\\frac{\\sigma}{r}\\right)^{12} - \\left(\\frac{\\sigma}{r}\\right)^6 \\right] $, where $\\epsilon$ is the depth of the potential well, $\\sigma$ is the finite distance at which the inter-particle potential is zero, and $r$ is the distance between particles.\n",
    "4. **Morse Potential (for molecular vibrations)**:\n",
    "   - Potential: $ V(x) = D_e \\left(1 - e^{-a(x - x_0)}\\right)^2 $, where $D_e$ is the depth of the potential well, $a$ is a constant related to the width of the well, $x$ is the displacement from equilibrium, and $x_0$ is the equilibrium bond length. This potential models the energy of a diatomic molecule as a function of the distance between atoms, showing oscillatory behavior that represents molecular vibrations.\n",
    "5. **Double Well Potential**:\n",
    "   - Potential: $ V(x) = -\\frac{\\mu}{2} x^2 + \\frac{\\lambda}{4} x^4 $, where $\\mu$ and $\\lambda$ are positive constants. This system exhibits bistability with two stable equilibria, leading to interesting nonlinear dynamics and potential oscillations between the wells under certain conditions."
   ]
  },
  {
   "cell_type": "markdown",
   "id": "828fd56f",
   "metadata": {
    "editable": true
   },
   "source": [
    "### Extra Credit - Integrating Classwork With Research\n",
    "\n",
    "This opportunity will allow you to earn up to 5 extra credit points on a Homework per week. These points can push you above 100% or help make up for missed exercises.\n",
    "In order to earn all points you must:\n",
    "\n",
    "1. Attend an MSU research talk (recommended research oriented Clubs is  provided below)\n",
    "\n",
    "2. Summarize the talk using at least 150 words\n",
    "\n",
    "3. Turn in the summary along with your Homework.\n",
    "\n",
    "Approved talks:\n",
    "Talks given by researchers through the following clubs:\n",
    "* Research and Idea Sharing Enterprise (RAISE)​: Meets Wednesday Nights Society for Physics Students (SPS)​: Meets Monday Nights\n",
    "\n",
    "* Astronomy Club​: Meets Monday Nights\n",
    "\n",
    "* Facility For Rare Isotope Beam (FRIB) Seminars: ​Occur multiple times a week"
   ]
  },
  {
   "cell_type": "markdown",
   "id": "7daedeb1",
   "metadata": {},
   "source": []
  }
 ],
 "metadata": {
  "kernelspec": {
   "display_name": "Python 3",
   "language": "python",
   "name": "python3"
  },
  "language_info": {
   "codemirror_mode": {
    "name": "ipython",
    "version": 3
   },
   "file_extension": ".py",
   "mimetype": "text/x-python",
   "name": "python",
   "nbconvert_exporter": "python",
   "pygments_lexer": "ipython3",
   "version": "3.10.13"
  }
 },
 "nbformat": 4,
 "nbformat_minor": 5
}
