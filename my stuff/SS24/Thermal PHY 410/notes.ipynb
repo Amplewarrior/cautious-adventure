{
 "cells": [
  {
   "cell_type": "markdown",
   "metadata": {},
   "source": [
    "# Thermal Physics"
   ]
  },
  {
   "cell_type": "markdown",
   "metadata": {},
   "source": [
    "Introductory info <br>\n",
    "Basics of entropy.\n",
    "\n",
    "- It adds $\\sigma = \\sigma _1 + \\sigma _2$\n",
    "- Two types, practical and ideal, $S = k_b\\sigma$. Practical/conventional is related to energy (joules), real world stuff, etc., while $\\sigma$ is the math backbone\n",
    "- Backbone in number of states,  $\\sigma = \\log g $\n",
    "- $\\exp ( \\sigma ) = g, $ g is number of systems, $\\sigma _1 + \\sigma _2 =  \\log (g_1 g_2)$\n",
    "\n",
    "Temperature, energy, and entropy\n",
    "$$ \\dfrac{1}{\\tau} \\equiv (\\dfrac{\\partial \\sigma}{\\partial U})_{N,V}$$"
   ]
  },
  {
   "cell_type": "code",
   "execution_count": null,
   "metadata": {},
   "outputs": [],
   "source": []
  }
 ],
 "metadata": {
  "language_info": {
   "name": "python"
  }
 },
 "nbformat": 4,
 "nbformat_minor": 2
}
