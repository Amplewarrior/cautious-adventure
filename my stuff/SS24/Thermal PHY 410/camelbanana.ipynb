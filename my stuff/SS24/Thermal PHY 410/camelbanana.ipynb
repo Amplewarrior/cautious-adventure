{
 "cells": [
  {
   "cell_type": "markdown",
   "metadata": {},
   "source": [
    "# Banana Camel\n",
    "3000 Bananas\n",
    "1000 kilometers\n",
    "1 camel"
   ]
  },
  {
   "cell_type": "code",
   "execution_count": 1,
   "metadata": {},
   "outputs": [],
   "source": [
    "import numpy as np"
   ]
  },
  {
   "cell_type": "markdown",
   "metadata": {},
   "source": [
    "## attempt #1"
   ]
  },
  {
   "cell_type": "code",
   "execution_count": 26,
   "metadata": {},
   "outputs": [
    {
     "data": {
      "text/plain": [
       "array([0., 0., 0., ..., 0., 0., 0.])"
      ]
     },
     "execution_count": 26,
     "metadata": {},
     "output_type": "execute_result"
    }
   ],
   "source": [
    "distance = np.zeros((1001))\n",
    "distance[:]"
   ]
  },
  {
   "cell_type": "code",
   "execution_count": 29,
   "metadata": {},
   "outputs": [
    {
     "data": {
      "text/plain": [
       "array([3000.,    0.,    0., ...,    0.,    0.,    0.])"
      ]
     },
     "execution_count": 29,
     "metadata": {},
     "output_type": "execute_result"
    }
   ],
   "source": [
    "initial_bananas = 3000\n",
    "distance[0] = initial_bananas\n",
    "distance"
   ]
  },
  {
   "cell_type": "code",
   "execution_count": 32,
   "metadata": {},
   "outputs": [],
   "source": [
    "max_bananas = 1000\n",
    "def camel(x1,x2, field, maxbna = max_bananas):\n",
    "    newfield = field.copy()\n",
    "    source_bna = field[x1]\n",
    "    result_bna = field[x2]\n",
    "\n",
    "    transfer = min(source_bna,max_bananas)\n",
    "    \n",
    "    newfield[x1] = source_bna - transfer\n",
    "    newfield[x2] = result_bna + transfer - abs(x2-x1)\n",
    "    \n",
    "    return newfield"
   ]
  },
  {
   "cell_type": "code",
   "execution_count": null,
   "metadata": {},
   "outputs": [],
   "source": [
    "def carry_all(x1,x2,field):\n",
    "    newfield = field.copy()\n",
    "    while newfield[x1] > 0:\n",
    "        camel(x1,x2)"
   ]
  },
  {
   "cell_type": "code",
   "execution_count": 33,
   "metadata": {},
   "outputs": [
    {
     "data": {
      "text/plain": [
       "array([2000.,  999.,    0., ...,    0.,    0.,    0.])"
      ]
     },
     "execution_count": 33,
     "metadata": {},
     "output_type": "execute_result"
    }
   ],
   "source": [
    "camel(0,1, distance)"
   ]
  },
  {
   "cell_type": "markdown",
   "metadata": {},
   "source": [
    "## attempt #2\n",
    "The camel has a definite location, so we'll keep a track of its location"
   ]
  },
  {
   "cell_type": "code",
   "execution_count": 3,
   "metadata": {},
   "outputs": [],
   "source": [
    "import numpy as np"
   ]
  },
  {
   "cell_type": "code",
   "execution_count": 18,
   "metadata": {},
   "outputs": [],
   "source": [
    "camel_location = 0\n",
    "camel_max = 1000\n",
    "initial_bananas = 3000\n",
    "\n",
    "board_initial = np.zeros(1001)\n",
    "board_initial[0] = initial_bananas\n",
    "\n",
    "board = np.array([board_initial])\n",
    "\n",
    "#Example of time-step\n",
    "#board2 = board_initial.copy()\n",
    "#board2[1] = 69420\n",
    "#\n",
    "#result_board = np.concatenate((board, [board2]))\n",
    "#result_board"
   ]
  },
  {
   "cell_type": "code",
   "execution_count": 70,
   "metadata": {},
   "outputs": [],
   "source": [
    "def move_camel(x1,board,move_bnas = camel_max):\n",
    "    newboard = board.copy()\n",
    "    consume = abs(camel_location-x1)\n",
    "\n",
    "    transfer = max(min(newboard[camel_location],move_bnas),consume)\n",
    "    newboard[camel_location] -= transfer\n",
    "    newboard[x1] += transfer - consume\n",
    "    return newboard, x1"
   ]
  },
  {
   "cell_type": "code",
   "execution_count": 73,
   "metadata": {},
   "outputs": [
    {
     "name": "stdout",
     "output_type": "stream",
     "text": [
      "[[3000.    0.    0. ...    0.    0.    0.]\n",
      " [2000.  999.    0. ...    0.    0.    0.]\n",
      " [2000.  998.    0. ...    0.    0.    0.]\n",
      " [1000. 1997.    0. ...    0.    0.    0.]\n",
      " [1000. 1996.    0. ...    0.    0.    0.]\n",
      " [   0. 2995.    0. ...    0.    0.    0.]]\n"
     ]
    }
   ],
   "source": [
    "camel_location = 0\n",
    "camel_max = 1000\n",
    "initial_bananas = 3000\n",
    "\n",
    "board_initial = np.zeros(1001)\n",
    "board_initial[0] = initial_bananas\n",
    "\n",
    "board = np.array([board_initial])\n",
    "\n",
    "commands = [(1,1000),(0,0),(1,1000),(0,0),(1,1000)]\n",
    "\n",
    "for step, i in enumerate(commands):\n",
    "    location, amount = i\n",
    "    newstate, camel_location = move_camel(location,board[step],amount)\n",
    "    board = np.concatenate((board,[newstate]),axis=0)\n",
    "\n",
    "print(board)\n",
    "\n",
    "\n"
   ]
  },
  {
   "cell_type": "markdown",
   "metadata": {},
   "source": [
    "Great! Now we've got the premise down. We just need to create our algorithm"
   ]
  },
  {
   "cell_type": "code",
   "execution_count": 99,
   "metadata": {},
   "outputs": [],
   "source": [
    "camel_location = 0\n",
    "camel_max = 1000\n",
    "initial_bananas = 3000\n",
    "\n",
    "board_initial = np.zeros(1001)\n",
    "board_initial[0] = initial_bananas\n",
    "\n",
    "board = np.array([board_initial])\n",
    "\n",
    "step = 0\n",
    "for i in range(len(board[0])-1):\n",
    "    #print(step,i,camel_location,'\\n',board)        \n",
    "    newstate, camel_location = move_camel(i+1,board[step],camel_max)\n",
    "    board = np.concatenate((board,[newstate]),axis=0)\n",
    "    step += 1\n",
    "    while board[step,i] > 0:\n",
    "        #print(step,i,camel_location,'\\n',board)\n",
    "        newstate, camel_location = move_camel(i,board[step],0)\n",
    "        board = np.concatenate((board,[newstate]),axis=0)\n",
    "        step += 1\n",
    "        #print(step,i,camel_location,'\\n',board)        \n",
    "        newstate, camel_location = move_camel(i+1,board[step],camel_max)\n",
    "        board = np.concatenate((board,[newstate]),axis=0)\n",
    "        step += 1\n",
    "        \n",
    "\n",
    "        \n",
    "\n"
   ]
  },
  {
   "cell_type": "code",
   "execution_count": 100,
   "metadata": {},
   "outputs": [
    {
     "data": {
      "text/plain": [
       "array([[3000.,    0.,    0., ...,    0.,    0.,    0.],\n",
       "       [2000.,  999.,    0., ...,    0.,    0.,    0.],\n",
       "       [2000.,  998.,    0., ...,    0.,    0.,    0.],\n",
       "       ...,\n",
       "       [   0.,    0.,    0., ...,  534.,    0.,    0.],\n",
       "       [   0.,    0.,    0., ...,    0.,  533.,    0.],\n",
       "       [   0.,    0.,    0., ...,    0.,    0.,  532.]])"
      ]
     },
     "execution_count": 100,
     "metadata": {},
     "output_type": "execute_result"
    }
   ],
   "source": [
    "board"
   ]
  },
  {
   "cell_type": "markdown",
   "metadata": {},
   "source": [
    "Alright, now all that's left is plotting!"
   ]
  }
 ],
 "metadata": {
  "kernelspec": {
   "display_name": "Python 3",
   "language": "python",
   "name": "python3"
  },
  "language_info": {
   "codemirror_mode": {
    "name": "ipython",
    "version": 3
   },
   "file_extension": ".py",
   "mimetype": "text/x-python",
   "name": "python",
   "nbconvert_exporter": "python",
   "pygments_lexer": "ipython3",
   "version": "3.11.8"
  }
 },
 "nbformat": 4,
 "nbformat_minor": 2
}
