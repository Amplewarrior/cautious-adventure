{
 "cells": [
  {
   "cell_type": "markdown",
   "metadata": {},
   "source": [
    "# Ordinary Differential Equations\n",
    "1.1 history of difeq\n",
    "\n",
    "In the beginning, Newton started Calculus 1665 <br>\n",
    "also In the beginning, Leibnitz started Calculus 1675"
   ]
  },
  {
   "cell_type": "markdown",
   "metadata": {},
   "source": [
    "## Chapter 1 - First Order"
   ]
  },
  {
   "cell_type": "markdown",
   "metadata": {},
   "source": [
    "Normal form $y'(t) = f(t,y(t),...)$\n",
    "\n",
    "[A] $y'(t) = c_0 y(t) \\rightarrow y(t) = c_1 e^{c_0 t}$\n",
    "\n",
    "[B] $y'(t) = \\sin(y(t))$"
   ]
  },
  {
   "cell_type": "markdown",
   "metadata": {},
   "source": [
    "IVP solve $y'(t)$ satisfying initial condition $y(t_0)=y_0$ \n",
    "\n",
    "Separable Eqs $y'(t) = \\dfrac{g(t)}{h(y)} $. These must have all $y$ terms multiplied by $y'$ (via $h(y)*y'$)\n",
    "\n",
    "ex. [A] $\\rightarrow g(t) = 1, h(y) = \\dfrac{1}{c_0 y}$\n",
    "\n",
    "This lets us have $h(y(t)) y'(t) = g(t)$"
   ]
  },
  {
   "cell_type": "markdown",
   "metadata": {},
   "source": [
    "Ex. $y'=-y^2 \\cos(2t)$ find for IC $y(0)=1/2$\n",
    "\n",
    "$$h(y) = \\dfrac{1}{y^2} $$ \n",
    "$$- \\int \\dfrac{1}{y^2} y'(t) dt = \\int \\cos(2t) dt $$\n",
    "rhs\n",
    "$$ = \\dfrac{1}{2} \\sin(2t) + c_0 $$\n",
    "now for the left\n",
    "$$y = y(t)$$\n",
    "$$dy = y'(t) dt$$\n",
    "this is why seperable is nice\n",
    "$$ - \\int \\dfrac{dy}{y^2} = 1/2 \\sin(2t)+c_0 $$\n",
    "$$\\dfrac{1}{y(t)} = 1/2 sin(2t) + c_1 $$"
   ]
  },
  {
   "cell_type": "markdown",
   "metadata": {},
   "source": [
    "Ultra-implicit form\n",
    "\n",
    "$$ \\int h(y(t)) y'(t) dt = \\int g(t)dt $$\n",
    "$$ h(y)dy = G(t) $$\n",
    "$$H(y) = G(t) + c_0 $$ \n",
    "and if H is invertible \n",
    "$$y(t) = H^{-1}(G(t) + c_0)$$"
   ]
  },
  {
   "cell_type": "markdown",
   "metadata": {},
   "source": [
    "next: Partial fractions"
   ]
  },
  {
   "cell_type": "markdown",
   "metadata": {},
   "source": [
    "### Day 2 - Linear Differential equations\n",
    "\n",
    "My laptop is dying. Dive 1, Textbook 1.4, practice problems, Hw2 1.2, Hw3 1.4 linear\n",
    "<br> this day is considered our recitation day\n",
    "\n",
    "Linear is 1.4. Covers constant coefficiends, varial coefficients, homgeneous and non homogenious.\n",
    "\n",
    "change of variables: replace $y(t)$ with $V(t) = \\dfrac{y(t)}{t}$\n",
    "\n",
    "$\\rightarrow y'  = {V^2 + V^3}{V}$"
   ]
  },
  {
   "cell_type": "markdown",
   "metadata": {},
   "source": [
    "Def. Linear <br>\n",
    "$y'(t) = a(t) y(t) + b(t)$. a, b given functions.\n",
    "\n",
    "Constant a,b are constant <br>\n",
    "Homogenious b(t)=0 <br>\n",
    "Nonhomogenious else\n",
    "\n",
    "Ex.\n",
    "\n",
    "$y' = \\dfrac {2}{t}y+t^3$ <br> not that this is the same as \n",
    "$\\dfrac{y'-t^3}{2y} = \\dfrac{1}{t}$ don't forget you need these in normal form"
   ]
  },
  {
   "cell_type": "markdown",
   "metadata": {},
   "source": [
    "### Exp. Groth Equation\n",
    "\n",
    "y'= \\gamma y, \\gamma > 0 \\rightarrow y = y_0 e^{\\gamma t}\n",
    "\n",
    "y'=\\gamma y, \\gamma < 0 \\rightarrow y = y_0 ln|\\gamma t| ?\n",
    "\n",
    "* constant coefficient\n",
    "y' = a_0 y + b_0 \\rightarrow seperable! \\rightarrow a_0,b_0 = constant\n",
    "\n",
    "y(t) = c_0 e^{a_0 t}-\\dfrac{b_0}{a_0}, c\\in \\mathbb{R}\n",
    "\n",
    "Initial condition y_0 = y(0) = c_0 - b_0/a_0 \\rightarrow c_0 = y_0 +b_0/a_0\n",
    "\n",
    "* bariable coefficients homogenious\n",
    "\n",
    "y'=a(t)y\n",
    "\n",
    "\\int \\dfrac{y'(t).H}{y(t)} = \\int a(t) dt\n",
    "\n",
    "\\int \\dfrac{dy}{y} = \\int a(t)dt \\rightarrow A(t)\n",
    "\n",
    "ln|y|+c_0 = A(t)\n",
    "\n",
    "|y| = e^{A(t)-C_0}\n",
    "\n",
    "y(t)=+- e^{-c_0}e^{A(t)}\n",
    "\n",
    "\\int y'(t)dt=\\int \\dfrac{2}{t}y(t)dtt+\\int t^3dt\n",
    "\n",
    "y(t)+c_1=\\int\\dfrac{2}{t}y(t)dt + \\dfrac{t^4}{4}+c_0"
   ]
  },
  {
   "cell_type": "markdown",
   "metadata": {},
   "source": [
    "So that doesn't work. Now we need leibnitz ~ 1690 <br>\n",
    "Use a different transformation to a total derivative (=0)!\n",
    "\n",
    "y'=a(t)y_b(t) \\rightarrow \\dfrac{d}{dt}\\Psi(t\\g)=0\n",
    "<br> introduce the integrating factor \\mu(t)"
   ]
  },
  {
   "cell_type": "markdown",
   "metadata": {},
   "source": [
    "$pf$\n",
    "\n",
    "$\n",
    "y'=a(t)y+b(t) \\\\\n",
    "\\mu(t) (y' - a(t) y) = b(t) \\mu(t) \\\\\n",
    "\\mu(t)y' - a(t)\\mu(t)y=b(t)\\mu(t)\n",
    "$\n",
    "\n",
    "Define \\mu such that a(t)\\mu(t) = t\\mu'(t)\n",
    "How?\n",
    "\n",
    "(\\mu(t)y(t))' = (\\int b(t)\\mu(t)dt)'\n",
    "d/dt(\\mu(t)y(t)-\\intb(t)\\mu(t)dt)=0\n",
    "\\rightarrow y(t) = \\dfrac{C_0}{\\mu(t)} + \\dfrac{1}{\\mu(t)}\\int b(t)\\mu(t)dt\n",
    "\n",
    "y(t) = C_0e^{A(t)}+e^{A(t)}\\int b(t)e^{-A(t)}dt"
   ]
  },
  {
   "cell_type": "markdown",
   "metadata": {},
   "source": [
    "Not seperable?\n",
    "a = 2/t A=ln(t^2)\n",
    "\\mu = e^{-A}=e^{-ln(t^2)}=\\dfrac{1}{t^2}\n",
    "1/t^2 y' - 2/t 1/t^2 y = t^3 / t^2\n",
    "\n",
    "1/t^2 - 2/t^3 y = t\n",
    "(1/t^2y)'=t => solve at home!\n"
   ]
  }
 ],
 "metadata": {
  "kernelspec": {
   "display_name": "Python 3",
   "language": "python",
   "name": "python3"
  },
  "language_info": {
   "codemirror_mode": {
    "name": "ipython",
    "version": 3
   },
   "file_extension": ".py",
   "mimetype": "text/x-python",
   "name": "python",
   "nbconvert_exporter": "python",
   "pygments_lexer": "ipython3",
   "version": "3.11.7"
  }
 },
 "nbformat": 4,
 "nbformat_minor": 2
}
