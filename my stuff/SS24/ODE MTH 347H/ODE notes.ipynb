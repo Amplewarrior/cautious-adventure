{
 "cells": [
  {
   "cell_type": "markdown",
   "metadata": {},
   "source": [
    "# Ordinary Differential Equations\n",
    "1.1 history of difeq\n",
    "\n",
    "In the beginning, Newton started Calculus 1665 <br>\n",
    "also In the beginning, Leibnitz started Calculus 1675"
   ]
  },
  {
   "cell_type": "markdown",
   "metadata": {},
   "source": [
    "## Chapter 1 - First Order"
   ]
  },
  {
   "cell_type": "markdown",
   "metadata": {},
   "source": [
    "Normal form $y'(t) = f(t,y(t),...)$\n",
    "\n",
    "[A] $y'(t) = c_0 y(t) \\rightarrow y(t) = c_1 e^{c_0 t}$\n",
    "\n",
    "[B] $y'(t) = \\sin(y(t))$"
   ]
  },
  {
   "cell_type": "markdown",
   "metadata": {},
   "source": [
    "IVP solve $y'(t)$ satisfying initial condition $y(t_0)=y_0$ \n",
    "\n",
    "Separable Eqs $y'(t) = \\dfrac{g(t)}{h(y)} $. These must have all $y$ terms multiplied by $y'$ (via $h(y)*y'$)\n",
    "\n",
    "ex. [A] $\\rightarrow g(t) = 1, h(y) = \\dfrac{1}{c_0 y}$\n",
    "\n",
    "This lets us have $h(y(t)) y'(t) = g(t)$"
   ]
  },
  {
   "cell_type": "markdown",
   "metadata": {},
   "source": [
    "Ex. $y'=-y^2 \\cos(2t)$ find for IC $y(0)=1/2$\n",
    "\n",
    "$$h(y) = \\dfrac{1}{y^2} $$ \n",
    "$$- \\int \\dfrac{1}{y^2} y'(t) dt = \\int \\cos(2t) dt $$\n",
    "rhs\n",
    "$$ = \\dfrac{1}{2} \\sin(2t) + c_0 $$\n",
    "now for the left\n",
    "$$y = y(t)$$\n",
    "$$dy = y'(t) dt$$\n",
    "this is why seperable is nice\n",
    "$$ - \\int \\dfrac{dy}{y^2} = 1/2 \\sin(2t)+c_0 $$\n",
    "$$\\dfrac{1}{y(t)} = 1/2 sin(2t) + c_1 $$"
   ]
  },
  {
   "cell_type": "markdown",
   "metadata": {},
   "source": [
    "Ultra-implicit form\n",
    "\n",
    "$$ \\int h(y(t)) y'(t) dt = \\int g(t)dt $$\n",
    "$$ h(y)dy = G(t) $$\n",
    "$$H(y) = G(t) + c_0 $$ \n",
    "and if H is invertible \n",
    "$$y(t) = H^{-1}(G(t) + c_0)$$"
   ]
  },
  {
   "cell_type": "markdown",
   "metadata": {},
   "source": [
    "next: Partial fractions"
   ]
  }
 ],
 "metadata": {
  "kernelspec": {
   "display_name": "Python 3",
   "language": "python",
   "name": "python3"
  },
  "language_info": {
   "codemirror_mode": {
    "name": "ipython",
    "version": 3
   },
   "file_extension": ".py",
   "mimetype": "text/x-python",
   "name": "python",
   "nbconvert_exporter": "python",
   "pygments_lexer": "ipython3",
   "version": "3.11.7"
  }
 },
 "nbformat": 4,
 "nbformat_minor": 2
}
