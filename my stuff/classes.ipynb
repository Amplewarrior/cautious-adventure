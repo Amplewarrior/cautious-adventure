{
 "cells": [
  {
   "cell_type": "code",
   "execution_count": 15,
   "metadata": {},
   "outputs": [
    {
     "data": {
      "text/html": [
       "<h1>Hello, World!!</h1>"
      ],
      "text/plain": [
       "<IPython.core.display.HTML object>"
      ]
     },
     "metadata": {},
     "output_type": "display_data"
    }
   ],
   "source": [
    "from urllib.request import urlopen\n",
    "from IPython.display import display, HTML\n",
    "from IPython.display import IFrame\n",
    "\n",
    "\n",
    "display(HTML('<h1>Hello, World!!</h1>'))"
   ]
  },
  {
   "cell_type": "markdown",
   "metadata": {},
   "source": [
    "okay heres what we got\n",
    "\n",
    "### Calc 4\n",
    "1 pager\n",
    "\n",
    "###  __[Quantum](https://d2l.msu.edu/d2l/home/1799729)__ \n",
    "(due sep 6)\n",
    "\n",
    "### __[E&M](https://d2l.msu.edu/d2l/home/1799727)__ \n",
    "(due sep 3)\n",
    "\n",
    "### __[CMSE 201](https://msu-cmse-courses.github.io/cmse201-F23-jb/intro.html)__\n",
    "Preclasses due t/th daily. \n",
    "\n",
    "### __[Classical](https://people.nscl.msu.edu/~pratt/phy321/index.html)__ \n",
    "<br> __[Lecture notes](https://people.nscl.msu.edu/~pratt/phy321/lectures/lectures.pdf)__\n",
    "\n",
    "### Labs\n",
    "idk\n",
    "\n",
    "### Research\n",
    "fuck\n",
    "\n",
    "## New classes\n",
    "shit fuck\n",
    "\n",
    "## sleep\n",
    "for the weak"
   ]
  },
  {
   "cell_type": "code",
   "execution_count": 2,
   "metadata": {},
   "outputs": [],
   "source": [
    "class PDF(object):\n",
    "  def __init__(self, pdf, size=(200,200)):\n",
    "    self.pdf = pdf\n",
    "    self.size = size\n",
    "\n",
    "  def _repr_html_(self):\n",
    "    return '<iframe src={0} width={1[0]} height={1[1]}></iframe>'.format(self.pdf, self.size)\n",
    "\n",
    "  def _repr_latex_(self):\n",
    "    return r'\\includegraphics[width=1.0\\textwidth]{{{0}}}'.format(self.pdf)"
   ]
  },
  {
   "cell_type": "code",
   "execution_count": null,
   "metadata": {},
   "outputs": [],
   "source": [
    "PDF()"
   ]
  },
  {
   "cell_type": "markdown",
   "metadata": {},
   "source": [
    "list of important things for the week of 9/4/23\n",
    "-> try to run into giuliani Friday\n",
    "-> try to meet with Scott Pratt about dropping the class and research?\n",
    "-> hang out with Birge tuesday\n",
    "-> meet with wu about dropping the class\n",
    "-> sign up for 327H\n",
    "If you can get this list done, you're in pretty good running for actually becoming a physicist\n",
    "\n",
    "Stretch goals\n",
    "-> Suli?"
   ]
  }
 ],
 "metadata": {
  "kernelspec": {
   "display_name": "Python 3",
   "language": "python",
   "name": "python3"
  },
  "language_info": {
   "codemirror_mode": {
    "name": "ipython",
    "version": 3
   },
   "file_extension": ".py",
   "mimetype": "text/x-python",
   "name": "python",
   "nbconvert_exporter": "python",
   "pygments_lexer": "ipython3",
   "version": "3.11.5"
  },
  "orig_nbformat": 4
 },
 "nbformat": 4,
 "nbformat_minor": 2
}
