{
 "cells": [
  {
   "cell_type": "markdown",
   "metadata": {},
   "source": [
    "# Day 9 In-class Assignment: Exploring Great Lakes Water Levels using NumPy"
   ]
  },
  {
   "cell_type": "markdown",
   "metadata": {},
   "source": [
    "### <p style=\"text-align: right;\"> &#9989; Put your name here</p>\n",
    "\n",
    "#### <p style=\"text-align: right;\"> &#9989; Put names of your group members</p>"
   ]
  },
  {
   "cell_type": "markdown",
   "metadata": {},
   "source": [
    "In today's activity, were going to use NumPy and Matplotlib to interact with some data that pertains to the water levels of the Great Lakes. \n",
    "\n",
    "In recent years there have been some rapid changes in Great Lakes water levels that have led to flooding.  It has also driven speculation that such changes are driven by extreme precipitation events brought on by climate change. \n",
    "\n",
    "<img src=\"https://static01.nyt.com/newsgraphics/2021/05/24/chicago/a2fcf9e876edbc083fd69ac91ffd4a3a1ccde852/threat.jpg\" width=600px>\n",
    "\n",
    "**Today we will examine over 100 years of water level measurements** for each Great Lake, using data collected by the National Oceanic and Atmospheric Administration (NOAA).  You can find this dataset here: [https://www.glerl.noaa.gov/data/wlevels/#observations](https://www.glerl.noaa.gov/data/wlevels/#observations).  This also gives us an opportunity to practice working with `numpy` arrays and `matplotlib`!"
   ]
  },
  {
   "cell_type": "markdown",
   "metadata": {},
   "source": [
    "## Learning Goals:\n",
    "\n",
    "By the end of this assignment you should be able to:\n",
    "\n",
    "* Load data using NumPy so that you can visualize it using matplotlib\n",
    "* Work with NumPy \"array\" objects to compute simple statistics using built-in NumPy functions.\n",
    "* Use NumPy and matplotlib to look for correlation in data\n",
    "---"
   ]
  },
  {
   "cell_type": "markdown",
   "metadata": {},
   "source": [
    "## Part 1: Using NumPy to explore the water level history of the Great Lakes"
   ]
  },
  {
   "cell_type": "code",
   "execution_count": null,
   "metadata": {},
   "outputs": [],
   "source": [
    "# Although there are some exceptions, it is generally a good idea to keep all of your\n",
    "# imports in one place so that you can easily manage them. Doing so also makes it easy\n",
    "# to copy all of them at once and paste them into a new notebook you are starting.\n",
    "\n",
    "# Bring in NumPy and Matplotlib\n",
    "import numpy as np\n",
    "import matplotlib.pyplot as plt"
   ]
  },
  {
   "cell_type": "markdown",
   "metadata": {},
   "source": [
    "To use this notebook for your in-class assignment, you will need these files:\n",
    "* `lake_michigan_huron.csv`\n",
    "* `lake_superior.csv`\n",
    "* `lake_erie.csv`\n",
    "* `lake_ontario.csv`\n",
    "\n",
    "These files are supplied along with this notebook on the course website. You will read data from those files and it is important that the files are in the same place as the Jupyter notebook on your computer. Work with other members of your group to be sure everyone knows where the files are. \n",
    "\n",
    "* Take a moment to look at the contents of these files with an editor on your computer.  For example, `*.csv` files open with Excel or, even better, look at it with a simple text editor like NotePad or TextEdit or just try opening it inside your Jupyter Notebook interface."
   ]
  },
  {
   "cell_type": "markdown",
   "metadata": {},
   "source": [
    "As you saw in the pre-class assignment, you can use the command below to load in the data."
   ]
  },
  {
   "cell_type": "code",
   "execution_count": null,
   "metadata": {},
   "outputs": [],
   "source": [
    "# use NumPy to read data from a csv file\n",
    "# second, better example of loadtxt()\n",
    "mhu_date, mhu_level = np.loadtxt(\"lake_michigan_huron.csv\", usecols = [0,1], unpack=True, delimiter=',') # example for the lake_michigan_huron.csv file"
   ]
  },
  {
   "cell_type": "markdown",
   "metadata": {},
   "source": [
    "Once you have your data, it is always a good idea to look at some of it to be sure it is what you think it is. You could use a print statement, or just type the variable name in an empty cell."
   ]
  },
  {
   "cell_type": "code",
   "execution_count": null,
   "metadata": {},
   "outputs": [],
   "source": [
    "mhu_date"
   ]
  },
  {
   "cell_type": "markdown",
   "metadata": {},
   "source": [
    "&#9989;&nbsp; What do you think this data represents?"
   ]
  },
  {
   "cell_type": "markdown",
   "metadata": {},
   "source": [
    "<font color=\"green\" size=\"+3\">&#9998;</font> *Put your answer here*"
   ]
  },
  {
   "cell_type": "markdown",
   "metadata": {},
   "source": [
    "&#9989;&nbsp; Next, write some code in this cell to read the data from the other files. Use descriptive variable names to store the results."
   ]
  },
  {
   "cell_type": "code",
   "execution_count": null,
   "metadata": {},
   "outputs": [],
   "source": [
    "# Read in data from the remaining files.\n",
    "\n",
    "# Print some of the values coming in from the files to ensure they look fine.\n"
   ]
  },
  {
   "cell_type": "markdown",
   "metadata": {},
   "source": [
    "&#9989;&nbsp; **Question**: Before you move on, what is the variable type of the lake data you've loaded? Use the `type()` function to check on the `mhu_date` and `mhu_level` variables. Does this match your expectations?"
   ]
  },
  {
   "cell_type": "markdown",
   "metadata": {},
   "source": [
    "<font color=\"green\" size=\"+3\">&#9998;</font> *Put your answer here*"
   ]
  },
  {
   "cell_type": "markdown",
   "metadata": {},
   "source": [
    "___\n",
    "## Part 2: Descriptive Statistics of Data Sets\n",
    "___\n",
    "\n",
    "&#9989;&nbsp; Now that you have read in the data, use NumPy's [statistics operations](https://numpy.org/doc/stable/reference/routines.statistics.html) from the pre-class to compare various properties of the water levels for all of the lakes.\n",
    "* mean\n",
    "* median\n",
    "* standard deviation\n"
   ]
  },
  {
   "cell_type": "markdown",
   "metadata": {},
   "source": [
    "### **2.1 Means and Medians**\n",
    "\n",
    "**What is the mean of a data set?**\n",
    "\n",
    "The **mean**, also referred to as the average, is calculated by adding up all of the observations in a data set, and dividing by the number of observations in the data set.\n",
    "\n",
    "$mean = \\frac{\\sum\\limits_{i=1}^{N} x_i}{N}$, $N$ = number of observations, $x_i$ = an observation\n",
    "\n",
    "More simply put,\n",
    "\n",
    "mean = sum of observations / number of observations\n",
    "\n",
    "The mean of a data set is useful because it provides a single number to describe a dataset that can be very large. However, **the mean is sensitive to outliers (observations that are far from the mean)**, so it is best suited for data sets where the observations are close together.\n",
    "\n",
    "**What is the median of a data set?**\n",
    "\n",
    "The **median** of a data set is the middle value of a data set, or the value that divides the data set into two halves. The median also requires the data to be sorted from least to greatest. If the number of observations is odd, then the median is the middle value of the data set. If the number of observations is even, then the median is the average of the two middle numbers.\n",
    "\n",
    "Unlike the mean, because the median is the midpoint of a data set, it is not strongly affected by a small number of outliers. "
   ]
  },
  {
   "cell_type": "markdown",
   "metadata": {},
   "source": [
    "### **Using numpy to Calculate Mean and Median**\n",
    "\n",
    "We can calculate the mean and median from scratch, but we are going to introduce one option for functions in Python that will do the calculations for you. Because the calculations of mean and median are so useful, many Python packages include a function to calculate them, but here we are going to use the calculations from numpy.\n",
    "\n",
    "The [documentation](https://numpy.org/doc/stable/reference/generated/numpy.mean.html) for numpy mean shows additional options, but the basic use is: \n",
    "\n",
    "`np.mean(data)`\n",
    "\n",
    "Similarly, the median is calculated by:\n",
    "\n",
    "`np.median(data)`\n",
    "\n",
    "**In the cell below, calculate the mean and median of the water level for each of the four lakes using the numpy functions.**"
   ]
  },
  {
   "cell_type": "code",
   "execution_count": null,
   "metadata": {},
   "outputs": [],
   "source": [
    "# Put your code here"
   ]
  },
  {
   "cell_type": "markdown",
   "metadata": {},
   "source": [
    "### **2.2 Calculating Standard Deviation**\n",
    "\n",
    "One way to describe the distribution of a data set is the **standard deviation**. The standard deviation is the square root of the **variance** of the data. The variance is a measure of how \"spread out\" the distribution of the data is. More specifically, it is the squared difference between a single observation in a data set from the mean. The standard deviation is often represented with the greek symbol sigma ($\\sigma$).\n",
    "\n",
    "Mathematically, the equation for standard deivation is:\n",
    "\n",
    "### $$ \\sigma = \\sqrt{\\frac{\\sum\\limits_{i=1}^{N} (x_{i}-\\mu)^2}{N}} $$\n",
    "\n",
    "where the symbols in this equation represent the following:\n",
    "\n",
    "* $\\sigma$: Standard Deviation\n",
    "* $\\mu$: Mean\n",
    "* $N$: Number of observations\n",
    "* $x_{i}$: the value of dataset at position $i$\n",
    "\n",
    "Similarly to `np.mean()` and `np.median()`, we can calculate the standard deviation and percentiles with numpy as follows:\n",
    "\n",
    "`np.std(data)`\n",
    "\n",
    "**In the cell below, calculate the standard deviation of the water level for each of the four lakes using the numpy function.**"
   ]
  },
  {
   "cell_type": "code",
   "execution_count": null,
   "metadata": {},
   "outputs": [],
   "source": [
    "# put your code here"
   ]
  },
  {
   "cell_type": "markdown",
   "metadata": {},
   "source": [
    "### 2.3 Visualizing the Data with matplotlib\n",
    "___\n",
    "&#9989;&nbsp; Now, let's see what is in the files by plotting the second column versus the first column using `matplotlib`. This means that the second column should go on the **y-axis** and the first column should go on the **x-axis**.\n",
    "\n",
    "**Do this for all of the files**.\n",
    "\n",
    "This is our first example of doing some (very simple!) data science - looking at some real data. As a reminder, the data came from [here](https://www.glerl.noaa.gov/data/wlevels/#observations); if you ever find data like this in the real world, you could build a notebook like this one to examine it. In fact, your projects at the end of the semester might be much larger versions of this. "
   ]
  },
  {
   "cell_type": "code",
   "execution_count": null,
   "metadata": {},
   "outputs": [],
   "source": [
    "# plot the water levels here\n"
   ]
  },
  {
   "cell_type": "markdown",
   "metadata": {},
   "source": [
    "Plots like this are not very useful. If you showed them to someone else they would have no idea what is in them. In fact, if *you* looked at them next week, you wouldn't remember what is in them. Let's use a little more `matplotlib` to make them of professional quality. There are two things that every plot should have: labels on each axis. And, there are many other options:\n",
    "* [grid](https://matplotlib.org/devdocs/api/_as_gen/matplotlib.pyplot.grid.html)\n",
    "* [title](https://matplotlib.org/devdocs/api/_as_gen/matplotlib.pyplot.title.html)\n",
    "* [markers](https://matplotlib.org/examples/lines_bars_and_markers/marker_reference.html)\n",
    "* [legend](https://matplotlib.org/users/legend_guide.html)\n",
    "* and many more we will see over time...\n",
    "\n",
    "&#9989;&nbsp; **First**, remake separate figures for each of the datasets you read in and include in the plots: $x$-axis labels, $y$-axis labels, grid lines, markers, and a title.\n",
    "\n",
    "&#9989;&nbsp;**Then**, make all of them in the *same* plot using the same formating techniques you used in the separate plots but also *add a legend*.\n",
    "\n",
    "We are not going to tell you how to do this directly! But, we're here to help you to figure it out. If you find yourself waiting for help from an instructor, you can also try using Google to answer your questions. Searching the internet for coding tips and tricks is a very common practice!\n",
    "\n",
    "The Python community also provides helpful resources: they have created a comprehensive gallery of just about any plot you can think of with an example *and the code that goes with it*. That gallery is [here](https://matplotlib.org/gallery.html) and you should be able to find many examples of how to make your plots look professional. (You just might want to bookmark that webpage.....)"
   ]
  },
  {
   "cell_type": "code",
   "execution_count": null,
   "metadata": {},
   "outputs": [],
   "source": [
    "# Put your code here to make each plot separately. You might need to create multiple notebook cells or use \"subplot\"\n",
    "# Make sure they are professionaly constructed using all of the options above.\n"
   ]
  },
  {
   "cell_type": "code",
   "execution_count": null,
   "metadata": {},
   "outputs": [],
   "source": [
    "# Make another plot here with all the data in the same plot and include a legend\n",
    "# It still might not be super useful, but at least with a legend you can tell which line is which!\n"
   ]
  },
  {
   "cell_type": "markdown",
   "metadata": {},
   "source": [
    "&#9989;&nbsp; **What observations about the data do you have?** **Are the lake levels higher or lower than they have been in the past? Put your answer here**:"
   ]
  },
  {
   "cell_type": "markdown",
   "metadata": {},
   "source": [
    "<font color=\"green\" size=\"+3\">&#9998;</font> In the data I see...."
   ]
  },
  {
   "cell_type": "markdown",
   "metadata": {},
   "source": [
    "___\n",
    "## Part 3: Looking for correlations in data (Time Permitting)\n",
    "___\n",
    "\n",
    "In the plots you have made so far you have plotted water levels versus time. This is fairly intuitive and corresponds to the way the data was given to us. Next, we are going to do something a little more abstract to seek correlations in the data, a standard goal in data science. As you have seen, there are a lot of fluctuations in the data - what do they tell us? For example, do the levels go up at certain times of year? In certain years that had more rain? Can we see evidence of global warming? While we won't answer these questions at this point, we can look for patterns across the lakes to see if the fluctations in levels might correspond to trends. To do this, we will plot the **level of one lake versus the level of another lake** (we will *not* plot either level against time). Note that we somewhat lose the time information because we aren't using that array anymore. \n",
    "\n",
    "&#9989;&nbsp; In the cell below, plot the **level of one lake versus the level of another lake (time should *not* be involved in your plot command)** - do this for several combinations. Put them in separate cells if you need to - otherwise each will be in the same plot, which might be less useful. (If you're feeling comfortable using [subplot](https://matplotlib.org/2.0.2/examples/pylab_examples/subplots_demo.html) feel free to use that.)"
   ]
  },
  {
   "cell_type": "code",
   "execution_count": null,
   "metadata": {},
   "outputs": [],
   "source": [
    "# add your plots here (with labels, titles, legend, grid)\n",
    "# what line type should you use? what are the best markers to use?\n"
   ]
  },
  {
   "cell_type": "code",
   "execution_count": null,
   "metadata": {},
   "outputs": [],
   "source": [
    "\n",
    "# next lake here, and so on.....\n"
   ]
  },
  {
   "cell_type": "markdown",
   "metadata": {},
   "source": [
    "&#9989;&nbsp; **In this cell**, write your observations. What do you observe about the lake levels? \n",
    "\n",
    "<font color=\"green\" size=\"+3\">&#9998;</font> I observed.....\n",
    "\n"
   ]
  },
  {
   "cell_type": "markdown",
   "metadata": {},
   "source": [
    "### 3.2 Pearson Correlation Coefficient with `np.corrcoef()`\n",
    "\n",
    "Now that you have made some qualitative observations of the water levels, we are going to explore how to **quantify** those observations. There are many ways to measure correlation, but we are going to use the **Pearson Correlation Coefficient** (also referred to as \"r\", \"$\\rho$\", or \"correlation coefficient\"). The Pearson Correlation Coefficient ranges from -1 to 1 and provides a measure of how dependent on one another your variables are. \n",
    "\n",
    "If the correlation coefficient is close to 1 or -1, then the correlation is strong, if it is close to zero, the correlation is weak. If the the correlation coefficient is negative, then the y values decrease as x increases. If the correlation coefficient is positive, then the y values increase as x increases. See the image below for a visualization of this!\n",
    "\n",
    "---\n",
    "![Correlation Coeficient Examples](https://upload.wikimedia.org/wikipedia/commons/thumb/3/34/Correlation_coefficient.png/800px-Correlation_coefficient.png).\n",
    "\n",
    "### Using `np.corrcoef()`\n",
    "\n",
    "To calculate the correlation coefficient, we are going to use another `numpy` function, [np.corrcoef](https://numpy.org/doc/stable/reference/generated/numpy.corrcoef.html). To use `np.corrcoef()`, you will call it with your x and y variables like this:\n",
    "\n",
    "`np.corrcoef(x,y)`\n",
    "\n",
    "It will return all of the possible correlation coefficients (including the data with itself) as an array."
   ]
  },
  {
   "cell_type": "markdown",
   "metadata": {},
   "source": [
    "&#9989;&nbsp; In the cell(s) below, choose two of the plots you made in the beginning of Part 3 and calculate the correlation coefficient on the data from each plot. Were there any differences between your qualitative observations and your quantitative calculations?"
   ]
  },
  {
   "cell_type": "code",
   "execution_count": null,
   "metadata": {},
   "outputs": [],
   "source": [
    "# put your code here\n"
   ]
  },
  {
   "cell_type": "markdown",
   "metadata": {},
   "source": [
    "<font size=\"+3\" color=\"green\">&#9998;</font> I observed....."
   ]
  },
  {
   "cell_type": "markdown",
   "metadata": {},
   "source": [
    "___\n",
    "# ASIDE: Saving Plots\n",
    "___\n",
    "Finally, you will need to use your plots for something. In your other classes and labs you often will need to make plots for your assignments and lab reports - now is the time to start using Python for that! Modify the code above to write the plot into a file in PNG format. Here are a couple of examples for how you can save files as a PNG file and as a PDF file:\n",
    "\n",
    "`plt.savefig('foo.png')`\n",
    "\n",
    "`plt.savefig('foo.pdf')`\n",
    "\n",
    "**Put your name in the filename** so that we can keep track of your work."
   ]
  },
  {
   "cell_type": "markdown",
   "metadata": {},
   "source": [
    "---\n",
    "## Assignment wrapup\n",
    "\n",
    "Please fill out the form that appears when you run the code below. **You must completely fill this out in order to receive credit for the assignment!** "
   ]
  },
  {
   "cell_type": "code",
   "execution_count": null,
   "metadata": {},
   "outputs": [],
   "source": [
    "from IPython.display import HTML\n",
    "HTML(\n",
    "\"\"\"\n",
    "<iframe \n",
    "\tsrc=\"https://cmse.msu.edu/cmse201-ic-survey\" \n",
    "\twidth=\"800px\" \n",
    "\theight=\"600px\" \n",
    "\tframeborder=\"0\" \n",
    "\tmarginheight=\"0\" \n",
    "\tmarginwidth=\"0\">\n",
    "\tLoading...\n",
    "</iframe>\n",
    "\"\"\"\n",
    ")"
   ]
  },
  {
   "cell_type": "markdown",
   "metadata": {},
   "source": [
    "---\n"
   ]
  },
  {
   "cell_type": "markdown",
   "metadata": {},
   "source": [
    "## Congratulations, you're done!\n",
    "\n",
    "Submit this assignment by uploading it to the course Desire2Learn web page.  Go to the \"In-class assignments\" folder, find the appropriate submission folder, and upload it there. Make sure to upload your plot images as well!\n",
    "\n",
    "If the rest of your group is still working, help them out and show them some of the things you learned!\n",
    "\n",
    "See you next class!"
   ]
  },
  {
   "cell_type": "markdown",
   "metadata": {},
   "source": [
    "&#169; Copyright 2023,  The Department of Computational Mathematics, Science and Engineering at Michigan State University"
   ]
  }
 ],
 "metadata": {
  "kernelspec": {
   "display_name": "Python 3 (ipykernel)",
   "language": "python",
   "name": "python3"
  },
  "language_info": {
   "codemirror_mode": {
    "name": "ipython",
    "version": 3
   },
   "file_extension": ".py",
   "mimetype": "text/x-python",
   "name": "python",
   "nbconvert_exporter": "python",
   "pygments_lexer": "ipython3",
   "version": "3.9.7"
  }
 },
 "nbformat": 4,
 "nbformat_minor": 4
}
