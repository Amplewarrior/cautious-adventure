{
 "cells": [
  {
   "cell_type": "markdown",
   "metadata": {},
   "source": [
    "# Day 3 In-class Assignment: The power of compound interest\n",
    "<img src=\"https://g.foolcdn.com/image/?url=https%3A//g.foolcdn.com/editorial/images/463624/retirement-savings-jar-full-of-coins-and-alarm-clock.jpg&w=2000&op=resize\" width=400px>\n"
   ]
  },
  {
   "cell_type": "markdown",
   "metadata": {},
   "source": [
    "### <p style=\"text-align: right;\"> &#9989; Andrew.\n",
    "<p style=\"text-align: right;\"> &#9989; John, AJ, Sukina, Megan, Daryll."
   ]
  },
  {
   "cell_type": "markdown",
   "metadata": {},
   "source": [
    "## Learning Goals:\n",
    "\n",
    "By the end of this assignment you should be able to:\n",
    "\n",
    "* Use Python lists to store values\n",
    "* Use loops to iterate over a specified range or until a condition is met.\n",
    "* Compute the best retirement savings plan.\n"
   ]
  },
  {
   "cell_type": "markdown",
   "metadata": {},
   "source": [
    "---\n",
    "## The Problem\n",
    "\n",
    "You are working for a bank, writing code to calculate the revenue and expenses for the company. A person can deposit money in a retirement account at your bank, and the bank pays interest every year on the money in the retirement account. The mathematical expression for calculating the amount of money in the retirement account every year is:\n",
    "\n",
    "$\\mathrm{New~Retirement~Total} = (\\mathrm{Old~Retirement~Total}) + [(\\mathrm{Old~Retirement~Total})*(\\mathrm{Interest~Rate})] + (\\mathrm{Money~Added~to~Retirement})$\n",
    "\n",
    "Or, if we simplify this a bit, we can re-write it as:\n",
    "\n",
    "$\\mathrm{New~Retirement~Total} = [(\\mathrm{Old~Retirement~Total})*(\\mathrm{1 + Interest~Rate})] + (\\mathrm{Money~Added~to~Retirement})$\n",
    "\n",
    "**Your job is to write a piece of code that calculates and stores (in a list) the total amount of money in the retirement account *every year* for some number of years** (your boss is going to make a plot of it, so make sure you have the value for each year!). \n",
    "\n",
    "Your boss tells you to model the total retirement savings for a ***range*** of different parameters (*e.g.* interest rates and annual contributions).\n",
    "\n",
    "**You can assume that the person saving for retirement starts when they're 18 and continues until they're 65. Also assume that the interest rate and annual contributions are fixed.**"
   ]
  },
  {
   "cell_type": "markdown",
   "metadata": {},
   "source": [
    "---\n",
    "## 1. Planning your solution and pseudo-coding\n",
    "\n",
    "Before you start writing any code you should come up with a plan for how you've going to solve the problem. During this phase you should identify and define the variables that are revelant to the problem, the equations you're going to need to model, the overall structure of the program that you will write, and how you will make sure the code is running correctly.\n",
    "\n",
    "#### You and your group members are expected to use the white board at your table (or a virtual whiteboard app like [Google Jamboard](https://jamboard.google.com/) or the [Aww app](https://awwapp.com/)) to write out your ideas to ensure that everyone is on the same page and allow your instructors to see your progress.\n",
    "\n",
    "Part of this planning process should involve writing \"**pseudo-code**\", a plain language description of the steps in your code (sort of like writing out in your code in form of a cooking recipe). **You actually already did a version of this on Day 1 when you and your group came up with an _algorithm_ for sorting people by their birthday.**\n",
    "\n",
    "As a reminder, **an algorithm is**: a procedure for solving a problem in terms of the actions to be executed and the order in which those actions are to be executed. In other words, an algorithm is merely the sequence of steps taken to solve a problem. [[source](https://www.unf.edu/~broggio/cop2221/2221pseu.htm) of this definition]\n",
    "\n",
    "You can see some examples of pseudocode [here](https://www.unf.edu/~broggio/cop2221/2221pseu.htm) and [here](https://www.geeksforgeeks.org/how-to-write-a-pseudo-code/).\n",
    "\n",
    "Things you should decide on during your planning and psuedo-coding:\n",
    "\n",
    "1. What quantities in your model are \"variables\" that will change as a function of time? What are the initial values of these variables?\n",
    "2. What quantities in your model are \"parameters\" that are constant over time? What are reasonable ranges for each parameter? \n",
    "4. How will you go about solving this problem for a given set of inputs?\n",
    "5. How will you check to make sure your code is running correctly. \n",
    "\n",
    "\n",
    "You should be able to justify your choices.\n",
    "\n",
    "### &#9989;&nbsp; 1.1 Record the details of you plan in the Markdown cell below."
   ]
  },
  {
   "cell_type": "markdown",
   "metadata": {},
   "source": [
    "<font size=6 color=\"#009600\">&#9998;</font> *This is very easy! Interest = current balance * interest rate! Store current balance = current + interest + new money! Repeat! Can make interest calculation simultaneous!* \n",
    "\n",
    "Range of values!\n",
    "Current balance inital = 0, 5000, 10000\n",
    "Interest rate = .01 .05 .1\n",
    "New investment = 500, 1000, 1500"
   ]
  },
  {
   "cell_type": "markdown",
   "metadata": {},
   "source": [
    "## &#128721; STOP AND ASK YOUR INSTRUCTOR TO COME OVER AND CHECK YOUR PSEUDOCODE\n",
    "\n",
    "---\n",
    "## 2. Coding up your solution\n",
    "\n",
    "Now that you and your group have come up with a plan for your code, it's time to put your plan into action.\n",
    "\n",
    "### &#9989;&nbsp; 2.1 Writing Code\n",
    "**Write your code for calculating the total retirement savings in the cell below. Start by writing code for a single set of parameter values (i.e., not a range).** It is simpler, and you can also add to it later.\n",
    "\n",
    "**Hint: Remember to update the value of $\\mathrm{Old~Retirement~Total}$ in your loop!**"
   ]
  },
  {
   "cell_type": "code",
   "execution_count": 53,
   "metadata": {},
   "outputs": [
    {
     "name": "stdout",
     "output_type": "stream",
     "text": [
      "in year 19, the investor has 1000 dollars saved\n",
      "in year 20, the investor has 2050 dollars saved\n",
      "in year 21, the investor has 3152 dollars saved\n",
      "in year 22, the investor has 4310 dollars saved\n",
      "in year 23, the investor has 5525 dollars saved\n",
      "in year 24, the investor has 6801 dollars saved\n",
      "in year 25, the investor has 8142 dollars saved\n",
      "in year 26, the investor has 9549 dollars saved\n",
      "in year 27, the investor has 11026 dollars saved\n",
      "in year 28, the investor has 12577 dollars saved\n",
      "in year 29, the investor has 14206 dollars saved\n",
      "in year 30, the investor has 15917 dollars saved\n",
      "in year 31, the investor has 17712 dollars saved\n",
      "in year 32, the investor has 19598 dollars saved\n",
      "in year 33, the investor has 21578 dollars saved\n",
      "in year 34, the investor has 23657 dollars saved\n",
      "in year 35, the investor has 25840 dollars saved\n",
      "in year 36, the investor has 28132 dollars saved\n",
      "in year 37, the investor has 30539 dollars saved\n",
      "in year 38, the investor has 33065 dollars saved\n",
      "in year 39, the investor has 35719 dollars saved\n",
      "in year 40, the investor has 38505 dollars saved\n",
      "in year 41, the investor has 41430 dollars saved\n",
      "in year 42, the investor has 44501 dollars saved\n",
      "in year 43, the investor has 47727 dollars saved\n",
      "in year 44, the investor has 51113 dollars saved\n",
      "in year 45, the investor has 54669 dollars saved\n",
      "in year 46, the investor has 58402 dollars saved\n",
      "in year 47, the investor has 62322 dollars saved\n",
      "in year 48, the investor has 66438 dollars saved\n",
      "in year 49, the investor has 70760 dollars saved\n",
      "in year 50, the investor has 75298 dollars saved\n",
      "in year 51, the investor has 80063 dollars saved\n",
      "in year 52, the investor has 85066 dollars saved\n",
      "in year 53, the investor has 90320 dollars saved\n",
      "in year 54, the investor has 95836 dollars saved\n",
      "in year 55, the investor has 101628 dollars saved\n",
      "in year 56, the investor has 107709 dollars saved\n",
      "in year 57, the investor has 114095 dollars saved\n",
      "in year 58, the investor has 120799 dollars saved\n",
      "in year 59, the investor has 127839 dollars saved\n",
      "in year 60, the investor has 135231 dollars saved\n",
      "in year 61, the investor has 142993 dollars saved\n",
      "in year 62, the investor has 151143 dollars saved\n",
      "in year 63, the investor has 159700 dollars saved\n",
      "in year 64, the investor has 168685 dollars saved\n",
      "in year 65, the investor has 178119 dollars saved\n"
     ]
    }
   ],
   "source": [
    "# Put your code for calculating the total amount of retirement savings here\n",
    "startyear = 18\n",
    "stopyear = 65\n",
    "current_balance = 0.0\n",
    "addition = 1000\n",
    "ir = .05\n",
    "\n",
    "year = []\n",
    "period = stopyear-startyear\n",
    "\n",
    "\n",
    "for i in range(period):\n",
    "    current_balance = current_balance * (1+ir) + addition\n",
    "    year = 19 + i\n",
    "    print(\"in year \" + str(year) + \", the investor has \" + str(int(current_balance)) + \" dollars saved\")"
   ]
  },
  {
   "cell_type": "markdown",
   "metadata": {},
   "source": [
    "---\n",
    "### &#128721; STOP\n",
    "\n",
    "**Check to make sure your code is working correctly.**"
   ]
  },
  {
   "cell_type": "code",
   "execution_count": 17,
   "metadata": {},
   "outputs": [
    {
     "name": "stdout",
     "output_type": "stream",
     "text": [
      "4309.6\n"
     ]
    }
   ],
   "source": [
    "# If your method for checking your results involves writing code, put it here\n",
    "year_a_money = 3152\n",
    "year_b_money = year_a_money * (1+ir) + addition\n",
    "print(year_b_money)"
   ]
  },
  {
   "cell_type": "markdown",
   "metadata": {},
   "source": [
    "*The above code calculates one year's worth of growth, so it can be used to check if any particular value in the above list is correct by comparing with the previous. It is the same as what would be entered into a calculator. The rest follows from induction. If year 19 is correct, and year 20 is correct, then year 64 is correct and year 65 is correct*"
   ]
  },
  {
   "cell_type": "markdown",
   "metadata": {},
   "source": [
    "<font size=6 color=\"#009600\">&#9998;</font> *Put your explanation here!* "
   ]
  },
  {
   "cell_type": "markdown",
   "metadata": {},
   "source": [
    "## 3. Coding up your solution (Range of Values)\n",
    "\n",
    "### &#9989;&nbsp; 3.1 Putting in a Range of Values\n",
    "**Take the code you wrote in Part 2 and expand on it so that you can calculate total retirement savings for a range of different input parameters.** To start, try 3 different annual contribution values and 4 different interests rates, but try to write your code so that you could easily do greater or fewer numbers of values for both parameters.\n",
    "\n",
    "**Note:** To explore a range of input parameters, you may want to use a \"nested\" loop (a loop inside a loop). Look back at the pre-class assignment for an example!"
   ]
  },
  {
   "cell_type": "code",
   "execution_count": 64,
   "metadata": {},
   "outputs": [
    {
     "name": "stdout",
     "output_type": "stream",
     "text": [
      "With 5.0% interest and a $500.0 yearly investment, they retire with $89059\n",
      "With 5.0% interest and a $1000.0 yearly investment, they retire with $178119\n",
      "With 5.0% interest and a $1500.0 yearly investment, they retire with $267179\n",
      "With 10.0% interest and a $500.0 yearly investment, they retire with $435987\n",
      "With 10.0% interest and a $1000.0 yearly investment, they retire with $871974\n",
      "With 10.0% interest and a $1500.0 yearly investment, they retire with $1307962\n",
      "With 15.0% interest and a $500.0 yearly investment, they retire with $2371741\n",
      "With 15.0% interest and a $1000.0 yearly investment, they retire with $4743482\n",
      "With 15.0% interest and a $1500.0 yearly investment, they retire with $7115223\n",
      "With 5.0% interest and a $500.0 yearly investment, they retire with $108871\n",
      "With 5.0% interest and a $1000.0 yearly investment, they retire with $197931\n",
      "With 5.0% interest and a $1500.0 yearly investment, they retire with $286991\n",
      "With 10.0% interest and a $500.0 yearly investment, they retire with $612382\n",
      "With 10.0% interest and a $1000.0 yearly investment, they retire with $1048369\n",
      "With 10.0% interest and a $1500.0 yearly investment, they retire with $1484357\n",
      "With 15.0% interest and a $500.0 yearly investment, they retire with $3796785\n",
      "With 15.0% interest and a $1000.0 yearly investment, they retire with $6168527\n",
      "With 15.0% interest and a $1500.0 yearly investment, they retire with $8540268\n",
      "With 5.0% interest and a $500.0 yearly investment, they retire with $168307\n",
      "With 5.0% interest and a $1000.0 yearly investment, they retire with $257367\n",
      "With 5.0% interest and a $1500.0 yearly investment, they retire with $346426\n",
      "With 10.0% interest and a $500.0 yearly investment, they retire with $1141567\n",
      "With 10.0% interest and a $1000.0 yearly investment, they retire with $1577554\n",
      "With 10.0% interest and a $1500.0 yearly investment, they retire with $2013542\n",
      "With 15.0% interest and a $500.0 yearly investment, they retire with $8071920\n",
      "With 15.0% interest and a $1000.0 yearly investment, they retire with $10443661\n",
      "With 15.0% interest and a $1500.0 yearly investment, they retire with $12815402\n"
     ]
    }
   ],
   "source": [
    "# Put your code for calculating the total amount of retirement savings for a range of values here\n",
    "#yay more loops\n",
    "period = 65-18\n",
    "current_balance = 0.0\n",
    "initial_balance = [0., 2000., 8000.]\n",
    "addition = [500., 1000., 1500.]\n",
    "ir = [.05, .10, .15]\n",
    "year = []\n",
    "for l in initial_balance:\n",
    "    for k in ir:\n",
    "        for j in addition:\n",
    "            current_balance = l\n",
    "            for i in range(period):\n",
    "                current_balance = current_balance * (1+k) + j\n",
    "                year = 19 + i\n",
    "                #print(\"in year \" + str(year) + \", the investor has \" + str(int(current_balance)) + \" dollars saved\")\n",
    "            print(\"With \" + str(k * 100) + \"% interest and a $\" + str(j) + \" yearly investment, they retire with $\" + str(int(current_balance)))"
   ]
  },
  {
   "cell_type": "markdown",
   "metadata": {},
   "source": [
    "## 4. Bringing in new customers\n",
    "\n",
    "Your boss says the bank is trying to attract customers that don't start saving for retirement until later in life, and they're trying to find a good way to do this. You suggest offering **double the usual interest rate** for people that don't start saving until they're 30. \n",
    "\n",
    "Your boss likes the idea and wants you to run the numbers. \n",
    "\n",
    "### &#9989;&nbsp; 4.1 Answering your Boss' Question, Code\n",
    "**Who would end up with more money saved: someone that starts saving at 18 with a normal interest rate, or someone that starts saving at 30 with double the interest rate?**"
   ]
  },
  {
   "cell_type": "code",
   "execution_count": 63,
   "metadata": {},
   "outputs": [
    {
     "name": "stdout",
     "output_type": "stream",
     "text": [
      "starting at 18, the investor has 178119 dollars saved at 65\n",
      "starting at 30 with double interest, the investor has 271024 dollars saved at 65\n"
     ]
    }
   ],
   "source": [
    "# Put your code here\n",
    "period = 65-18\n",
    "period2 = 65-30\n",
    "initial_balance = 0.0\n",
    "addition = 1000\n",
    "ir = .05\n",
    "\n",
    "year = []\n",
    "current_balance = initial_balance\n",
    "\n",
    "for i in range(period):\n",
    "    current_balance = current_balance * (1+ir) + addition\n",
    "\n",
    "print(\"starting at 18, the investor has \" + str(int(current_balance)) + \" dollars saved at 65\")\n",
    "\n",
    "current_balance = initial_balance\n",
    "for i in range(period2):\n",
    "    current_balance = current_balance * (1+2*ir) + addition\n",
    "\n",
    "print(\"starting at 30 with double interest, the investor has \" + str(int(current_balance)) + \" dollars saved at 65\")\n",
    "\n"
   ]
  },
  {
   "cell_type": "markdown",
   "metadata": {},
   "source": [
    "### &#9989;&nbsp; 4.2 Answering your Boss' Question, Answer\n",
    "\n",
    "**Who would end up saving more money for retirement?**"
   ]
  },
  {
   "cell_type": "markdown",
   "metadata": {},
   "source": [
    "the thirty-year-old"
   ]
  },
  {
   "cell_type": "markdown",
   "metadata": {},
   "source": [
    "---\n",
    "## Assignment wrap-up\n",
    "\n",
    "Please fill out the form that appears when you run the code below. ***For today's assignment, ignore the part about pre-class assignment.*  You must completely fill this out in order to receive credit for the assignment!** "
   ]
  },
  {
   "cell_type": "code",
   "execution_count": 65,
   "metadata": {},
   "outputs": [
    {
     "data": {
      "text/html": [
       "\n",
       "<iframe \n",
       "\tsrc=\"https://cmse.msu.edu/cmse201-ic-survey\" \n",
       "\twidth=\"800px\" \n",
       "\theight=\"600px\" \n",
       "\tframeborder=\"0\" \n",
       "\tmarginheight=\"0\" \n",
       "\tmarginwidth=\"0\">\n",
       "\tLoading...\n",
       "</iframe>\n"
      ],
      "text/plain": [
       "<IPython.core.display.HTML object>"
      ]
     },
     "execution_count": 65,
     "metadata": {},
     "output_type": "execute_result"
    }
   ],
   "source": [
    "from IPython.display import HTML\n",
    "HTML(\n",
    "\"\"\"\n",
    "<iframe \n",
    "\tsrc=\"https://cmse.msu.edu/cmse201-ic-survey\" \n",
    "\twidth=\"800px\" \n",
    "\theight=\"600px\" \n",
    "\tframeborder=\"0\" \n",
    "\tmarginheight=\"0\" \n",
    "\tmarginwidth=\"0\">\n",
    "\tLoading...\n",
    "</iframe>\n",
    "\"\"\"\n",
    ")"
   ]
  },
  {
   "cell_type": "markdown",
   "metadata": {},
   "source": [
    "## Congratulations, you're done!\n",
    "\n",
    "Submit this assignment by uploading it to the course Desire2Learn web page.  Go to the \"In-class assignments\" folder, find the appropriate submission link, and upload it there.\n",
    "\n",
    "See you next class!"
   ]
  },
  {
   "cell_type": "markdown",
   "metadata": {},
   "source": [
    "&#169; Copyright 2023,  Department of Computational Mathematics, Science and Engineering at Michigan State University."
   ]
  }
 ],
 "metadata": {
  "kernelspec": {
   "display_name": "Python 3 (ipykernel)",
   "language": "python",
   "name": "python3"
  },
  "language_info": {
   "codemirror_mode": {
    "name": "ipython",
    "version": 3
   },
   "file_extension": ".py",
   "mimetype": "text/x-python",
   "name": "python",
   "nbconvert_exporter": "python",
   "pygments_lexer": "ipython3",
   "version": "3.11.5"
  },
  "vscode": {
   "interpreter": {
    "hash": "31f2aee4e71d21fbe5cf8b01ff0e069b9275f58929596ceb00d14d90e3e16cd6"
   }
  }
 },
 "nbformat": 4,
 "nbformat_minor": 4
}
