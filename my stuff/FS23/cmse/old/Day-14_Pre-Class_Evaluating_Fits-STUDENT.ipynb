{
 "cells": [
  {
   "cell_type": "markdown",
   "metadata": {},
   "source": [
    "# Day 14 Pre-Class Assignment: Making Predictions Using Data\n",
    "\n",
    "\n",
    "## Goals for today's assignment\n",
    "\n",
    "* Describe the utility of fitting trendlines to data, in the context of making predictions about the future\n",
    "* Use best-fit lines to make predictions about future values\n",
    "* Quantitatively and qualitatively describe how to determine the Goodness of fit for a given line"
   ]
  },
  {
   "cell_type": "markdown",
   "metadata": {},
   "source": [
    "---\n",
    "## 1. Predicting Future Trends\n",
    "\n",
    "Consider the following dataset showing salinity of water (amount of salt in the water) versus depth for an imaginary body of water:\n",
    "\n",
    "\n",
    "\n",
    "<br/>\n",
    "<img src=\"https://raw.githubusercontent.com/msu-cmse-courses/cmse201-S22-data/main/Day-15/Fancy_Plot_Salinity.jpg\" alt=\"Curve-fitting\" width=700px/>"
   ]
  },
  {
   "cell_type": "markdown",
   "metadata": {},
   "source": [
    "&#9989;&nbsp; **1.1** What would you guess the salinity would be at a depth of 6 meters? At 7 meters?  What makes you think those would be the values?"
   ]
  },
  {
   "cell_type": "markdown",
   "metadata": {},
   "source": [
    "<font size=+3>&#9998;</font> 14,16 by extrapolation\n"
   ]
  },
  {
   "cell_type": "markdown",
   "metadata": {},
   "source": [
    "&#9989;&nbsp; **1.2** Now, make a line connecting the *first* and *last* points and continue it out to a depth of 7 meters. Using the line, predict what the salinity would be at a depth of 6 and 7 meters. You may find it useful to hold a straight edge up to your screen (e.g. piece of paper, pen, pencil) to trace out this line."
   ]
  },
  {
   "cell_type": "markdown",
   "metadata": {},
   "source": [
    "<font size=+3>&#9998;</font> same result\n"
   ]
  },
  {
   "cell_type": "markdown",
   "metadata": {},
   "source": [
    "&#9989;&nbsp; **1.3** How do the values you determined using your line compare with the values you predicted in 1.1?"
   ]
  },
  {
   "cell_type": "markdown",
   "metadata": {},
   "source": [
    "<font size=+3>&#9998;</font> see above"
   ]
  },
  {
   "cell_type": "markdown",
   "metadata": {},
   "source": [
    "---\n",
    "## 2. Determining the Line of Best Fit \n",
    "\n",
    "Consider the figure below, which shows the same data set, but with two lines. \n",
    "\n",
    "\n",
    "<br/>\n",
    "<img src=\"https://raw.githubusercontent.com/msu-cmse-courses/cmse201-S22-data/main/Day-15/Fancy_Plot_Salinity_Fake_Lines.jpg\" alt=\"Curve-fitting\" width=700px/>"
   ]
  },
  {
   "cell_type": "markdown",
   "metadata": {},
   "source": [
    "&#9989;&nbsp; **2.1** Without doing any calculations (i.e., just looking at the figure), do you think the salinity at a depths of 6 and 7 meters will be closer to values in line 1 or line 2? What is it about that particular line that makes you think it will be more accurate in predicting future values?"
   ]
  },
  {
   "cell_type": "markdown",
   "metadata": {},
   "source": [
    "<font size=+3>&#9998;</font> probably line 2, since it better fits the data we do have"
   ]
  },
  {
   "cell_type": "markdown",
   "metadata": {},
   "source": [
    "&#9989;&nbsp; **2.2** Imagine someone asks you to show *quantitatively* that the line you have selected will be more accurate in predicting future values. What is a way you could quantitatively measure how well a line fits some dataset?\n",
    "\n",
    "Try to come up with an algorithm--that is, a detailed procedure, like a recipe--for calculating how well a line fits a dataset."
   ]
  },
  {
   "cell_type": "markdown",
   "metadata": {},
   "source": [
    "<font size=+3>&#9998;</font> sum up the distances each predicted value is from a known value, or even rms it, and choose the line which has the smallest sum or rms\n"
   ]
  },
  {
   "cell_type": "markdown",
   "metadata": {},
   "source": [
    "&#9989;&nbsp; **2.3** Now try to apply your algorithm (by hand) to the lines and data from the figure above. Does the line you choose in part 2.1 fit the data the best according to your algorithm?\n",
    "\n",
    "The data values and the values for the two lines are provided."
   ]
  },
  {
   "cell_type": "code",
   "execution_count": 3,
   "metadata": {},
   "outputs": [
    {
     "name": "stdout",
     "output_type": "stream",
     "text": [
      "17.067500000000003\n",
      "77.11\n"
     ]
    }
   ],
   "source": [
    "import numpy as np\n",
    "\n",
    "x_data = np.array([0,1,2,3,4,5])\n",
    "y_data = np.array([0.5,2.6,3.2,7.7,8.2,11.9])\n",
    "y_values_line_1 = np.array([2.2, 4.15, 6.1, 8.05, 10., 11.95, 13.9, 15.85])\n",
    "y_values_line_2 = np.array([5., 6.6, 8.2, 9.8, 11.4, 13., 14.6, 16.2])\n",
    "\n",
    "dif1 = y_data-y_values_line_1[0:6]\n",
    "dif2 = y_data-y_values_line_2[0:6]\n",
    "print (sum(dif1**2))\n",
    "print (sum(dif2**2))"
   ]
  },
  {
   "cell_type": "markdown",
   "metadata": {},
   "source": [
    "<font size=+3>&#9998;</font> The first one has a smaller sum of distances squared than the second, which suggests it is better\n"
   ]
  },
  {
   "cell_type": "markdown",
   "metadata": {},
   "source": [
    "---\n",
    "## 3. Using a Computer to Fit a Line \n",
    "\n",
    "In the questions and exercises above, you were asked to think through how one might determine the \"best fit\" line that matches the data you were presented with. In the previous pre-class and in-class assignments, we explored how we can use code written from scratch as well as a pre-written Python tool from the SciPy package called `curve_fit`, to fit a mathematical function to data. We’ll be using this extensively in class, so it’s important that you spend some more time trying to get a better idea of how it works.\n",
    "\n",
    "**Note:** By \"fitting a function\", we mean that there is a function that contains parameters that we can adjust to find the expected values that fit the data the best (hence finding the \"best fit\"). \n",
    "\n",
    "To use `curve_fit`, you need a minimum of two things:\n",
    "- A (Python) function that contains the mathematical function you are fitting to your data\n",
    "- A dataset, consisting of x and y values, that you are fitting your mathematical function to.\n",
    "\n",
    "Let’s look at an example.\n",
    "\n",
    "Below is a set of *x* and *y* values, and we want to fit the following function:\n",
    "\n",
    "$$y = A \\sin(Bx + C)$$\n",
    "\n",
    "&#9989;&nbsp; **3.1** What parameters are we adjusting to find the best fit for this function? "
   ]
  },
  {
   "cell_type": "markdown",
   "metadata": {},
   "source": [
    "<font size=+3>&#9998;</font> The parameters A,B, and C\n"
   ]
  },
  {
   "cell_type": "code",
   "execution_count": 4,
   "metadata": {},
   "outputs": [
    {
     "data": {
      "image/png": "[encoded data removed]",
      "text/plain": [
       "<Figure size 640x480 with 1 Axes>"
      ]
     },
     "metadata": {},
     "output_type": "display_data"
    }
   ],
   "source": [
    "import numpy as np\n",
    "import matplotlib.pyplot as plt\n",
    "%matplotlib inline\n",
    "\n",
    "x = np.array([0.00, 0.71, 1.43, 2.14, 2.86, 3.57, 4.28, 5.00, 5.71, 6.43, 7.14, 7.85])\n",
    "y = np.array([0.34, 1.42, 1.92, 1.23, -0.08, -1.19, -0.82, -0.14, 0.90, 1.77, 1.78, 0.30])\n",
    "\n",
    "plt.plot(x,y)\n",
    "plt.show()"
   ]
  },
  {
   "cell_type": "markdown",
   "metadata": {},
   "source": [
    "To get started with finding our fit, we first define a Python function that contains the mathematical function we’re fitting."
   ]
  },
  {
   "cell_type": "code",
   "execution_count": 5,
   "metadata": {},
   "outputs": [],
   "source": [
    "def sin_function(x, A, B, C):\n",
    "    return A * np.sin(B * x + C)"
   ]
  },
  {
   "cell_type": "markdown",
   "metadata": {},
   "source": [
    "We now have the two pieces needed to use `curve_fit`, the function we're using and the data we're trying to fit, so let’s run it and see what we get."
   ]
  },
  {
   "cell_type": "code",
   "execution_count": 14,
   "metadata": {},
   "outputs": [
    {
     "name": "stdout",
     "output_type": "stream",
     "text": [
      "[-798.76728274    3.14014407   -3.14012023]\n"
     ]
    }
   ],
   "source": [
    "from scipy.optimize import curve_fit\n",
    "\n",
    "best_fit_parameters, just_ignore_this_for_now = curve_fit(sin_function, x, y)\n",
    "print(best_fit_parameters)"
   ]
  },
  {
   "cell_type": "markdown",
   "metadata": {},
   "source": [
    "If we look at the [documentation for `curve_fit`](https://docs.scipy.org/doc/scipy/reference/generated/scipy.optimize.curve_fit.html), we see that by this calling function, we get two return values by default: `popt` and `pcov`. `popt` contains the best fit parameters. **You do not need to worry about `pcov`** for the purposes of this assignment, but you are encourage to read the documentation for a description of what `pcov` is.  \n",
    "\n",
    "In the code above, `popt` was stored in the `best_fit_parameters` variable, and `pcov` was stored in `just_ignore_this_for_now`. \n",
    "\n",
    "If we want to see what our best fit line looks like using our best fit parameters, we can use the following code:"
   ]
  },
  {
   "cell_type": "code",
   "execution_count": 7,
   "metadata": {},
   "outputs": [
    {
     "data": {
      "text/plain": [
       "array([ 0.12678392,  1.29838027,  1.61980063,  0.8729948 , -0.46172887,\n",
       "       -1.47889952, -1.53150969, -0.56718561,  0.75987935,  1.59618306,\n",
       "        1.37438063,  0.2561865 ])"
      ]
     },
     "execution_count": 7,
     "metadata": {},
     "output_type": "execute_result"
    }
   ],
   "source": [
    "A_expected = best_fit_parameters[0]  \n",
    "B_expected = best_fit_parameters[1]\n",
    "C_expected = best_fit_parameters[2]\n",
    "\n",
    "y_expected = sin_function(x, A_expected, B_expected, C_expected)\n",
    "y_expected"
   ]
  },
  {
   "cell_type": "markdown",
   "metadata": {},
   "source": [
    "&#9989;&nbsp; **3.2** Give a brief explanation for what the last line of code is doing in the cell above."
   ]
  },
  {
   "cell_type": "markdown",
   "metadata": {},
   "source": [
    "<font size=+3>&#9998;</font> This uses the best fit parameters generated by curve_fit to create a new function which is meant to model the data (fill in the holes)\n"
   ]
  },
  {
   "cell_type": "markdown",
   "metadata": {},
   "source": [
    "Now we can try to plot both the data and our best fit model values."
   ]
  },
  {
   "cell_type": "code",
   "execution_count": 8,
   "metadata": {},
   "outputs": [
    {
     "data": {
      "image/png": "[encoded data removed]",
      "text/plain": [
       "<Figure size 640x480 with 1 Axes>"
      ]
     },
     "metadata": {},
     "output_type": "display_data"
    }
   ],
   "source": [
    "plt.scatter(x, y, label = \"data\")\n",
    "plt.plot(x, y_expected, color = \"orange\", label = \"fit\")\n",
    "plt.legend()\n",
    "plt.show()"
   ]
  },
  {
   "cell_type": "markdown",
   "metadata": {},
   "source": [
    "### YOUR TURN\n",
    "\n",
    "One of the simplest functions you can have is a straight line, which takes the form:\n",
    "\n",
    "$$y = A x + B$$\n",
    "\n",
    "&#9989;&nbsp; **3.3** What parameters would we adjust to find the best fit for this function? "
   ]
  },
  {
   "cell_type": "markdown",
   "metadata": {},
   "source": [
    "<font size=+3>&#9998;</font> A and B\n"
   ]
  },
  {
   "cell_type": "markdown",
   "metadata": {},
   "source": [
    "&#9989;&nbsp; **3.4** Fit a straight line to the x and y dataset provided below. Specify what the best fit parameters are and make a plot showing your best fit line."
   ]
  },
  {
   "cell_type": "code",
   "execution_count": 9,
   "metadata": {},
   "outputs": [
    {
     "data": {
      "image/png": "[encoded data removed]",
      "text/plain": [
       "<Figure size 640x480 with 1 Axes>"
      ]
     },
     "metadata": {},
     "output_type": "display_data"
    }
   ],
   "source": [
    "x = np.array([0,1,2,3,4,5])\n",
    "y = np.array([0.5,2.6,3.2,7.7,8.2,11.9])\n",
    "\n",
    "def linear(x, A, B):\n",
    "    return A * x + B\n",
    "\n",
    "parameters_line, ignore = curve_fit(linear, x, y)\n",
    "parameters_line\n",
    "\n",
    "yline_expected = linear(x, parameters_line[0],parameters_line[1])\n",
    "\n",
    "plt.scatter(x,y)\n",
    "plt.plot(x,yline_expected, color='red')\n",
    "plt.show()"
   ]
  },
  {
   "cell_type": "markdown",
   "metadata": {},
   "source": [
    "## 4. Determining Goodness of Fit\n",
    "\n",
    "&#9989;&nbsp; **4.1** Compare your the best fit line you just found to the \"best fit\" line provided in Section 2. Which one appears to fit the data better? "
   ]
  },
  {
   "cell_type": "code",
   "execution_count": null,
   "metadata": {},
   "outputs": [],
   "source": []
  },
  {
   "cell_type": "markdown",
   "metadata": {},
   "source": [
    "<font size=+3>&#9998;</font> by inspection it looks to fit a lot better"
   ]
  },
  {
   "cell_type": "markdown",
   "metadata": {},
   "source": [
    "&#9989;&nbsp; **4.2** Try to turn the algorithm you described in part 2.2 for measuring how well a line fits the data into code and apply it to the new best fit line that you just found using `curve_fit`. How does this value for goodness of fit compare to the one you found in part 2.3?  "
   ]
  },
  {
   "cell_type": "code",
   "execution_count": 10,
   "metadata": {},
   "outputs": [
    {
     "name": "stdout",
     "output_type": "stream",
     "text": [
      "4.004190476190478\n"
     ]
    }
   ],
   "source": [
    "#Put your code here\n",
    "dif3 = y_data-yline_expected\n",
    "print(sum(dif3**2))\n"
   ]
  },
  {
   "cell_type": "markdown",
   "metadata": {},
   "source": [
    "<font size=+3>&#9998;</font> This fits much better, sqrt(4) vs sqrt(7)\n"
   ]
  },
  {
   "cell_type": "markdown",
   "metadata": {},
   "source": [
    "---\n",
    "## Assignment wrap-up\n",
    "\n",
    "Please fill out the form that appears when you run the code below.  **You must completely fill this out in order to receive credit for the assignment!**"
   ]
  },
  {
   "cell_type": "code",
   "execution_count": 11,
   "metadata": {},
   "outputs": [
    {
     "data": {
      "text/html": [
       "\n",
       "<iframe \n",
       "\tsrc=\"https://cmse.msu.edu/cmse201-pc-survey\" \n",
       "\twidth=\"800px\" \n",
       "\theight=\"600px\" \n",
       "\tframeborder=\"0\" \n",
       "\tmarginheight=\"0\" \n",
       "\tmarginwidth=\"0\">\n",
       "\tLoading...\n",
       "</iframe>\n"
      ],
      "text/plain": [
       "<IPython.core.display.HTML object>"
      ]
     },
     "execution_count": 11,
     "metadata": {},
     "output_type": "execute_result"
    }
   ],
   "source": [
    "from IPython.display import HTML\n",
    "HTML(\n",
    "\"\"\"\n",
    "<iframe \n",
    "\tsrc=\"https://cmse.msu.edu/cmse201-pc-survey\" \n",
    "\twidth=\"800px\" \n",
    "\theight=\"600px\" \n",
    "\tframeborder=\"0\" \n",
    "\tmarginheight=\"0\" \n",
    "\tmarginwidth=\"0\">\n",
    "\tLoading...\n",
    "</iframe>\n",
    "\"\"\"\n",
    ")"
   ]
  },
  {
   "cell_type": "markdown",
   "metadata": {},
   "source": [
    "### Congratulations, you're done!\n",
    "\n",
    "Submit this assignment by uploading it to the course Desire2Learn web page.  Go to the \"Pre-class assignments\" folder, find the appropriate submission link, and upload it there.\n",
    "\n",
    "See you in class!"
   ]
  },
  {
   "cell_type": "markdown",
   "metadata": {},
   "source": [
    "Copyright &#169; 2023, [Department of Computational Mathematics, Science and Engineering](https://cmse.msu.edu/) at Michigan State University, All rights reserved."
   ]
  }
 ],
 "metadata": {
  "kernelspec": {
   "display_name": "Python 3 (ipykernel)",
   "language": "python",
   "name": "python3"
  },
  "language_info": {
   "codemirror_mode": {
    "name": "ipython",
    "version": 3
   },
   "file_extension": ".py",
   "mimetype": "text/x-python",
   "name": "python",
   "nbconvert_exporter": "python",
   "pygments_lexer": "ipython3",
   "version": "3.11.6"
  }
 },
 "nbformat": 4,
 "nbformat_minor": 4
}
