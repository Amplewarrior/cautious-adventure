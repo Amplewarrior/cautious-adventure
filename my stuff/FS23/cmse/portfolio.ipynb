{
 "cells": [
  {
   "cell_type": "markdown",
   "metadata": {},
   "source": [
    "# Code Portfolio - Andrew Koren\n",
    "## Subjects\n",
    "* Python basics\n",
    "* Numpy\n",
    "* Pandas\n",
    "* Matplotlib"
   ]
  },
  {
   "cell_type": "markdown",
   "metadata": {},
   "source": [
    "### Python basics\n",
    "Boolean examples"
   ]
  },
  {
   "cell_type": "code",
   "execution_count": 5,
   "metadata": {},
   "outputs": [
    {
     "name": "stdout",
     "output_type": "stream",
     "text": [
      "False\n",
      "False\n",
      "True\n",
      "true\n"
     ]
    }
   ],
   "source": [
    "print (1 == 2)\n",
    "print (1 >= 2)\n",
    "print (not 1 >= 2)\n",
    "print ('true' or 'False')\n"
   ]
  },
  {
   "cell_type": "markdown",
   "metadata": {},
   "source": [
    "Falsey items\n",
    "<br> None\n",
    "<br> 0 (integer)\n",
    "<br> 0.0 (floating-point number)\n",
    "<br> '' (empty string)\n",
    "<br> [] (empty list)\n",
    "<br> {} (empty dictionary)\n",
    "<br> () (empty tuple)"
   ]
  },
  {
   "cell_type": "code",
   "execution_count": 6,
   "metadata": {},
   "outputs": [
    {
     "name": "stdout",
     "output_type": "stream",
     "text": [
      "True\n",
      "True\n",
      "['wow'] this does run\n",
      "The two lists are the same.\n"
     ]
    }
   ],
   "source": [
    "print ('True' or 'False')\n",
    "print (not [])\n",
    "\n",
    "cheeseburger = []\n",
    "\n",
    "if cheeseburger:\n",
    "    print (str(cheeseburger) + ' this doesn\\'t run')\n",
    "else:\n",
    "    cheeseburger.append('wow')\n",
    "\n",
    "if cheeseburger:\n",
    "    print (str(cheeseburger) + ' this does run')\n",
    "else:\n",
    "    cheeseburger.append('wow')\n",
    "\n",
    "list1 = [1, 2, 3]\n",
    "list2 = [1, 2, 3]\n",
    "\n",
    "if list1 == list2:\n",
    "    print(\"The two lists are the same.\")\n",
    "else:\n",
    "    print(\"The two lists are not the same.\")\n"
   ]
  },
  {
   "cell_type": "markdown",
   "metadata": {},
   "source": [
    "### Numpy\n",
    "\n",
    "Numpy arrays can do math without being annoying. It just makes sense"
   ]
  },
  {
   "cell_type": "code",
   "execution_count": 7,
   "metadata": {},
   "outputs": [
    {
     "name": "stdout",
     "output_type": "stream",
     "text": [
      "p1 [5 7 9]\n",
      "p2 [2 3]\n",
      "p3 this is reshape it turns the array into a list and orders them like you read a book\n",
      "[[1 2]\n",
      " [3 4]\n",
      " [5 6]]\n",
      "this is transposed\n",
      "[[1 4]\n",
      " [2 5]\n",
      " [3 6]]\n",
      "p4 \n",
      " [1 2 3 4 5 6] \n",
      " [[1 2 3]\n",
      " [4 5 6]] \n",
      " [1 2 3]\n"
     ]
    }
   ],
   "source": [
    "import numpy as np\n",
    "#part 1\n",
    "arr1 = np.array([1, 2, 3])\n",
    "arr2 = np.array([4, 5, 6])\n",
    "\n",
    "result = arr1 + arr2 #other math operations will operate on all entries, etc. It just makes sense\n",
    "print('p1', result)\n",
    "\n",
    "#part 2\n",
    "sub_array = arr1[1:3] #the last index in the slice isn't included, only 1 and 2 are included\n",
    "print('p2', sub_array)\n",
    "\n",
    "#part 3\n",
    "arr = np.array([[1, 2, 3], [4, 5, 6]])\n",
    "reshaped_arr = arr.reshape(3, 2)\n",
    "transposed_arr = arr.T\n",
    "\n",
    "print('p3','this is reshape it turns the array into a list and orders them like you read a book')\n",
    "print(reshaped_arr)\n",
    "print('this is transposed')\n",
    "print(transposed_arr)\n",
    "\n",
    "#part 4\n",
    "arr1 = np.array([1, 2, 3])\n",
    "arr2 = np.array([4, 5, 6])\n",
    "stacked = np.hstack((arr1, arr2))  # Horizontally stack\n",
    "vstacked = np.vstack((arr1, arr2))\n",
    "split1,split2 = np.split(stacked, 2)      # Split into two equal parts\n",
    "print('p4 \\n',stacked,'\\n',vstacked,'\\n',split1)"
   ]
  },
  {
   "cell_type": "markdown",
   "metadata": {},
   "source": [
    "### Pandas\n",
    "\n",
    "Pandas is good for much its data frames, which are better for much larger data sets than np arrays"
   ]
  },
  {
   "cell_type": "code",
   "execution_count": 8,
   "metadata": {},
   "outputs": [
    {
     "name": "stdout",
     "output_type": "stream",
     "text": [
      "<class 'pandas.core.frame.DataFrame'>\n",
      "RangeIndex: 3 entries, 0 to 2\n",
      "Data columns (total 2 columns):\n",
      " #   Column  Non-Null Count  Dtype \n",
      "---  ------  --------------  ----- \n",
      " 0   Name    3 non-null      object\n",
      " 1   Age     3 non-null      int64 \n",
      "dtypes: int64(1), object(1)\n",
      "memory usage: 180.0+ bytes\n",
      "part1 \n",
      " None\n",
      "part2 \n",
      " names \n",
      " 0      Alice\n",
      "1        Bob\n",
      "2    Charlie\n",
      "Name: Name, dtype: object \n",
      " row 1 \n",
      "       Name  Age\n",
      "2  Charlie   35 \n",
      " row 2 \n",
      " 0    25\n",
      "1    30\n",
      "2    35\n",
      "Name: Age, dtype: int64\n"
     ]
    }
   ],
   "source": [
    "import pandas as pd\n",
    "\n",
    "data = {'Name': ['Alice', 'Bob', 'Charlie'],\n",
    "        'Age': [25, 30, 35]}\n",
    "\n",
    "df = pd.DataFrame(data)\n",
    "#for importing csv df = pd.read_csv('data.csv')\n",
    "\n",
    "#df.head() gives the top\n",
    "print('part1 \\n',df.info())\n",
    "\n",
    "# Selecting a column\n",
    "names = df['Name']\n",
    "# Selecting specific columns for rows where 'Age' is greater than 30\n",
    "row1 = df.loc[df['Age'] > 30, ['Name', 'Age']]\n",
    "# Selecting rows by index\n",
    "row2 = df.iloc[:,1]\n",
    "print('part2 \\n names \\n',names,'\\n row 1 \\n',row1,'\\n row 2 \\n', row2)"
   ]
  },
  {
   "cell_type": "markdown",
   "metadata": {},
   "source": [
    "### Matplotlib"
   ]
  },
  {
   "cell_type": "markdown",
   "metadata": {},
   "source": [
    "Honestly matplotlib.pyplot is pretty easy. Any little things to know are in snippets"
   ]
  },
  {
   "cell_type": "markdown",
   "metadata": {},
   "source": [
    "<img src=\"https://github.com/msu-cmse-courses/cmse201-supplemental/blob/main/Day-14/solve_ivp_structure.png?raw=true\" alt=\"solve-ivp-structure\" border=\"0\" width=1200>"
   ]
  },
  {
   "cell_type": "markdown",
   "metadata": {},
   "source": [
    "## Code snippets\n",
    "\n",
    "These don't necessarily work since they're cut from their original sources, but they've got some bits I could use"
   ]
  },
  {
   "cell_type": "code",
   "execution_count": 9,
   "metadata": {},
   "outputs": [
    {
     "ename": "NameError",
     "evalue": "name 'gdp' is not defined",
     "output_type": "error",
     "traceback": [
      "\u001b[1;31m---------------------------------------------------------------------------\u001b[0m",
      "\u001b[1;31mNameError\u001b[0m                                 Traceback (most recent call last)",
      "\u001b[1;32mc:\\Users\\andre\\the actual coding folder\\cautious-adventure\\my stuff\\cmse\\portfolio.ipynb Cell 13\u001b[0m line \u001b[0;36m1\n\u001b[1;32m----> <a href='vscode-notebook-cell:/c%3A/Users/andre/the%20actual%20coding%20folder/cautious-adventure/my%20stuff/cmse/portfolio.ipynb#X15sZmlsZQ%3D%3D?line=0'>1</a>\u001b[0m gdp \u001b[39m=\u001b[39m gdp\u001b[39m.\u001b[39mdrop([\u001b[39m'\u001b[39m\u001b[39mCountry Name\u001b[39m\u001b[39m'\u001b[39m,\u001b[39m'\u001b[39m\u001b[39mCountry Code\u001b[39m\u001b[39m'\u001b[39m,\u001b[39m'\u001b[39m\u001b[39mIndicator Name\u001b[39m\u001b[39m'\u001b[39m,\u001b[39m'\u001b[39m\u001b[39mIndicator Code\u001b[39m\u001b[39m'\u001b[39m]) \u001b[39m#drop columns by key\u001b[39;00m\n\u001b[0;32m      <a href='vscode-notebook-cell:/c%3A/Users/andre/the%20actual%20coding%20folder/cautious-adventure/my%20stuff/cmse/portfolio.ipynb#X15sZmlsZQ%3D%3D?line=1'>2</a>\u001b[0m gdp \u001b[39m=\u001b[39m gdp\u001b[39m.\u001b[39mdropna(axis\u001b[39m=\u001b[39m\u001b[39m\"\u001b[39m\u001b[39mcolumns\u001b[39m\u001b[39m\"\u001b[39m, how\u001b[39m=\u001b[39m\u001b[39m\"\u001b[39m\u001b[39mall\u001b[39m\u001b[39m\"\u001b[39m) \u001b[39m# drop empty columns, like the last column in gdp\u001b[39;00m\n\u001b[0;32m      <a href='vscode-notebook-cell:/c%3A/Users/andre/the%20actual%20coding%20folder/cautious-adventure/my%20stuff/cmse/portfolio.ipynb#X15sZmlsZQ%3D%3D?line=2'>3</a>\u001b[0m gdp \u001b[39m=\u001b[39m gdp\u001b[39m.\u001b[39mdropna()\u001b[39m#how='any') # drop rows with NaNs, like Aruba and Angola\u001b[39;00m\n",
      "\u001b[1;31mNameError\u001b[0m: name 'gdp' is not defined"
     ]
    }
   ],
   "source": [
    "gdp = gdp.drop(['Country Name','Country Code','Indicator Name','Indicator Code']) #drop columns by key\n",
    "gdp = gdp.dropna(axis=\"columns\", how=\"all\") # drop empty columns, like the last column in gdp\n",
    "gdp = gdp.dropna()#how='any') # drop rows with NaNs, like Aruba and Angola\n",
    "gdp.head()\n",
    "gdp.keys()\n",
    "\n",
    "# The following line is provided to help get you started, you need to decide what to use for the \"x\" argument\n",
    "plt.axvline(np.mean(random_distribution),linewidth=2, color='b',label = \"Mean\")\n",
    "plt.axvline(np.median(random_distribution),linewidth=2, color='r',label = \"Median\")\n",
    "plt.legend()\n",
    "\n",
    "alldata = np.loadtxt(\"michigan_pop.csv\", usecols = (0,1), skiprows = 1, delimiter=',') # example for the michigan population file\n",
    "\n",
    "Example_DataFrame = pd.DataFrame([['A',0,1,2,3],['B',4,5,6,7],['C',8,9,10,11],['D',12,13,14,15]]) #Creates an example dataframe \n",
    "\n",
    "plt.hist(PbBottles1,11)\n",
    "plt.axvline(15, color = 'red')\n",
    "plt.xlabel('Lead ppm')\n",
    "plt.ylabel('Count')\n",
    "plt.title('Flint the Musical')\n",
    "plt.yscale('log')\n",
    "#plt.grid(True)\n",
    "\n",
    "nations = gini['name']\n",
    "unemployment = unemployment.set_index('name')\n",
    "unemployment = unemployment.reindex(nations)\n",
    "\n",
    "#matplot time\n",
    "fig, (ax0, ax1) = plt.subplots(ncols=2, figsize=(9, 4))\n",
    "hb = ax0.hexbin(gini['value'], unemployment['value'], gridsize=20, cmap='inferno')\n",
    "ax0.xlim=gini_lim\n",
    "ax0.ylim=unemployment_lim\n",
    "ax0.set_title(\"Gini Index vs Life Expectancy\")\n",
    "cb = fig.colorbar(hb, ax=ax0)\n",
    "ax0.set_xlabel('Gini Index')\n",
    "ax0.set_ylabel('Unemployment (%)')\n",
    "#ax0.set_yscale('log')\n",
    "\n",
    "import matplotlib.pyplot as plt\n",
    "%matplotlib inline\n",
    "\n",
    "plt.plot(x_data,y_data,label=\"X Data\")\n",
    "plt.xlabel(\"X Data\")\n",
    "plt.ylabel(\"Y Data\")\n",
    "plt.title(\"X Vs. Y Dataset\")\n",
    "plt.grid()"
   ]
  },
  {
   "cell_type": "markdown",
   "metadata": {},
   "source": [
    "These ones actually run"
   ]
  },
  {
   "cell_type": "code",
   "execution_count": null,
   "metadata": {},
   "outputs": [
    {
     "name": "stdout",
     "output_type": "stream",
     "text": [
      "Using arange I get: [0 1 2 3 4 5 6 7 8 9]\n",
      "Using linspace I get: [0. 1. 2. 3. 4. 5. 6. 7. 8. 9.]\n"
     ]
    }
   ],
   "source": [
    "my_array_range = np.arange(0,10,1) # Make sure you understand how this line is different...\n",
    "my_array_linspace = np.linspace(0,9,10) # ... than this line\n",
    "print(\"Using arange I get:\", my_array_range)\n",
    "print(\"Using linspace I get:\", my_array_linspace)"
   ]
  },
  {
   "cell_type": "code",
   "execution_count": null,
   "metadata": {},
   "outputs": [
    {
     "name": "stdout",
     "output_type": "stream",
     "text": [
      "   Col_1  Col_2  Col_3  Col_4\n",
      "A      0      1      2      3\n",
      "B      4      5      6      7\n",
      "C      8      9     10     11\n",
      "D     12     13     14     15\n",
      "0\n",
      "Col_1    4\n",
      "Col_2    5\n",
      "Col_3    6\n",
      "Col_4    7\n",
      "Name: B, dtype: int64\n",
      "Col_1    4\n",
      "Col_2    5\n",
      "Col_3    6\n",
      "Col_4    7\n",
      "Name: B, dtype: int64\n",
      "Col_1    4\n",
      "Col_2    5\n",
      "Col_3    6\n",
      "Col_4    7\n",
      "Name: B, dtype: int64\n"
     ]
    }
   ],
   "source": [
    "Example_DataFrame = pd.DataFrame([['A',0,1,2,3],['B',4,5,6,7],['C',8,9,10,11],['D',12,13,14,15]]) #Creates an example dataframe \n",
    "\n",
    "Example_DataFrame.index = Example_DataFrame[0] # Reads the first column\n",
    "#print(Example_DataFrame)\n",
    "\n",
    "Example_DataFrame = Example_DataFrame.iloc[:,1:] # selects all rows and all columns, skipping the first column (index 0)\n",
    "#print(Example_DataFrame)\n",
    "\n",
    "#print('name',Example_DataFrame.index.name)\n",
    "Example_DataFrame.index.name = None # This line is removing the column header for the index column\n",
    "#print(Example_DataFrame)\n",
    "#print(Example_DataFrame.index.name)\n",
    "\n",
    "Example_DataFrame.columns = ['Col_1', 'Col_2', 'Col_3','Col_4'] # names the columns 'Col_n' \n",
    "\n",
    "print(Example_DataFrame.head())\n",
    "\n",
    "\n",
    "print(Example_DataFrame['Col_1'].loc['A'])\n",
    "\n",
    "#Index Row B with loc\n",
    "print(Example_DataFrame.loc['B'])\n",
    "\n",
    "#Index Row B with .iloc\n",
    "print(Example_DataFrame.iloc[1])\n",
    "#Or\n",
    "#Index Row B with .iloc\n",
    "print(Example_DataFrame.iloc[1,:])"
   ]
  },
  {
   "cell_type": "markdown",
   "metadata": {},
   "source": [
    "#### Assorted notes"
   ]
  },
  {
   "cell_type": "code",
   "execution_count": 12,
   "metadata": {},
   "outputs": [
    {
     "data": {
      "text/plain": [
       "array([ 0.,  2.,  4.,  6.,  8., 10.])"
      ]
     },
     "execution_count": 12,
     "metadata": {},
     "output_type": "execute_result"
    }
   ],
   "source": [
    "#Linspace splits by buckets\n",
    "time = np.linspace(0,10,6)\n",
    "time #you always need one more bucket than you think to contain 0\n",
    "\n"
   ]
  },
  {
   "cell_type": "code",
   "execution_count": 3,
   "metadata": {},
   "outputs": [
    {
     "name": "stdout",
     "output_type": "stream",
     "text": [
      "0\n",
      "    A   B\n",
      "0  1  10\n",
      "1  2  20\n",
      "2  3  30\n",
      "3  4  40\n",
      "4  5  50\n",
      "1\n",
      "    A   B\n",
      "2  3  30\n",
      "3  4  40\n",
      "4  5  50\n",
      "2\n",
      " 3\n",
      "3\n",
      "    A   B\n",
      "0  1   0\n",
      "1  2   0\n",
      "2  3  30\n",
      "3  4  40\n",
      "4  5  50\n",
      "4\n",
      "    A   B\n",
      "0  1   0\n",
      "1  2   0\n",
      "2  3  30\n",
      "3  4  40\n",
      "4  5  50\n",
      "5\n",
      "    A   B\n",
      "2  3  30\n"
     ]
    }
   ],
   "source": [
    "import pandas as pd\n",
    "\n",
    "data = {'A': [1, 2, 3, 4, 5],\n",
    "        'B': [10, 20, 30, 40, 50]}\n",
    "\n",
    "df = pd.DataFrame(data)\n",
    "print('0\\n',df)\n",
    "#1 Filtering rows where column A is greater than 2\n",
    "result = df[df['A'] > 2]\n",
    "print('1\\n',result)\n",
    "#2 Count of rows where A is greater than 2\n",
    "count = (df['A'] > 2).sum()\n",
    "print('2\\n',count)\n",
    "#3 Set column B to 0 for rows where A is less than 3\n",
    "dfclone = df\n",
    "dfclone.loc[df['A'] < 3, 'B'] = 0\n",
    "print('3\\n',dfclone)\n",
    "#4 Rows where column A is not null\n",
    "result = df[df['A'].notna()]\n",
    "print('4\\n',result)\n",
    "#5 Rows where A is greater than 2 and B is less than 40\n",
    "result = df[(df['A'] > 2) & (df['B'] < 40)]\n",
    "print('5\\n',result)"
   ]
  },
  {
   "cell_type": "markdown",
   "metadata": {},
   "source": [
    "I don't really want to do a code portfolio but I need to to get full points. Here's some more code snippets so I can get points"
   ]
  },
  {
   "cell_type": "markdown",
   "metadata": {},
   "source": [
    "board-type code"
   ]
  },
  {
   "cell_type": "code",
   "execution_count": null,
   "metadata": {},
   "outputs": [],
   "source": [
    "# Finish this code\n",
    "def onBoard(i, j, image):\n",
    "    ni = image.shape[0] # number of pixels (height)\n",
    "    nj = image.shape[1] # number of pixels (width)\n",
    "    if i <= ni-1 and i >= 0 and j <= nj-1 and j>=0: # You need some more conditions here! \n",
    "                                         # We've checked i, but what about j?\n",
    "        return True\n",
    "    else:\n",
    "        return False"
   ]
  },
  {
   "cell_type": "markdown",
   "metadata": {},
   "source": [
    "more masking stuff"
   ]
  },
  {
   "cell_type": "code",
   "execution_count": null,
   "metadata": {},
   "outputs": [],
   "source": [
    "# Check out the | operator.  It acts like \"or\" to combine two different conditions\n",
    "mask_red = (beach_red < avg_red - tolerance) | (beach_red > avg_red + tolerance) \n",
    "mask_green = (beach_green < avg_green - tolerance) | (beach_green > avg_green + tolerance) \n",
    "mask_blue = (beach_blue < avg_blue - tolerance) | (beach_blue > avg_blue + tolerance) \n"
   ]
  },
  {
   "cell_type": "markdown",
   "metadata": {},
   "source": [
    "masking"
   ]
  },
  {
   "cell_type": "code",
   "execution_count": null,
   "metadata": {},
   "outputs": [],
   "source": [
    "##The following code separates out the red, blue, and green components for each of the pixels in our image\n",
    "red_array, green_array, blue_array = picture_array[:,:,0], picture_array[:,:,1], picture_array[:,:,2]"
   ]
  },
  {
   "cell_type": "markdown",
   "metadata": {},
   "source": [
    "board-type code"
   ]
  },
  {
   "cell_type": "code",
   "execution_count": null,
   "metadata": {},
   "outputs": [],
   "source": [
    "def fast_advance_board(game_board,firelist):\n",
    "    '''\n",
    "    Advances the game board quickly.\n",
    "    Input: the initial game board and locations that will need updates.\n",
    "    Output: the advanced game board and new update locations\n",
    "    '''\n",
    "\n",
    "    new_fire = []\n",
    "\n",
    "    for i,j in firelist:\n",
    "        #print(i,j)\n",
    "        neigbors = locate_neighbors(i,j)\n",
    "        \n",
    "        for neighbor in neigbors:\n",
    "            if onBoard(neighbor[0],neighbor[1],game_board):\n",
    "                if game_board[neighbor[0],neighbor[1]] == 1:\n",
    "                    game_board[neighbor[0],neighbor[1]] = 2\n",
    "                    new_fire.append((neighbor[0],neighbor[1]))\n",
    "        game_board[i,j] = 0\n",
    "    #print(len(firelist))\n",
    "    #print(len(new_fire))\n",
    "    # return the new board\n",
    "    return game_board, list(set(new_fire))"
   ]
  },
  {
   "cell_type": "markdown",
   "metadata": {},
   "source": [
    "model of difeq equation & solution"
   ]
  },
  {
   "cell_type": "code",
   "execution_count": null,
   "metadata": {},
   "outputs": [],
   "source": [
    "def LVnew(time, current_state, alpha, beta, delta, gamma, pcap):\n",
    "    \n",
    "    prey = current_state[0]\n",
    "    predators = current_state[1]\n",
    "    \n",
    "    dprey_dt = alpha*prey*(1-prey/pcap) - beta*prey*predators\n",
    "    dpredators_dt = delta*prey*predators - gamma*predators\n",
    "    \n",
    "    return [dprey_dt, dpredators_dt]\n",
    "\n",
    "alpha = 1\n",
    "beta = 4/3\n",
    "delta = 1\n",
    "gamma = 1\n",
    "pcap = 4\n",
    "initial_conditions = [1,.1]\n",
    "time = np.linspace(0,30,1000)\n",
    "\n",
    "result = solve_ivp(LVnew, (0,30),initial_conditions, t_eval = time, args=(alpha, beta, delta, gamma,pcap))\n",
    "                        #(0,30) is time frame\n",
    "prey = result.y[0,:]\n",
    "predators = result.y[1,:]"
   ]
  },
  {
   "cell_type": "markdown",
   "metadata": {},
   "source": [
    "basic data cleaning"
   ]
  },
  {
   "cell_type": "code",
   "execution_count": null,
   "metadata": {},
   "outputs": [],
   "source": [
    "# put your code here\n",
    "data = pd.read_csv('estimated_crimes_1979_2022.csv')\n",
    "#data.head()\n",
    "data_without_nan = data.dropna(subset=['state_abbr'])\n",
    "data_without_nan_dropped = data_without_nan.dropna(axis=1)\n",
    "data_without_nan_dropped.head()\n"
   ]
  }
 ],
 "metadata": {
  "kernelspec": {
   "display_name": "Python 3",
   "language": "python",
   "name": "python3"
  },
  "language_info": {
   "codemirror_mode": {
    "name": "ipython",
    "version": 3
   },
   "file_extension": ".py",
   "mimetype": "text/x-python",
   "name": "python",
   "nbconvert_exporter": "python",
   "pygments_lexer": "ipython3",
   "version": "3.11.7"
  }
 },
 "nbformat": 4,
 "nbformat_minor": 2
}
