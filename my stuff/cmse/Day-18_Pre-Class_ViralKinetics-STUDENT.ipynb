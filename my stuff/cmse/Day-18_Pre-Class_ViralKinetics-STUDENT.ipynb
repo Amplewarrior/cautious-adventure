{
 "cells": [
  {
   "cell_type": "markdown",
   "metadata": {},
   "source": [
    "# Day 18 Pre-Class: Viral Kinetics"
   ]
  },
  {
   "cell_type": "markdown",
   "metadata": {},
   "source": [
    "### <p style=\"text-align: right;\"> &#9989; Put your name here</p>"
   ]
  },
  {
   "cell_type": "markdown",
   "metadata": {},
   "source": [
    "### Goals for today's pre-class assignment:\n",
    "* Practice using `solve_ivp` to build a viral kinetics model\n",
    "* Once you have a functioning model, explore the impact that various parameters have on the model's behavior\n",
    "\n",
    "### Assignment instructions\n",
    "\n",
    "**This assignment is due by 11:59 p.m. the day before class,** and should be uploaded into the appropriate \"Pre-class assignments\" submission folder.  Submission instructions can be found at the end of the notebook.\n",
    "____"
   ]
  },
  {
   "cell_type": "markdown",
   "metadata": {},
   "source": [
    "Before we get started, we're going to import all of the necessary libraries. Note that we're using [**SciPy**](https://www.scipy.org/)'s `solve_ivp` package, we've worked with recently. `solve_ivp` accurately and quickly solves wide classes of ODEs. Make sure you execute the cell!"
   ]
  },
  {
   "cell_type": "code",
   "execution_count": null,
   "metadata": {},
   "outputs": [],
   "source": [
    "import matplotlib.pyplot as plt\n",
    "from mpl_toolkits.mplot3d import Axes3D\n",
    "import numpy as np\n",
    "%matplotlib inline\n",
    "\n",
    "# Note that the SciPy library is needed for solve_ivp\n",
    "from scipy.integrate import solve_ivp"
   ]
  },
  {
   "cell_type": "markdown",
   "metadata": {},
   "source": [
    "---\n",
    "Now, execute the cell below and watch the video about **Ordinary Differential Equations (ODEs) and Compartmental Modeling**. Compartmental models are really useful when we can divide up a system into distinct populations or quantities and then define equations for how those populations/quantities evolve and interact. After you watch the video, you'll have a chance to build your own compartmental model to understand how viruses spread."
   ]
  },
  {
   "cell_type": "code",
   "execution_count": 1,
   "metadata": {},
   "outputs": [
    {
     "data": {
      "image/jpeg": "[encoded data removed]",
      "text/html": [
       "\n",
       "        <iframe\n",
       "            width=\"640\"\n",
       "            height=\"360\"\n",
       "            src=\"https://www.youtube.com/embed/0N3qB5vaJhA\"\n",
       "            frameborder=\"0\"\n",
       "            allowfullscreen\n",
       "            \n",
       "        ></iframe>\n",
       "        "
      ],
      "text/plain": [
       "<IPython.lib.display.YouTubeVideo at 0x208cbc1d100>"
      ]
     },
     "execution_count": 1,
     "metadata": {},
     "output_type": "execute_result"
    }
   ],
   "source": [
    "from IPython.display import YouTubeVideo \n",
    "YouTubeVideo(\"0N3qB5vaJhA\",width=640,height=360)"
   ]
  },
  {
   "cell_type": "markdown",
   "metadata": {},
   "source": [
    "### Now that we know a bit more about compartmental models, let's dig into the following model for Viral Infections!"
   ]
  },
  {
   "cell_type": "markdown",
   "metadata": {},
   "source": [
    "<img src=\"http://www.frontiersin.org/files/Articles/32842/fmicb-03-00319-HTML/image_m/fmicb-03-00319-g001.jpg\" height=700 width = 600>"
   ]
  },
  {
   "cell_type": "markdown",
   "metadata": {},
   "source": [
    "____\n",
    "# Viral Infections\n",
    "____\n",
    "\n",
    "Viral infections are one the main causes of disease in humans and recently have been the reason behind the global COVID-19 pandemic. Along with bacteria and parasite infections, viral infections are caused by the introduction of a microscopic \"organism\" into our bodies. Sometimes these viruses live in our bodies throughout our lifetime with little damage; sometimes, they quickly kill us. \n",
    "\n",
    "We would like to build a model for how viruses infected the cells of our body. We will consider an infection in which our immune system is able to clear the virus. Since winter is coming, consider this to be the influenza virus. \n",
    "\n",
    "How do viruses work? We need to understand a bit about this in order to build our model. The most important feature is that viruses cannot reproduce on their own - that is what they need you for. Your body, to a virus, is simply a factory for making and spreading more of them. If virions were writing the history books, humans would simply be their maternity ward. The way this works is that virions enter your cells, where there is a factory at work to keep the cell functioning, and they give all of the factory workers new instructions. A factory that was making cars, once the virions enter, is now making laptops; or, in this case, rather than keeping the cell alive and healthy, the machinery of the cells makes more virions. For every virion that enters a cell, that cell might make hundreds of new virions, leading to a population explosion. Your body will need to quickly mount an immune response to keep this under control. \n",
    "\n",
    "What compartments might we need? (Look at the picture above.)\n",
    "* **T**arget cells; these are the healthy cells the virion might enter\n",
    "* **I**nfected cell; these cells produce new virions, and might die over time\n",
    "* **V**irion population; the number of virions at any given time during the infection\n",
    "\n",
    "What parameters will we need?\n",
    "* rate at which cells become infected: this reduces the value of T and increases the value of I\n",
    "* the production rate of new virions, which increases the value of V\n",
    "* rate at which infected cells die\n",
    "* rate at which virions degrade and leave the system\n",
    "\n",
    "\n",
    "____\n",
    "### Viral Kinetics (VK) Model\n",
    "____\n",
    "\n",
    "A simple model is then:\n",
    "$$\\frac{dT}{dt} = -\\beta TV,$$ \n",
    "\n",
    "$$\\frac{dI}{dt} = \\beta TV - \\delta I,$$ \n",
    "\n",
    "$$\\frac{dV}{dt} = pI - rV.$$\n",
    "\n",
    "Models like this are called \"viral kinetics\" models, or **VK** for short. Note that due to terms like $TV$, these are non-linear ODEs and almost never have simply solution: we need a computational approach. But, because this is so incredibly common, nice Python libraries make this super easy."
   ]
  },
  {
   "cell_type": "markdown",
   "metadata": {},
   "source": [
    "____\n",
    "### REVIEW: Setting up `solve_ivp()`\n",
    "\n",
    "Let's pause our focus on VK modeling to examine how we can set up all problems of this type.\n",
    "\n",
    "You've already spent some time working with `solve_ivp()`, but we're including the following information to provide a more detailed framework for how you can think about using `solve_ivp()` to solve a system of ODEs. Watch the video in the cell below for a review!"
   ]
  },
  {
   "cell_type": "markdown",
   "metadata": {},
   "source": [
    "## Click on the link to watch the video with Mediaspace\n",
    "\n",
    "## [Video for a review of solve_ivp()](https://mediaspace.msu.edu/media/Rachel+Frisbie+%28she+her%29%27s+Personal+Meeting+Room/1_kr9qqpas) via Mediaspace!\n"
   ]
  },
  {
   "cell_type": "markdown",
   "metadata": {},
   "source": [
    "-----\n",
    "To solve the ODE model we will use the `solve_ivp()` library. This library solves ODEs using very accurate algorithms, far more powerful than the simple \"update equation\" method we've used previously. \n",
    "\n",
    "In Summary:\n",
    "\n",
    "1. Define derivative function\n",
    "    * Express your model in terms of ODEs\n",
    "    * Function must have time (independent variable) as first argument\n",
    "    * Must have y as second argument (y contains all of your unknowns of interest; if you have 4 differential equations, you have 4 values in y)\n",
    "    * Should return derivatives in same order as y (if you have 4 differential equations, this returns 4 derivatives) \n",
    "2. Initialize y (initial conditions)\n",
    "    * y is a list/array of initial values for all of your unknowns\n",
    "3. Set time array\n",
    "    * array of locations/times of your independent variable for which you want to know the value of y\n",
    "4. Call `solve_ivp()`\n",
    "    * Returns solution (values of y for each time).\n",
    "\n",
    "Importantly, `solve_ivp()` has no idea what _your_ ODEs are, so it must provide a structure that can work for almost everyone's computational model. Once you learn this structure, you can easily use `solve_ivp()` for almost all of your ODE models. Modeling with ODEs then becomes these steps:\n",
    "1. develop your model, perhaps using the compartmental modeling approach\n",
    "2. transform the ODE model into the standard form `solve_ivp()` uses universally\n",
    "3. follow the steps above to write your code\n",
    "\n",
    "In the exercise below, our VK model has been developed and we have our ODEs, so we can go straight to writing code!\n",
    "\n",
    "<!--Most mathematical libraries follow a simple format: you pass something in and it passes something back to you. A very simple example is `sin(x)`; you send it `x` and it gives you back `sin(x)` using some unknown-to-us algorithm. However, there are libraries that follow a different format because they involve us defining functions. One example is finding the roots (zeros) of an equation, as in `f(x) = 0`. In this case we need to tell Python what `f(x)` is before it can help us. Another example is fitting data to a model with a specific form; again, we need to tell Python what our model is in advance by creating a function that is based our model (then we can pass this function to something like `curve_fit`).\n",
    "\n",
    "In the case of ODEs, we need to somehow give Python our ODEs and then tell `solve_ivp` to solve those. This is handled with `solve_ivp` in the following seven-step process:\n",
    "1. **express your model** in terms of a system of ODEs (where changes in quantities are equal to gains minus losses)\n",
    "2. **define a function** (using `def`) that accepts the following input arguments:  the independent variable (e.g., time), the current values of the variables, and any additional parameters needed for the ODE model. The function should compute and return the derivatives for the ODE model using the input arguments.\n",
    "3. **set up the initial conditions** for your ODE model\n",
    "4. **decide how many steps** you would like to take to get the solution\n",
    "5. **define any parameters** that appear in your model\n",
    "6. **call the `solve_ivp` library** and pass as arguments the name of your function, the initial conditions, the time values for the model results, and all necessary equation parameters (using the `args` arguments for the `solve_ivp`, which must be given a tuple)\n",
    "7. **process the results** as needed, usually starting with plotting the results\n",
    "\n",
    "\n",
    ". -->\n",
    "\n",
    "___\n",
    "#### If you would like to review a worked example to help build your model, scroll down to the end of this notebook. At this point we've already done some ODE modeling, so we're going to charge forward with our VK model!"
   ]
  },
  {
   "cell_type": "markdown",
   "metadata": {},
   "source": [
    "____\n",
    "### Time to write some code!\n",
    "____\n",
    "\n",
    "Using this template, fill in your code below for the VK model given above. Here it is again, so that you don't need to keep scrolling up and down:\n",
    "$$\\frac{dT}{dt} = -\\beta TV,$$\n",
    "\n",
    "$$\\frac{dI}{dt} = \\beta TV - \\delta I,$$\n",
    "\n",
    "$$\\frac{dV}{dt} = pI - rV.$$\n"
   ]
  },
  {
   "cell_type": "markdown",
   "metadata": {},
   "source": [
    "____\n",
    "#### Step 1: Setting up the ODEs\n",
    "\n",
    "The comparmental model is given to you, and it has already been converted to ODEs in the form `solve_ivp` wants (see the equations above); you just need to complete the remaining steps."
   ]
  },
  {
   "cell_type": "markdown",
   "metadata": {},
   "source": [
    "____\n",
    "#### Step 2: Define the derivatives function\n",
    "____"
   ]
  },
  {
   "cell_type": "code",
   "execution_count": null,
   "metadata": {},
   "outputs": [],
   "source": [
    "# STEP 2: define the function that contains the derivatives\n",
    "def derivs(t, curr_vals, beta, delta, p, r):\n",
    "    \"\"\"\n",
    "    Calculate the LHS of the above equations\n",
    "\n",
    "    Input\n",
    "    -----\n",
    "    t : array, list, or scalar float\n",
    "        Time in sec\n",
    "\n",
    "    curr_vals : array,\n",
    "        Current values of the LHS\n",
    "\n",
    "    beta : float\n",
    "        Infection rate\n",
    "\n",
    "    delta : float\n",
    "        Death rate\n",
    "\n",
    "    p : float\n",
    "        Production rate\n",
    "\n",
    "    r : float\n",
    "        Degradation rate\n",
    "\n",
    "    Return\n",
    "    ------\n",
    "    Fill in this part\n",
    "    \"\"\"\n",
    "\n",
    "    # unpack list of incoming variables\n",
    "\n",
    "    # use variables to compute derivatives on the right-hand-side of the above equations\n",
    "    # example: dTdt = < equation from above >\n",
    "\n",
    "    # return the derivatives in a list by changing the \"pass\" to \"return\" along with the correct list\n",
    "    pass"
   ]
  },
  {
   "cell_type": "markdown",
   "metadata": {},
   "source": [
    "____\n",
    "#### Step 3: Define initial conditions\n",
    "\n",
    "Since you might not have a sense for a reasonable set of initial conditions for this problem. We've defined some for you.\n",
    "____"
   ]
  },
  {
   "cell_type": "code",
   "execution_count": null,
   "metadata": {},
   "outputs": [],
   "source": [
    "# STEP 3: define the initial conditions\n",
    "target_0 = 4e8\n",
    "infected_0 = 0.0\n",
    "virions_0 = 1.0\n",
    "# Here we put them all into a list so that they can be passed to solve_ivp\n",
    "initial = [target_0, infected_0, virions_0]"
   ]
  },
  {
   "cell_type": "markdown",
   "metadata": {},
   "source": [
    "___\n",
    "#### Step 4: Define interval over which we want a solution\n",
    "\n",
    "Think about how long you run to run your model for and choose a time range as well as the number of time increments you want. You may end up coming back to tweak this once you run your model if the results don't end up very interesting or don't make sense. The easiest way to create this array of time values is by using NumPy!\n",
    "___"
   ]
  },
  {
   "cell_type": "code",
   "execution_count": null,
   "metadata": {},
   "outputs": [],
   "source": [
    "# STEP 4: add time array here\n"
   ]
  },
  {
   "cell_type": "markdown",
   "metadata": {},
   "source": [
    "___\n",
    "#### Step 5: Define the parameters of the model\n",
    "\n",
    "Again, since you might not have a good sense for what some reasonable choices might be, we've provided some as a starting point for your exploration.\n",
    "___"
   ]
  },
  {
   "cell_type": "code",
   "execution_count": null,
   "metadata": {},
   "outputs": [],
   "source": [
    "# STEP 5: define model parameters here\n",
    "beta = 1e-5\n",
    "delta = 4.0\n",
    "p = 1e-2\n",
    "r = 1"
   ]
  },
  {
   "cell_type": "markdown",
   "metadata": {},
   "source": [
    "____\n",
    "#### Step 6: Call `solve_ivp` to get a solution.\n",
    "____"
   ]
  },
  {
   "cell_type": "code",
   "execution_count": null,
   "metadata": {},
   "outputs": [],
   "source": [
    "# STEP 6: pass everything to `solve_ivp`, store the solution, and unpack it\n",
    "# into a useful set of lists/arrays for later use\n",
    "# Make sure to pass _all_ of the model parameters from Step 5 as a tuple to \"args\"\n"
   ]
  },
  {
   "cell_type": "markdown",
   "metadata": {},
   "source": [
    "____\n",
    "#### Step 7: Visualize Results\n",
    "____\n",
    "Make a quad plot, using `subplot`, that contains:\n",
    "* target cell population versus time\n",
    "* viral load versus time\n",
    "* infected cell population versus time\n",
    "* a [3D plot](https://matplotlib.org/tutorials/toolkits/mplot3d.html) of V versus T and I (some code for this has been provided for you)\n",
    "\n",
    "Make sure to have everything labeled, titled, grids and legends as appropriate. "
   ]
  },
  {
   "cell_type": "code",
   "execution_count": null,
   "metadata": {},
   "outputs": [],
   "source": [
    "# STEP 7: use the results for something; here, plot the solutions\n",
    "\n",
    "# This initializes a figure object\n",
    "fig = plt.figure(figsize=(15,8))\n",
    "\n",
    "# You need to put the code for the first three plots here\n",
    "\n",
    "\n",
    "\n",
    "# A bit of the code necessary for the 3D plot is included here\n",
    "# you need to fill in the arguments for the `plot` command though!\n",
    "ax4 = plt.subplot(2,2,4, projection = '3d')\n",
    "plt.plot(...) # fill this in and make sure the order matches the labels below!\n",
    "ax4.set_xlabel(\"T\")\n",
    "ax4.set_ylabel(\"I\")\n",
    "ax4.set_zlabel(\"V\")\n",
    "\n",
    "# Make sure to call this last. This command resizes the spaces between your plots to try to avoid overlap.\n",
    "plt.tight_layout()"
   ]
  },
  {
   "cell_type": "markdown",
   "metadata": {},
   "source": [
    "____\n",
    "### Modeling\n",
    "\n",
    "Now, think of a modeling question you have. For example, if the virion degradation rate $r$ were larger - what would happen? What if the initial viral load were much higher - what would happen? Phrase your question, change the initial conditions and/or parameters to answer your question, run the new model, and plot the results.\n",
    "\n",
    "**Edit these next two lines with your question and what you changed:**\n",
    "* My modeling question is: What if the infection rate, beta, were higher?\n",
    "* I changed the basic model by: Increasing beta\n",
    "___"
   ]
  },
  {
   "cell_type": "code",
   "execution_count": null,
   "metadata": {},
   "outputs": [],
   "source": [
    "# Code for my new model.\n"
   ]
  },
  {
   "cell_type": "code",
   "execution_count": null,
   "metadata": {},
   "outputs": [],
   "source": [
    "# Plot code for my new model\n"
   ]
  },
  {
   "cell_type": "markdown",
   "metadata": {},
   "source": [
    "---\n",
    "### Assignment wrapup\n",
    "\n",
    "Please fill out the form that appears when you run the code below.  **You must completely fill this out in order to receive credit for the assignment!**"
   ]
  },
  {
   "cell_type": "code",
   "execution_count": null,
   "metadata": {},
   "outputs": [],
   "source": [
    "from IPython.display import HTML\n",
    "HTML(\n",
    "\"\"\"\n",
    "<iframe \n",
    "\tsrc=\"https://cmse.msu.edu/cmse201-pc-survey\" \n",
    "\twidth=\"800px\" \n",
    "\theight=\"600px\" \n",
    "\tframeborder=\"0\" \n",
    "\tmarginheight=\"0\" \n",
    "\tmarginwidth=\"0\">\n",
    "\tLoading...\n",
    "</iframe>\n",
    "\"\"\"\n",
    ")"
   ]
  },
  {
   "cell_type": "markdown",
   "metadata": {},
   "source": [
    "### Congratulations, you're done!\n",
    "\n",
    "Submit this assignment by uploading it to the course D2L web page.  Go to the \"Pre-class assignments\" folder, find the appropriate submission link, and upload it there.\n",
    "\n",
    "See you in class!"
   ]
  },
  {
   "cell_type": "markdown",
   "metadata": {},
   "source": [
    "___\n",
    "### A worked example\n",
    "___\n",
    "Let's look at an example you can base your codes on and solve some equations. This example is for a simple oscillator system (think: spring or pendulum) where the effects of friction are included:\n",
    "\n",
    "$$\\frac{dx}{dt} = y,$$\n",
    "$$\\frac{dy}{dt} = -x-\\theta y,$$\n",
    "$$x(0) = x_0,$$\n",
    "$$y(0) = y_0.$$\n",
    "\n",
    "Finding a mathematical solution to this system is non-trivial, but thanks to `solve_ivp`, you mostly don't need to worry about this issue - let the computer do it! \n",
    "\n",
    "Below is a complete, worked example that you can use as a template for building a very wide range of ODE solutions. Notice that step 1 from above is already done - the equations in the standard form are provided.\n",
    "___"
   ]
  },
  {
   "cell_type": "code",
   "execution_count": null,
   "metadata": {},
   "outputs": [],
   "source": [
    "# IMPORTANT IMPORT COMMANDS\n",
    "import matplotlib.pyplot as plt\n",
    "from mpl_toolkits.mplot3d import Axes3D\n",
    "import numpy as np\n",
    "%matplotlib inline\n",
    "\n",
    "# Note that the SciPy library is needed for odeint\n",
    "from scipy.integrate import solve_ivp\n",
    "\n",
    "### CODE FOR ODE SOLUTION FOR OSCILLATOR\n",
    "# STEP 2: define your ODE system of equations\n",
    "def deriv_func(t, curr_vals, theta):\n",
    "    \n",
    "    # unpack list coming in that contains current values\n",
    "    x = curr_vals[0]\n",
    "    y = curr_vals[1]\n",
    "    \n",
    "    # the right-hand-side of the ODE system of equations\n",
    "    dxdt = y\n",
    "    dydt = -x - theta*y\n",
    "    \n",
    "    # send back the derivatives\n",
    "    return [dxdt, dydt]\n",
    "\n",
    "# STEP 3: setup up the initial conditions\n",
    "x_0 = 0.0   # initial x\n",
    "y_0 = 1.0   # initial y\n",
    "ICs = [x_0, y_0]       # initial conditions, \"ICs\", in a list\n",
    "\n",
    "# STEP 4: define time steps to use\n",
    "time_grid  = np.linspace(0, 10., 1000)   # time grid\n",
    "\n",
    "# STEP 5: define the any parameters needed for model\n",
    "theta = 0.5 # we need to make sure we pass this to solve_ivp using the \"args\" keyword argument, see how in the code below\n",
    "\n",
    "# STEP 6: solve the equations and access the solution\n",
    "# solve the ODEs (finally!) by giving solve_ivp the derivative function,\n",
    "# the initial conditions, and the grid over which we want a solution\n",
    "solution = solve_ivp(deriv_func, (0,10), ICs, t_eval = time_grid, args=(theta,))  # note the syntax of this call to solve_ivp, especially the \"args\" part\n",
    "# unpack the solution into its parts\n",
    "x_vals = solution.y[0, :] # what does this slicing mean?\n",
    "y_vals = solution.y[1, :]\n",
    "\n",
    "# STEP 7: process your results (here, into visualization)\n",
    "# let's see what we got! so much suspense!\n",
    "plt.subplot(211)\n",
    "plt.plot(time_grid, x_vals, label='x')\n",
    "plt.plot(time_grid, y_vals, label='y')\n",
    "plt.grid()\n",
    "plt.xlabel('time')\n",
    "plt.ylabel('x & y')\n",
    "plt.title('Numerical Solution of the Oscillator Equations')\n",
    "plt.legend(loc='best')\n",
    "\n",
    "# plot the solution in phase space, which means plotting the variables versus \n",
    "# each other rather than versus time\n",
    "plt.subplot(212)\n",
    "plt.plot(x_vals,y_vals)\n",
    "plt.grid()\n",
    "plt.ylabel('y')\n",
    "plt.xlabel('x')\n",
    "plt.title('Oscillator in Phase Space')\n",
    "\n",
    "plt.tight_layout()"
   ]
  },
  {
   "cell_type": "markdown",
   "metadata": {},
   "source": [
    "&#169; Copyright 2018,  Michigan State University Board of Trustees"
   ]
  }
 ],
 "metadata": {
  "anaconda-cloud": {},
  "kernelspec": {
   "display_name": "Python 3 (ipykernel)",
   "language": "python",
   "name": "python3"
  },
  "language_info": {
   "codemirror_mode": {
    "name": "ipython",
    "version": 3
   },
   "file_extension": ".py",
   "mimetype": "text/x-python",
   "name": "python",
   "nbconvert_exporter": "python",
   "pygments_lexer": "ipython3",
   "version": "3.9.7"
  }
 },
 "nbformat": 4,
 "nbformat_minor": 4
}
