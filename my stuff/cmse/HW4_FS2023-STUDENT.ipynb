{
 "cells": [
  {
   "cell_type": "markdown",
   "id": "8ebf7938",
   "metadata": {},
   "source": [
    "# Homework 4: Compartmental Models + Data Visualization (Fall, 2023)\n"
   ]
  },
  {
   "cell_type": "markdown",
   "id": "5af40b2d",
   "metadata": {},
   "source": [
    "## Assignment instructions\n",
    "\n",
    "Work through the following assignment, making sure to follow all of the directions and answer all of the questions.\n",
    "\n",
    "**This assignment is due at 11:59pm on Sunday, December 3, 2023** \n",
    "\n",
    "It should be uploaded into D2L Homework #4.  Submission instructions can be found at the end of the notebook."
   ]
  },
  {
   "cell_type": "markdown",
   "id": "dd42c8fa",
   "metadata": {},
   "source": [
    "---\n",
    "<a id=\"toc\"></a>\n",
    "\n",
    "## Table of Contents\n",
    "\n",
    "[Part 0. Academic Integrity Statement](#part_0) (2 points)\n",
    "\n",
    "[Part 1. Understanding compartmental models](#part_1)  (23 points)\n",
    "\n",
    "[Part 2. Simulating differential equations](#part_2)  (20 points)\n",
    "\n",
    "[Part 3. Interpreting results of simulations](#part_3) (15 points)\n",
    "\n",
    "[Part 4. Data visualization](#part_4) (17 points)\n",
    "\n",
    "[Part 5. Data interpretation](#part_5) (16 points)\n",
    "\n",
    "Total points = 93."
   ]
  },
  {
   "cell_type": "markdown",
   "id": "18eed403",
   "metadata": {},
   "source": [
    "---\n",
    "<a id=\"part_0\"></a>\n",
    "\n",
    "## Part 0. Academic integrity statement (2 points)\n",
    "\n",
    "[Back to Top](#toc)\n",
    "\n",
    "In the markdown cell below, paste your personal academic integrity statement. By including this statement, you are confirming that you are submitting this as your own work and not that of someone else."
   ]
  },
  {
   "cell_type": "markdown",
   "id": "98a4f766",
   "metadata": {},
   "source": [
    "<font size=6 color=\"#009600\">&#9998;</font> *Put your personal academic integrity statement here.*"
   ]
  },
  {
   "cell_type": "markdown",
   "id": "625e8ef6",
   "metadata": {},
   "source": [
    "---\n",
    "<a id = \"part_1\"></a>\n",
    "## Part 1. Understanding compartmental models (23 total points)\n",
    "\n",
    "[Back to Top](#toc)\n",
    "\n"
   ]
  },
  {
   "cell_type": "markdown",
   "id": "21463b04",
   "metadata": {},
   "source": [
    "Antibiotic resistence is developed when germs or bacteria that could be killed by antibiotics in the past can still survive and grow when the same antibiotics are applied. It is a major global public health threat, according to the Centers for Disease Control and Prevention (CDC). Here's a graph that summarizes how antibiotic resistence can be developed ([source: CDC](https://www.cdc.gov/narms/faq.html#)):"
   ]
  },
  {
   "cell_type": "markdown",
   "id": "7758a593",
   "metadata": {},
   "source": [
    "<img src=\"https://github.com/msu-cmse-courses/cmse201-supplemental/blob/main/Homework/01_cdc_ar.jpeg?raw=true\">\n"
   ]
  },
  {
   "cell_type": "markdown",
   "id": "2e94765c",
   "metadata": {},
   "source": [
    "Now, someone wrote down a compartmental model for antibiotic resistence:\n",
    "<!-- ![antibiotics_model.png](attachment:antibiotics_model.png) -->\n",
    "<div>\n",
    "<img src=\"https://github.com/msu-cmse-courses/cmse201-supplemental/blob/main/Homework/02_antibiotics_model.png?raw=true\" width=\"400\"/>\n",
    "</div>\n",
    "You will need to conceptually analyze this model and write down the model as ordinary differential equations (ODEs)."
   ]
  },
  {
   "cell_type": "markdown",
   "id": "4a0861e6",
   "metadata": {},
   "source": [
    "&#9989;&nbsp; **Part 1.1 (5 points)**\n",
    "\n",
    "Describe in the cell below: how many compartments there are in the model, and what each of the compartments stands for. "
   ]
  },
  {
   "cell_type": "markdown",
   "id": "224e23a3",
   "metadata": {},
   "source": [
    "<font size=6 color=\"#009600\">&#9998;</font> *Put your answer here*"
   ]
  },
  {
   "cell_type": "markdown",
   "id": "e1d7ccd0",
   "metadata": {},
   "source": [
    "&#9989;&nbsp; **Part 1.2 (8 points)**\n",
    "\n",
    "Describe in the cell below the interpretation of each of the following parameters\n",
    "- $b$\n",
    "- $k_S$\n",
    "- $k_R$\n",
    "- $c$\n",
    "\n",
    "in terms **what rate it represents** and **in which step of the above CDC infograph it was reflected**."
   ]
  },
  {
   "cell_type": "markdown",
   "id": "7bf10593",
   "metadata": {},
   "source": [
    "<font size=6 color=\"#009600\">&#9998;</font> *Put your answer here*"
   ]
  },
  {
   "cell_type": "markdown",
   "id": "8d37828b",
   "metadata": {},
   "source": [
    "&#9989;&nbsp; **Part 1.3 (4 points)**\n",
    "\n",
    "Answer in the cell below: Which of $k_S$ and $k_R$ should be bigger for the model to be realistic? Why?"
   ]
  },
  {
   "cell_type": "markdown",
   "id": "20463793",
   "metadata": {},
   "source": [
    "<font size=6 color=\"#009600\">&#9998;</font> *Put your answer here*"
   ]
  },
  {
   "cell_type": "markdown",
   "id": "b040318b",
   "metadata": {},
   "source": [
    "&#9989;&nbsp; **Part 1.4 (6 points)**\n",
    "\n",
    "In the cell below, write down the ordinary differential equations associated with this compartmental model.\n"
   ]
  },
  {
   "cell_type": "markdown",
   "id": "bf579e59",
   "metadata": {},
   "source": [
    "<font size=6 color=\"#009600\">&#9998;</font> *Put your answer here*"
   ]
  },
  {
   "cell_type": "markdown",
   "id": "d5cea166",
   "metadata": {},
   "source": [
    "<a id=\"part_2\"></a>\n",
    "## Part 2. Solving differential equations numerically (20 total points)\n",
    "\n",
    "[Back to Top](#toc)"
   ]
  },
  {
   "cell_type": "markdown",
   "id": "36d3c791",
   "metadata": {},
   "source": [
    "In previous assignments, you have used `solve_ivp` to compute the numeric solution of the logistic model of the growth of a single population. Recall, the Logistic population model is described by the following differential equations:\n",
    "\n",
    "\\begin{equation}\n",
    "\\frac{dP}{dt} = kP\\Big(1-\\frac{P}{C}\\Big),\n",
    "\\end{equation}\n",
    "\n",
    "where $P =$ population, $k =$ growth rate, and $C =$ the carrying capacity. \n",
    "\n",
    "Examples code for computing the solution for for $P_0 =0.1$ billion (initial population), $k=1$, and $C =1$ billion is provided below:"
   ]
  },
  {
   "cell_type": "code",
   "execution_count": 1,
   "id": "32a2f3bc",
   "metadata": {},
   "outputs": [],
   "source": [
    "# example code to compute a numeric solution of the logistic model\n",
    "import numpy as np\n",
    "from scipy.integrate import solve_ivp\n",
    "\n",
    "# define the derivative\n",
    "def logistic(time, current_state):\n",
    "    p = current_state   \n",
    "    dpdt = p*(1-p)    \n",
    "    return dpdt\n",
    "\n",
    "# compute numeric solution\n",
    "initial_p = [0.1]\n",
    "time = np.linspace(0,10,50)\n",
    "\n",
    "result = solve_ivp(logistic, (0,20), initial_p, t_eval = time)\n",
    "\n",
    "# unpack solution\n",
    "numerical_p = result.y[0,:]"
   ]
  },
  {
   "cell_type": "markdown",
   "id": "a227ae5f",
   "metadata": {},
   "source": [
    "Now you wonder: what happens if there are two different species competing for the same resources? (Such as the great white sharks and the seven-gill sharks &#x1F609;) How would the population growth of one species interfere with that of the other? \n",
    "\n",
    "Luckily, such models already exist. One of them is a generalization of the logistic model to take into account resource competition between two species $u$ and $v$ and we have the following competitive Lotka-Volterra model:\n",
    "\n",
    "$$ \\frac{du}{dt} = r_1u(1-(\\frac{u +a_{12} v}{K_1}))$$\n",
    "$$ \\frac{dv}{dt} = r_2v(1 -(\\frac{v + a_{21}u}{K_2})).$$\n",
    "\n",
    "Here, $a_{12}$ represents the competitive effect species $v$ has on the population of species $u$ and $a_{21}$ represents the competitive effect species u has on the population of species v. These values do not have to be equal. Because this is the competitive version of the model, all interactions must be harmful (competition) and therefore all a-values are positive.\n",
    "\n",
    "After scaling, the **two species competitive Lotka-Volterra model** can become to the simplified case:\n",
    "\\begin{align}\n",
    "\\frac{du}{dt} &= u(1-u -\\alpha v)  &(1)\\\\\n",
    "\\frac{dv}{dt} &= rv(1 -v-\\beta u). &(2)\n",
    "\\end{align}\n",
    "\n",
    "We say that the competition on the species u (resp.\n",
    "on the species v) is **strong** if $\\alpha > 1$ (resp. $\\beta > 1$).We say that the competition on the species\n",
    "u (resp. on the species v) is **weak** if $0 < \\alpha < 1$ (resp. $0 < \\beta< 1$). \n",
    "\n",
    "**Your job for this part of the assignment is implementing and computing the numeric solutions for the two species competitive Lotka-Volterra model as described by equations 1 and 2 above. You can do so by adapting the code for the logistic model above.**"
   ]
  },
  {
   "cell_type": "markdown",
   "id": "fe25753b",
   "metadata": {},
   "source": [
    "&#9989;&nbsp; **Part 2.1 (8 points)**  \n",
    "Define the derivative function for the two species competitive Lotka-Volterra model in the cell below (to be used as an input later for `solve_ivp` -- so pay attention to the format)."
   ]
  },
  {
   "cell_type": "code",
   "execution_count": 2,
   "id": "7dbfe47c",
   "metadata": {},
   "outputs": [],
   "source": [
    "# write your function here\n"
   ]
  },
  {
   "cell_type": "markdown",
   "id": "e093d53f",
   "metadata": {},
   "source": [
    "&#9989;&nbsp; **Part 2.2 (6 points)**\n",
    "\n",
    "Using `solve_ivp`, compute the numeric solution for two species competitive Lotka-Volterra model with the parameters $r=1$, $\\alpha=2/3,$ $\\beta =1/4$, the initial conditions $[u_0,v_0]= [0.9,0.5]$, and the final time equal 20. Unpack the result you get from `solve_ivp` into separate variables `u` and `v`."
   ]
  },
  {
   "cell_type": "code",
   "execution_count": 3,
   "id": "476620a5",
   "metadata": {},
   "outputs": [],
   "source": [
    "# put your code here\n"
   ]
  },
  {
   "cell_type": "markdown",
   "id": "f1988012",
   "metadata": {},
   "source": [
    "&#9989;&nbsp; **Part 2.3 (4 points)**\n",
    "\n",
    "Plot the solutions of $u$ and $v$ as a function of time in the cell below. Be sure to add appropriate axis labels and legends. "
   ]
  },
  {
   "cell_type": "code",
   "execution_count": 4,
   "id": "da634a3b",
   "metadata": {},
   "outputs": [],
   "source": [
    "# put our code here\n"
   ]
  },
  {
   "cell_type": "markdown",
   "id": "d400a2bb",
   "metadata": {},
   "source": [
    "&#9989;&nbsp; **Part 2.4 (2 points)**\n",
    "\n",
    "When $0 < \\alpha,\\beta <1$, we call the model a weak competitive Lotka-Volterra model. Check with the plot above to see what will happen as time goes on. Can the two species, i.e. $u$ and $v$, coexist or one species will die out?"
   ]
  },
  {
   "cell_type": "markdown",
   "id": "dc3d303e",
   "metadata": {},
   "source": [
    "<font size=6 color=\"#009600\">&#9998;</font> *Put your answer here*"
   ]
  },
  {
   "cell_type": "markdown",
   "id": "1f6fd353",
   "metadata": {},
   "source": [
    "<a id=\"part_3\"></a>\n",
    "## Part 3. Interpreting model behavior for different parameters and initial conditions  (15 total points)\n",
    "\n",
    "In Part 2, you have explored the two species competitive Lotka-Volterra model in a weak-weak scenario, i.e. neither species were very competitive with parameters $\\alpha$ and $\\beta$ both less than 1. \n",
    "\n",
    "In this part, you will be shown the solutions of the model under a couple of different competition scenarios and initial conditions. You will be asked to interpret these plots."
   ]
  },
  {
   "cell_type": "markdown",
   "id": "5db2a3d4",
   "metadata": {},
   "source": [
    "&#9989;&nbsp; **Part 3.1 (5 points)** Strong weak competition\n",
    "\n",
    "The figure below shows the  numerically solved population growth dynamics of the two species $u$ and $v$:\n",
    "\n",
    "<img src=\"https://github.com/msu-cmse-courses/cmse201-supplemental/blob/main/Homework/03_CLV_strongweak.png?raw=true\">\n",
    "\n",
    "The initial population was $u_0 = 0.9$ and $v_0 = 0.5$. The parameters were $\\alpha = 2$ and $\\beta=3/4$. In the cell below, answer the following questions:\n",
    "\n",
    "1. Based on the plot, which species was more successful at the beginning? which species was more successful at the end? Here success is measured by population size. \n",
    "\n",
    "2. Based on the plot, which species was more competitive?\n",
    "\n",
    "3. Connecting your visual interpretations to the model parameters $\\alpha$ and $\\beta$, explain how these two parameters determine which species is strongly competitive and which species is weakly competitive."
   ]
  },
  {
   "cell_type": "markdown",
   "id": "2b023bbb",
   "metadata": {},
   "source": [
    "<font size=6 color=\"#009600\">&#9998;</font> *Put your answer here*"
   ]
  },
  {
   "cell_type": "markdown",
   "id": "917b269e",
   "metadata": {},
   "source": [
    "&#9989;&nbsp; **Part 3.2 (4 points)** Weak strong competition\n",
    "\n",
    "Now we changed the parameters so that $\\alpha=1/2$ and $\\beta =2$, with initial conditions remain the same. We obtained the following figure:\n",
    "\n",
    "<img src=\"https://github.com/msu-cmse-courses/cmse201-supplemental/blob/main/Homework/04_CLV_weakstrong.png?raw=true\">\n",
    "\n",
    "In the cell below, answer the following questions:\n",
    "1. How is this figure different from the one in Part 3.1?\n",
    "2. How are the changes in parameters $\\alpha$ and $\\beta$ related to changes in the figure?"
   ]
  },
  {
   "cell_type": "markdown",
   "id": "5dd6833c",
   "metadata": {},
   "source": [
    "<font size=6 color=\"#009600\">&#9998;</font> *Put your answer here*"
   ]
  },
  {
   "cell_type": "markdown",
   "id": "52e43a0d",
   "metadata": {},
   "source": [
    "&#9989;&nbsp; **Part 3.3 (6 points)** Strong strong competition\n",
    "\n",
    "We changed the parameters again to be $\\alpha=2$ and $\\beta =3$.\n",
    "\n",
    "First, we set the initial population of the two species to be $u_0 = 0.9$ and $v_0 = 0.4$. We obtained the figure below:\n",
    "\n",
    "<img src=\"https://github.com/msu-cmse-courses/cmse201-supplemental/blob/main/Homework/05_CLV_strongstrong1.png?raw=true\">"
   ]
  },
  {
   "cell_type": "markdown",
   "id": "90e00c27",
   "metadata": {},
   "source": [
    "Then, we use a different set of initial population levels with $u_0 = 0.4$ and $v_0 = 0.9$. We obtained the figure below:\n",
    "\n",
    "<img src=\"https://github.com/msu-cmse-courses/cmse201-supplemental/blob/main/Homework/06_CLV_strongstrong2.png?raw=true\">\n",
    "\n",
    "Compare the two figures, and answer the following questions in the cell below:\n",
    "\n",
    "1. In what aspects are these two figures different in terms of the final outcome? \n",
    "\n",
    "2. What differences in the model caused the differences in the figures?\n",
    "\n",
    "3. Why would the short term dynamics of the two figures look different, even if you swap the color in the second figure?"
   ]
  },
  {
   "cell_type": "markdown",
   "id": "edcb2927",
   "metadata": {},
   "source": [
    "<font size=6 color=\"#009600\">&#9998;</font> *Put your answer here*"
   ]
  },
  {
   "cell_type": "markdown",
   "id": "366be56a",
   "metadata": {},
   "source": [
    "<a id=\"part_4\"></a>\n",
    "## Part 4. Data Visualization for the Great American Crime Decline"
   ]
  },
  {
   "cell_type": "markdown",
   "id": "a69cfea8",
   "metadata": {},
   "source": [
    "In the 1990s, crime rates in the US plummeted -- but nobody knows why! Criminologists have come up with different theories but none can account for the magnitude of the drop (read [this article](https://www.themarshallproject.org/2014/11/24/10-not-entirely-crazy-theories-explaining-the-great-crime-decline) for some of the major theories). Thus, the cause of this **great American crime decline** remains a mystery. \n",
    "\n",
    "You decided to the take the matter into your own hands. "
   ]
  },
  {
   "cell_type": "markdown",
   "id": "51d32fcf",
   "metadata": {},
   "source": [
    "&#9989;&nbsp; **Part 4.1 (2 points)** Data Context\n",
    "\n",
    "You found some crime data online from [this website](https://cde.ucr.cjis.gov/LATEST/webapp/#/pages/about). Describe briefly in the cell below how the data was collected. \n"
   ]
  },
  {
   "cell_type": "markdown",
   "id": "c7a9b95b",
   "metadata": {},
   "source": [
    "<font size=6 color=\"#009600\">&#9998;</font> *Put your answer here*"
   ]
  },
  {
   "cell_type": "markdown",
   "id": "788d23a3",
   "metadata": {},
   "source": [
    "&#9989;&nbsp; **Part 4.2 (3 points)** Loading and cleaning data\n",
    "\n",
    "Now that you know something about the context of your data, it's time to read it into your notebook. \n",
    "\n",
    "In the cell below: \n",
    "* Read in the data file `estimated_crimes_1979_2022.csv`\n",
    "* Remove any rows with NaN values in the \"state_abbr\" column and save it as a new dataframe \n",
    "* Drop any columns with remaining NaN values from your new dataframe\n",
    "\n",
    "If your cleaning worked correctly, you should have roughly 2200 rows and 12 columns. "
   ]
  },
  {
   "cell_type": "code",
   "execution_count": 5,
   "id": "b9923c36",
   "metadata": {},
   "outputs": [],
   "source": [
    "# put your code here\n"
   ]
  },
  {
   "cell_type": "markdown",
   "id": "247e8291",
   "metadata": {},
   "source": [
    "&#9989;&nbsp; **Part 4.3 (4 points)** Choosing a question and getting the data\n",
    "\n",
    "Recall the key pieces to an effective data visualization (from the Day 20 Pre Class and In Class assignments). There are many visualizations you could make from this data to gain some insight into how crime has changed in the past 44 years. Potential questions that can be answered with the data are listed below. \n",
    "\n",
    "**RQ 1:** How are Property Crime rate and the Burglary rate related for the ten highest population states? \n",
    "\n",
    "**RQ 2:** How do the most common categories of crime compare between the 5 most populous states and the 5 least populous states? \n",
    "\n",
    "**RQ 3:** Choose one category of crime and at least 5 different states. How does the crime rate change over time for each state?\n",
    "\n",
    "In the cell(s) below, indicate which question you are going to explore. Then, using your clean data set, extract the data necessary for answering your question (i.e. use masking to extract state data, remove rows or columns you will not use, etc.).\n",
    "\n",
    "**Display your extracted data for full credit**\n"
   ]
  },
  {
   "cell_type": "markdown",
   "id": "d2156f3e",
   "metadata": {},
   "source": [
    "<font size=6 color=\"#009600\">&#9998;</font> *Write down your choice and specify the states and types of crimes involved if appropriate*"
   ]
  },
  {
   "cell_type": "code",
   "execution_count": 6,
   "id": "f1eaa2d9",
   "metadata": {},
   "outputs": [],
   "source": [
    "# put your code here to extract a subset of data relevant to your question\n"
   ]
  },
  {
   "cell_type": "markdown",
   "id": "9e35b195",
   "metadata": {},
   "source": [
    "&#9989;&nbsp; **Part 4.3 (8 points)** Making a Plot\n",
    "\n",
    "Now that you have only the data you need, it's time to create a plot! Using the plotting tools you have explored (i.e. `matplotlib.pyplot`, `seaborn`, and/or `pandas`), create a plot that answers your question. Your plot will be graded with the rubric from Day 20:\n",
    "\n",
    "1. **Does the plot tell a story? (4 Points)** \n",
    "2. **No wasted space (2 points)**\n",
    "3. **Labels, legend, and title are informative without cluttering (1 points)**\n",
    "4. **Presenting multi-variable data (1 points)**"
   ]
  },
  {
   "cell_type": "code",
   "execution_count": 7,
   "id": "84ec759f",
   "metadata": {},
   "outputs": [],
   "source": [
    "# put your code here to create a plot\n"
   ]
  },
  {
   "cell_type": "markdown",
   "id": "aefd0070",
   "metadata": {},
   "source": [
    "<a id=\"part_5\"></a>\n",
    "## Part 5. Data Interpretation\n",
    "\n",
    "As described in [this article](https://www.themarshallproject.org/2014/11/24/10-not-entirely-crazy-theories-explaining-the-great-crime-decline), increased policing has been considered a potential explanation for the great American crime decline. In the part of the assignment, you will interpret visualizations of policing and crime data ([source](https://cde.ucr.cjis.gov/LATEST/webapp/#/pages/downloads)) to infer whether increased policing is a main cause of the crime decline. \n"
   ]
  },
  {
   "cell_type": "markdown",
   "id": "d03f14ff",
   "metadata": {},
   "source": [
    "&#9989;&nbsp; **Part 5.1 (2 points)** \n",
    "\n",
    "Based on [this article](https://www.themarshallproject.org/2014/11/24/10-not-entirely-crazy-theories-explaining-the-great-crime-decline), answer in the cell below, what would be evidence **against** of the increased policing theory?\n"
   ]
  },
  {
   "cell_type": "markdown",
   "id": "a837b57a",
   "metadata": {},
   "source": [
    "<font size=6 color=\"#009600\">&#9998;</font> *Put your answer here*"
   ]
  },
  {
   "cell_type": "markdown",
   "id": "5a6bca13",
   "metadata": {},
   "source": [
    "&#9989;&nbsp; **Part 5.2 (10 points)** \n",
    "\n",
    "The below graphs shows the crime rates (left) and policing rates (right) over the years for a few different states. \n",
    "\n",
    "<img src=\"https://github.com/msu-cmse-courses/cmse201-supplemental/blob/main/Homework/07_vcrime_police_by_year.png?raw=true\">\n",
    "\n",
    "Examine the figures and answer the following questions in the cell below:\n",
    "\n",
    "1. Is there a great Amercian crime decline? What features of the figures provide evidence for your claim?\n",
    "2. Is there a increase in policing during the 1990s (i.e. period of the crime decline)?\n",
    "3. Is increased policing a good explanation for the crime decline? What features of the figures support your claim?"
   ]
  },
  {
   "cell_type": "markdown",
   "id": "a7507b4f",
   "metadata": {},
   "source": [
    "<font size=6 color=\"#009600\">&#9998;</font> *Put your answer here*"
   ]
  },
  {
   "cell_type": "markdown",
   "id": "24b7a057",
   "metadata": {},
   "source": [
    "&#9989;&nbsp; **Part 5.3 (4 points)** \n",
    "\n",
    "Below is a visualization of the relationship between the violent crime rates and the policing rates for the same year. \n",
    "\n",
    "<img src=\"https://github.com/msu-cmse-courses/cmse201-supplemental/blob/main/Homework/08_vcrime_by_police.png?raw=true\">\n",
    "\n",
    "Examine the figure and answer the following questions:\n",
    "\n",
    "1. Based on the figure, do you think increased policing is a good explanation for the great crime decline? Why?\n",
    "2. How would you plot the data differently to better show whether or not increased policing can reduce crime? Why?"
   ]
  },
  {
   "cell_type": "markdown",
   "id": "e9bf451c",
   "metadata": {},
   "source": [
    "<font size=6 color=\"#009600\">&#9998;</font> *Put your answer here*"
   ]
  },
  {
   "cell_type": "markdown",
   "id": "c626a839",
   "metadata": {},
   "source": [
    "## Congratulations, you're done!\n",
    "\n",
    "Submit this assignment by uploading your notebook to the course Desire2Learn web page.  Go to the \"Homework\" folder, find the appropriate submission link, and upload everything there. Make sure your name is on it!"
   ]
  },
  {
   "cell_type": "markdown",
   "id": "d42d6f9e",
   "metadata": {},
   "source": [
    "&#169; Copyright 2023,  Department of Computational Mathematics, Science and Engineering at Michigan State University"
   ]
  }
 ],
 "metadata": {
  "kernelspec": {
   "display_name": "Python 3 (ipykernel)",
   "language": "python",
   "name": "python3"
  },
  "language_info": {
   "codemirror_mode": {
    "name": "ipython",
    "version": 3
   },
   "file_extension": ".py",
   "mimetype": "text/x-python",
   "name": "python",
   "nbconvert_exporter": "python",
   "pygments_lexer": "ipython3",
   "version": "3.9.7"
  }
 },
 "nbformat": 4,
 "nbformat_minor": 5
}
