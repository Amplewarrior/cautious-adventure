{
 "cells": [
  {
   "cell_type": "markdown",
   "metadata": {},
   "source": [
    "# Day 22 Part 1 In-class Assignment: Modeling forest fires with an Agent-based Model "
   ]
  },
  {
   "cell_type": "markdown",
   "metadata": {},
   "source": [
    "### <p style=\"text-align: right;\"> &#9989; Andrew.</p>\n",
    "\n",
    "#### <p style=\"text-align: right;\"> &#9989; Put your group member names here.</p>"
   ]
  },
  {
   "cell_type": "markdown",
   "metadata": {},
   "source": [
    "<img src=\"https://cdn-images-1.medium.com/max/2000/1*VO9nuzrJ9XseMyxdtPh_vg.jpeg\" width=500>"
   ]
  },
  {
   "cell_type": "markdown",
   "metadata": {},
   "source": [
    "## Goals of this assignment\n",
    "\n",
    "The primary goal of this assignment is to model the spread of a forest fire using an agent-based model (ABM).  In doing so, we will:\n",
    "\n",
    "* Use ABM to model forest fires\n",
    "* Examine and quantify the concept of a \"tipping point\" in a model.\n",
    "\n",
    "## Assignment instructions\n",
    "\n",
    "Work with your group to complete this assignment. The first part of the assignment involves working out a plan for your model on the whiteboards and taking a picture of it. This picture should be uploaded to D2L along with your notebook in the appropriate submission folder. The assignment is due at the end of class."
   ]
  },
  {
   "cell_type": "markdown",
   "metadata": {},
   "source": [
    "---\n",
    "## Welcome to Part 1 of a 2-part ICA!\n",
    "\n",
    "We have split this assignment over two days, so that you can become more comfortable with material. On the first day, you will build the basics of the forest fire model and the second day you will analyze the model and the tipping point! Let's get started!\n",
    "\n",
    "## Reviewing the motivation for the model\n",
    "\n",
    "### Why model forest fires?\n",
    "\n",
    "While this isn't a huge problem in Michigan, the _states in the western United States having been suffering a tremendous problem with huge and difficult-to-control forest fires_.  This comes from a combination of extended drought conditions, dense woodlands, and forest management policies that suppress small fires and thus ensure that large quantities of dead, dry trees and brush are available to burn when a large fire inevitably starts (typically from lightning strikes, but occasionally from negligent campers, or recently from gender-reveal celebrations).  In recent years, this has been exacerbated by climate change, which has both caused drought conditions to be more severe and allowed tree-killing diseases and insects to flourish, which produces more dead, easily-burned wood.\n",
    "\n",
    "These forest fires destroy ecosystems and peoples' homes and other property, and can result in the loss of human and animal life.  A key challenge in forest management is to attempt to contain these huge forest fires once they start, in order to protect human lives, settlements, and infrastructure.  To that end, it is critical to have models of how fire spreads in various conditions; see, for example, the [Open Wildland Fire Modeling group](https://wiki.openwfm.org/wiki/Open_Wildland_Fire_Modeling_E_community_Wiki).\n"
   ]
  },
  {
   "cell_type": "markdown",
   "metadata": {},
   "source": [
    "---\n",
    "## The Rules for Our Model\n",
    "\n",
    "### Setup\n",
    "The model is a two-dimensional square $N \\times N$ array that represents the forested region we're simulating.  **The cells in the array can have three values:** \n",
    "- **0 (empty)** \n",
    "- **1 (trees)** \n",
    "- **2 (on fire)**  \n",
    "\n",
    "At the beginning of the model, a user-specified fraction of the cells $f_{\\text{trees\\_start}}$ are randomly filled with trees and the remaining cells are empty.  \n",
    "**One edge of the board (say, the entire leftmost column) is set on fire.**\n",
    "\n",
    "\n",
    "### Neighborhoods\n",
    "Each cell has a \"neighborhood\" that is composed of its four neighbors to the left, right, above, and below it. **If a cell is along one of the edges of the array, only consider the neighbors that it has** (i.e., don't try to go out of the bounds of the array).\n",
    "\n",
    "<div align=\"center\"><img src=\"https://i.ibb.co/zH9YL38/indexing-example.png\" alt=\"indexing-example\" border=\"0\" width=200px></div>\n",
    "\n",
    "### Evolving with Time\n",
    "The model takes steps forward in time, where every cell is modified based on the previous step.  The model evolves as follows:\n",
    "\n",
    "* **If the cell was empty last turn, it stays empty this turn.**\n",
    "* **If the cell is a tree and any of its neighbors were on fire last turn, it catches on fire.**\n",
    "* **If the cell was on fire last turn, the fire has consumed all of the trees and it is now empty.**\n",
    "\n",
    "### Ending Conditions\n",
    "\n",
    "**The model evolves forward in time until all of the fires have burned out.**\n",
    "\n",
    "After this happens, you can calculate the fraction of the cells that still have trees at the end of the model ($f_{\\text{trees\\_end}}$) and the fraction of cells that are empty ($f_{\\text{empty}}$).  The fraction of burned cells, $f_\\text{burned}$, is just the difference between the fraction of cells that were initially trees and the fraction of cells that are trees at the end of the model; in other words,\n",
    "\n",
    "$f_\\text{burned} = f_\\text{trees\\_start} - f_\\text{trees\\_end}$\n"
   ]
  },
  {
   "cell_type": "markdown",
   "metadata": {},
   "source": [
    "\n",
    "## Your mission at the end of the entire assignment:\n",
    "\n",
    "Your mission is to answer the question: \"How does the spread of fire relate to the density of the forest?\"  \n",
    "More precisely, we're asking \"How does $f_\\text{burned}$ depend on $f_\\text{trees\\_start}$?\"\n",
    "\n",
    "To achieve this mission, we will break this down into a few parts:\n",
    "\n",
    "---\n",
    "### Part 1:  Planning your solution\n",
    "\n",
    "&#9989;&nbsp; As a group, create a plan to implement this model for an arbitrary value of $f_\\text{trees\\_start}$.  Make sure that you think about how to set up the initial conditions, how to evolve the model, and how to calculate the fraction of trees and empty cells that remain in the end. What will the board look like to start? What will it look like in the end? How will the forest fire move?\n",
    "\n",
    "**Important**: Make sure you discuss how you will handle cells that are on the boundaries of your 2D board!\n",
    "\n",
    "**Make sure to chat with an instructor after you have completed this step. Do not spend more than 20 minutes on this part of the activity!**\n"
   ]
  },
  {
   "cell_type": "markdown",
   "metadata": {},
   "source": [
    "<font size=\"+3\">&#9998;</font> *The code below is scaffolded. We plan to use the code from the pre class to check cells, and burn them using the output lists in some iterative form.*"
   ]
  },
  {
   "cell_type": "markdown",
   "metadata": {},
   "source": [
    "___\n",
    "### Part 2: Implementing your solution\n",
    "\n",
    "Now we're going to work through a combination of provided code and code that you have to write. The goal is to have all the pieces to build the forest fire model by the end of class!\n",
    "\n",
    "Make sure to execute the following cell of imports before you move on!"
   ]
  },
  {
   "cell_type": "code",
   "execution_count": 3,
   "metadata": {},
   "outputs": [],
   "source": [
    "# standard includes\n",
    "import numpy as np\n",
    "import numpy.random as rand\n",
    "import matplotlib.pyplot as plt\n",
    "\n",
    "# Next we are going to import some specific libraries we will use to get the animation to work cleanly\n",
    "from IPython.display import display, clear_output\n",
    "import time  "
   ]
  },
  {
   "cell_type": "markdown",
   "metadata": {},
   "source": [
    "### 2.1 First important function: Plotting the grid!\n",
    "\n",
    "Take a look at the `plotgrid` function. You were given a similar one in your pre-class assignment. We'll be using this code a lot for displaying your forest, so we want to make sure you understand it.\n",
    "\n",
    "&#9989;&nbsp; **Complete the code below, by filling in the \"___\" spots, and add comments to explain what each line of the code is doing.**"
   ]
  },
  {
   "cell_type": "code",
   "execution_count": 7,
   "metadata": {},
   "outputs": [],
   "source": [
    "# Function plotgrid() does what??\n",
    "\n",
    "def plotgrid(myarray):\n",
    "    \n",
    "    # \n",
    "    x_range = np.linspace(0, myarray.shape[1]-1, myarray.shape[1]) \n",
    "    y_range = np.linspace(0, myarray.shape[0]-1, myarray.shape[0]) # repeat for the y/vertical axis\n",
    "    \n",
    "    # \n",
    "    x_indices, y_indices = np.meshgrid(x_range, y_range)\n",
    "    \n",
    "    # \n",
    "    tree_x = x_indices[myarray == 1];   \n",
    "    tree_y = y_indices[myarray == 1]; \n",
    "    fire_x = x_indices[myarray == 2];   \n",
    "    fire_y = y_indices[myarray == 2]; \n",
    "    \n",
    "    # \n",
    "    plt.plot(tree_x, myarray.shape[0] - tree_y - 1, 'gs',markersize=10)   \n",
    "    plt.plot(fire_x, myarray.shape[0] - fire_y - 1, 'r^',markersize=10)  # repeat for indices with fire \n",
    "    \n",
    "    # \n",
    "    plt.xlim([-1,myarray.shape[1]])\n",
    "    plt.ylim([-1,myarray.shape[0]]) \n",
    "\n",
    "    # \n",
    "    plt.tick_params(axis='both', which='both',\n",
    "                    bottom=False, top=False, left=False, right=False,\n",
    "                    labelbottom=False, labelleft=False)"
   ]
  },
  {
   "cell_type": "markdown",
   "metadata": {},
   "source": [
    "### 2.2 Initializing the forest\n",
    "\n",
    "Before you can run a forest model, you need to initialize the board. You should have already attempted to do this in your pre-class assignment, but we're providing the following code for you to ensure that everyone in your group is working with the same version.\n",
    "\n",
    "&#9989;&nbsp; **Take a look at it and make sure you understand it. How does it compare to the code that you wrote?**"
   ]
  },
  {
   "cell_type": "code",
   "execution_count": 8,
   "metadata": {},
   "outputs": [],
   "source": [
    "def set_board(board_size=50,f_trees_start=0.5):\n",
    "    '''\n",
    "    Creates the initial game board.\n",
    "\n",
    "    Inputs:\n",
    "        board_size: length of one edge of the board\n",
    "        f_trees_start: probability that a given cell is a tree\n",
    "                       (effectively the tree density)\n",
    "\n",
    "    Outputs a 2D numpy array with values set to either 0, 1, or 2\n",
    "        (empty, tree, or fire)\n",
    "    '''\n",
    "    \n",
    "    # all cells initialized to 'empty' (0) by default\n",
    "    game_board = np.zeros((board_size,board_size),dtype='int64')\n",
    "    \n",
    "    # loop over board and roll the dice; if the random number is less\n",
    "    # than f_trees_start, make it a tree.\n",
    "    for i in range(board_size):\n",
    "        for j in range(board_size):\n",
    "            if rand.random() <= f_trees_start:\n",
    "                game_board[i,j] = 1\n",
    "\n",
    "    # set the whole left edge of the board on fire. We're arsonists!\n",
    "    game_board[:,0] = 2\n",
    "    \n",
    "    return game_board"
   ]
  },
  {
   "cell_type": "markdown",
   "metadata": {},
   "source": [
    "#### &#9989;&nbsp; 2.3 Testing your Code\n",
    "\n",
    "Execute the cell below to make sure that your `plotgrid()` and `set_board()` functions are working correctly. Your output should match this picture. \n",
    "\n",
    "![Reference figure](https://github.com/msu-cmse-courses/cmse201-F21-data/blob/main/Day-18/smallboard_test.png?raw=true)"
   ]
  },
  {
   "cell_type": "code",
   "execution_count": 21,
   "metadata": {},
   "outputs": [
    {
     "data": {
      "image/png": "[encoded data removed]",
      "text/plain": [
       "<Figure size 300x300 with 1 Axes>"
      ]
     },
     "metadata": {},
     "output_type": "display_data"
    }
   ],
   "source": [
    "# run this cell\n",
    "rand.seed(1234)\n",
    "fig = plt.figure(figsize=(3,3))\n",
    "small_board = set_board(board_size=5, f_trees_start = 0.75)\n",
    "plotgrid(small_board)"
   ]
  },
  {
   "cell_type": "markdown",
   "metadata": {},
   "source": [
    "#### &#9989;&nbsp; 2.3 Exploring the `set_board()` and `plotgrid()`! \n",
    "\n",
    "Now, create a board using the default arguments for the `set_board()` function and plot the board with `plotgrid()`. Once you have done that, answer these questions. \n",
    "\n",
    "- Does the fire show up in the places you want? \n",
    "- Does the tree fraction or board size change accordingly when you change the input parameters? \n",
    "- What happens if you make the board size much larger than the default?\n"
   ]
  },
  {
   "cell_type": "markdown",
   "metadata": {},
   "source": [
    "<font size=\"+3\">&#9998;</font> *Put your answer here*"
   ]
  },
  {
   "cell_type": "code",
   "execution_count": 31,
   "metadata": {},
   "outputs": [
    {
     "data": {
      "image/png": "[encoded data removed]",
      "text/plain": [
       "<Figure size 1000x1000 with 1 Axes>"
      ]
     },
     "metadata": {},
     "output_type": "display_data"
    }
   ],
   "source": [
    "# put your test code here. Make a plot to check it.\n",
    "# we're going to define a default figure size for you to make things look nice\n",
    "fig = plt.figure(figsize=(10,10))\n",
    "big_board = set_board(board_size=40, f_trees_start = 0.75)\n",
    "plotgrid(big_board)"
   ]
  },
  {
   "cell_type": "markdown",
   "metadata": {},
   "source": [
    "&#9989;&nbsp; **Task:** Explain the process of initializing the forest to someone who has never coded before. What are the rules? What do we hope the board looks like at the start?"
   ]
  },
  {
   "cell_type": "markdown",
   "metadata": {},
   "source": [
    "<font size=\"+3\">&#9998;</font> *The forest board uses a random seed of numbers 0-1, and the plotting function reads the seed to generate a board. Trees are placed for some portion of numbers defined by the user, and arranged by the code which loops through the length of the board and reads each value*"
   ]
  },
  {
   "cell_type": "markdown",
   "metadata": {},
   "source": [
    "---\n",
    "### Part 3: The main event: Make the Fire Spread (evolving over time)!\n",
    "\n",
    "Clearly the most import part of an agent-based model is figuring out how your agents should behave in your simulation. \n",
    "\n",
    "#### &#9989;&nbsp; 3.1 In this model, the main agent you have to deal with is the fire. Your job is to write the function that controls how the fire moves. \n",
    "\n",
    "The skeleton function provided below:\n",
    "- Takes in the _current_ board, \n",
    "- Defines a _new_ board with the same properties as the old board but full of 0s to start, and then \n",
    "- Returns that _new_ board where the positions of the trees and fire have been updated. \n",
    "\n",
    "Make sure you are updating the values on the **new board**, based on the values of the **current board!** This function on it's own is only responsible for one step in time. It takes in the current state of the board and based on that state, defines the next state of the board. \n",
    "\n",
    "To avoid needless scrolling **here are the rules of the model again**:\n",
    "\n",
    "> Each cell has a \"neighborhood\" that is composed of its four neighbors to the left, right, above, and below it.  (Note: not the diagonal elements!)  If a cell is along one of the edges of the array, only consider the neighbors that it has, and doesn't try to go out of the bounds of the array!\n",
    ">\n",
    ">The model takes steps forward in time, where every cell is modified based on the previous step.  The model evolves as follows:\n",
    ">\n",
    ">* If the cell was empty last turn, it stays empty this turn.\n",
    ">* If the cell is a tree and any of its neighbors were on fire last turn, it catches on fire.\n",
    ">* If the cell was on fire last turn, the fire has consumed all of the trees and it is now empty.\n",
    "\n",
    "**The function contains comments to suggest the steps that you need to implement to make it work.** Think about how the board is set up and how to access the elements within the board. \n",
    "\n",
    "**The functions `OnBoard` and `getNeighborValues` from last class will be very helpful for this function!** But remember, if you want to use those functions, you need to copy them into your notebook and make sure to execute their code before you try to use them."
   ]
  },
  {
   "cell_type": "code",
   "execution_count": 44,
   "metadata": {},
   "outputs": [],
   "source": [
    "#Finish this code\n",
    "# Finish this code\n",
    "def onBoard(i, j, image):\n",
    "    ni = image.shape[0] # number of pixels (height)\n",
    "    nj = image.shape[1] # number of pixels (width)\n",
    "    if i <= ni-1 and i >= 0 and j <= nj-1 and j>=0: # You need some more conditions here! \n",
    "                                         # We've checked i, but what about j?\n",
    "        return True\n",
    "    else:\n",
    "        return False\n",
    "    \n",
    "def getNeighborValues(i,j, zebra_array):\n",
    "    # The following list contains the indices of the neighbors for a pixel at (i.j)\n",
    "    # But remember, we need to check if the neighbor is on the board when we try to get its value!\n",
    "    neighborhood = [(i-1, j), (i, j-1), (i+1, j), (i, j+1)]\n",
    "    \n",
    "    neighbor_values = []\n",
    "    for neighbor in neighborhood:\n",
    "        if onBoard(neighbor[0],neighbor[1],zebra_array):\n",
    "            neighbor_values.append(zebra_array[neighbor])\n",
    "        else:\n",
    "            neighbor_values.append(-1)\n",
    "    #print(neighbor_values)\n",
    "    return neighbor_values"
   ]
  },
  {
   "cell_type": "code",
   "execution_count": 49,
   "metadata": {},
   "outputs": [],
   "source": [
    "def advance_board(game_board):\n",
    "    '''\n",
    "    Advances the game board using the given rules.\n",
    "    Input: the initial game board.\n",
    "    Output: the advanced game board\n",
    "    '''\n",
    "    ni = game_board.shape[0] # number of pixels (height)\n",
    "    nj = game_board.shape[1] # number of pixels (width)\n",
    "    \n",
    "    # create a new array that's just like the original one, but initially set to all zeros (i.e., totally empty)\n",
    "    new_board = np.zeros_like(game_board)\n",
    "    \n",
    "    # loop over each cell in the board and decide what to do.\n",
    "    # You'll need two loops here, one nested inside the other.\n",
    "    for i in range(ni):\n",
    "        for j in range(nj):\n",
    "            # Now that we're inside the loops we need to apply our rules\n",
    "        \n",
    "            # if the cell was empty last turn, it's still empty.\n",
    "            # if it was on fire last turn, it's now empty.\n",
    "            if game_board[i,j] == 1:\n",
    "                neigbors = getNeighborValues(i,j,game_board)\n",
    "                if any(neigbor == 2 for neigbor in neigbors):\n",
    "                    new_board[i,j] = 2\n",
    "                else:\n",
    "                    new_board[i,j]=1\n",
    "            elif game_board[i,j] == 2:\n",
    "                new_board[i,j] = 0    \n",
    "\n",
    "    # return the new board\n",
    "    return new_board"
   ]
  },
  {
   "cell_type": "markdown",
   "metadata": {},
   "source": [
    "#### &#9989;&nbsp; 3.2 As good coders, we always test our new functions! Test your function above and make sure it works! \n",
    "\n",
    "Run the code a few times to see whether fire advances according to the rules. You can start with any sort of initial board that you want, you can even just use the default board for the purpose of testing. Remember the advance_board function only advances one step in time. "
   ]
  },
  {
   "cell_type": "code",
   "execution_count": 57,
   "metadata": {},
   "outputs": [],
   "source": [
    "import time\n",
    "from IPython.display import display, clear_output"
   ]
  },
  {
   "cell_type": "code",
   "execution_count": 82,
   "metadata": {},
   "outputs": [
    {
     "data": {
      "image/png": "[encoded data removed]",
      "text/plain": [
       "<Figure size 1000x1000 with 1 Axes>"
      ]
     },
     "metadata": {},
     "output_type": "display_data"
    }
   ],
   "source": [
    "# Initialize a new board here\n",
    "fig = plt.figure(figsize=(10,10))\n",
    "big_board = set_board(board_size=40, f_trees_start = 0.6)\n",
    "plotgrid(big_board)\n"
   ]
  },
  {
   "cell_type": "code",
   "execution_count": 81,
   "metadata": {},
   "outputs": [],
   "source": [
    "# This lets us make and clear plots without creating new ones\n",
    "from IPython.display import display, clear_output\n",
    "\n",
    "# We can use this to have images show up with some user-specified spacing in time\n",
    "import time \n",
    "\n",
    "# Create a figure\n",
    "fig = plt.figure(figsize=(10,10))\n",
    "\n",
    "# Run animation for 10 iterations\n",
    "while (big_board==2).any(): \n",
    "    \n",
    "    big_board = advance_board(big_board)\n",
    "    plotgrid(big_board)   \n",
    "    \n",
    "    # Animation part \n",
    "    #time.sleep(0.1)         # Sleep for half a second to slow down the animation\n",
    "    clear_output(wait=True) # Clear output for dynamic display\n",
    "    display(fig)            # Reset display\n",
    "    fig.clear()             # Prevent overlapping and layered plots\n",
    "\n",
    "plt.close()                 # Close dynamic display"
   ]
  },
  {
   "cell_type": "markdown",
   "metadata": {},
   "source": [
    "#### &#9989;&nbsp; 3.3 Preparing for Next Class\n",
    "\n",
    "Great work! You now have code that begins to model a forest fire! Next class, we are going to use the advance_board function to complete the forest fire model and incorporate the ending conditions. We are also going to analyze the tipping point of the model. \n",
    "\n",
    "To prepare us for next class, discuss these questions with your group and write down some of your thoughts:\n",
    "\n",
    "- How is the advance_board function going to help you model the forest fire? What if you wanted to advance the board 10 steps? Is there an easy way to that? \n",
    "- When is the forest fire over? What would the board look like? What might that look like in code? "
   ]
  },
  {
   "cell_type": "markdown",
   "metadata": {},
   "source": [
    "<font size=\"+3\">&#9998;</font> *Check out my code above*"
   ]
  },
  {
   "cell_type": "markdown",
   "metadata": {},
   "source": [
    "---\n",
    "## Assignment wrapup\n",
    "\n",
    "Please fill out the form that appears when you run the code below. **You must completely fill this out in order to receive credit for the assignment!** "
   ]
  },
  {
   "cell_type": "code",
   "execution_count": 83,
   "metadata": {},
   "outputs": [
    {
     "data": {
      "text/html": [
       "\n",
       "<iframe \n",
       "\tsrc=\"https://cmse.msu.edu/cmse201-ic-survey\" \n",
       "\twidth=\"800px\" \n",
       "\theight=\"600px\" \n",
       "\tframeborder=\"0\" \n",
       "\tmarginheight=\"0\" \n",
       "\tmarginwidth=\"0\">\n",
       "\tLoading...\n",
       "</iframe>\n"
      ],
      "text/plain": [
       "<IPython.core.display.HTML object>"
      ]
     },
     "execution_count": 83,
     "metadata": {},
     "output_type": "execute_result"
    }
   ],
   "source": [
    "from IPython.display import HTML\n",
    "HTML(\n",
    "\"\"\"\n",
    "<iframe \n",
    "\tsrc=\"https://cmse.msu.edu/cmse201-ic-survey\" \n",
    "\twidth=\"800px\" \n",
    "\theight=\"600px\" \n",
    "\tframeborder=\"0\" \n",
    "\tmarginheight=\"0\" \n",
    "\tmarginwidth=\"0\">\n",
    "\tLoading...\n",
    "</iframe>\n",
    "\"\"\"\n",
    ")"
   ]
  },
  {
   "cell_type": "markdown",
   "metadata": {},
   "source": [
    "---\n"
   ]
  },
  {
   "cell_type": "markdown",
   "metadata": {},
   "source": [
    "## Congratulations, you're done!\n",
    "\n",
    "Submit this assignment by uploading your notebook and the pictures of your model planning session to the course Desire2Learn web page.  Go to the \"In-Class Assignments\" folder, find the appropriate submission link, and upload everything there. Make sure your name is on it!"
   ]
  },
  {
   "cell_type": "markdown",
   "metadata": {},
   "source": [
    "&#169; Copyright 2023, Department of Computational Mathematics, Science and Engineering at Michigan State University"
   ]
  }
 ],
 "metadata": {
  "anaconda-cloud": {},
  "kernelspec": {
   "display_name": "Python 3 (ipykernel)",
   "language": "python",
   "name": "python3"
  },
  "language_info": {
   "codemirror_mode": {
    "name": "ipython",
    "version": 3
   },
   "file_extension": ".py",
   "mimetype": "text/x-python",
   "name": "python",
   "nbconvert_exporter": "python",
   "pygments_lexer": "ipython3",
   "version": "3.11.6"
  }
 },
 "nbformat": 4,
 "nbformat_minor": 4
}
