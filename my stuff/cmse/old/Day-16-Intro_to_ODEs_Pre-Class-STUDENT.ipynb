{
 "cells": [
  {
   "cell_type": "markdown",
   "id": "dc5f1ece",
   "metadata": {},
   "source": [
    "# Day 16 Pre-class Assignment: Introduction to Modeling with Ordinary Differential Equations"
   ]
  },
  {
   "cell_type": "markdown",
   "id": "0dbdfdda",
   "metadata": {},
   "source": [
    "### <p style=\"text-align: right;\"> &#9989; Andrew.</p>"
   ]
  },
  {
   "cell_type": "markdown",
   "id": "3a109dca",
   "metadata": {},
   "source": [
    "### Goals for Today's Pre-Class Assignment\n",
    "In this assignment, you will:\n",
    "* Learn how to model changing systems mathematically\n",
    "* Qualitatively describe how a system is changing\n",
    "* Explore using Python to numerically model these systems\n",
    "\n",
    "\n",
    "### Assignment instructions\n",
    "\n",
    "This assignment will introduce how we can model real-world examples with ordinary differential equations and how we can use Python to solve them numerically.\n",
    "\n",
    "**This assignment is due by 11:59 p.m. the day before class,** and should be uploaded into the appropriate \"Pre-class assignments\" submission folder.  Submission instructions can be found at the end of the notebook.\n",
    "\n",
    "---"
   ]
  },
  {
   "cell_type": "markdown",
   "id": "3fb44d5a",
   "metadata": {},
   "source": [
    "## 1. What is an Ordinary Differential Equation?\n",
    "\n",
    "### Video\n",
    "\n",
    "### Watch this video on [MediaSpace](https://mediaspace.msu.edu/media/Rachel+Frisbie+%28she+her%29%27s+Zoom+Meeting/1_k8ns6p88)"
   ]
  },
  {
   "cell_type": "markdown",
   "id": "5d07ed3f",
   "metadata": {},
   "source": [
    "### &#9989;&nbsp; 1.1 Question\n",
    "\n",
    "In your own words, summarize the purpose of **ordinary differential equations** (ODEs)."
   ]
  },
  {
   "cell_type": "markdown",
   "id": "55f84126",
   "metadata": {},
   "source": [
    "<font size=\"+3\">&#9998;</font> **ODE are functions which have a rate of change depending on the value they're at, and vise versa**"
   ]
  },
  {
   "cell_type": "markdown",
   "id": "977fb1e7-8412-4570-a988-68504529b63c",
   "metadata": {},
   "source": [
    "### &#9989;&nbsp; 1.2 Question\n",
    "\n",
    "What is an example of a model that we have worked with previously in class that could be modeled using an ODE?"
   ]
  },
  {
   "cell_type": "markdown",
   "id": "3c2917ba-646e-4595-903c-5b098203333d",
   "metadata": {},
   "source": [
    "<font size=\"+3\">&#9998;</font> **Population growth**"
   ]
  },
  {
   "cell_type": "markdown",
   "id": "26718fb3-1171-4683-9da4-f6168ca3052c",
   "metadata": {},
   "source": [
    "### &#9989;&nbsp; 1.3 Question\n",
    "\n",
    "Let’s say we’re working with some (mathematical) function $f(t)$ and the differential equation $\\frac{df}{dt}$. What does it mean if you have a large *positive* derivative? (i.e., $\\frac{df}{dt}$ is a very big positive number.) "
   ]
  },
  {
   "cell_type": "markdown",
   "id": "3d0197f4-9e1c-41af-9034-f51ea2f4779c",
   "metadata": {},
   "source": [
    "<font size=\"+3\">&#9998;</font> **f(t) grows very quickly with an increase in t**"
   ]
  },
  {
   "cell_type": "markdown",
   "id": "3d38e059-98d3-4c2e-a073-df0f5fd9845a",
   "metadata": {},
   "source": [
    "### &#9989;&nbsp; 1.4 Question\n",
    "\n",
    "What does it mean if you have a large *negative* derivative? (I.e., $\\frac{df}{dt}$ is a very big negative number.) "
   ]
  },
  {
   "cell_type": "markdown",
   "id": "93946397-efd0-4296-95ba-4d283e916109",
   "metadata": {},
   "source": [
    "<font size=\"+3\">&#9998;</font> **f(t) decreases very quickly with an increase with t**"
   ]
  },
  {
   "cell_type": "markdown",
   "id": "787b4e26",
   "metadata": {},
   "source": [
    "---\n",
    "## 2. An introduction to solving ODEs numerically with Python\n",
    "\n",
    "### Video\n",
    "\n",
    "### Watch this video on [Mediaspace](https://mediaspace.msu.edu/media/Rachel+Frisbie+%28she+her%29%27s+Zoom+Meeting/1_8det5gjq)"
   ]
  },
  {
   "cell_type": "markdown",
   "id": "ddaf32c5",
   "metadata": {},
   "source": [
    "### &#9989;&nbsp; 2.1 Question\n",
    "\n",
    "What is an update equation? What information is needed for an update equation in order to be able to solve an ODE problem numerically?"
   ]
  },
  {
   "cell_type": "markdown",
   "id": "d9a75618",
   "metadata": {},
   "source": [
    "<font size=\"+3\">&#9998;</font> **update equations change based on their position, and need a step size calculation in order to know how often to update. To be perfect these usually need a step distance of $d$**"
   ]
  },
  {
   "cell_type": "markdown",
   "id": "a3f6bac8-b52b-4f34-b414-d58e5235b44a",
   "metadata": {},
   "source": [
    "### &#9989;&nbsp; 2.2 Question\n",
    "\n",
    "If we know the value of $x_1$ at time $t_1$, and we know the differential equation $\\frac{dx}{dt}$, how could we find the value of $x_2$ at time $t_2 = t_1 + \\Delta t$?"
   ]
  },
  {
   "cell_type": "markdown",
   "id": "29829c00-c7da-4d10-9447-048ea81721a5",
   "metadata": {},
   "source": [
    "<font size=\"+3\">&#9998;</font> **$x_2 = x_1 + \\frac{dx}{dt} \\Delta t$**"
   ]
  },
  {
   "cell_type": "markdown",
   "id": "b901c1ea-38ec-4657-b90a-fe53860b756c",
   "metadata": {},
   "source": [
    "### &#9989;&nbsp; 2.3 Question\n",
    "\n",
    "In your own words, explain how you used the differential equation $\\frac{dx}{dt}$ to find the value $x_2$  in the previous question."
   ]
  },
  {
   "cell_type": "markdown",
   "id": "46c8471e-62c9-43f2-98e0-f8c58f3fd220",
   "metadata": {},
   "source": [
    "<font size=\"+3\">&#9998;</font> **$x_2 = x_1 + \\frac{dx}{dt} \\Delta t$**"
   ]
  },
  {
   "cell_type": "markdown",
   "id": "a8735f51",
   "metadata": {},
   "source": [
    "### &#9989;&nbsp; 2.4 Question\n",
    "\n",
    "\n",
    "Look at the solution to the differential equation for population growth below with a timestep of 50 years. How might that change with a time step of 10 years? What about 100 years?\n",
    "\n",
    "<div align=\"center\">\n",
    "<img src=\"https://raw.githubusercontent.com/msu-cmse-courses/cmse201-S22-data/main/ezgif.com-gif-maker(1).gif\" alt=\"population-models-gif\" border=\"0\" width=\"500\" height=\"500\">\n",
    "\n",
    "</div>\n"
   ]
  },
  {
   "cell_type": "markdown",
   "id": "7eca44d7",
   "metadata": {},
   "source": [
    "<font size=\"+3\">&#9998;</font> **accuracy will increase with 10, decrease with 100, but might still end up at the same point**"
   ]
  },
  {
   "cell_type": "markdown",
   "id": "9dd05390",
   "metadata": {},
   "source": [
    "---\n",
    "## 3. The Population Growth Model\n",
    "\n",
    "Recall from the video that the ordinary differential equation describing population is:\n",
    "\n",
    "\\begin{equation}\n",
    "\\frac{dP}{dt} = kP\\Big(1-\\frac{P}{C}\\Big),\n",
    "\\end{equation}\n",
    "\n",
    "where $P =$ population, $k =$ growth rate, and $C =$ the carrying capacity. If we make our initial population be 1 billion and vary the other parameters, the solution $P(t)$ looks like the figures below.\n",
    "\n",
    "<div align=\"center\">\n",
    "<img src=\"https://raw.githubusercontent.com/msu-cmse-courses/cmse201-S22-data/main/Day-14/population_models_bigC.png\" alt=\"population-models-big-C\" border=\"0\">\n",
    "<img src=\"https://raw.githubusercontent.com/msu-cmse-courses/cmse201-S22-data/main/Day-14/population_models_littlek.png\" alt=\"population-models-littlek\" border=\"0\">\n",
    "</div>"
   ]
  },
  {
   "cell_type": "markdown",
   "id": "08fcc664",
   "metadata": {},
   "source": [
    "### &#9989;&nbsp; 3.1 Question\n",
    "\n",
    "What are the parameters of our population model? What value (or values) change with time in this model?"
   ]
  },
  {
   "cell_type": "markdown",
   "id": "e8e10948",
   "metadata": {},
   "source": [
    "<font size=\"+3\">&#9998;</font> **see graph above?? P, population changes with time**"
   ]
  },
  {
   "cell_type": "markdown",
   "id": "7a56ae4e",
   "metadata": {},
   "source": [
    "### &#9989;&nbsp; 3.2 Question\n",
    "\n",
    "Look at the figure below showing different values of initial population $P_0$. How does the population growth change with different initial values?\n",
    "\n",
    "<div align=\"center\">\n",
    "<img src=\"https://raw.githubusercontent.com/msu-cmse-courses/cmse201-S22-data/main/population_vary_P0.png\" alt=\"population-models-big-C\" border=\"0\">\n",
    "</div>"
   ]
  },
  {
   "cell_type": "markdown",
   "id": "244714b8",
   "metadata": {},
   "source": [
    "<font size=\"+3\">&#9998;</font> **its the same graph shifted over**"
   ]
  },
  {
   "cell_type": "markdown",
   "id": "756eb570",
   "metadata": {},
   "source": [
    "---\n",
    "## 4. Coding the Derivative\n",
    "\n",
    "To do numerical integration for a model, we need to compute a new value for our solution for each time step using our previous value, the derivative, and the time step. Recall that we refer to these as **update equations**. To calculate the **derivative** at each time step for use in the update equations, **we will use a function**. The function must: \n",
    "1. take in the current value of the solution as the first argument\n",
    "2. include any relevant model parameters as additional arguments, and\n",
    "3. return the value of the derivative.\n",
    "\n",
    "### &#9989;&nbsp; 4.1 Task\n",
    "In the cell below, fill in the `derivs` function with the appropriate input arguments, return value, and equation for the derivative of population with respect to time ($\\frac{dP}{dt}$ from Part 3)."
   ]
  },
  {
   "cell_type": "code",
   "execution_count": 29,
   "id": "eb729d50",
   "metadata": {},
   "outputs": [
    {
     "data": {
      "text/plain": [
       "range(0, 50)"
      ]
     },
     "execution_count": 29,
     "metadata": {},
     "output_type": "execute_result"
    }
   ],
   "source": [
    "\n",
    "# Define a function that computes the derivatives\n",
    "#def stepper(xin, dxdt, step):\n",
    "#    # Define the differential equation for the population model\n",
    "#    xout = xin + dxdt * step\n",
    "#    #return the value of the derivative\n",
    "#    \n",
    "#    return xout\n",
    "\n",
    "def derivs(k,p,c):\n",
    "    dpdt = k * p * (1 - p / c)\n",
    "    return dpdt\n",
    "\n"
   ]
  },
  {
   "cell_type": "markdown",
   "id": "1ba690e7",
   "metadata": {},
   "source": [
    "### &#9989;&nbsp; 4.2 Task\n",
    "\n",
    "Now test your `derivs` function to see if it works by calling it with and initital population value of $P_0 = 1$ billion and assuming $k = 0.01$ and $C=12$ billion. You should get a value of about ~9170000 (or ~0.00917 if you fed in your population and carrying capacity values in units of \"billions)."
   ]
  },
  {
   "cell_type": "code",
   "execution_count": 13,
   "id": "1967caee",
   "metadata": {},
   "outputs": [
    {
     "data": {
      "text/plain": [
       "9166666.666666666"
      ]
     },
     "execution_count": 13,
     "metadata": {},
     "output_type": "execute_result"
    }
   ],
   "source": [
    "# Put your code here\n",
    "derivs(0.01,1,12) * 1e9"
   ]
  },
  {
   "cell_type": "markdown",
   "id": "82baf998",
   "metadata": {},
   "source": [
    "### &#9989;&nbsp; 4.3 Questions\n",
    "\n",
    "What does the output of the `derivs` function represent? How could you use the output of the `derivs` function to calculate population values (I.e., $P(t)$)?"
   ]
  },
  {
   "cell_type": "markdown",
   "id": "8352baaa",
   "metadata": {},
   "source": [
    "<font size=\"+3\">&#9998;</font> **outputs derivative of population. can be used in a loop run through an equation like question 2.2**"
   ]
  },
  {
   "cell_type": "markdown",
   "id": "4c668c2b",
   "metadata": {},
   "source": [
    "### &#9989;&nbsp; 4.4 Task\n",
    "\n",
    "To get the solution for many time steps, we will need to use the derivative in a loop that calculates the values using update equations. In the cell below, write pseudocode that describes the structure of this loop. Be as detailed as you can!"
   ]
  },
  {
   "cell_type": "markdown",
   "id": "3380340a",
   "metadata": {},
   "source": [
    "<font size=\"+3\">&#9998;</font> **no**"
   ]
  },
  {
   "cell_type": "code",
   "execution_count": 38,
   "id": "9136fd30",
   "metadata": {},
   "outputs": [
    {
     "data": {
      "text/plain": [
       "[1,\n",
       " 1.0916666666666668,\n",
       " 1.1909021990740742,\n",
       " 1.2981736852501529,\n",
       " 1.413947262799535,\n",
       " 1.5386815985630027,\n",
       " 1.672820249571333,\n",
       " 1.8167828779670003,\n",
       " 1.9709553322164166,\n",
       " 2.135678657758122,\n",
       " 2.311237162457238,\n",
       " 2.4978457351936005,\n",
       " 2.69563669773942,\n",
       " 2.9046465574616995,\n",
       " 3.1248031163430854,\n",
       " 3.3559134736781653,\n",
       " 3.5976535273558596,\n",
       " 3.8495596225673117,\n",
       " 4.111023007426538,\n",
       " 4.381287723439272,\n",
       " 4.659452478153535,\n",
       " 4.944476914334129,\n",
       " 5.235192506131016,\n",
       " 5.530318085275365,\n",
       " 5.82847974276687,\n",
       " 6.128234582778193,\n",
       " 6.428097548543024,\n",
       " 6.726570319284119,\n",
       " 7.022171115710247,\n",
       " 7.313464167461977,\n",
       " 7.599087599801923,\n",
       " 7.8777785902032536,\n",
       " 8.148394819921373,\n",
       " 8.409931484069165,\n",
       " 8.661533402753268,\n",
       " 8.902502068970172,\n",
       " 9.132297750133704,\n",
       " 9.350537006837932,\n",
       " 9.556986188219678,\n",
       " 9.751551598693132,\n",
       " 9.934267103712656,\n",
       " 10.105279956684694,\n",
       " 10.264835593995052,\n",
       " 10.413262071963326,\n",
       " 10.550954720998075,\n",
       " 10.678361480393285,\n",
       " 10.795969262549722,\n",
       " 10.904291586155374,\n",
       " 11.003857619805087,\n",
       " 11.095202694144408,\n",
       " 11.178860273357605]"
      ]
     },
     "execution_count": 38,
     "metadata": {},
     "output_type": "execute_result"
    }
   ],
   "source": [
    "t_total = 500 #yrs\n",
    "dt = 10 #yrs\n",
    "t_steps = int(t_total / dt) #keep it even babe #probably better to invert this\n",
    "initial_pop = 1\n",
    "capacity = 12\n",
    "k = 0.01\n",
    "\n",
    "pop = [initial_pop]\n",
    "for i in range (t_steps):\n",
    "    dxdt = derivs(k,pop[i],capacity)\n",
    "    #print('dxdt =',dxdt)\n",
    "    pop2 = pop[i] + dxdt * dt\n",
    "    pop.append(pop2)\n",
    "pop\n"
   ]
  },
  {
   "cell_type": "markdown",
   "id": "f8fafb62",
   "metadata": {},
   "source": [
    "---\n",
    "## Assignment wrapup\n",
    "\n",
    "Please fill out the form that appears when you run the code below. **You must completely fill this out in order to receive credit for the assignment!** "
   ]
  },
  {
   "cell_type": "code",
   "execution_count": 14,
   "id": "e2ddcb7c",
   "metadata": {},
   "outputs": [
    {
     "data": {
      "text/html": [
       "\n",
       "<iframe \n",
       "\tsrc=\"https://cmse.msu.edu/cmse201-pc-survey\" \n",
       "\twidth=\"800px\" \n",
       "\theight=\"600px\" \n",
       "\tframeborder=\"0\" \n",
       "\tmarginheight=\"0\" \n",
       "\tmarginwidth=\"0\">\n",
       "\tLoading...\n",
       "</iframe>\n"
      ],
      "text/plain": [
       "<IPython.core.display.HTML object>"
      ]
     },
     "execution_count": 14,
     "metadata": {},
     "output_type": "execute_result"
    }
   ],
   "source": [
    "from IPython.display import HTML\n",
    "HTML(\n",
    "\"\"\"\n",
    "<iframe \n",
    "\tsrc=\"https://cmse.msu.edu/cmse201-pc-survey\" \n",
    "\twidth=\"800px\" \n",
    "\theight=\"600px\" \n",
    "\tframeborder=\"0\" \n",
    "\tmarginheight=\"0\" \n",
    "\tmarginwidth=\"0\">\n",
    "\tLoading...\n",
    "</iframe>\n",
    "\"\"\"\n",
    ")"
   ]
  },
  {
   "cell_type": "markdown",
   "id": "e5a4cf6f",
   "metadata": {},
   "source": [
    "### Congratulations, you're done!\n",
    "\n",
    "Submit this assignment by uploading it to the course Desire2Learn web page.  Go to the \"Pre-Class Assignments\" folder, find the appropriate submission link, and upload it there."
   ]
  },
  {
   "cell_type": "markdown",
   "id": "d00a4675",
   "metadata": {},
   "source": [
    "Copyright &#169; 2023, [Department of Computational Mathematics, Science and Engineering](https://cmse.msu.edu/) at Michigan State University, All rights reserved."
   ]
  }
 ],
 "metadata": {
  "kernelspec": {
   "display_name": "Python 3 (ipykernel)",
   "language": "python",
   "name": "python3"
  },
  "language_info": {
   "codemirror_mode": {
    "name": "ipython",
    "version": 3
   },
   "file_extension": ".py",
   "mimetype": "text/x-python",
   "name": "python",
   "nbconvert_exporter": "python",
   "pygments_lexer": "ipython3",
   "version": "3.11.6"
  }
 },
 "nbformat": 4,
 "nbformat_minor": 5
}
