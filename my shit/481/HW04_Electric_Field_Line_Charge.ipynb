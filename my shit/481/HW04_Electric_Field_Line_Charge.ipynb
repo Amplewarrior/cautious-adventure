{
 "cells": [
  {
   "cell_type": "markdown",
   "metadata": {},
   "source": [
    "# Numerically Computing the Electric Field\n",
    "\n",
    "## Reminders from previous Homeworks\n",
    "\n",
    "One type of problem you will encounter in electrostatics is one where you know the distribution of charge at every point in space (or every point where the sources exist) and you need to determine the electric field everywhere in space (or everywhere you are interested). This can be done using Coulomb's law,\n",
    "\n",
    "$$ \\vec{E} = \\int_V \\dfrac{1}{4\\pi\\varepsilon_0}\\dfrac{dq}{|\\mathfrak{\\vec{r}}|^2}\\hat{\\mathfrak{r}}$$\n",
    "\n",
    "This calculation might be difficult to perform for all locations that you are interested in, or it might be downright impossible to solve analytical as no anti-derivative might exist for the function. In this case, using numerical techniques makes the problem tractable.\n",
    "\n",
    "## The concept of numerical integration \n",
    "\n",
    "Typically, when you perform an integral analytically, you are seeking the anti-derivative of the function that you are integrating. This is one productive way to think about an integral. \n",
    "\n",
    "Another productive way to think about integration is adding up small bits. You might think about this when you do a line integral, but this can also be a productive way of thinking about any kind of integral, in particular, numerical integration. To conceptualize a numerical integral where you are trying to determine the electric field it is important to follow these steps:\n",
    "\n",
    "1. Divide the source into chunks ($dq$) and pick a starting chunk\n",
    "2. Determine the separation vector (Griffiths script-r, $\\vec{\\mathfrak{r}}$) between the chunk and the observation location\n",
    "3. Compute the contribution to the total electric field from the chunk ($d\\vec{E}$) - treating it as a point charge of size $dq$\n",
    "4. Add this contribution to the \"running\" total of electric field\n",
    "5. Repeat steps 2-5, which form the basis of numerical integration (it's the superposition of the chunks), until you have added up the contributions of all the chunks\n",
    "\n",
    "## Purpose of this problem\n",
    "\n",
    "\n",
    "In this problem, you will calculate and display the electric field of a line charge.\n",
    "\n",
    "_For this problem, we will limit our calculations to two-dimensions as we are going to be graphing in a plane._"
   ]
  },
  {
   "cell_type": "markdown",
   "metadata": {},
   "source": [
    "### Import the relevant libraries\n",
    "\n",
    "We will begin by importing numpy and matplotlib, which allow us to do vector calculations and plotting. The \"magic\" at the end of these library imports ensures that the graphs will show up in the notebook."
   ]
  },
  {
   "cell_type": "code",
   "execution_count": 2,
   "metadata": {},
   "outputs": [],
   "source": [
    "import numpy as np\n",
    "import matplotlib.pyplot as plt\n",
    "\n",
    "%matplotlib inline"
   ]
  },
  {
   "cell_type": "markdown",
   "metadata": {},
   "source": [
    "### Computing the Electric Field of a line of charge\n",
    "\n",
    "You might want to remind yourself how we can use array calculations with numpy. \n",
    "\n",
    "Consider a uniformly charged rod with total charge of 0.1 $\\mu C$. It lies along the $x$-axis from -0.1 to 0.1 meters. We want to compute and represent the electric field of the charge at a distance of $0.01 m$ from the charge along the $y$-axis.\n",
    "\n",
    "_Note: that we are still working in 2D as we will also graph this._\n",
    "\n",
    "Below, we construct the line charge from an array of points (20 chunks of the line charge). We plot it as well."
   ]
  },
  {
   "cell_type": "code",
   "execution_count": 3,
   "metadata": {},
   "outputs": [
    {
     "name": "stdout",
     "output_type": "stream",
     "text": [
      "[-0.095 -0.085 -0.075 -0.065 -0.055 -0.045 -0.035 -0.025 -0.015 -0.005\n",
      "  0.005  0.015  0.025  0.035  0.045  0.055  0.065  0.075  0.085  0.095]\n"
     ]
    }
   ],
   "source": [
    "## Length of rod (m)\n",
    "L = 0.2\n",
    "\n",
    "## Location of the ends of the rod (m)\n",
    "lineStartX = -L/2\n",
    "lineEndX = +L/2\n",
    "\n",
    "## Number of chunks that the rod is cut up into\n",
    "Nchunks = 20\n",
    "\n",
    "## Create locations for the chunks that are equally spaces\n",
    "xLocations = np.linspace(lineStartX+L/2/Nchunks,lineEndX-L/2/Nchunks,Nchunks)\n",
    "print(xLocations)\n",
    "yLocations = np.zeros(Nchunks)\n",
    "\n",
    "## Stack the locations so that they are regular (x,y) ordered pairs\n",
    "chunkLocations = np.stack((xLocations,yLocations), axis=1)"
   ]
  },
  {
   "cell_type": "code",
   "execution_count": 4,
   "metadata": {},
   "outputs": [
    {
     "data": {
      "image/png": "[encoded data removed]",
      "text/plain": [
       "<Figure size 500x500 with 1 Axes>"
      ]
     },
     "metadata": {},
     "output_type": "display_data"
    }
   ],
   "source": [
    "fig = plt.figure(figsize=(5,5))\n",
    "\n",
    "## This for loop lets you do an operation on each chunk\n",
    "for thisLocation in chunkLocations:\n",
    "    \n",
    "    plt.plot(thisLocation[0],thisLocation[1],'ro')"
   ]
  },
  {
   "cell_type": "code",
   "execution_count": 5,
   "metadata": {},
   "outputs": [],
   "source": [
    "k = 9e9                           ## Electric constant in SI\n",
    "Q = 0.1e-6                        ## Charge in C\n",
    "\n",
    "chargeOfChunk = Q/Nchunks         ## Charge of a single chunk"
   ]
  },
  {
   "cell_type": "markdown",
   "metadata": {},
   "source": [
    "### Problems to solve\n",
    "\n",
    "Using numerical superposition, adding up the contributions to the electric field due to each chunk, you will solve the following problems.\n",
    "\n",
    "1. We want to compute and represent the electric field of the charge at a distance of $0.01 m$ from the line charge along the $y$-axis. Do this.\n",
    "2. The analytical formula for the electric field of the rod at that location is: $E_{rod} = \\dfrac{1}{4\\pi\\varepsilon_0}\\dfrac{Q}{y\\sqrt{L^2/4+y^2}}$. Compare the value of the electric field at that location for different values of 'Nchunks', say for 10, 20, 50, and 100 chunks. How close do you get with 100 chunks? How many chunks do you need to get within 1% of the analytical solution?\n",
    "3. Using what you have built to find the electric field at this location, find the electric field at a variety of points around the the line charge and represent them with arrows. You can choose the locations, but be systematic."
   ]
  },
  {
   "cell_type": "code",
   "execution_count": 22,
   "metadata": {},
   "outputs": [
    {
     "name": "stdout",
     "output_type": "stream",
     "text": [
      "r= [0.095 0.1  ]\n",
      "magr= 0.1379311422413372\n",
      "de= [1629.10516616 1714.84754332]\n",
      "r= [0.085 0.1  ]\n",
      "magr= 0.1312440474840669\n",
      "de= [1691.96974771 1990.55264436]\n",
      "r= [0.075 0.1  ]\n",
      "magr= 0.125\n",
      "de= [1728. 2304.]\n",
      "r= [0.065 0.1  ]\n",
      "magr= 0.11926860441876563\n",
      "de= [1724.0404764  2652.36996369]\n",
      "r= [0.055 0.1  ]\n",
      "magr= 0.11412712210513329\n",
      "de= [1664.97840612 3027.23346568]\n",
      "r= [0.045 0.1  ]\n",
      "magr= 0.10965856099730655\n",
      "de= [1535.66823117 3412.59606926]\n",
      "r= [0.035 0.1  ]\n",
      "magr= 0.10594810050208546\n",
      "de= [1324.34468711 3783.84196316]\n",
      "r= [0.025 0.1  ]\n",
      "magr= 0.10307764064044153\n",
      "de= [1027.20970604 4108.83882414]\n",
      "r= [0.015 0.1  ]\n",
      "magr= 0.10111874208078343\n",
      "de= [ 652.84306913 4352.28712754]\n",
      "r= [0.005 0.1  ]\n",
      "magr= 0.10012492197250394\n",
      "de= [ 224.15887905 4483.177581  ]\n",
      "r= [-0.005  0.1  ]\n",
      "magr= 0.10012492197250394\n",
      "de= [-224.15887905 4483.177581  ]\n",
      "r= [-0.015  0.1  ]\n",
      "magr= 0.10111874208078343\n",
      "de= [-652.84306913 4352.28712754]\n",
      "r= [-0.025  0.1  ]\n",
      "magr= 0.10307764064044153\n",
      "de= [-1027.20970604  4108.83882414]\n",
      "r= [-0.035  0.1  ]\n",
      "magr= 0.10594810050208546\n",
      "de= [-1324.34468711  3783.84196316]\n",
      "r= [-0.045  0.1  ]\n",
      "magr= 0.10965856099730656\n",
      "de= [-1535.66823117  3412.59606926]\n",
      "r= [-0.055  0.1  ]\n",
      "magr= 0.11412712210513329\n",
      "de= [-1664.97840612  3027.23346568]\n",
      "r= [-0.065  0.1  ]\n",
      "magr= 0.11926860441876563\n",
      "de= [-1724.0404764   2652.36996369]\n",
      "r= [-0.075  0.1  ]\n",
      "magr= 0.125\n",
      "de= [-1728.  2304.]\n",
      "r= [-0.085  0.1  ]\n",
      "magr= 0.13124404748406687\n",
      "de= [-1691.96974771  1990.55264436]\n",
      "r= [-0.095  0.1  ]\n",
      "magr= 0.1379311422413372\n",
      "de= [-1629.10516616  1714.84754332]\n",
      "Electric Field at Point P: [1.13686838e-12 6.36594904e+04]\n"
     ]
    }
   ],
   "source": [
    "import numpy as np\n",
    "\n",
    "# Length of rod (m)\n",
    "L = 0.2\n",
    "\n",
    "# Location of the ends of the rod (m)\n",
    "lineStartX = -L/2\n",
    "lineEndX = +L/2\n",
    "\n",
    "# Number of chunks that the rod is cut up into\n",
    "Nchunks = 20\n",
    "\n",
    "# Create locations for the chunks that are equally spaced\n",
    "xLocations = np.linspace(lineStartX + L/(2*Nchunks), lineEndX - L/(2*Nchunks), Nchunks)\n",
    "yLocations = np.zeros(Nchunks)\n",
    "\n",
    "# Stack the locations so that they are regular (x, y) ordered pairs\n",
    "chunkLocations = np.stack((xLocations, yLocations), axis=1)\n",
    "#print(chunkLocations)\n",
    "# Electric constant in SI (vacuum permittivity)\n",
    "k = 9e9\n",
    "\n",
    "# Total charge on the rod (Coulombs)\n",
    "Q = 0.1e-6\n",
    "\n",
    "# Charge of a single chunk\n",
    "chargeOfChunk = Q / Nchunks\n",
    "\n",
    "# Point where electric field is calculated (you can change this)\n",
    "P = np.array([0.0, 0.1])  # Point (x, y)\n",
    "\n",
    "# Initialize variables to store the electric field\n",
    "E_total = np.zeros(2)\n",
    "\n",
    "# Calculate the electric field due to each chunk and sum them up\n",
    "for chunkLocation in chunkLocations:\n",
    "    r = P - chunkLocation  # Vector from the chunk to the point P\n",
    "    #print('r=',r)\n",
    "    r_magnitude = np.linalg.norm(r)\n",
    "    #print('magr=',r_magnitude)\n",
    "    dE = (k * chargeOfChunk / r_magnitude**3) * r  # Electric field due to this chunk\n",
    "    #print('de=', dE)\n",
    "    E_total += dE\n",
    "\n",
    "# Print the total electric field at point P\n",
    "print(\"Electric Field at Point P:\", E_total) #wait shouldn't this be entirely vertical?\n"
   ]
  },
  {
   "cell_type": "code",
   "execution_count": 24,
   "metadata": {},
   "outputs": [
    {
     "name": "stdout",
     "output_type": "stream",
     "text": [
      "89999.99999999999\n",
      "63659.49036432365\n"
     ]
    }
   ],
   "source": [
    "E_analytical = k* Q / (((L ** 2) / 4 + P[1] ** 2) ** 1/2)\n",
    "print(E_analytical)\n",
    "print(np.linalg.norm(E_total))\n",
    "\n"
   ]
  },
  {
   "cell_type": "markdown",
   "metadata": {},
   "source": [
    "For #2 lets just throw it all in a giant for loop for ease"
   ]
  },
  {
   "cell_type": "code",
   "execution_count": 30,
   "metadata": {},
   "outputs": [
    {
     "name": "stdout",
     "output_type": "stream",
     "text": [
      "Electric Field at Point P: [-1.36424205e-12  6.37190394e+04] 10 chuncks\n",
      "0.292010673790668\n",
      "Electric Field at Point P: [1.13686838e-12 6.36594904e+04] 20 chuncks\n",
      "0.2926723292852927\n",
      "Electric Field at Point P: [1.02318154e-12 6.36427921e+04] 50 chuncks\n",
      "0.29285786553998383\n",
      "Electric Field at Point P: [1.47792889e-12 6.36404058e+04] 100 chuncks\n",
      "0.2928843801076375\n"
     ]
    }
   ],
   "source": [
    "\n",
    "values = [10,20,50,100]\n",
    "\n",
    "import numpy as np\n",
    "# Length of rod (m)\n",
    "L = 0.2\n",
    "# Location of the ends of the rod (m)\n",
    "lineStartX = -L/2\n",
    "lineEndX = +L/2\n",
    "# Number of chunks that the rod is cut up into\n",
    "# Electric constant in SI (vacuum permittivity)\n",
    "k = 9e9\n",
    "# Total charge on the rod (Coulombs)\n",
    "Q = 0.1e-6\n",
    "\n",
    "for i in values:\n",
    "    Nchunks = i\n",
    "\n",
    "    # Create locations for the chunks that are equally spaced\n",
    "    xLocations = np.linspace(lineStartX + L/(2*Nchunks), lineEndX - L/(2*Nchunks), Nchunks)\n",
    "    yLocations = np.zeros(Nchunks)\n",
    "\n",
    "    # Stack the locations so that they are regular (x, y) ordered pairs\n",
    "    chunkLocations = np.stack((xLocations, yLocations), axis=1)\n",
    "    #print(chunkLocations)\n",
    "\n",
    "    # Charge of a single chunk\n",
    "    chargeOfChunk = Q / Nchunks\n",
    "\n",
    "    # Point where electric field is calculated (you can change this)\n",
    "    P = np.array([0.0, 0.1])  # Point (x, y)\n",
    "\n",
    "    # Initialize variables to store the electric field\n",
    "    E_total = np.zeros(2)\n",
    "\n",
    "    # Calculate the electric field due to each chunk and sum them up\n",
    "    for chunkLocation in chunkLocations:\n",
    "        r = P - chunkLocation  # Vector from the chunk to the point P\n",
    "        #print('r=',r)\n",
    "        r_magnitude = np.linalg.norm(r)\n",
    "        #print('magr=',r_magnitude)\n",
    "        dE = (k * chargeOfChunk / r_magnitude**3) * r  # Electric field due to this chunk\n",
    "        #print('de=', dE)\n",
    "        E_total += dE\n",
    "\n",
    "    # Print the total electric field at point P\n",
    "    print(\"Electric Field at Point P:\", E_total, i, 'chuncks') #wait shouldn't this be entirely vertical?\n",
    "    print((E_analytical-np.linalg.norm(E_total))/E_analytical)\n"
   ]
  },
  {
   "cell_type": "markdown",
   "metadata": {},
   "source": [
    "I have no clue what it takes to get it to work properly.Here's graphing"
   ]
  },
  {
   "cell_type": "code",
   "execution_count": 35,
   "metadata": {},
   "outputs": [
    {
     "data": {
      "image/png": "[encoded data removed]",
      "text/plain": [
       "<Figure size 800x600 with 1 Axes>"
      ]
     },
     "metadata": {},
     "output_type": "display_data"
    }
   ],
   "source": [
    "import numpy as np\n",
    "import matplotlib.pyplot as plt\n",
    "\n",
    "# Length of rod (m)\n",
    "L = 0.2\n",
    "\n",
    "# Location of the ends of the rod (m)\n",
    "lineStartX = -L/2\n",
    "lineEndX = +L/2\n",
    "\n",
    "# Electric constant in SI (vacuum permittivity)\n",
    "k = 9e9\n",
    "\n",
    "# Total charge on the rod (Coulombs)\n",
    "Q = 0.1e-6\n",
    "\n",
    "# Define the points where electric field is calculated (y-values)\n",
    "x_values = np.linspace(-0.15, 0.15, 5)  # Adjust the range as needed\n",
    "\n",
    "# Create a figure and axis for the electric field vector plot\n",
    "fig, ax = plt.subplots(figsize=(8, 6))\n",
    "\n",
    "# Calculate the analytical electric field using the provided formula\n",
    "def analytical_field(Q, y, L):\n",
    "    return k * (Q / (y * np.sqrt(L**2/4 + y**2)))\n",
    "\n",
    "# Initialize variables to store the electric field vectors at each point\n",
    "E_vectors = []\n",
    "\n",
    "for x_value in x_values:\n",
    "    # Define the point where electric field is calculated (x is fixed at 0)\n",
    "    P = np.array([x_value, 0.1])\n",
    "    \n",
    "    # Initialize variables to store the electric field at this point\n",
    "    E_total = np.zeros(2)\n",
    "\n",
    "    # Calculate the electric field due to each chunk and sum them up\n",
    "    for chunkLocation in chunkLocations:\n",
    "        r = P - chunkLocation  # Vector from the chunk to the point P\n",
    "        r_magnitude = np.linalg.norm(r)\n",
    "        dE = (k * chargeOfChunk / r_magnitude**3) * r  # Electric field due to this chunk\n",
    "        E_total += dE\n",
    "\n",
    "    # Calculate the analytical electric field at this point\n",
    "    E_analytical = analytical_field(Q, P[1], L)\n",
    "    \n",
    "    # Store the electric field vectors\n",
    "    E_vectors.append(E_total)\n",
    "\n",
    "    # Plot the electric field vector at this point\n",
    "    plt.quiver(P[0], P[1], E_total[0], E_total[1], angles='xy', scale_units='xy', scale=1, color='b')\n",
    "\n",
    "fig = plt.plot\n",
    "\n",
    "## This for loop lets you do an operation on each chunk\n",
    "for thisLocation in chunkLocations:\n",
    "    \n",
    "    plt.plot(thisLocation[0],thisLocation[1],'ro')\n",
    "\n",
    "# Set axis limits and labels\n",
    "plt.xlim(-0.1, 0.1)\n",
    "plt.ylim(-0.15, 0.15)\n",
    "plt.xlabel('X-axis')\n",
    "plt.ylabel('Y-axis')\n",
    "\n",
    "# Show the plot\n",
    "plt.grid()\n",
    "plt.show()\n"
   ]
  },
  {
   "cell_type": "markdown",
   "metadata": {},
   "source": [
    "good enough"
   ]
  }
 ],
 "metadata": {
  "kernelspec": {
   "display_name": "Python 3",
   "language": "python",
   "name": "python3"
  },
  "language_info": {
   "codemirror_mode": {
    "name": "ipython",
    "version": 3
   },
   "file_extension": ".py",
   "mimetype": "text/x-python",
   "name": "python",
   "nbconvert_exporter": "python",
   "pygments_lexer": "ipython3",
   "version": "3.11.5"
  }
 },
 "nbformat": 4,
 "nbformat_minor": 4
}
