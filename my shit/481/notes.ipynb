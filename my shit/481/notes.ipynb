{
 "cells": [
  {
   "cell_type": "markdown",
   "metadata": {},
   "source": [
    "# Electrodynamics 1: Electrostatics"
   ]
  },
  {
   "cell_type": "markdown",
   "metadata": {},
   "source": [
    "## Notes\n",
    "\n",
    "$$ \n",
    "\\begin{array}{rrrr} \n",
    "    \\vec \\nabla \\cdot \\vec E = \\frac{\\rho}{\\epsilon_{0}} & \n",
    "    \\vec \\nabla \\times \\vec E = 0 & \n",
    "    \\vec \\nabla \\cdot \\vec B = 0 & \n",
    "    \\vec \\nabla \\times \\vec B = \\mu _0 \\vec J &  \n",
    "\\end{array}\n",
    "$$\n",
    "Scalar functions - $ T(x,y,z) $ \n",
    "$$dT = (\\frac {\\partial T}{\\partial x} \\hat x + \\frac {\\partial T}{\\partial y} \\hat y + \\frac {\\partial T}{\\partial y} \\hat y) \\cdot (dx \\hat x + dy \\hat y + dz \\hat z)$$ \n",
    "$$= \\nabla T \\cdot d \\textbf{l}$$\n"
   ]
  },
  {
   "cell_type": "markdown",
   "metadata": {},
   "source": [
    "Flux and Electric field are not the same thing. Gauss's law is useful for finding the electric field by using the symmetry <br>\n",
    "\n",
    "Helmholtz Theorem of vector fields.\n",
    "$F$ is uniquely determined if \n",
    "$$\n",
    "\\vec \\nabla \\cdot \\vec F = \\vec D \\\\ \\vec \\nabla \\times \\vec F = \\vec C\n",
    "$$ \n",
    "are both known and the boundary conditions are known <br>\n",
    "\n",
    "Curlless fields\n",
    "If any are true, all are true\n",
    "\n",
    "Curl F = 0 \\ The path integral of F is independent of path \\ The path integral of F is zero for any closed path. \\ F can ve represented as grad(T)\n",
    "\n",
    "We know electric fields are curlless thanks to maxwell. Maybe we'll talk about voltage soon\n",
    "\n",
    "Divergenceless fields <br>\n",
    "div F = 0 \\ flux of F is independent of surface for any boundary line \\ The flux of F is zero for a closed surface \\ curl(F)=A\n",
    "\n"
   ]
  },
  {
   "cell_type": "markdown",
   "metadata": {},
   "source": [
    "How do we know curl(E) = 0? if we show a point charge has no curl, we can sum electric fields using superposition. Unfortunately this only works in electrostatics"
   ]
  },
  {
   "cell_type": "markdown",
   "metadata": {},
   "source": [
    "Oh Electric potential, here we are.\n",
    "$$V(\\vec r) \\equiv - \\int_{O}^{\\vec r} \\vec E \\cdot d \\vec l  $$ \n",
    "$$\\Delta V = V(\\vec b) - V(\\vec a) $$\n",
    "$$\\vec E = - \\vec \\nabla V $$\n",
    "V is a scalar function, the gradient is electric field"
   ]
  }
 ],
 "metadata": {
  "kernelspec": {
   "display_name": "Python 3",
   "language": "python",
   "name": "python3"
  },
  "language_info": {
   "name": "python",
   "version": "3.11.5"
  },
  "orig_nbformat": 4
 },
 "nbformat": 4,
 "nbformat_minor": 2
}
