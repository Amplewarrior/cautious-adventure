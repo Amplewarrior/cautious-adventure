{
 "cells": [
  {
   "cell_type": "markdown",
   "metadata": {},
   "source": [
    "Birge's PHY 471 Quantum Mechanics 1\n",
    "Notes for office hours <br>\n",
    "Why are lasers coherent? <br> what detectors are used to detect electrons, how do they detect in a specific location, is it based on the location of the detector?\n"
   ]
  },
  {
   "cell_type": "markdown",
   "metadata": {},
   "source": [
    "I'm starting to suspect quantum mechanics is taught to be confusing on purpose. Why don't we talk at all about the collapse of the wave function? Why do we spend two weeks trying to make students confused?"
   ]
  }
 ],
 "metadata": {
  "kernelspec": {
   "display_name": "Python 3",
   "language": "python",
   "name": "python3"
  },
  "language_info": {
   "name": "python",
   "version": "3.11.5"
  },
  "orig_nbformat": 4
 },
 "nbformat": 4,
 "nbformat_minor": 2
}
