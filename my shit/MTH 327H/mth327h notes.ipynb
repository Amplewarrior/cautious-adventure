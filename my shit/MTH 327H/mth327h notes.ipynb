{
 "cells": [
  {
   "cell_type": "code",
   "execution_count": null,
   "metadata": {},
   "outputs": [],
   "source": []
  },
  {
   "cell_type": "markdown",
   "metadata": {},
   "source": [
    "Wow its math 327H - 9/6/23"
   ]
  },
  {
   "cell_type": "markdown",
   "metadata": {},
   "source": [
    "oh shit this is a lot to get caught up on"
   ]
  },
  {
   "cell_type": "markdown",
   "metadata": {},
   "source": [
    "topics of today: ordered fields. a < b exists, |A| exists, upper and lower bounds exist. <br>\n",
    "what do we do with this information? idk but hopefully I'll figure out what the homework is soon. <br>\n",
    "ah, gradescope. I actually already found that. In fact, its already in this folder."
   ]
  },
  {
   "cell_type": "code",
   "execution_count": 1,
   "metadata": {},
   "outputs": [
    {
     "name": "stdout",
     "output_type": "stream",
     "text": [
      "In mathematics, an expression is in closed form if it is formed with constants, variables and a finite set of basic functions connected by arithmetic operations (+, −, ×, ÷, and integer powers) and function composition. Commonly, the allowed functions are nth root, exponential function, logarithm, and trigonometric functions . However, the set of basic functions depends on the context.\n",
      "The closed-form problem arises when new ways are introduced for specifying mathematical objects, such as limits, series and integrals: given an object specified with such tools, a natural problem is to find, if possible, a closed-form expression of this object, that is, an expression of this object in terms of previous ways of specifying it.\n",
      "\n",
      "\n"
     ]
    }
   ],
   "source": [
    "import wikipedia\n",
    "print(wikipedia.summary(\"closed forms\"))"
   ]
  },
  {
   "cell_type": "markdown",
   "metadata": {},
   "source": [
    "## Chapter II: Basic topology of sets\n",
    "\n",
    "functions. Injective?"
   ]
  },
  {
   "cell_type": "markdown",
   "metadata": {},
   "source": [
    "9/13/23\n",
    "|A| Cardinality of A\n",
    "|A|=|B| iff a bijection A<->B </br>\n",
    "If an invertible map exists between the two they have the same cardinality </br>\n",
    "Equivalence relation of a set A: \n",
    "\n",
    "(i)fa a in A: a~a </br>\n",
    "(ii)fa a,b in A: if a~b then b~a </br>\n",
    "(iii)fa a.b.c in A: .... etc\n",
    "\n",
    "(a) |A| <= |B| if E f:A->B is injectibe </br>\n",
    "(b) |A| >= |B| if E g:A->B is surjective\n",
    "\n",
    "if you can make an injective function either way, can make h:A<->B\n",
    "\n",
    "Classification: the set Jn, |Jn|=n</br>\n",
    "A is finite if A<->Jn, else infinite </br>\n",
    "A is countable if A~N. \n",
    "A is uncountable if infinite and not countable. </br>\n",
    "A is at most countable if A is finite or countable.\n",
    "\n",
    "|Z|=|N| countable\n",
    "f(n)={n/2 neven, -(n-1)/2 nodd}\n",
    "\n",
    "Show |Q|=|N| in lab \n",
    "\n",
    "Q = p/q. </br> The set of real numbers on (0,1] is uncountable. </br>\n"
   ]
  },
  {
   "cell_type": "markdown",
   "metadata": {},
   "source": [
    "### Closed\n",
    "We talked about open sets, what about closed sets? <br>\n",
    "Def: E is closed if every limit point of E belongs to E, or if its compliment is open\n",
    "\n",
    "Pf. Assume $E^C$ is open: $ \\forall x \\in E^C \\exists B_r(x) \\subset E^C$, x is not a limit point of E => all limit points of E belong to E <br>\n",
    "<= Assume E contains all of its limit points, then take $x \\in E^C: (X \\notin E)$ Since X is not a limit point of E: $\\exists r>0: B_r(x) \\cap E = 0$\n",
    "\n",
    "#### Example \n",
    "$$\n",
    "\\begin{array}{rr}\n",
    "(a) N \\subset R & \\text{closed} \\\\\n",
    "(b) Q \\subset R &\n",
    "\\end{array}\n",
    "$$\n",
    "Def $ Q $ is dense in $ R: \\forall x \\in R: \\forall r > 0: \\\\ B_r(x) \\cap Q \\neq 0: \\forall x \\in R \\text{ is a limit pt} \\\\ Q$ not closed or nor open <br>\n",
    "(c) $A = \\{\\frac{1}{n}, n \\in N \\}$ <br> exactly one limit pt {0} <br> A - not closed. Closure of A\n",
    "\n",
    "Def: let Elim - set of all limit pts of E. Then closure of E denoted by is $\\bar E$ is $\\bar E = E \\cup E \\text{lim}$ <br>\n",
    "Thrm: $\\bar E$ is closed. Assume x is a limit pt of $\\bar E$ and $x \\notin \\bar E (\\text{thus} X \\notin E)$\n",
    "Then $\\forall r > 0 \\exists Y \\in B_r(x) \\cap \\bar E$ <br> \n",
    "Prove that $y' \\in E: y' \\in B_r(x).$ <br> If $Y \\in E$, then y'=y. \n",
    "\n",
    "If $y \\notin E$, then y is a limit pt of E, take $\\epsilon = r - |x-y| > 0$ </br> \n",
    "Then $B_\\epsilon(y) \\subset B_r(x)$ and since y is a limit pt, $\\exists y' \\in E: y'\\in B_\\epsilon(y) \\subset B_r(x)$ So $\\bar E$ is closed.\n",
    "\n",
    "Example (cuz we asked for them) $$W = \\underset{\\frac{P}{Q} \\in Q}{U}(\\frac{p}{q}-\\frac{1}{2q^3},\\frac{p}{q}+\\frac{1}{2q^3}) $$ You asked\n",
    "\n",
    "Theorem\n",
    "(b) $E = \\bar E iff E$ is closed <br> $\\bar E \\subset F \\forall closed set F \\supseteq E$ <br> $\\bar E$ is the smallest closed set containing E\n",
    "\n",
    "pf\n",
    "F-closed, complement is open <br>\n",
    "$\\forall x \\in F^c : \\exists B_r(x) \\subset F^c, B_r(x) \\cap E = 0$\n",
    "So X is not a limit point. $F^C \\cap E = 0$ so F^C \\cap \\bar E = 0$ so $\\bar E \\subset F$\n",
    "\n",
    "Theorem Let $E \\subset R \\text{nonemplty, bounded above} \\\\ y = sup E, then y \\in \\bar E$\n",
    "Pf. $y \\in E => y = max E, y\\notin E then \\forall r > 0 Y-\\not$ - not upper bound so $\\exists x \\in E: |x-y|<r,$ so $x \\in B_r(y) \\text{so y is a limit point,} y \\in \\bar E$\n",
    "\n",
    "Lindelof theorem. Consider any subset of R. <u> Def A covering of E </u> is a union of open $A_\\alpha \\subset R: E \\subseteq \\underset{\\alpha \\in I}{U}A_\\alpha$\n",
    "\n",
    "What is E? What is I?\n",
    "\n",
    "For any open covering we have an (at most) countable subcovering $U_{n=1}^\\infty A_{\\alpha n} \\supseteq E$.\n",
    "\n",
    "Pf: Fuck me\n",
    "\n"
   ]
  },
  {
   "cell_type": "markdown",
   "metadata": {},
   "source": [
    "What is a covering? \n",
    "Theorem (a) $E_\\alpha$ closed sets then Int (a in I) $E_\\alpha$ is closed\n",
    "(b) $E_\\alpha$ clolsed Union (n=1 -> m) closed $\\alpha \\in  I$\n",
    "\n",
    "pf. $\\underset{\\alpha \\in I}{\\cap} E_\\alpha = [ U ( \\alpha \\in I ) E_ \\alpha ^C ] ^C = open^C = closed$"
   ]
  },
  {
   "cell_type": "markdown",
   "metadata": {},
   "source": [
    "Notes to be added to blackboard post.\n",
    "9/25/23 Compact Sets. Compact if every open covering contains a finite subcovering\n"
   ]
  },
  {
   "cell_type": "markdown",
   "metadata": {},
   "source": [
    "Notes for office hours - Honestly I'm only just starting to understand LUB and GLB. Tips on studying, If I go through and try to understand everything we've put on the blackboards, will I succeed? I have trouble following class, but in my own time I can break it down better. Grad schools suggests I want as many 4.0s as possible. What does it take to not be lost in this class? What did you say about presentations?"
   ]
  }
 ],
 "metadata": {
  "kernelspec": {
   "display_name": "Python 3",
   "language": "python",
   "name": "python3"
  },
  "language_info": {
   "codemirror_mode": {
    "name": "ipython",
    "version": 3
   },
   "file_extension": ".py",
   "mimetype": "text/x-python",
   "name": "python",
   "nbconvert_exporter": "python",
   "pygments_lexer": "ipython3",
   "version": "3.11.5"
  },
  "orig_nbformat": 4
 },
 "nbformat": 4,
 "nbformat_minor": 2
}
