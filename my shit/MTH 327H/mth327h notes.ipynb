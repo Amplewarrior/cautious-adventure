{
 "cells": [
  {
   "cell_type": "code",
   "execution_count": null,
   "metadata": {},
   "outputs": [],
   "source": []
  },
  {
   "cell_type": "markdown",
   "metadata": {},
   "source": [
    "Wow its math 327H - 9/6/23"
   ]
  },
  {
   "cell_type": "markdown",
   "metadata": {},
   "source": [
    "oh shit this is a lot to get caught up on"
   ]
  },
  {
   "cell_type": "markdown",
   "metadata": {},
   "source": [
    "topics of today: ordered fields. a < b exists, |A| exists, upper and lower bounds exist. <br>\n",
    "what do we do with this information? idk but hopefully I'll figure out what the homework is soon. <br>\n",
    "ah, gradescope. I actually already found that. In fact, its already in this folder."
   ]
  },
  {
   "cell_type": "code",
   "execution_count": 6,
   "metadata": {},
   "outputs": [
    {
     "name": "stdout",
     "output_type": "stream",
     "text": [
      "In mathematics, Dedekind cuts, named after German mathematician Richard Dedekind but previously considered by Joseph Bertrand, are а method of construction of the real numbers from the rational numbers. A Dedekind cut is a partition of the rational numbers into two  sets A and B, such that all elements of A are less than all elements of B, and A contains no greatest element. The set B may or may not have a smallest element among the rationals. If B has a smallest element among the rationals, the cut corresponds to that rational. Otherwise, that cut defines a unique irrational number which, loosely speaking, fills the \"gap\" between A and B. In other words, A contains every rational number less than the cut, and B contains every rational number greater than or equal to the cut. An irrational cut is equated to an irrational number which is in neither set. Every real number, rational or not, is equated to one and only one cut of rationals.Dedekind cuts can be generalized from the rational numbers to any totally ordered set by defining a Dedekind cut as a partition of a totally ordered set into two non-empty parts A and B, such that A is closed downwards (meaning that for all a in A, x ≤ a implies that x is in A as well) and B is closed upwards, and A contains no greatest element. See also completeness (order theory).\n",
      "It is straightforward to show that a Dedekind cut among the real numbers is uniquely defined by the corresponding cut among the rational numbers. Similarly, every cut of reals is identical to the cut produced by a specific real number (which can be identified as the smallest element of the B set). In other words, the number line where every real number is defined as a Dedekind cut of rationals is a complete continuum without any further gaps.\n"
     ]
    }
   ],
   "source": [
    "import wikipedia\n",
    "print(wikipedia.summary(\"dedekind cuts\"))"
   ]
  },
  {
   "cell_type": "markdown",
   "metadata": {},
   "source": [
    "Chapter II: Basic topology of sets\n",
    "\n",
    "functions. Injective?"
   ]
  }
 ],
 "metadata": {
  "kernelspec": {
   "display_name": "Python 3",
   "language": "python",
   "name": "python3"
  },
  "language_info": {
   "codemirror_mode": {
    "name": "ipython",
    "version": 3
   },
   "file_extension": ".py",
   "mimetype": "text/x-python",
   "name": "python",
   "nbconvert_exporter": "python",
   "pygments_lexer": "ipython3",
   "version": "3.11.5"
  },
  "orig_nbformat": 4
 },
 "nbformat": 4,
 "nbformat_minor": 2
}
