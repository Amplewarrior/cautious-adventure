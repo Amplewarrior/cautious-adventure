{
 "cells": [
  {
   "cell_type": "code",
   "execution_count": null,
   "metadata": {},
   "outputs": [],
   "source": []
  },
  {
   "cell_type": "markdown",
   "metadata": {},
   "source": [
    "Wow its math 327H - 9/6/23"
   ]
  },
  {
   "cell_type": "markdown",
   "metadata": {},
   "source": [
    "oh shit this is a lot to get caught up on"
   ]
  },
  {
   "cell_type": "markdown",
   "metadata": {},
   "source": [
    "topics of today: ordered fields. a < b exists, |A| exists, upper and lower bounds exist. <br>\n",
    "what do we do with this information? idk but hopefully I'll figure out what the homework is soon. <br>\n",
    "ah, gradescope. I actually already found that. In fact, its already in this folder."
   ]
  },
  {
   "cell_type": "code",
   "execution_count": 1,
   "metadata": {},
   "outputs": [
    {
     "name": "stdout",
     "output_type": "stream",
     "text": [
      "In mathematics, an expression is in closed form if it is formed with constants, variables and a finite set of basic functions connected by arithmetic operations (+, −, ×, ÷, and integer powers) and function composition. Commonly, the allowed functions are nth root, exponential function, logarithm, and trigonometric functions . However, the set of basic functions depends on the context.\n",
      "The closed-form problem arises when new ways are introduced for specifying mathematical objects, such as limits, series and integrals: given an object specified with such tools, a natural problem is to find, if possible, a closed-form expression of this object, that is, an expression of this object in terms of previous ways of specifying it.\n",
      "\n",
      "\n"
     ]
    }
   ],
   "source": [
    "import wikipedia\n",
    "print(wikipedia.summary(\"closed forms\"))"
   ]
  },
  {
   "cell_type": "markdown",
   "metadata": {},
   "source": [
    "Chapter II: Basic topology of sets\n",
    "\n",
    "functions. Injective?"
   ]
  },
  {
   "cell_type": "markdown",
   "metadata": {},
   "source": [
    "9/13/23\n",
    "|A| Cardinality of A\n",
    "|A|=|B| iff a bijection A<->B </br>\n",
    "If an invertible map exists between the two they have the same cardinality </br>\n",
    "Equivalence relation of a set A: \n",
    "\n",
    "(i)fa a in A: a~a </br>\n",
    "(ii)fa a,b in A: if a~b then b~a </br>\n",
    "(iii)fa a.b.c in A: .... etc\n",
    "\n",
    "(a) |A| <= |B| if E f:A->B is injectibe </br>\n",
    "(b) |A| >= |B| if E g:A->B is surjective\n",
    "\n",
    "if you can make an injective function either way, can make h:A<->B\n",
    "\n",
    "Classification: the set Jn, |Jn|=n</br>\n",
    "A is finite if A<->Jn, else infinite </br>\n",
    "A is countable if A~N. \n",
    "A is uncountable if infinite and not countable. </br>\n",
    "A is at most countable if A is finite or countable.\n",
    "\n",
    "|Z|=|N| countable\n",
    "f(n)={n/2 neven, -(n-1)/2 nodd}\n",
    "\n",
    "Show |Q|=|N| in lab \n",
    "\n",
    "Q = p/q. </br> The set of real numbers on (0,1] is uncountable. </br>\n"
   ]
  }
 ],
 "metadata": {
  "kernelspec": {
   "display_name": "Python 3",
   "language": "python",
   "name": "python3"
  },
  "language_info": {
   "codemirror_mode": {
    "name": "ipython",
    "version": 3
   },
   "file_extension": ".py",
   "mimetype": "text/x-python",
   "name": "python",
   "nbconvert_exporter": "python",
   "pygments_lexer": "ipython3",
   "version": "3.11.5"
  },
  "orig_nbformat": 4
 },
 "nbformat": 4,
 "nbformat_minor": 2
}
