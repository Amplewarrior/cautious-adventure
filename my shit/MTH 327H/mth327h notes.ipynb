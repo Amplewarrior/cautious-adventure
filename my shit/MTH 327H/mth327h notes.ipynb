{
 "cells": [
  {
   "cell_type": "code",
   "execution_count": null,
   "metadata": {},
   "outputs": [],
   "source": []
  },
  {
   "cell_type": "markdown",
   "metadata": {},
   "source": [
    "Wow its math 327H"
   ]
  },
  {
   "cell_type": "markdown",
   "metadata": {},
   "source": [
    "oh shit this is a lot to get caught up on"
   ]
  },
  {
   "cell_type": "markdown",
   "metadata": {},
   "source": [
    "topics of today: ordered fields. a < b exists, |A| exists, upper and lower bounds exist. <br>\n",
    "what do we do with this information?"
   ]
  }
 ],
 "metadata": {
  "kernelspec": {
   "display_name": "Python 3",
   "language": "python",
   "name": "python3"
  },
  "language_info": {
   "name": "python",
   "version": "3.11.5"
  },
  "orig_nbformat": 4
 },
 "nbformat": 4,
 "nbformat_minor": 2
}
