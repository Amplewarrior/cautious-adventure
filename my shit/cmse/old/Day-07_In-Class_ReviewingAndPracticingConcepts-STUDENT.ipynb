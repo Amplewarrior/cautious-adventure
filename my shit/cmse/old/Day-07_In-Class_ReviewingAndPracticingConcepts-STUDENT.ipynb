{
 "cells": [
  {
   "cell_type": "markdown",
   "metadata": {},
   "source": [
    "# Day 7 In-class Assignment: Reviewing and practicing prior concepts"
   ]
  },
  {
   "cell_type": "markdown",
   "metadata": {},
   "source": [
    "### <p style=\"text-align: right;\"> &#9989; Andrew.\n",
    "<p style=\"text-align: right;\"> &#9989; Noah, Bill, etc."
   ]
  },
  {
   "cell_type": "markdown",
   "metadata": {},
   "source": [
    "## Learning Goals:\n",
    "\n",
    "The primary purpose of this assignment is to give you the opportunity to review and practice the types of coding concepts you've identified as having a weaker understanding of than other, or where you've identified some gaps in your knowledge.\n",
    "\n",
    "As such, the learning goals embedding within this activity are those that have been covered in previous assignments."
   ]
  },
  {
   "cell_type": "markdown",
   "metadata": {},
   "source": [
    "---\n",
    "<a id=\"top\"></a>\n",
    "## Plans for today\n",
    "\n",
    "For today's assignment, rather than have you follow one specific, pre-determined activity, you're going to use the reflection you did in your pre-class assignment to **target specific sections of the assignment that you feel like would be particularly beneficial for you to review or practice**.\n",
    "\n",
    "Your instructors will float around and be ready to help answer questions you may have or help you to solve/troubleshoot issues you run into. You may also find it useful to check in with your group from time to time to see if anyone else might have idea for how to solve something you get stuck on or answer questions you might have.\n",
    "\n",
    "**If you have any lingering questions from previous assignments from the course, you can ask questions about those as well**.\n",
    "\n",
    "\n",
    "### Getting around in this document\n",
    "\n",
    "To help you navigate this assignment, the notebook is divided up into section and these sections are listed below. You'll notice that you can actually click on each section to jump right to that section and within each section, there is another link you can click to jump back up to the top. **These links should help to minimize the amount of scrolling you need to do!**.\n",
    "\n",
    "#### Concept Sections:\n",
    "\n",
    "1. [Defining variables and basic data types](#variables)\n",
    "2. [Performing arithemtic operations and concatenating strings](#operators)\n",
    "3. [Working with loops in Python](#loops)\n",
    "4. [Connecting lists and loops to interact with data](#listsandloops)\n",
    "5. [Conditional statements (using `if` in Python)](#if)\n",
    "6. [Defining and using functions](#functions)\n",
    "7. [Debugging code](#debugging)\n",
    "\n",
    "---"
   ]
  },
  {
   "cell_type": "markdown",
   "metadata": {},
   "source": [
    "<a id=\"variables\"></a>\n",
    "## 1. Defining variables and basic data types\n",
    "### [back to top](#top)"
   ]
  },
  {
   "cell_type": "markdown",
   "metadata": {},
   "source": [
    "Variables and data types are how we store and represent data in programs. Being comfortable with what the different data types are and how you can store them in variable is fundamental to using Python."
   ]
  },
  {
   "cell_type": "markdown",
   "metadata": {},
   "source": [
    "### 1.1 Primitive Data Types"
   ]
  },
  {
   "cell_type": "markdown",
   "metadata": {},
   "source": [
    "Primitive data types are the most basic way we store data. The following cell defines variables that are instances of three common primitive data types."
   ]
  },
  {
   "cell_type": "code",
   "execution_count": 32,
   "metadata": {},
   "outputs": [],
   "source": [
    "\"\"\"Primitive data types.\"\"\"\n",
    "# integer data type\n",
    "x = 5\n",
    "\n",
    "# float data dype\n",
    "value = 1.23\n",
    "\n",
    "# string data type\n",
    "string = \"CMSE 201 is fun!\""
   ]
  },
  {
   "cell_type": "markdown",
   "metadata": {},
   "source": [
    "In the cell below, print out the `type` of each variable."
   ]
  },
  {
   "cell_type": "code",
   "execution_count": 33,
   "metadata": {},
   "outputs": [
    {
     "data": {
      "text/plain": [
       "'EXERCISE: Print out the type of each variable defined above.'"
      ]
     },
     "execution_count": 33,
     "metadata": {},
     "output_type": "execute_result"
    }
   ],
   "source": [
    "\"\"\"EXERCISE: Print out the type of each variable defined above.\"\"\""
   ]
  },
  {
   "cell_type": "code",
   "execution_count": 34,
   "metadata": {},
   "outputs": [],
   "source": [
    "\"\"\"EXERCISE: Here's a new primitive data type we haven't seen before. Print out it's type.\"\"\"\n",
    "mystery_variable = b\"1011\""
   ]
  },
  {
   "cell_type": "markdown",
   "metadata": {},
   "source": [
    "Important: You DO NOT need to know about the above data type for the quiz. This is just a useful reminder that the `type` function can be useful when you encounter something you're not familiar with.\n",
    "\n",
    "You SHOULD KNOW about primitive data types including `int`, `float`, and `str` and how to work with them. You SHOULD ALSO KNOW how to check the type of a variable."
   ]
  },
  {
   "cell_type": "markdown",
   "metadata": {},
   "source": [
    "### 1.2 One Equal Sign Versus Two Equal Signs"
   ]
  },
  {
   "cell_type": "markdown",
   "metadata": {},
   "source": [
    "The following is crucial to know!\n",
    "\n",
    "1. An expression with <b>one equals sign</b>, for example `x = 5`, is an <b>assignment</b>. It says: \"Hey Python, <i>assign</i> the value of `5` to the variable named `x`.\"\n",
    "1. An expression with <b>two equals signs</b>, for example, `x == 5`, is a <b>comparison</b>. It says: \"Hey Python, does the variable `x` have the value `5`?\" This expression returns `True` or `False`."
   ]
  },
  {
   "cell_type": "code",
   "execution_count": 35,
   "metadata": {},
   "outputs": [
    {
     "data": {
      "text/plain": [
       "'EXERCISE: Use two equal signs to check if the type of x is an integer (int in Python)'"
      ]
     },
     "execution_count": 35,
     "metadata": {},
     "output_type": "execute_result"
    }
   ],
   "source": [
    "\"\"\"EXERCISE: Use two equal signs to check if the type of x is an integer (int in Python)\"\"\""
   ]
  },
  {
   "cell_type": "code",
   "execution_count": 36,
   "metadata": {},
   "outputs": [
    {
     "data": {
      "text/plain": [
       "'EXERCISE: Use two equal signs to check if the value of x is 5.'"
      ]
     },
     "execution_count": 36,
     "metadata": {},
     "output_type": "execute_result"
    }
   ],
   "source": [
    "\"\"\"EXERCISE: Use two equal signs to check if the value of x is 5.\"\"\""
   ]
  },
  {
   "cell_type": "code",
   "execution_count": 37,
   "metadata": {},
   "outputs": [
    {
     "data": {
      "text/plain": [
       "'EXERCISE: Use one equal sign to change the value of x to be 7.'"
      ]
     },
     "execution_count": 37,
     "metadata": {},
     "output_type": "execute_result"
    }
   ],
   "source": [
    "\"\"\"EXERCISE: Use one equal sign to change the value of x to be 7.\"\"\""
   ]
  },
  {
   "cell_type": "code",
   "execution_count": 38,
   "metadata": {},
   "outputs": [
    {
     "data": {
      "text/plain": [
       "'EXERCISE: Use two equal signs to check if the type of x is an integer (int in Python)'"
      ]
     },
     "execution_count": 38,
     "metadata": {},
     "output_type": "execute_result"
    }
   ],
   "source": [
    "\"\"\"EXERCISE: Use two equal signs to check if the type of x is an integer (int in Python)\"\"\""
   ]
  },
  {
   "cell_type": "code",
   "execution_count": 39,
   "metadata": {},
   "outputs": [
    {
     "data": {
      "text/plain": [
       "'EXERCISE: Use two equal signs to check if the value of x is 5.'"
      ]
     },
     "execution_count": 39,
     "metadata": {},
     "output_type": "execute_result"
    }
   ],
   "source": [
    "\"\"\"EXERCISE: Use two equal signs to check if the value of x is 5.\"\"\""
   ]
  },
  {
   "cell_type": "markdown",
   "metadata": {},
   "source": [
    "We often use two equals signs (comparisons) in `if` statements and `for` loops."
   ]
  },
  {
   "cell_type": "markdown",
   "metadata": {},
   "source": [
    "### 1.3 \"Container\" Data Types"
   ]
  },
  {
   "cell_type": "markdown",
   "metadata": {},
   "source": [
    "Container data types store several primitive data types, just like a container stores several objects.\n",
    "\n",
    "(Containers can also store containers themselves. For example, we can have a list of lists.)\n",
    "\n",
    "Common container data types we have seen:\n",
    "\n",
    "1. `List`: A container of items with particular data types. Items an a `list` CAN be changed.\n",
    "1. `Dictionary`: An container of items that are \"key, value\" pairs. NOTE: In Python, `dict` is short for dictionary.\n",
    "\n",
    "The cell below defines each of these data types."
   ]
  },
  {
   "cell_type": "code",
   "execution_count": 40,
   "metadata": {},
   "outputs": [],
   "source": [
    "\"\"\"Container data types.\"\"\"\n",
    "# lists\n",
    "xlist = [1, 1, 2, 3, 5]\n",
    "\n",
    "# tuples\n",
    "xtuple = (1, 1, 2, 3, 5)\n",
    "\n",
    "# dictionaries\n",
    "strings_and_ints = {\"one\": 1, \"one\": 1, \"two\": 2, \"three\": 3, \"five\": 5}"
   ]
  },
  {
   "cell_type": "markdown",
   "metadata": {},
   "source": [
    "We have been primarily workings the `list` data type to store data up to this point and this is the one you should be familiar with. The other can be useful to know about, but won't show up on a quiz.\n",
    "\n",
    "Most container objects have a length."
   ]
  },
  {
   "cell_type": "code",
   "execution_count": 41,
   "metadata": {},
   "outputs": [
    {
     "data": {
      "text/plain": [
       "'EXERCISE: Print out the length of each container data type defined above.'"
      ]
     },
     "execution_count": 41,
     "metadata": {},
     "output_type": "execute_result"
    }
   ],
   "source": [
    "\"\"\"EXERCISE: Print out the length of each container data type defined above.\"\"\""
   ]
  },
  {
   "cell_type": "markdown",
   "metadata": {},
   "source": [
    "Note that dictionaries can only have one unique key for each value, so there's only four items in the dictionary."
   ]
  },
  {
   "cell_type": "markdown",
   "metadata": {},
   "source": [
    "#### Practice Problems for `List`"
   ]
  },
  {
   "cell_type": "markdown",
   "metadata": {},
   "source": [
    "Here's four practice problems for the `list`. We'll see more when we look at `list`s below."
   ]
  },
  {
   "cell_type": "code",
   "execution_count": 42,
   "metadata": {},
   "outputs": [
    {
     "data": {
      "text/plain": [
       "'EXERCISE: Print out the third number in xlist.'"
      ]
     },
     "execution_count": 42,
     "metadata": {},
     "output_type": "execute_result"
    }
   ],
   "source": [
    "\"\"\"EXERCISE: Print out the third number in xlist.\"\"\""
   ]
  },
  {
   "cell_type": "code",
   "execution_count": 43,
   "metadata": {},
   "outputs": [
    {
     "data": {
      "text/plain": [
       "'EXERCISE: Change the third number in xlist to have the value -5.'"
      ]
     },
     "execution_count": 43,
     "metadata": {},
     "output_type": "execute_result"
    }
   ],
   "source": [
    "\"\"\"EXERCISE: Change the third number in xlist to have the value -5.\"\"\""
   ]
  },
  {
   "cell_type": "code",
   "execution_count": 44,
   "metadata": {},
   "outputs": [
    {
     "data": {
      "text/plain": [
       "'EXERCISE: Append the number 8 to the list xlist, then print out the new list.'"
      ]
     },
     "execution_count": 44,
     "metadata": {},
     "output_type": "execute_result"
    }
   ],
   "source": [
    "\"\"\"EXERCISE: Append the number 8 to the list xlist, then print out the new list.\"\"\""
   ]
  },
  {
   "cell_type": "code",
   "execution_count": 45,
   "metadata": {},
   "outputs": [
    {
     "ename": "AssertionError",
     "evalue": "",
     "output_type": "error",
     "traceback": [
      "\u001b[1;31m---------------------------------------------------------------------------\u001b[0m",
      "\u001b[1;31mAssertionError\u001b[0m                            Traceback (most recent call last)",
      "\u001b[1;32mc:\\Users\\andre\\Downloads\\Day-07_In-Class_ReviewingAndPracticingConcepts-STUDENT.ipynb Cell 33\u001b[0m line \u001b[0;36m2\n\u001b[0;32m      <a href='vscode-notebook-cell:/c%3A/Users/andre/Downloads/Day-07_In-Class_ReviewingAndPracticingConcepts-STUDENT.ipynb#X44sZmlsZQ%3D%3D?line=0'>1</a>\u001b[0m \u001b[39m\"\"\"Test cases. Run this cell to check your solutions. If correct, no errors will occur.\"\"\"\u001b[39;00m\n\u001b[1;32m----> <a href='vscode-notebook-cell:/c%3A/Users/andre/Downloads/Day-07_In-Class_ReviewingAndPracticingConcepts-STUDENT.ipynb#X44sZmlsZQ%3D%3D?line=1'>2</a>\u001b[0m \u001b[39massert\u001b[39;00m xlist \u001b[39m==\u001b[39m [\u001b[39m1\u001b[39m, \u001b[39m1\u001b[39m, \u001b[39m-\u001b[39m\u001b[39m5\u001b[39m, \u001b[39m3\u001b[39m, \u001b[39m5\u001b[39m, \u001b[39m8\u001b[39m]\n",
      "\u001b[1;31mAssertionError\u001b[0m: "
     ]
    }
   ],
   "source": [
    "\"\"\"Test cases. Run this cell to check your solutions. If correct, no errors will occur.\"\"\"\n",
    "assert xlist == [1, 1, -5, 3, 5, 8]"
   ]
  },
  {
   "cell_type": "markdown",
   "metadata": {},
   "source": [
    "#### Practice Problems for `Dict` (this can be useful to review, but won't end up on the quiz)"
   ]
  },
  {
   "cell_type": "code",
   "execution_count": null,
   "metadata": {},
   "outputs": [],
   "source": [
    "\"\"\"EXERCISE: Print out the value for the key \"one\" in the dictionary given above.\"\"\""
   ]
  },
  {
   "cell_type": "code",
   "execution_count": null,
   "metadata": {
    "scrolled": true
   },
   "outputs": [],
   "source": [
    "\"\"\"EXAMPLE: Python allows you to see all keys and values in a dict, as follows.\"\"\"\n",
    "print(\"Keys = \", strings_and_ints.keys())\n",
    "print(\"Values =\", strings_and_ints.values())"
   ]
  },
  {
   "cell_type": "code",
   "execution_count": null,
   "metadata": {},
   "outputs": [],
   "source": [
    "\"\"\"EXERCISE: Check if the key \"eight\" is in the dictionary's keys.\"\"\""
   ]
  },
  {
   "cell_type": "code",
   "execution_count": null,
   "metadata": {},
   "outputs": [],
   "source": [
    "\"\"\"EXERCISE: Add the key, value pair \"eight\", 8 to the dictionary given above.\"\"\""
   ]
  },
  {
   "cell_type": "code",
   "execution_count": null,
   "metadata": {},
   "outputs": [],
   "source": [
    "\"\"\"EXERCISE: Check if the key \"eight\" is in the dictionary's keys and \n",
    "if the value 8 is in the dictionary's values.\n",
    "\"\"\""
   ]
  },
  {
   "cell_type": "markdown",
   "metadata": {},
   "source": [
    "---\n",
    "<a id=\"operators\"></a>\n",
    "## 2. Performing arithmetic operations and concatenating strings\n",
    "### [back to top](#top)\n",
    "\n",
    "When working with variables of different types in Python, those that are numbers (i.e. integers and floats) can be used to perform mathematical operations, but those that are strings cannot. However, you can use what looks like a mathematical operator, `+`, to concatenate (or merge) two strings together. You can also convert non-strings to strings with the `str` function.\n",
    "\n",
    "Review the code below that defines some variable and manipulates them a bit."
   ]
  },
  {
   "cell_type": "code",
   "execution_count": null,
   "metadata": {},
   "outputs": [],
   "source": [
    "int_var = 2   # Integer variable\n",
    "float_var = 2.34  # floating point variable\n",
    "str_var = 'bananas'  # string variable\n",
    "\n",
    "print('1:', 'An integer plus a float works in python:',int_var+float_var)\n",
    "#You can not do math with strings, but you can concatenate strings (if you turn your variables into strings first)\n",
    "new_str_var = str(int_var)+' '+str_var+' is '+str(float_var)+' times the fun.'\n",
    "print('2:',new_str_var)\n",
    "# or you can just use a print statement with commas to make meaningful debugging and result statements\n",
    "print('3:',int_var,'or',float_var, str_var,'are not all that fun.')"
   ]
  },
  {
   "cell_type": "code",
   "execution_count": null,
   "metadata": {},
   "outputs": [],
   "source": [
    "\"\"\"EXERCISE: Test out multiply, dividing int_var and float_var.\"\"\""
   ]
  },
  {
   "cell_type": "code",
   "execution_count": null,
   "metadata": {},
   "outputs": [],
   "source": [
    "\"\"\"EXERCISE: Take the int_var variable and square it, what operator do you need to do that?\"\"\""
   ]
  },
  {
   "cell_type": "markdown",
   "metadata": {},
   "source": [
    "Obviously, there is a lot of additional math you could do with Python variables. Feel free to experiment with other math you're not comfortable with or ask an instructor if you have any questions about doing math in Python."
   ]
  },
  {
   "cell_type": "markdown",
   "metadata": {},
   "source": [
    "Make sure you're comfortable **concatenating** strings."
   ]
  },
  {
   "cell_type": "code",
   "execution_count": null,
   "metadata": {},
   "outputs": [],
   "source": [
    "\"\"\"EXERCISE: Define a new string variable and concatenate it with the str_var variable.\n",
    "Choose something that makes sense!\"\"\""
   ]
  },
  {
   "cell_type": "markdown",
   "metadata": {},
   "source": [
    "---\n",
    "<a id=\"loops\"></a>\n",
    "## 3. Working with loops in Python\n",
    "### [back to top](#top)"
   ]
  },
  {
   "cell_type": "markdown",
   "metadata": {},
   "source": [
    "Loops are extremely useful in programming. They prevent us from having to write out every instruction explicity. The caveat is you have to be careful to write the loop correctly <i>for all</i> cases!\n",
    "\n",
    "In class, we covered\n",
    "\n",
    "1. `while` loops: Keep performing the code in the <i>body</i> of the loop while an expression is `True`. We sometimes refer to this as \"**looping by condition**.\"\n",
    "1. `for` loops. Perform the code in the <i>body</i> of the loop for a given number of iterations or values."
   ]
  },
  {
   "cell_type": "code",
   "execution_count": null,
   "metadata": {
    "scrolled": true
   },
   "outputs": [],
   "source": [
    "\"\"\"EXAMPLE: A typical while loop.\"\"\"\n",
    "# variable that we care about\n",
    "x = 0\n",
    "\n",
    "# while loop\n",
    "while x < 5:\n",
    "    # body of the loop\n",
    "    print(x)\n",
    "    x += 1"
   ]
  },
  {
   "cell_type": "code",
   "execution_count": null,
   "metadata": {
    "scrolled": true
   },
   "outputs": [],
   "source": [
    "\"\"\"EXAMPLE: A typical for loop.\"\"\"\n",
    "# variable that we care about\n",
    "x = [0, 1, 2, 3, 4]\n",
    "\n",
    "for value in x:\n",
    "    print(value)"
   ]
  },
  {
   "cell_type": "markdown",
   "metadata": {},
   "source": [
    "As can be seen, the `for` loop produces the same output as the `while` loop. This is generally true, for any loop:\n",
    "\n",
    "<i>Any loop can be written as a `for` loop.</i>\n",
    "\n",
    "Because of this, we only focus on `for` loops below. Sometimes it is easier or more natural to use a different style of loop, so you should be comfortable with `while` loops as well."
   ]
  },
  {
   "cell_type": "markdown",
   "metadata": {},
   "source": [
    "## `for` loops: Two Common Constructions"
   ]
  },
  {
   "cell_type": "markdown",
   "metadata": {},
   "source": [
    "We use two main types, or \"constructions,\" of `for` loops in Python.\n",
    "\n",
    "(1) <b>\"Loop by integer or index.\"</b> We use this to loop over the indices in an iterable object.\n",
    "\n",
    "(Note: *Iterable* means a sequential data type. That is, a data type that \"is able to be iterated over.\" Examples include lists and tuples.)\n",
    "\n",
    "(2) <b>\"Loop by value.\"</b> We use this to loop over the values of an iterable object."
   ]
  },
  {
   "cell_type": "code",
   "execution_count": null,
   "metadata": {},
   "outputs": [],
   "source": [
    "\"\"\"EXAMPLE: Loop by index.\"\"\"\n",
    "values = [\"a\", \"b\", \"c\", \"d\"]\n",
    "\n",
    "for index in range(len(values)):\n",
    "    print(values[index])"
   ]
  },
  {
   "cell_type": "markdown",
   "metadata": {},
   "source": [
    "We commonly use variables like `i`, `j`, or `k` for the above `index` variable. We'll continue to use `index` for pedagogy in this notebook."
   ]
  },
  {
   "cell_type": "code",
   "execution_count": null,
   "metadata": {},
   "outputs": [],
   "source": [
    "\"\"\"EXAMPLE: Loop by value.\"\"\"\n",
    "values = [\"a\", \"b\", \"c\", \"d\"]\n",
    "\n",
    "for value in values:\n",
    "    print(value)"
   ]
  },
  {
   "cell_type": "markdown",
   "metadata": {},
   "source": [
    "We commonly use variables like `x`, `y`, or `val` (short for value) for the above `value` variable. (Really, anything that's NOT `i`, `j`, or `k` so we don't confuse ourselves with the \"loop by index\" construction above.) We'll continue to use `value` for pedagogy in this notebook."
   ]
  },
  {
   "cell_type": "markdown",
   "metadata": {},
   "source": [
    "### When to use which?"
   ]
  },
  {
   "cell_type": "markdown",
   "metadata": {},
   "source": [
    "*Each for loop type is useful in different situations.*\n",
    "\n",
    "To just loop over values in an iterable object, \"loop by value\" is sufficient and simpler to program.\n",
    "\n",
    "You can use \"loop by index\" when:\n",
    "\n",
    "* You need to access values from multiple lists at the same index.\n",
    "* You need neighboring values from the list."
   ]
  },
  {
   "cell_type": "markdown",
   "metadata": {},
   "source": [
    "## Practice Problems"
   ]
  },
  {
   "cell_type": "markdown",
   "metadata": {},
   "source": [
    "In the following practice problems, consider which type of for loop construction is easiest to solve the problem. For extra practice, solve each problem using both constructions."
   ]
  },
  {
   "cell_type": "code",
   "execution_count": null,
   "metadata": {},
   "outputs": [],
   "source": [
    "\"\"\"EXERCISE. Given two lists of the same length, use ONE loop to print out all elements from each list,\n",
    "in alternating order.\n",
    "\n",
    "Example: Given [1, 2] and [3, 4], your code should produce the output\n",
    "1\n",
    "3\n",
    "2\n",
    "4\n",
    "\"\"\"\n",
    "list1 = [\"I\", \"ace\", \"CMSE 201\"]\n",
    "list2 = [\"will\", \"the\", \"quiz!\"]\n",
    "\n",
    "# YOUR CODE HERE"
   ]
  },
  {
   "cell_type": "code",
   "execution_count": null,
   "metadata": {
    "scrolled": true
   },
   "outputs": [],
   "source": [
    "\"\"\"EXERCISE: Given a list, print out the value in each list squared.\"\"\"\n",
    "xlist = [1, 2, 3, 4, 5]\n",
    "\n",
    "# YOUR CODE HERE"
   ]
  },
  {
   "cell_type": "code",
   "execution_count": null,
   "metadata": {},
   "outputs": [],
   "source": [
    "\"\"\"EXERCISE: Given a list, create a new list of squared values.\n",
    "Example: Given [1, 2, 3], your code should produce the new list [1, 4, 9] stored in some variable.\"\"\"\n",
    "xlist = [1, 11, 21, 1211]\n",
    "\n",
    "# YOUR CODE HERE"
   ]
  },
  {
   "cell_type": "code",
   "execution_count": null,
   "metadata": {
    "scrolled": true
   },
   "outputs": [],
   "source": [
    "\"\"\"EXERCISE: Given a list, compute the sum of all elements in the list.\n",
    "Example: Given [1, 2, 3], store the resulting sum 1 + 2 + 3 = 6 in some variable.\"\"\"\n",
    "numbers = [x * (x - 1) * (x - 2) for x in range(5, 20)]\n",
    "\n",
    "# YOUR CODE HERE"
   ]
  },
  {
   "cell_type": "code",
   "execution_count": null,
   "metadata": {},
   "outputs": [],
   "source": [
    "\"\"\"EXERCISE: Given a list, compute the product of all elements in the list.\n",
    "Example: Given [1, 2, 3], store the resulting product 1 * 2 * 3 = 6 in some variable.\"\"\"\n",
    "numbers = list(range(1, 10))\n",
    "\n",
    "# YOUR CODE HERE"
   ]
  },
  {
   "cell_type": "code",
   "execution_count": null,
   "metadata": {},
   "outputs": [],
   "source": [
    "\"\"\"EXERCISE: Given a list, compute the \"nearest neighbor sum\" of the list. That is, a list of the same length\n",
    "whose nth value is defined as \n",
    "\n",
    "a[n] = a[0] for n = 0,\n",
    "a[n] = a[n - 1] + a[n] for all n > 0\n",
    "\n",
    "Example: Given [1, 2, 3], you should produce the list [1, 1 + 2, 2 + 3] = [1, 3, 5].\"\"\"\n",
    "xlist = list(range(1, 10))\n",
    "\n",
    "# YOUR CODE HERE"
   ]
  },
  {
   "cell_type": "code",
   "execution_count": null,
   "metadata": {},
   "outputs": [],
   "source": [
    "\"\"\"EXERCISE: Given a list, compute the \"cumulative sum\" of the list. That is, a list of the same length\n",
    "whose nth value is defined as \n",
    "\n",
    "a[n] = a[0] for n = 0,\n",
    "a[n] = a[0] + a[1] + ... + a[n - 1] + a[n] for all n > 0\n",
    "\n",
    "Example: Given [1, 2, 3], you should produce the list [1, 1 + 2, 1 + 2 + 3] = [1, 3, 6].\"\"\"\n",
    "xlist = list(range(1, 10))\n",
    "\n",
    "# YOUR CODE HERE"
   ]
  },
  {
   "cell_type": "code",
   "execution_count": null,
   "metadata": {},
   "outputs": [],
   "source": [
    "\"\"\"CHALLENGE PROBLEM: Given a list, produce a new list whose elements are reversed.\n",
    "\n",
    "Example. Given [1, 2, 3], your code should produce a new list that is equal to [3, 2, 1].\"\"\"\n",
    "numbers = list(range(20))\n"
   ]
  },
  {
   "cell_type": "markdown",
   "metadata": {},
   "source": [
    "---\n",
    "<a id=\"listsandloops\"></a>\n",
    "## 4. Connecting lists and Loops\n",
    "### [back to top](#top)"
   ]
  },
  {
   "cell_type": "markdown",
   "metadata": {},
   "source": [
    "We know lists are containers. Lists are also called sequential data types in Python, meaning they store a sequence of objects.\n",
    "\n",
    "**Note**: Objects in a list do not have to be of the same type! (For example, [1, \"two\"] is a valid list.)\n",
    "\n",
    "Lists are mutable, meaning they can be changed. (Tuples are immutable, meaning they cannot be changed.)\n",
    "\n",
    "There are several ways to create lists in Python. Some examples are shown below."
   ]
  },
  {
   "cell_type": "code",
   "execution_count": null,
   "metadata": {},
   "outputs": [],
   "source": [
    "\"\"\"EXAMPLE: Creating lists in Python.\"\"\"\n",
    "# by listing all values\n",
    "list1 = [1, 2, 3, 4, \"I\", \"declare\", \"a\", \"thumb\", \"war\"]\n",
    "\n",
    "# by using list(range(...)) to get range of values in a list\n",
    "list2 = list(range(4)) # = [0, 1, 2, 3]\n",
    "\n",
    "# by using multiplication to get a list of a certain length with a certain value\n",
    "list3 = [1] * 5 # = [1, 1, 1, 1, 1] (a list of five ones)\n",
    "\n",
    "# by converting other containers into lists\n",
    "xtuple = (1, 2, 3)\n",
    "xlist = list(xtuple) # = [1, 2, 3]"
   ]
  },
  {
   "cell_type": "markdown",
   "metadata": {},
   "source": [
    "## Practice Problems with Lists and Loops"
   ]
  },
  {
   "cell_type": "markdown",
   "metadata": {},
   "source": [
    "Complete the following problems to get practice with lists. **Note**: you will find some code cell below that use the `assert` command in Python to test the code you write. You do not need to know exactly what this command does, but you should be able to run those cells without getting an error. If you get an error, then something you didn't in your code isn't quite right."
   ]
  },
  {
   "cell_type": "code",
   "execution_count": null,
   "metadata": {},
   "outputs": [],
   "source": [
    "\"\"\"EXERCISE: Using a loop, create a list with all integers from zero to twenty. Call the list values.\"\"\""
   ]
  },
  {
   "cell_type": "code",
   "execution_count": null,
   "metadata": {},
   "outputs": [],
   "source": [
    "\"\"\"Test cases.\"\"\"\n",
    "assert len(values) == 21\n",
    "assert values == [x for x in range(20 + 1)]"
   ]
  },
  {
   "cell_type": "code",
   "execution_count": null,
   "metadata": {},
   "outputs": [],
   "source": [
    "\"\"\"EXERCISE: Make the fourth entry in the list equal to zero.\"\"\""
   ]
  },
  {
   "cell_type": "code",
   "execution_count": null,
   "metadata": {
    "scrolled": true
   },
   "outputs": [],
   "source": [
    "\"\"\"Test cases.\"\"\"\n",
    "assert values[3] == 0\n",
    "assert sum(values) == int(21 * 20 / 2 - 3)"
   ]
  },
  {
   "cell_type": "code",
   "execution_count": null,
   "metadata": {},
   "outputs": [],
   "source": [
    "\"\"\"EXERCISE: Append the integer 21 to the list.\"\"\""
   ]
  },
  {
   "cell_type": "code",
   "execution_count": null,
   "metadata": {},
   "outputs": [],
   "source": [
    "\"\"\"Test cases.\"\"\"\n",
    "assert len(values) == 22\n",
    "assert values[-1] == 21"
   ]
  },
  {
   "cell_type": "markdown",
   "metadata": {},
   "source": [
    "For the next exercise, you'll need to check if a number is even. This can be done by using the \"modulus operator\" `%` in Python. The value of `a % b`, where `a` and `b` are integers, is the remainder of `a / b`. For example, `5 % 2 = 1`, since 5 divided by 2 has a remainder of 1.\n",
    "\n",
    "To check if a number `num` is even, you can thus use `num % 2 == 0`."
   ]
  },
  {
   "cell_type": "code",
   "execution_count": null,
   "metadata": {},
   "outputs": [],
   "source": [
    "\"\"\"EXERCISE: Find every entry in the list with an even number and set that entry equal to (the integer) zero.\"\"\""
   ]
  },
  {
   "cell_type": "code",
   "execution_count": null,
   "metadata": {},
   "outputs": [],
   "source": [
    "\"\"\"Test cases.\"\"\"\n",
    "assert [x % 2 == 1 for x in values]"
   ]
  },
  {
   "cell_type": "markdown",
   "metadata": {
    "id": "SvAjPrvob8Bj"
   },
   "source": [
    "---\n",
    "<a id=\"if\"></a>\n",
    "## 5. Conditional Statements (using `if` in Python)\n",
    "### [back to top](#top)\n",
    "\n",
    "This section includes practice examples centered on `if` statements with increasing complexity.\n",
    "\n",
    "`if` statements are great way to control the flow of our code and add nuance an complexity to our algorithms."
   ]
  },
  {
   "cell_type": "markdown",
   "metadata": {
    "id": "u87Ia2K5DP69"
   },
   "source": [
    "### Task\n",
    "\n",
    "Comment the code below to explain what each line is doing."
   ]
  },
  {
   "cell_type": "code",
   "execution_count": null,
   "metadata": {
    "colab": {
     "base_uri": "https://localhost:8080/"
    },
    "id": "TQD65QvPb13g",
    "outputId": "e877137b-9992-40bf-f8e4-33d97f2307d8"
   },
   "outputs": [],
   "source": [
    "'''basic structure of an if statement'''\n",
    "\n",
    "for i in range(10): # add a comment here to explain what this code is doing\n",
    "    if i%2 != 0: #add a comment here to exlplain what this code is doing\n",
    "        print(i, 'is odd!') #add a comment here to explain what the code is doing"
   ]
  },
  {
   "cell_type": "markdown",
   "metadata": {
    "id": "GPD_GM4NDYcz"
   },
   "source": [
    "### Task\n",
    "\n",
    "Comment the code below to explain what each line is doing."
   ]
  },
  {
   "cell_type": "code",
   "execution_count": null,
   "metadata": {
    "colab": {
     "base_uri": "https://localhost:8080/"
    },
    "id": "uIKAwltBx5zi",
    "outputId": "6090be8f-60cb-4b45-8e09-fc8bb75e8050"
   },
   "outputs": [],
   "source": [
    "'''basic structure of an if-else statement'''\n",
    "\n",
    "for i in range(10): \n",
    "    if i%2 != 0: \n",
    "        print(i, 'is odd!') \n",
    "    else:             #add a comment here to explain what the code is doing\n",
    "        print(i,'is even!') #add a comment here to explain what the code is doing"
   ]
  },
  {
   "cell_type": "markdown",
   "metadata": {
    "id": "tpnyrKBwylcZ"
   },
   "source": [
    "### Task\n",
    "\n",
    "Write an if-else statement that loops through the list of numbers below and prints \"I am greater than 25\" if the number is greater than 25 and \"I am less than 25\" otherwise. Comment your code to explain what each line is doing!"
   ]
  },
  {
   "cell_type": "code",
   "execution_count": null,
   "metadata": {
    "id": "l48AdnXyzHa8"
   },
   "outputs": [],
   "source": [
    "list_of_ints = [18, 34, 9, 4, 5, 43, 11, 49, 50, 14, 35, 37, 39, 22, 38, 36, 46, 44, 22, 16]\n",
    "\n",
    "# put your pseudocode and code here\n"
   ]
  },
  {
   "cell_type": "markdown",
   "metadata": {
    "id": "uHs3aaoqDcR3"
   },
   "source": [
    "### Task\n",
    "\n",
    "Comment the code below to explain what each line is doing."
   ]
  },
  {
   "cell_type": "code",
   "execution_count": null,
   "metadata": {
    "colab": {
     "base_uri": "https://localhost:8080/"
    },
    "id": "8b6ctPbz0RlN",
    "outputId": "3b53893b-9712-41f4-d30c-1de2363b3632"
   },
   "outputs": [],
   "source": [
    "'''if-elif-else statments add further complexity to our code!'''\n",
    "\n",
    "list_of_things = ['cheese',5.0,'puppies',1,3,'otters',9.7,1.5,'football']\n",
    "\n",
    "for item in list_of_things: #add a comment here to explain what the code is doing\n",
    "    if type(item)==str: #add a comment here to explain what the code is doing\n",
    "        print(item, 'is a string!')\n",
    "    elif type(item) == int:            #add a comment here to explain what the code is doing\n",
    "        print(item,'is an integer!')\n",
    "    else:             #add a comment here to explain what the code is doing\n",
    "        print(item,'is a float!') "
   ]
  },
  {
   "cell_type": "markdown",
   "metadata": {
    "id": "JoDTZ8pJ728S"
   },
   "source": [
    "### Task\n",
    "\n",
    "Write a set of if-elif-else statements to categorize the animals in this list as two-legged, four-legged, swimming, or something else. Comment your code to explain what each line is doing!"
   ]
  },
  {
   "cell_type": "code",
   "execution_count": null,
   "metadata": {
    "id": "8rCr-zrW70TS"
   },
   "outputs": [],
   "source": [
    "list_of_animals = ['parrot','mussel','penguin','polar bear','salmon','zebra','shark','clam']\n",
    "\n",
    "#put your code and pseudocode here\n"
   ]
  },
  {
   "cell_type": "markdown",
   "metadata": {},
   "source": [
    "---\n",
    "<a id=\"functions\"></a>\n",
    "## 6. Defining and using functions (functions will not be on Quiz 1, but will likely be involved in future quizzes)\n",
    "### [back to top](#top)"
   ]
  },
  {
   "cell_type": "markdown",
   "metadata": {},
   "source": [
    "Like loops, functions are another extremely useful tool in programming. Functions allow use to run code in different places for different uses <i>without rewriting the code every time!</i>\n",
    "\n",
    "Functions have the following key components.\n",
    "\n",
    "1. <b>Input:</b> What is \"fed into\" the function.\n",
    "1. <b>Body:</b> The \"body of a function\" is the code inside of the function that executes when the function is called.\n",
    "1. <b>Output:</b> Whatever a function \"produces,\" depending on its input. \"Output\" is also called a <b>return</b> value.\n",
    "\n",
    "Here's an example of a function that adds two numbers."
   ]
  },
  {
   "cell_type": "code",
   "execution_count": null,
   "metadata": {},
   "outputs": [],
   "source": [
    "\"\"\"EXAMPLE: Defining a function in Python.\"\"\"\n",
    "def add(x, y):\n",
    "    val = x + y\n",
    "    return val"
   ]
  },
  {
   "cell_type": "markdown",
   "metadata": {},
   "source": [
    "Let's breakdown this function:\n",
    "\n",
    "1. <b>Input:</b> Two numbers, called `x` and `y`.\n",
    "1. <b>Body:</b> The line `val = x + y`. (Generally, every line that's inside (indented) in the function is part of the body. Whether we include the `return` statement as part of the body depends on who you talk to and is not important here.)\n",
    "1. <b>Output:</b>The sum of the two numbers, called `val`, which is returned by the function."
   ]
  },
  {
   "cell_type": "markdown",
   "metadata": {},
   "source": [
    "<b>KEY POINT:</b> Variables INSIDE a function CANNOT be accessed OUTSIDE a function.\n",
    "\n",
    "The names of the variables are \"dummies\" and can be changed.\n",
    "\n",
    "<b>KEY POINT:</b> To get the output of a function, we must CALL the function.\n",
    "\n",
    "You cannot access the variable `val` inside the function `add` above! To get it, you must call the function."
   ]
  },
  {
   "cell_type": "code",
   "execution_count": null,
   "metadata": {},
   "outputs": [],
   "source": [
    "\"\"\"EXAMPLE: Calling a function.\"\"\"\n",
    "answer = add(10, 20)\n",
    "print(answer)"
   ]
  },
  {
   "cell_type": "markdown",
   "metadata": {},
   "source": [
    "The function above is simple and wouldn't likely help us simplify our code as programmers. Functions that perform more complex tasks that we need to do repeteadly can <i>significantly help us as programmers.</i>"
   ]
  },
  {
   "cell_type": "markdown",
   "metadata": {},
   "source": [
    "### The Difference Between `return` and `print`"
   ]
  },
  {
   "cell_type": "markdown",
   "metadata": {},
   "source": [
    "In a few words:\n",
    "\n",
    "1. `return` produces an output that can be stored in a variable when the function is called.\n",
    "1. `print` displays variables to the screen. They cannot be stored by calling the function."
   ]
  },
  {
   "cell_type": "code",
   "execution_count": 46,
   "metadata": {},
   "outputs": [],
   "source": [
    "\"\"\"EXAMPLE: Difference between print and return.\"\"\"\n",
    "\n",
    "def return_string(string):\n",
    "    return string\n",
    "\n",
    "def print_string(string):\n",
    "    print(string)"
   ]
  },
  {
   "cell_type": "markdown",
   "metadata": {},
   "source": [
    "Let's call the `return_string` function below:"
   ]
  },
  {
   "cell_type": "code",
   "execution_count": 47,
   "metadata": {},
   "outputs": [],
   "source": [
    "output_from_return = return_string(\"hello\")"
   ]
  },
  {
   "cell_type": "markdown",
   "metadata": {},
   "source": [
    "Nothing happens when we call the function. The output is stored in the variable called `output_from_return`."
   ]
  },
  {
   "cell_type": "code",
   "execution_count": 48,
   "metadata": {
    "scrolled": true
   },
   "outputs": [
    {
     "name": "stdout",
     "output_type": "stream",
     "text": [
      "<class 'str'>\n",
      "hello\n"
     ]
    }
   ],
   "source": [
    "print(type(output_from_return))\n",
    "print(output_from_return)"
   ]
  },
  {
   "cell_type": "markdown",
   "metadata": {},
   "source": [
    "Now let's call the `print_string` function below:"
   ]
  },
  {
   "cell_type": "code",
   "execution_count": 49,
   "metadata": {},
   "outputs": [
    {
     "name": "stdout",
     "output_type": "stream",
     "text": [
      "hello\n"
     ]
    }
   ],
   "source": [
    "output_from_print = print_string(\"hello\")"
   ]
  },
  {
   "cell_type": "markdown",
   "metadata": {},
   "source": [
    "When we call this function, the string `hello` is printed to the screen. This happens because there is a `print` statement in the body of the function. When the function is called, every line in the body of the function gets evaluated.\n",
    "\n",
    "Let's look at the variable `output_from_print`:"
   ]
  },
  {
   "cell_type": "code",
   "execution_count": 50,
   "metadata": {},
   "outputs": [
    {
     "name": "stdout",
     "output_type": "stream",
     "text": [
      "<class 'NoneType'>\n",
      "None\n"
     ]
    }
   ],
   "source": [
    "print(type(output_from_print))\n",
    "print(output_from_print)"
   ]
  },
  {
   "cell_type": "markdown",
   "metadata": {},
   "source": [
    "The variable is `None` because the function doesn't return anything. (In other words, it returns `None`.)"
   ]
  },
  {
   "cell_type": "markdown",
   "metadata": {},
   "source": [
    "### Practice Problems for Functions"
   ]
  },
  {
   "cell_type": "markdown",
   "metadata": {},
   "source": [
    "Solve the following exercises to get more practice with functions."
   ]
  },
  {
   "cell_type": "code",
   "execution_count": 51,
   "metadata": {},
   "outputs": [],
   "source": [
    "\"\"\"EXERCISE: Write a function called mult that \n",
    "\n",
    "inputs: two integers \n",
    "\n",
    "and \n",
    "\n",
    "returns: the product of the two integers.\n",
    "\n",
    "Example: mult(4, 5) should return 4 * 5 = 20.\n",
    "\"\"\"\n",
    "def mult(a,b):\n",
    "    return a * b"
   ]
  },
  {
   "cell_type": "code",
   "execution_count": 52,
   "metadata": {},
   "outputs": [],
   "source": [
    "\"\"\"Test cases. If your code is correct, no errors will be thrown.\"\"\"\n",
    "assert mult(4, 5) == 20\n",
    "assert mult(1, 3) == 3\n",
    "assert mult(2, 4) == 8"
   ]
  },
  {
   "cell_type": "code",
   "execution_count": 58,
   "metadata": {},
   "outputs": [],
   "source": [
    "\"\"\"EXERCISE: Write a function called square that \n",
    "\n",
    "inputs: one integer \n",
    "\n",
    "and\n",
    "\n",
    "returns: the squared integer.\n",
    "\n",
    "Example: square(5) should return 5**2 = 25.\n",
    "\"\"\"\n",
    "def square(a):\n",
    "    return a ** 2"
   ]
  },
  {
   "cell_type": "code",
   "execution_count": 59,
   "metadata": {},
   "outputs": [],
   "source": [
    "\"\"\"Test cases. If your code is correct, no errors will be thrown.\"\"\"\n",
    "assert square(5) == 25\n",
    "assert square(0) == 0\n",
    "assert square(1) == 1"
   ]
  },
  {
   "cell_type": "code",
   "execution_count": 65,
   "metadata": {},
   "outputs": [
    {
     "name": "stdout",
     "output_type": "stream",
     "text": [
      "[0, 1, 4, 9, 16, 25, 36, 49, 64, 81, 100, 121, 144, 169, 196, 225, 256, 289, 324, 361, 400]\n"
     ]
    }
   ],
   "source": [
    "\"\"\"EXERCISE: Use your function square to compute the squared value of each element in a given list,\n",
    "appending each to a new list.\"\"\"\n",
    "# given input\n",
    "xlist = list(range(20 + 1))\n",
    "ylist = []\n",
    "for i in xlist:\n",
    "    ylist.append(square(i))\n",
    "print(ylist)\n"
   ]
  },
  {
   "cell_type": "code",
   "execution_count": 68,
   "metadata": {},
   "outputs": [],
   "source": [
    "\"\"\"EXERCISE: Write a function called contains which \n",
    "\n",
    "inputs: a list and an item \n",
    "\n",
    "and \n",
    "\n",
    "outputs: True if the item is in the list, else False.\n",
    "\n",
    "Examples: contains([1, 2, 3], 2) should return True\n",
    "          contains([1, 2, 3], 4) should return False\n",
    "          contains([\"a\", \"b\", \"c\"], \"c\") should return True.\n",
    "\"\"\"\n",
    "def contains(a,b):\n",
    "    true = 0\n",
    "    for i in a:\n",
    "        if i == b:\n",
    "            true = 1\n",
    "    if true == 1:\n",
    "        return('True')\n",
    "    else:\n",
    "        return('False')"
   ]
  },
  {
   "cell_type": "code",
   "execution_count": 69,
   "metadata": {},
   "outputs": [
    {
     "ename": "AssertionError",
     "evalue": "",
     "output_type": "error",
     "traceback": [
      "\u001b[1;31m---------------------------------------------------------------------------\u001b[0m",
      "\u001b[1;31mAssertionError\u001b[0m                            Traceback (most recent call last)",
      "\u001b[1;32mc:\\Users\\andre\\Downloads\\Day-07_In-Class_ReviewingAndPracticingConcepts-STUDENT.ipynb Cell 122\u001b[0m line \u001b[0;36m3\n\u001b[0;32m      <a href='vscode-notebook-cell:/c%3A/Users/andre/Downloads/Day-07_In-Class_ReviewingAndPracticingConcepts-STUDENT.ipynb#Y232sZmlsZQ%3D%3D?line=0'>1</a>\u001b[0m \u001b[39m\"\"\"Test cases. If your code is correct, no errors should be thrown.\"\"\"\u001b[39;00m\n\u001b[0;32m      <a href='vscode-notebook-cell:/c%3A/Users/andre/Downloads/Day-07_In-Class_ReviewingAndPracticingConcepts-STUDENT.ipynb#Y232sZmlsZQ%3D%3D?line=1'>2</a>\u001b[0m \u001b[39massert\u001b[39;00m contains([\u001b[39m1\u001b[39m, \u001b[39m2\u001b[39m, \u001b[39m3\u001b[39m], \u001b[39m1\u001b[39m)\n\u001b[1;32m----> <a href='vscode-notebook-cell:/c%3A/Users/andre/Downloads/Day-07_In-Class_ReviewingAndPracticingConcepts-STUDENT.ipynb#Y232sZmlsZQ%3D%3D?line=2'>3</a>\u001b[0m \u001b[39massert\u001b[39;00m \u001b[39mnot\u001b[39;00m contains([\u001b[39m1\u001b[39m, \u001b[39m2\u001b[39m, \u001b[39m3\u001b[39m], \u001b[39m4\u001b[39m)\n\u001b[0;32m      <a href='vscode-notebook-cell:/c%3A/Users/andre/Downloads/Day-07_In-Class_ReviewingAndPracticingConcepts-STUDENT.ipynb#Y232sZmlsZQ%3D%3D?line=3'>4</a>\u001b[0m \u001b[39massert\u001b[39;00m contains([\u001b[39m\"\u001b[39m\u001b[39ma\u001b[39m\u001b[39m\"\u001b[39m, \u001b[39m\"\u001b[39m\u001b[39mb\u001b[39m\u001b[39m\"\u001b[39m, \u001b[39m\"\u001b[39m\u001b[39mc\u001b[39m\u001b[39m\"\u001b[39m], \u001b[39m\"\u001b[39m\u001b[39mc\u001b[39m\u001b[39m\"\u001b[39m)\n",
      "\u001b[1;31mAssertionError\u001b[0m: "
     ]
    }
   ],
   "source": [
    "\"\"\"Test cases. If your code is correct, no errors should be thrown.\"\"\"\n",
    "assert contains([1, 2, 3], 1)\n",
    "assert not contains([1, 2, 3], 4)\n",
    "assert contains([\"a\", \"b\", \"c\"], \"c\")"
   ]
  },
  {
   "cell_type": "code",
   "execution_count": null,
   "metadata": {},
   "outputs": [],
   "source": [
    "\"\"\"EXERCISE: Write a function called in_either that\n",
    "\n",
    "inputs: two lists (call them list1 and list2) and an item\n",
    "\n",
    "and\n",
    "\n",
    "returns: True if the item is in either list, else False.\n",
    "\n",
    "Hint: Can you utilize a function you've already written?\n",
    "\n",
    "Examples: in_either([1, 2, 3], [4, 5, 6], 3) should return True\n",
    "          in_either([1, 2, 3], [4, 5, 6], 7) should return False\n",
    "\"\"\"\n"
   ]
  },
  {
   "cell_type": "code",
   "execution_count": null,
   "metadata": {},
   "outputs": [],
   "source": [
    "\"\"\"Test cases. If your code is correct, no errors should be thrown.\"\"\"\n",
    "assert in_either([1, 2, 3], [4, 5, 6], 3) == True\n",
    "assert in_either([1, 2, 3], [4, 5, 6], 7) == False\n",
    "assert in_either([1, 2, 3], [3, 5, 6], 3) == True"
   ]
  },
  {
   "cell_type": "code",
   "execution_count": 172,
   "metadata": {},
   "outputs": [],
   "source": [
    "\"\"\"EXERCISE: Write a function called mymax which\n",
    "\n",
    "inputs: a list of integers\n",
    "\n",
    "and \n",
    "\n",
    "outputs: the maximum integer in the list.\n",
    "\n",
    "NOTE: Python has a builtin function called max to do this. DO NOT USE this function!\n",
    "\"\"\"\n",
    "#def mymax(a):\n",
    "#    final_countdown = a\n",
    "#    kill = []\n",
    "#    #while len(final_countdown) > 1:\n",
    "#    for i in range(len(final_countdown)-1):\n",
    "#        print(final_countdown,i,kill)\n",
    "#        if final_countdown[i+1] >= final_countdown[i]:\n",
    "#            kill.append(i)\n",
    "#        elif final_countdown[i+1] < final_countdown[i]:\n",
    "#            kill.append(i+1)\n",
    "#    kill.reverse()\n",
    "#    kill.append(-1)\n",
    "#    for i in range(len(kill)-2):\n",
    "#        print(final_countdown,final_countdown[i],kill[i],kill[i+1])\n",
    "#        if kill[i] != kill[i+1]:\n",
    "#            final_countdown.pop(i)\n",
    "#    return(final_countdown[0])\n",
    "\n",
    "#from chat.openai.com\n",
    "def mymax(lst):\n",
    "    if not lst:\n",
    "        # Handle the case when the list is empty.\n",
    "        return None\n",
    "\n",
    "    highest = lst[0]  # Initialize the highest with the first element of the list.\n",
    "\n",
    "    for num in lst:\n",
    "        if num > highest:\n",
    "            highest = num\n",
    "\n",
    "    return highest\n"
   ]
  },
  {
   "cell_type": "code",
   "execution_count": 173,
   "metadata": {},
   "outputs": [
    {
     "data": {
      "text/plain": [
       "77"
      ]
     },
     "execution_count": 173,
     "metadata": {},
     "output_type": "execute_result"
    }
   ],
   "source": [
    "mymax([66, 4, 3, 77, 1, 4, 5])"
   ]
  },
  {
   "cell_type": "code",
   "execution_count": 174,
   "metadata": {},
   "outputs": [],
   "source": [
    "\"\"\"Test cases. If your code is correct, no errors should be thrown.\"\"\"\n",
    "assert mymax([66, 4, 3, 77, 1, 4, 5]) == 77\n",
    "assert mymax([-3, -2, -9]) == -2\n",
    "assert mymax([1]) == 1\n",
    "assert mymax(list(range(99))) == 98"
   ]
  },
  {
   "cell_type": "code",
   "execution_count": null,
   "metadata": {},
   "outputs": [],
   "source": [
    "\"\"\"EXERCISE: Write a function called minimax which\n",
    "\n",
    "inputs: a list of nonnegative integers\n",
    "\n",
    "outputs: the ratio of the maximum value in the list to the minimum value in the list.\n",
    "\n",
    "IF the minimum value in the list is zero, just return the maximum value.\n",
    "\n",
    "Example: minimax([2, 5, 3, 8]) should return 8 / 2 = 4.\"\"\"\n"
   ]
  },
  {
   "cell_type": "code",
   "execution_count": null,
   "metadata": {},
   "outputs": [],
   "source": [
    "\"\"\"Test cases. If your code is correct, no errors should be thrown.\"\"\"\n",
    "assert int(minimax([2, 5, 3, 8])) == 4\n",
    "assert int(minimax([0, 5, 3, 8])) == 8\n",
    "assert int(minimax([3, 5, 8, 100])) == 33"
   ]
  },
  {
   "cell_type": "code",
   "execution_count": null,
   "metadata": {},
   "outputs": [],
   "source": [
    "\"\"\"EXERCISE: Write a function called fib that\n",
    "\n",
    "inputs: an integer n\n",
    "\n",
    "and\n",
    "\n",
    "outputs: the nth fibonacci number, defined by a[n] = a[n - 1] + a[n - 2] with a[0] = a[1] = 1.\n",
    "\"\"\"\n"
   ]
  },
  {
   "cell_type": "code",
   "execution_count": null,
   "metadata": {},
   "outputs": [],
   "source": [
    "\"\"\"Test cases. If your code is correct, no errors should be thrown.\"\"\"\n",
    "assert fib(3) == 2\n",
    "assert fib(7) == 13\n",
    "assert fib(14) == 377"
   ]
  },
  {
   "cell_type": "code",
   "execution_count": null,
   "metadata": {},
   "outputs": [],
   "source": [
    "\"\"\"EXERCISE: Given the function prime below, which \n",
    "\n",
    "inputs: an integer\n",
    "\n",
    "and\n",
    "\n",
    "outputs: True if the integer is prime, else False\n",
    "\n",
    "\n",
    "and a list of numbers, determine every number that is prime.\n",
    "\n",
    "Store all prime numbers in a list called primes.\n",
    "\"\"\"\n",
    "\n",
    "from math import sqrt, floor\n",
    "\n",
    "def prime(n):\n",
    "    \"\"\"Returns True if n is prime, else False.\"\"\"\n",
    "    for x in range(2, floor(sqrt(n) + 1)):\n",
    "        if n % x == 0:\n",
    "            return False\n",
    "    return True\n",
    "\n",
    "numbers = list(range(1, 100))\n",
    "\n",
    "# YOUR CODE HERE\n"
   ]
  },
  {
   "cell_type": "code",
   "execution_count": null,
   "metadata": {},
   "outputs": [],
   "source": [
    "\"\"\"Test cases. If your code is correct, no errors should be thrown.\"\"\"\n",
    "for x in primes[2:]:\n",
    "    assert x % 2 == 1"
   ]
  },
  {
   "cell_type": "markdown",
   "metadata": {},
   "source": [
    "Note that functions can receive functions as input arguments!"
   ]
  },
  {
   "cell_type": "code",
   "execution_count": null,
   "metadata": {},
   "outputs": [],
   "source": [
    "\"\"\"EXAMPLE: The function given below\n",
    "\n",
    "inputs: a function which inputs one integer and an integer\n",
    "\n",
    "body: evaluates the function at the given integer\n",
    "\n",
    "returns: the output of the input function\n",
    "\"\"\"\n",
    "\n",
    "def evaluate(func, val):\n",
    "    \"\"\"Evaluates the function func at the value val and returns the output.\n",
    "    \n",
    "    ASSUMES: func is a function with one input\n",
    "             val is a valid input for func\n",
    "    \"\"\"\n",
    "    output = func(val)\n",
    "    return output\n",
    "\n",
    "# example -- using the above function with our square function from above\n",
    "output = evaluate(square, 5)\n",
    "print(output)\n",
    "assert output == 25"
   ]
  },
  {
   "cell_type": "code",
   "execution_count": null,
   "metadata": {},
   "outputs": [],
   "source": [
    "\"\"\"EXERCISE: Use the evaluate function, given above, with the function prime and the integer 1637 as inputs.\n",
    "\n",
    "Store the outcome of evaluate in a variable called output.\"\"\"\n"
   ]
  },
  {
   "cell_type": "code",
   "execution_count": null,
   "metadata": {},
   "outputs": [],
   "source": [
    "\"\"\"Test cases. If your code is correct, no errors should be thrown.\"\"\"\n",
    "assert output == True"
   ]
  },
  {
   "cell_type": "markdown",
   "metadata": {},
   "source": [
    "---\n",
    "<a id=\"debugging\"></a>\n",
    "## 7. Debugging code\n",
    "### [back to top](#top)\n",
    "\n",
    "Since this notebook is already quite large, we've put a separate \"Debugging\" notebook on the course website under Day 07, if you want to practice debugging some code. Go check it out!"
   ]
  },
  {
   "cell_type": "markdown",
   "metadata": {},
   "source": [
    "---\n",
    "## Assignment wrapup\n",
    "\n",
    "Please fill out the form that appears when you run the code below. **You must completely fill this out in order to receive credit for the assignment!** "
   ]
  },
  {
   "cell_type": "code",
   "execution_count": 171,
   "metadata": {},
   "outputs": [
    {
     "data": {
      "text/html": [
       "\n",
       "<iframe \n",
       "\tsrc=\"https://cmse.msu.edu/cmse201-ic-survey\" \n",
       "\twidth=\"800px\" \n",
       "\theight=\"600px\" \n",
       "\tframeborder=\"0\" \n",
       "\tmarginheight=\"0\" \n",
       "\tmarginwidth=\"0\">\n",
       "\tLoading...\n",
       "</iframe>\n"
      ],
      "text/plain": [
       "<IPython.core.display.HTML object>"
      ]
     },
     "execution_count": 171,
     "metadata": {},
     "output_type": "execute_result"
    }
   ],
   "source": [
    "from IPython.display import HTML\n",
    "HTML(\n",
    "\"\"\"\n",
    "<iframe \n",
    "\tsrc=\"https://cmse.msu.edu/cmse201-ic-survey\" \n",
    "\twidth=\"800px\" \n",
    "\theight=\"600px\" \n",
    "\tframeborder=\"0\" \n",
    "\tmarginheight=\"0\" \n",
    "\tmarginwidth=\"0\">\n",
    "\tLoading...\n",
    "</iframe>\n",
    "\"\"\"\n",
    ")"
   ]
  },
  {
   "cell_type": "markdown",
   "metadata": {},
   "source": [
    "---"
   ]
  },
  {
   "cell_type": "markdown",
   "metadata": {},
   "source": [
    "## Congratulations, you're done!\n",
    "\n",
    "Submit this assignment by uploading it to the course Desire2Learn web page.  Go to the \"In-class assignments\" folder, find the appropriate submission folder link, and upload it there.\n",
    "\n",
    "See you next class!"
   ]
  },
  {
   "cell_type": "markdown",
   "metadata": {},
   "source": [
    "&#169; Copyright 2023,  The Department of Computational Mathematics, Science and Engineering at Michigan State University"
   ]
  }
 ],
 "metadata": {
  "kernelspec": {
   "display_name": "Python 3 (ipykernel)",
   "language": "python",
   "name": "python3"
  },
  "language_info": {
   "codemirror_mode": {
    "name": "ipython",
    "version": 3
   },
   "file_extension": ".py",
   "mimetype": "text/x-python",
   "name": "python",
   "nbconvert_exporter": "python",
   "pygments_lexer": "ipython3",
   "version": "3.11.5"
  },
  "vscode": {
   "interpreter": {
    "hash": "57d964a2ef938b66daa93f67207194045a8aae98a88dc0c9d20f5f06155eead0"
   }
  }
 },
 "nbformat": 4,
 "nbformat_minor": 4
}
