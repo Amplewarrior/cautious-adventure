{
 "cells": [
  {
   "cell_type": "markdown",
   "id": "45bb8053-48ae-4a43-9420-7531a2088f70",
   "metadata": {},
   "source": [
    "# Homework 1: Python fundamentals\n",
    "## And using external resources to better undersand code!"
   ]
  },
  {
   "cell_type": "markdown",
   "id": "369b25c4-5270-44f7-b4aa-5de43f181457",
   "metadata": {},
   "source": [
    "### <p style=\"text-align: right;\"> &#9989; **Andrew** </p>"
   ]
  },
  {
   "cell_type": "markdown",
   "id": "9db8f7d4-bb38-4e4d-81eb-b3f4a29e4390",
   "metadata": {},
   "source": [
    "\n",
    "<img src=\"https://cmse.msu.edu/sites/_cmse/assets/Image/image002.jpg\"\n",
    "     alt=\"CMSE Logo\"\n",
    "     align=\"right\" \n",
    "     width=\"100\" />\n",
    "\n",
    "\n",
    "## Learning Goals\n",
    "\n",
    "### Content Goals\n",
    "- Review the arithmetic operators in Python\n",
    "- Utilize loops to perform repeated operations and to store, access, and manipulate data in one more or lists\n",
    "- Utilize variables and lists to store and access data\n",
    "- Use conditional statements to control code flow.\n",
    "\n",
    "### Practice Goals\n",
    "- Use the internet as a resource for learning how to write code, learn new things, and troubleshoot problems\n",
    "- Solve a variety of problems using code\n",
    "- Troubleshoot errors and debug your code as issues arise (you'll do this all the time in this course!)\n",
    "___\n",
    "\n"
   ]
  },
  {
   "cell_type": "markdown",
   "id": "e2d25c6b-8ba7-4899-b2aa-e1c9db4ade5c",
   "metadata": {},
   "source": [
    "## Assignment instructions\n",
    "\n",
    "Work through the following assignment, making sure to follow all the directions and answer all the questions.\n",
    "\n",
    "**This assignment is due at 11:59 pm on Friday,  September 22nd.** It should be uploaded into the \"Homework Assignments\" submission folder for Homework #1.  Submission instructions can be found at the end of the notebook.\n"
   ]
  },
  {
   "cell_type": "markdown",
   "id": "3c95e3e0-bf6e-4735-aa5c-ffdf3b4b69a4",
   "metadata": {},
   "source": [
    "---\n",
    "## Version check\n",
    "\n",
    "Before you begin, make sure your Jupyter kernel is Python 3. There are significant differences between Python 2 and Python 3, and we use Python 3 in this course. The kernel type at the upper-right corner should say \"Python 3\", and the following code should show a version of the form: `3.x.y` (where \"x\" and \"y\" are the sub-version numbers).\n",
    "\n",
    "If your kernel is Python 2, try selecting Python 3 from the Kernel menu above under the sub-menu \"Change kernel\". If that does not work, consult the Teams help channel for assistance."
   ]
  },
  {
   "cell_type": "code",
   "execution_count": 4,
   "id": "df6fc368-2a6f-4a95-83c1-89279fbc61b3",
   "metadata": {},
   "outputs": [
    {
     "name": "stdout",
     "output_type": "stream",
     "text": [
      "3.11.5 (tags/v3.11.5:cce6ba9, Aug 24 2023, 14:38:34) [MSC v.1936 64 bit (AMD64)]\n"
     ]
    }
   ],
   "source": [
    "import sys\n",
    "print(sys.version)"
   ]
  },
  {
   "cell_type": "markdown",
   "id": "7ceb3943-d50b-4f97-b15b-cd6a26e49a9c",
   "metadata": {},
   "source": [
    "\n",
    "---\n",
    "## Grading\n",
    "\n",
    "0. Integrity statement and office hours\n",
    "    1. Academic Integrity Statement (2 points)\n",
    "    2. Going to Office Hours (6 Points)\n",
    "1. Doing basic math with Python (6 points)\n",
    "2. Storing and accessing data using lists (21 points)\n",
    "3. Writing for loops in Python (21 points) \n",
    "4. Writing while loops in Python (7 points)\n",
    "5. Writing if statements in Python (9 points)\n",
    "\n",
    "**Total points possible**: 72\n",
    "\n",
    "---\n"
   ]
  },
  {
   "cell_type": "markdown",
   "id": "07697278-efc1-44f9-b281-b7b4aece9bff",
   "metadata": {},
   "source": [
    "## 0.1 Academic integrity statement (2 Points)\n",
    "\n",
    "In the markdown cell below, paste your personal academic integrity statement. **You should have generated this in the Day 4 pre-class assignment**, if you did not do this pre-class assignment, locate that assignment, find the appropriate section, and draft your integrity statment now.\n",
    "\n",
    "By including this statement, you are confirming that you are submitting this as your own work and not that of someone else.\n"
   ]
  },
  {
   "cell_type": "markdown",
   "id": "add02426-de57-4036-8da8-2add665532c4",
   "metadata": {},
   "source": [
    "<font size=6 color=\"#009600\">&#9998;</font> I, `Andrew Koren`, commit to `upholding integrity as my guiding principle in academia and life. My commitment encompasses values such as honesty, fairness, and the relentless pursuit of knowledge. I pledge to avoid plagiarism, provide transparent source attribution, and adhere to Michigan State University's ethical standards. I understand that academic integrity is not just about rules; it forms the bedrock of a just educational system. I am dedicated to being an ethical member of the community, shaped by these principles.`\n"
   ]
  },
  {
   "cell_type": "markdown",
   "id": "295e310b-e5f2-4c21-9e3b-afe0ec9813f9",
   "metadata": {},
   "source": [
    "## 0.2 Going to Office/Help Room Hours (6 Points)\n",
    "\n",
    "### Why are we doing this?\n",
    "We want to make sure that everyone knows how to access the resources\n",
    "available to you. One of the best resources you have at your disposal is office/help room hours, which are offered by the instructors, TAs, and LAs associated with CMSE 201.\n",
    "\n",
    "### What will you do?\n",
    "(At minimum) Go to one office hour session ​(it doesn’t matter which one you go to). Come with one question that you would like to talk about. It can be big or small. Ask your question. All of the instructional staff for CMSE 201 (section instructors, TAs, and LAs) will have access to a roster of the folks enrolled in CMSE 201 and will be able to mark off that you stopped in. As long as there ends up being a check next to your name, you’ll get credit for this part of Homework 1.\n",
    "\n",
    "If your schedule is such that none of the nearly 40 hours of office hours/help room work with your schedule. Send and email to the CMSE 201 lead instructor, Dr. Rachel Frisbie (salmonra@msu.edu), to coordinate an option to make sure you can get credit for this part of the assignment.\n",
    "\n",
    "**NOTE:** The day when the homework is due (**Friday, September 22nd**) will be the busiest time for folks to go to office hours. You are **STRONGLY** encouraged to go to office hours before that Friday to get credit for this part of this assignment. If you show up to office/help room hours on that Friday and it's very busy, there is no guarantee that one of the instructors, TAs, or LAs will be able to check you off for this part of the assignment. (You should still feel free to go to office hours on Friday for help, though!)\n",
    "\n",
    "You can find the office hours calendar on the [course website](https://cmse.msu.edu/cmse201). There is a link to the calendar on the front page and the calendar itself is embedded near the bottom of the front page. Double-check the calendar events for details on which zoom room or physical location the office/help room hours are being held in. The information is also pinned in the cmse201-F23-help channel on Teams!"
   ]
  },
  {
   "cell_type": "markdown",
   "id": "3297235f",
   "metadata": {},
   "source": [
    "---\n",
    "## 1. Doing basic math with Python (6 points)\n",
    "\n",
    "As you explored with your order of magnitude modeling assignment in the Day 2 in-class assignment, Python is great at doing basic math -- much like your favorite calculator! As you get more comfortable with writing Python code, you might find yourself writing a bit of code when you need to do some calculations instead of pulling digging out your calculator or launching the calculator app on your phone. \n",
    "\n",
    "Doing basic math with Python involves using various \"**operators**\" -- these operators are the Python symbols used to do the actual math. For example, to add two variables, we use the \"`+`\" operator. To subtract, we use the \"`-`\" operator.\n",
    "\n",
    "There are a number of other arithmetic (math) operators as well.\n",
    "\n",
    "### &#9989;&nbsp; Question 1.1 (4 points)\n",
    "\n",
    "In the markdown cell below, fill out the following table to indicate what math each operator is used for. If you don't know the answer off the top of your head, you should practice using Google (or your search engine of choice) to pick up some new Python knowledge (something even the pros do!). **Make sure you use the keyword \"python\" in your search terms when looking for these math operators.**\n",
    "\n",
    "**Remember**: You can double-click on a markdown cell to edit it."
   ]
  },
  {
   "cell_type": "markdown",
   "id": "3c372d31",
   "metadata": {},
   "source": [
    "| Arithmetic Operator Symbol |  Name of Mathematical Operation | Description |\n",
    "| :------------------------- | :------------------------------ | :---------- | \n",
    "| +                          | Addition                        | Add two variables or numbers together |\n",
    "| -                          | Subtraction                     | Subtract one variable or number from another |\n",
    "| *                          |                 Multiplication                | Multiplies two variables/numbers together |\n",
    "| /                          |  Division                               | Divides one variable by another |\n",
    "| **                         |          Exponent                       | Raises one varaible to the power of another |\n",
    "| %                          |               Modulo                  | Divides one variable by another, returns remainder |"
   ]
  },
  {
   "cell_type": "markdown",
   "id": "ff524860",
   "metadata": {},
   "source": [
    "### &#9989;&nbsp; Question 1.2 (2 Points)\n",
    "\n",
    "One arithmetic operator is missing from the table above. This is the \"Floor Division\" operator, which looks like this: `//`\n",
    "\n",
    "In your own words in the cell below, explain what this operator does. In the code cell below that, use the operator in an example to confirm that your explanation is accurate."
   ]
  },
  {
   "cell_type": "markdown",
   "id": "7aa69bac",
   "metadata": {},
   "source": [
    "<font size=6 color=\"#009600\">&#9998;</font> Floor division is a form of divison which returns integer quotients by rounding down."
   ]
  },
  {
   "cell_type": "code",
   "execution_count": 5,
   "id": "a59a5d5f",
   "metadata": {},
   "outputs": [
    {
     "name": "stdout",
     "output_type": "stream",
     "text": [
      "0 2 1\n"
     ]
    }
   ],
   "source": [
    "# Put your example code that showcases how the // operator works to ensure that it agrees with your explanation\n",
    "print(4 // 5, # Since 4 < 5, no whole numbers remain and it is rounded down to zero\n",
    "       4 // 2, # normal division\n",
    "         4 // 3) # 4/3 = 1 + 1/3, the 1/3 is discarded\n"
   ]
  },
  {
   "cell_type": "markdown",
   "id": "2409212b",
   "metadata": {},
   "source": [
    "---\n",
    "## 2. Storing and accessing data using lists (21 points)\n",
    "\n",
    "The Python `list` datatype can be a really useful way to store and access data using the functionality that is built into the default version of Python. As the semester progresses, we'll learn about other Python \"libraries\" (packages of code designed to do useful things) designed to work with data, but for now, the `list` datatype is our primary tool.\n",
    "\n",
    "### Creating a list from scratch\n",
    "\n",
    "There are a variety of ways you can create a list and fill it with values and you'll want to make sure you're comfortable doing this.\n",
    "\n",
    "#### &#9989;&nbsp; Question 2.1 (2 Points)\n",
    "\n",
    "Using the internet, find some examples of how the create a list in Python. After you find some examples, **pick two of the examples, copy them into your notebook in the code cells below, and get them to run.** Try to find two examples that are different in some way, e.g. the examples create the list in different ways or store different types of values.\n",
    "\n",
    "Since you're using code you found on the internet, **include a comment in your code (using the `#` symbol) that provides the URL that your example came from and the date you accessed that URL**. Your comment should look something like:\n",
    "\n",
    "```python\n",
    "# Original code from https://superusefulpythoncode.com/lists-are-handy/, accessed on January 21, 2023\n",
    "```\n",
    "\n",
    "**Tip**: You'll be asked to use the internet to find various types of example code throughout this assignment. Remember, when you're searching for example, it can be very important to include \"**python**\" in your search terms to make sure you get code that's written in Python, rather than some other language."
   ]
  },
  {
   "cell_type": "code",
   "execution_count": 6,
   "id": "b7e6bd31",
   "metadata": {},
   "outputs": [],
   "source": [
    "#from chat.openai.com, accessed 9/19/23\n",
    "# Creating a list of integers\n",
    "my_list = [1, 2, 3, 4, 5]\n",
    "\n",
    "# Creating a list of strings\n",
    "fruits = [\"apple\", \"banana\", \"cherry\"]\n",
    "\n",
    "# Creating a list of mixed data types\n",
    "mixed_list = [1, \"hello\", 3.14, True]\n",
    "\n",
    "# Creating an empty list\n",
    "empty_list = []\n"
   ]
  },
  {
   "cell_type": "code",
   "execution_count": 7,
   "id": "24af08ba",
   "metadata": {},
   "outputs": [
    {
     "name": "stdout",
     "output_type": "stream",
     "text": [
      "[19, 26, 23]\n"
     ]
    }
   ],
   "source": [
    "# Put your second example, where it came from, and when you accessed the URL here \n",
    "# From https://www.programiz.com/python-programming/list, accessed 9/19/23\n",
    "ages =  [19, 26, 23]\n",
    "\n",
    "print(ages)\n",
    "\n",
    "# Output: [19, 26, 23]\n"
   ]
  },
  {
   "cell_type": "markdown",
   "id": "ee03d341",
   "metadata": {},
   "source": [
    "#### &#9989;&nbsp; Question 2.2 (2 Points)\n",
    "\n",
    "For each example, answer the following questions in the markdown cell below.\n",
    "1. What does this example do?\n",
    "2. Considering what the example code you found and copied does, **write a homework problem you could give another CMSE 201 student, where the answer to your problem is the example code you’ve found.**\n",
    "    \n",
    "    For example, if my code example was:\n",
    "    > ```python\n",
    "    > mylist = [0, 1, 2]\n",
    "    > print(mylist)\n",
    "    >```\n",
    "    \n",
    "    then my prompt might be \"Write a program that creates a list that contains the integer numbers 0, 1, and 2 and then prints the list\""
   ]
  },
  {
   "cell_type": "code",
   "execution_count": null,
   "id": "f01812c4",
   "metadata": {},
   "outputs": [],
   "source": []
  },
  {
   "cell_type": "markdown",
   "id": "950deb4f",
   "metadata": {},
   "source": [
    "<font size=6 color=\"#009600\">&#9998;</font> each example creates a list. The first uses various types of data, while the second only uses integers, which it prints out using the print() function. <br> The prompt is: create a list with integers, strings, mixed data types and nothing at all"
   ]
  },
  {
   "cell_type": "markdown",
   "id": "ee47dccd",
   "metadata": {},
   "source": [
    "#### &#9989;&nbsp; Question 2.3 (3 Points)\n",
    "\n",
    "Now that you've looked at some examples that create a Python list, **you're going to write a bit of code that creates such a list.**\n",
    "\n",
    "Since there a wide variety of problems that can be tackled with this sort of code, you have the option to choose from one of the following problems:\n",
    "1. Write a program that creates a list containing the months of the year in order, starting with January. Print the list to ensure it includes all twelve months.\n",
    "\n",
    "2. Create a Python program that generates a list of the first 10 multiples of a given number (e.g., 5, 10, 15, ...). Ensure that these multiples are stored as integers, and print the list to verify the values.\n",
    "\n",
    "3. Write a program that generates a list containing all the consonants in the English alphabet in lowercase. Make sure to exclude the vowels and any other non-alphabet characters. Print the list to confirm that it contains all the appropriate consonants.\n",
    "\n",
    "For all of these problems, **try to use good coding practices when writing your solutions!**\n",
    "\n",
    "In the markdown cell below, **state which problem you intend to solve**. Then, in the code cell below that, **solve the problem by creating a Python list and using it as indicated.**"
   ]
  },
  {
   "cell_type": "markdown",
   "id": "5fc9095d",
   "metadata": {},
   "source": [
    "<font size=6 color=\"#009600\">&#9998;</font> #2"
   ]
  },
  {
   "cell_type": "code",
   "execution_count": 8,
   "id": "5e4c193d",
   "metadata": {},
   "outputs": [
    {
     "name": "stdout",
     "output_type": "stream",
     "text": [
      "[5, 10, 15, 20, 25, 30, 35, 40, 45, 50]\n"
     ]
    }
   ],
   "source": [
    "# Put your code that solves the problem, here. #2\n",
    "# Make sure you make use of a list\n",
    "listy = []\n",
    "count = 5\n",
    "for u in range(10):\n",
    "    listy.append(count)\n",
    "    count += 5\n",
    "print(listy)"
   ]
  },
  {
   "cell_type": "code",
   "execution_count": null,
   "id": "8dbc2e57",
   "metadata": {},
   "outputs": [],
   "source": []
  },
  {
   "cell_type": "markdown",
   "id": "ea3f7402",
   "metadata": {},
   "source": [
    "### Accessing and changing values stored in a Python list\n",
    "\n",
    "Once we get comfortable with creating lists with some set of initial values, we need to get comfortable with accessing the information stored in the list. The way that we access information is by using an **index** to access a value at a particular position in the list. Index values are **integers** that allow you to refer to values at specific positions in the list. The first index is always 0 in Python. So the _third element_ in a list would be accessed using an index of \"2\". **You'll just need to get in the habit of thinking this way when working with Python**.\n",
    "\n",
    "Using an index not only allows us to access a value in a list, but **it also allows us to update or change values in a list.**\n",
    "\n",
    "#### &#9989;&nbsp; Question 2.4 (2 Points)\n",
    "\n",
    "Using the internet, find some examples of how the access values and change values in a list in Python using an index. After you find some examples, **pick one example that just accesses values in a list using an index and one example that shows how you can use an index to _change_ a value in a list. Copy each example into your notebook in the code cell below and get them both to run.**\n",
    "\n",
    "Since you're using code you found on the internet, **include a comment in your code (using the `#` symbol) that provides the URL that your example came from and the date you accessed that URL**. Your comment should look something like:\n",
    "\n",
    "```python\n",
    "# Original code from https://superusefulpythoncode.com/lists-can-be-accessed-and-changed/, accessed on January 15, 2023\n",
    "```"
   ]
  },
  {
   "cell_type": "code",
   "execution_count": 9,
   "id": "3d635f4c",
   "metadata": {},
   "outputs": [],
   "source": [
    "# Put your first example, where it came from, and when you accessed the URL here \n",
    "#from chat.openai.com 9/19/23\n",
    "my_list = [10, 20, 30, 40, 50]\n",
    "\n",
    "# Accessing individual elements by index\n",
    "first_element = my_list[0]  # Gets the first element (10)\n",
    "second_element = my_list[1]  # Gets the second element (20)\n",
    "third_element = my_list[2]  # Gets the third element (30)\n",
    "\n",
    "# You can also use negative indexing to access elements from the end of the list\n",
    "last_element = my_list[-1]   # Gets the last element (50)\n",
    "second_to_last = my_list[-2]  # Gets the second-to-last element (40)\n"
   ]
  },
  {
   "cell_type": "code",
   "execution_count": 10,
   "id": "c18e2c93",
   "metadata": {},
   "outputs": [
    {
     "name": "stdout",
     "output_type": "stream",
     "text": [
      "Original list is : [1, 4, 5, 6, 7]\n",
      "List index-value are : \n",
      "0 1\n",
      "1 4\n",
      "2 5\n",
      "3 6\n",
      "4 7\n"
     ]
    }
   ],
   "source": [
    "# Put your second example, where it came from, and when you accessed the URL here \n",
    "#from https://www.geeksforgeeks.org/python-accessing-index-and-value-in-list/#, accessed 9/19/23\n",
    "# Python3 code to demonstrate\n",
    "# to get index and value\n",
    "# using naive method\n",
    "\n",
    "# initializing list\n",
    "test_list = [1, 4, 5, 6, 7]\n",
    "\n",
    "# Printing list\n",
    "print(\"Original list is : \" + str(test_list))\n",
    "\n",
    "# using naive method to\n",
    "# get index and value\n",
    "print(\"List index-value are : \")\n",
    "for i in range(len(test_list)):\n",
    "\tprint(i, end=\" \")\n",
    "\tprint(test_list[i])\n"
   ]
  },
  {
   "cell_type": "markdown",
   "id": "42d0b18c",
   "metadata": {},
   "source": [
    "#### &#9989;&nbsp; Question 2.5 (2 Points)\n",
    "\n",
    "For each example, answer the following questions in the markdown cell below.\n",
    "1. What does this example do?\n",
    "2. Considering what the example code you found and copied does, **write a homework problem you could give another CMSE 201 student, where the answer to your problem is the example code you’ve found.**"
   ]
  },
  {
   "cell_type": "markdown",
   "id": "6b37a118",
   "metadata": {},
   "source": [
    "<font size=6 color=\"#009600\">&#9998;</font> The first code shows how specific value from a list can be used, while the second uses a loop to retrieve and print the values. How do you obtain the last entry in a list?  Print out and label each value in a list with its order in the list."
   ]
  },
  {
   "cell_type": "markdown",
   "id": "a0cbcc16",
   "metadata": {},
   "source": [
    "#### &#9989;&nbsp; Question 2.6 (3 Points)\n",
    "\n",
    "Now that you've looked at some examples that create a Python list, **you're going to write a bit of code that accesses and changes values in a list.**\n",
    "\n",
    "Since there a wide variety of problems that can be tackled with this sort of code, you have the option to choose from one of the following problems:\n",
    "\n",
    "1. Write a program that creates a list of odd natural numbers that are less than 10. Then change the second number so that it is the original value squared, change the fifth number so that it increases by 3 from the original value. Print the list to make sure the results are what you expect.\n",
    "\n",
    "2. Write a program that creates a list that contains individual letters in the word \"python\" all in lower cases. Then change the first letter to uppercase, and the letter o to the integer 0. Print the list to make sure the results are what you expect.\n",
    "\n",
    "3. Write a program that creates a list that contains the names of the four inner planets of the solar system. Then change the name of the one that we live on to be \"home world\". Print the list to make sure the results are what you expect.\n",
    "\n",
    "For all of these problems, **try to use good coding practices when writing your solutions!**\n",
    "\n",
    "In the markdown cell below, **state which problem you intend to solve**. Then, in the code cell below that, **solve the problem by accessing and modifying values in a list.**"
   ]
  },
  {
   "cell_type": "markdown",
   "id": "fdadb3cc",
   "metadata": {},
   "source": [
    "<font size=6 color=\"#009600\">&#9998;</font> Oh, I just had to do one"
   ]
  },
  {
   "cell_type": "code",
   "execution_count": 11,
   "id": "9ec6bb34",
   "metadata": {},
   "outputs": [
    {
     "name": "stdout",
     "output_type": "stream",
     "text": [
      "[1, 9, 5, 7, 3]\n",
      "['P', 'y', 't', 'h', 0, 'n']\n",
      "['Mercury', 'Venus', 'Home World', 'Mars']\n"
     ]
    }
   ],
   "source": [
    "# Put your code that solves the problem, here.\n",
    "# Make sure you make use of a list to access and modify the values\n",
    "#Part 1.\n",
    "odd_natties = [1,3,5,7,9]\n",
    "odd_natties[1]=odd_natties[1] ** 2\n",
    "odd_natties[4]=+3\n",
    "print(odd_natties)\n",
    "#part 2 \n",
    "python = ['p','y','t','h','o','n']\n",
    "python[0]='P'\n",
    "python[-2]=0\n",
    "print(python)\n",
    "#part 3\n",
    "inner_planets = [\"Mercury\", \"Venus\", \"Earth\", \"Mars\"]\n",
    "inner_planets[2] = \"Home World\"\n",
    "print(inner_planets)\n"
   ]
  },
  {
   "cell_type": "markdown",
   "id": "848ebfcc",
   "metadata": {},
   "source": [
    "### Adding or \"appending\" values to a Python list\n",
    "\n",
    "From time to time, we might need to do more than just access and change values inside a list, we might need to **add or \"append\" items to a list**. This can be especially useful if our code generates information in a loop and we want to make sure we store that information as we go along. Or, alternatively, we might find situations where we want to append certain information to our list based on a specific condition. In these sorts of situations, the `append()` function is useful for adding items to a pre-existing list.\n",
    "\n",
    "#### &#9989;&nbsp; Question 2.7 (2 Points)\n",
    "\n",
    "Using the internet, find some examples of how to append values to a list in Python. After you find some examples,  **pick two of the examples, copy them into your notebook in the code cells below, and get them to run.**\n",
    "\n",
    "Since you're using code you found on the internet, **include a comment in your code (using the `#` symbol) that provides the URL that your example came from and the date you accessed that URL**. Your comment should look something like:\n",
    "\n",
    "```python\n",
    "# Original code from https://superusefulpythoncode.com/lists-can-appended-to/, accessed on January 12, 2023\n",
    "```"
   ]
  },
  {
   "cell_type": "code",
   "execution_count": 12,
   "id": "bc2f2236",
   "metadata": {},
   "outputs": [
    {
     "name": "stdout",
     "output_type": "stream",
     "text": [
      "[1, 2, 3, 4]\n",
      "[1, 2, 3, 4, 5, 6]\n",
      "[1, 2, 3, 4]\n"
     ]
    }
   ],
   "source": [
    "# Put your first example, where it came from, and when you accessed the URL here \n",
    "#I feel bored doing this for myself. You guys gotta grade all these?\n",
    "#from chat.openai.com, accessed 9/19/23\n",
    "\n",
    "# Example 1: Append a single value to a list\n",
    "my_list = [1, 2, 3]\n",
    "my_list.append(4)\n",
    "print(my_list)  # Output: [1, 2, 3, 4]\n",
    "\n",
    "# Example 2: Append multiple values to a list using extend()\n",
    "my_list = [1, 2, 3]\n",
    "my_list.extend([4, 5, 6])\n",
    "print(my_list)  # Output: [1, 2, 3, 4, 5, 6]\n",
    "\n",
    "# Example 3: Append values to a list using a for loop\n",
    "my_list = []\n",
    "for i in range(1, 5):\n",
    "    my_list.append(i)\n",
    "print(my_list)  # Output: [1, 2, 3, 4]"
   ]
  },
  {
   "cell_type": "code",
   "execution_count": 13,
   "id": "d86b5228",
   "metadata": {},
   "outputs": [
    {
     "name": "stdout",
     "output_type": "stream",
     "text": [
      "['Dollar', 'Euro', 'Pound', 'Yen']\n"
     ]
    }
   ],
   "source": [
    "# Put your second example, where it came from, and when you accessed the URL here \n",
    "#At least you're getting paid. I gotta pay to sit through this.\n",
    "#from https://www.programiz.com/python-programming/methods/list/append, accessed 9/19/23\n",
    "currencies = ['Dollar', 'Euro', 'Pound']\n",
    "\n",
    "# append 'Yen' to the list\n",
    "currencies.append('Yen')\n",
    "\n",
    "print(currencies)\n",
    "\n",
    "# Output: ['Dollar', 'Euro', 'Pound', 'Yen']"
   ]
  },
  {
   "cell_type": "markdown",
   "id": "138cfb8c",
   "metadata": {},
   "source": [
    "#### &#9989;&nbsp; Question 2.8 (2 Points)\n",
    "\n",
    "For each example, answer the following questions in the markdown cell below.\n",
    "1. What does this example do?\n",
    "2. Considering what the example code you found and copied does, **write a homework problem you could give another CMSE 201 student, where the answer to your problem is the example code you’ve found.**"
   ]
  },
  {
   "cell_type": "markdown",
   "id": "2486bd8d",
   "metadata": {},
   "source": [
    "The first example code demonstrates how to append values to a Python list, including appending single and multiple values using the append() and extend() methods, respectively. Create an empty list, my_list, and then append the values 7, 8, and 9 to it using the append() method, finally printing the updated list.\n",
    "\n",
    "The second code initializes a list named currencies with three currency names: 'Dollar', 'Euro', and 'Pound'. It then appends the string 'Yen' to the end of the list using the append() method and prints the updated list. Write a Python program that creates a list named currencies with initial values, appends 'Yen' to it, and then prints the updated list to verify the addition."
   ]
  },
  {
   "cell_type": "code",
   "execution_count": 14,
   "id": "237cc1fe",
   "metadata": {},
   "outputs": [
    {
     "name": "stdout",
     "output_type": "stream",
     "text": [
      "skipping this question loses me \n",
      "5.555555555555555\n",
      "percent\n",
      "fine ill do it\n"
     ]
    }
   ],
   "source": [
    "print('skipping this question loses me ')\n",
    "print(400/72)\n",
    "print('percent')\n",
    "print('fine ill do it')"
   ]
  },
  {
   "cell_type": "markdown",
   "id": "576c76a7",
   "metadata": {},
   "source": [
    "#### &#9989;&nbsp; Question 2.9 (3 Points)\n",
    "\n",
    "Now that you've looked at some examples that append items to a Python list, **you're going to write a bit of code that uses the `append()` function to add items to a Python list.**\n",
    "\n",
    "Since there a wide variety of problems that can be tackled with this sort of code, you have the option to choose from one of the following problems:\n",
    "\n",
    "1. Write a program that creates a list of three different programming languages. Then using append() function, and your most favorite and least favorite programming languages to the end of the list. Print the list to make sure the results are what you expect.\n",
    "\n",
    "2. Write a program that creates a list that contains the names of all the planets of the solar system. Then using the append() function, add your most and least favorite planets to the end of the list. Print the list to make sure the results are what you expect.\n",
    "\n",
    "3. Write a program that creates a list of odd natural numbers that are less than 10. Then using the append() function, add two even natural numbers that are less than 10 to the end of the list. Print the list to make sure the results are what you expect.\n",
    "\n",
    "For all of these problems, **try to use good coding practices when writing your solutions!**\n",
    "\n",
    "In the markdown cell below, **state which problem you intend to solve**. Then, in the code cell below that, **solve the problem by appending new values to a list.**"
   ]
  },
  {
   "cell_type": "markdown",
   "id": "379c9d8f",
   "metadata": {},
   "source": [
    "<font size=6 color=\"#009600\">&#9998;</font> *Write which of the 3 problems stated above you plan to solve here.*"
   ]
  },
  {
   "cell_type": "code",
   "execution_count": 15,
   "id": "cd9eea54",
   "metadata": {},
   "outputs": [
    {
     "name": "stdout",
     "output_type": "stream",
     "text": [
      "['c', 'fortran', 'c++', 'R', 'powershell']\n"
     ]
    }
   ],
   "source": [
    "# Put your code that solves the problem, here.\n",
    "# Make sure you make use of a list to access and modify the values\n",
    "languages = ['c','fortran','c++']\n",
    "languages.append('R')\n",
    "languages.append('powershell')\n",
    "print(languages)"
   ]
  },
  {
   "cell_type": "markdown",
   "id": "6f717c6f",
   "metadata": {},
   "source": [
    "---\n",
    "## 3. Writing `for` loops in Python (21 points)\n",
    "\n",
    "The `for` loop is a fundamental programming concept in many programming languages and it is one method of what is referred to as \"control flow,\" which is simply how the flow of execution of a program is controlled (get it?). The `for` loop basically tells the computer to execute the code inside the loop a specific numbers of times. The number of times the loop should be executed can be defined using the `range()` function or you can tell Python to iterate through sequence of values, e.g. a list, and run the loop until every value has been accessed. We'll sometimes refer to these as **\"looping by index\"** or **\"looping by value\"**, respectively."
   ]
  },
  {
   "cell_type": "markdown",
   "id": "cb785c5b",
   "metadata": {},
   "source": [
    "### Looping by integers or index\n",
    "\n",
    "When we use the `range()` function in a `for` loop, we end up generating a set of integer values, which we often use as the **index** for accessing information stored in a Python container, like a list.\n",
    "\n",
    "It’s important to understand how to use these integer index values to access elements of a list in the code that lies *inside* the loop, but for now we'll just think about how we can loop over a set of integer values using a `for` loop.\n",
    "\n",
    "#### &#9989;&nbsp; Question 3.1 (2 Points)\n",
    "\n",
    "Using the internet, find some examples of how the `range()` function can be used to generate integer values inside a `for` loop. After you find some examples, **pick two of the examples, copy them into your notebook in the code cells below, and get them to run.** Since you're using code you found on the internet, **include a comment in your code (using the `#` symbol) that provides the URL that your example came from and the date you accessed that URL**. Your comment should look something like:\n",
    "\n",
    "```python\n",
    "# Original code from https://superusefulpythoncode.com/for-loops-are-great/, accessed on January 17, 2023\n",
    "```"
   ]
  },
  {
   "cell_type": "code",
   "execution_count": 16,
   "id": "e78f5fab",
   "metadata": {},
   "outputs": [
    {
     "name": "stdout",
     "output_type": "stream",
     "text": [
      "1\n",
      "2\n",
      "3\n",
      "4\n",
      "5\n"
     ]
    }
   ],
   "source": [
    "# Put your first example, where it came from, and when you accessed the URL here \n",
    "#https://chat.openai.com/ 9-19-23\n",
    "# Using range() to generate integer values from 1 to 5 (inclusive)\n",
    "for i in range(1, 6):\n",
    "    print(i)\n"
   ]
  },
  {
   "cell_type": "code",
   "execution_count": 17,
   "id": "6608c799",
   "metadata": {},
   "outputs": [
    {
     "name": "stdout",
     "output_type": "stream",
     "text": [
      "0\n",
      "1\n",
      "2\n",
      "3\n",
      "4\n",
      "5\n"
     ]
    }
   ],
   "source": [
    "# Put your second example, where it came from, and when you accessed the URL here \n",
    "#https://www.w3schools.com/python/gloss_python_for_range.asp you know full well what day this was accessed\n",
    "\n",
    "for x in range(6):\n",
    "  print(x)\n"
   ]
  },
  {
   "cell_type": "markdown",
   "id": "cfcc4240",
   "metadata": {},
   "source": [
    "#### &#9989;&nbsp; Question 3.2 (2 Points)\n",
    "\n",
    "For each example, answer the following questions in the markdown cell below.\n",
    "1. What does this example do?\n",
    "2. Considering what the example code you found and copied does, **write a homework problem you could give another CMSE 201 student, where the answer to your problem is the example code you’ve found.**\n",
    "    \n",
    "    For example, if my code example was:\n",
    "    > ```python\n",
    "    > for i in range(3):\n",
    "    >     print(i)\n",
    "    >```\n",
    "    \n",
    "    then my prompt might be \"Write a program using a for loop that prints the number 0, 1, 2, in order one number at a time\""
   ]
  },
  {
   "cell_type": "markdown",
   "id": "320079fc",
   "metadata": {},
   "source": [
    "<font size=6 color=\"#009600\">&#9998;</font> Both examples use print to show the values of thee range function. Prompt:  use print to show the values of a range function with input 6"
   ]
  },
  {
   "cell_type": "markdown",
   "id": "4cb5f623",
   "metadata": {},
   "source": [
    "#### &#9989;&nbsp; Question 3.3 (3 Points)\n",
    "\n",
    "Now that you've looked at some examples that use the `range()` function in a `for` loop iterate over a set of integers, **you're going to write a bit of code that includes a `for` loop that uses the `range()` function.**\n",
    "\n",
    "Since there a wide variety of problems that can be tackled with this sort of code, you have the option to choose from one of the following problems:\n",
    "1. Write a program that produces the \"division table\" for a given integer value for that integer divided by 1 through 10, using float type numbers. For example, if you were to choose \"9\" as your integer, your program should print something like:\n",
    "\n",
    "    > ```\n",
    "    > 9 divided by 1 is 9.0\n",
    "    > 9 divided by 2 is 4.5\n",
    "    > 9 divided by 3 is 3.0\n",
    "    > ... (all of the other ones)\n",
    "    > 9 divided by 10 is 0.9\n",
    "    > ```\n",
    "2. Write a program that calculates the product (multiplication) of the first \"n\" integers (starting with 1) where \"n\" is a number of your choosing. Once the sum is calculated, print the result. For example, if you were to choose \"3\" as your value of \"n\" your code should calculate 1 * 2 * 3 and print the product at the end (which would be 6 in this case).\n",
    "3. Write a program that starts at zero and goes to some number \"n\" and prints out all of the even integers in that range, where \"n\" is a value of your choosing. For example, if you chose \"6\" as your value of \"n\" then your code should print 2, 4, and 6. **Hint**: if you choose this one, you might find it useful to use the \"modulo\" operator you should have learned about when you completed Part 1 of this assignment.\n",
    "\n",
    "For all of these problems, **try to use good coding practices when writing your solutions!**\n",
    "\n",
    "In the markdown cell below, **state which problem you intend to solve**. Then, in the code cell below that, **solve the problem using a `for` loop that uses the `range()` function.**"
   ]
  },
  {
   "cell_type": "markdown",
   "id": "f88e1eaf",
   "metadata": {},
   "source": [
    "<font size=6 color=\"#009600\">&#9998;</font> *Write which of the 3 problems stated above you plan to solve here.*"
   ]
  },
  {
   "cell_type": "code",
   "execution_count": 37,
   "id": "a22a53a5",
   "metadata": {},
   "outputs": [
    {
     "name": "stdout",
     "output_type": "stream",
     "text": [
      "9 divided by 1 is 9.0\n",
      "9 divided by 2 is 4.5\n",
      "9 divided by 3 is 3.0\n",
      "9 divided by 4 is 2.25\n",
      "9 divided by 5 is 1.8\n",
      "9 divided by 6 is 1.5\n",
      "9 divided by 7 is 1.2857142857142858\n",
      "9 divided by 8 is 1.125\n",
      "9 divided by 9 is 1.0\n",
      "9 divided by 10 is 0.9\n"
     ]
    }
   ],
   "source": [
    "# Input the integer value\n",
    "integer_value = 9\n",
    "\n",
    "# Iterate through numbers from 1 to 10 and calculate the division\n",
    "for i in range(1, 11):\n",
    "    result = float(integer_value) / i\n",
    "    print(integer_value, \"divided by\", i, \"is\", result)\n"
   ]
  },
  {
   "cell_type": "markdown",
   "id": "ad1a71d4",
   "metadata": {},
   "source": [
    "### Looping by value (e.g. through a list)\n",
    "\n",
    "Another way that Python allows us to write `for` loops is by looping through values stored in a sequence of some sort. We often seen this with `for` loops that **iterate through a Python list**.\n",
    "\n",
    "This can be really useful if we have some important data stored in a list and want to go through and do something with each value/item stored in that list. For example, if you had a list of all the students in your section of CMSE 201, you could use a `for` loop to print out all of their names when you wanted to see the class roster. \n",
    "\n",
    "#### &#9989;&nbsp; Question 3.4 (2 Points)\n",
    "\n",
    "Using the internet, find some examples where a `for` loop is used to move through a Python list and the code does something with the values in that list. After you find some examples, **pick two of the examples, copy them into your notebook in the code cells below, and get them to run.** Since you're using code you found on the internet, **include a comment in your code (using the `#` symbol) that provides the URL that your example came from and the date you accessed that URL**. Your comment should look something like:\n",
    "\n",
    "```python\n",
    "# Original code from https://superusefulpythoncode.com/for-loops-are-great-with-lists-too/, accessed on January 19, 2023\n",
    "```"
   ]
  },
  {
   "cell_type": "code",
   "execution_count": 39,
   "id": "4e32c345",
   "metadata": {},
   "outputs": [
    {
     "name": "stdout",
     "output_type": "stream",
     "text": [
      "Original list: [1, 2, 3, 4, 5]\n",
      "List of squares: [1, 4, 9, 16, 25]\n"
     ]
    }
   ],
   "source": [
    "# Put your first example, where it came from, and when you accessed the URL here \n",
    "#chat.openai.com\n",
    "# Define a list of numbers\n",
    "numbers = [1, 2, 3, 4, 5]\n",
    "\n",
    "# Create an empty list to store the squares of the numbers\n",
    "squares = []\n",
    "\n",
    "# Use a for loop to iterate through the list and calculate the squares\n",
    "for num in numbers:\n",
    "    square = num ** 2\n",
    "    squares.append(square)\n",
    "\n",
    "# Print the original list and the list of squares\n",
    "print(\"Original list:\", numbers)\n",
    "print(\"List of squares:\", squares)\n"
   ]
  },
  {
   "cell_type": "code",
   "execution_count": 41,
   "id": "26a7a0cf",
   "metadata": {},
   "outputs": [
    {
     "name": "stdout",
     "output_type": "stream",
     "text": [
      "apple\n",
      "banana\n",
      "cherry\n"
     ]
    }
   ],
   "source": [
    "# Put your second example, where it came from, and when you accessed the URL here \n",
    "#https://www.w3schools.com/python/python_lists_loop.asp\n",
    "thislist = [\"apple\", \"banana\", \"cherry\"]\n",
    "for x in thislist:\n",
    "  print(x)\n"
   ]
  },
  {
   "cell_type": "markdown",
   "id": "12484d2d",
   "metadata": {},
   "source": [
    "#### &#9989;&nbsp; Question 3.5 (2 Points)\n",
    "\n",
    "For each example, answer the following questions in the markdown cell below.\n",
    "1. What does this example do?\n",
    "2. As before, considering what the example code you found and copied does, **write a homework problem you could give another CMSE 201 student, where the answer to your problem is the example code you’ve found.**"
   ]
  },
  {
   "cell_type": "markdown",
   "id": "37efbfed",
   "metadata": {},
   "source": [
    "<font size=6 color=\"#009600\">&#9998;</font> The first code utilizes a for loop to calculate the squares of numbers in a Python list, creating a new list of squared values. Write a program that squares the values of a list. The second code prints the values of a list using a for loop. Print the values of a list using a for loop."
   ]
  },
  {
   "cell_type": "markdown",
   "id": "5f8854c7",
   "metadata": {},
   "source": [
    "#### &#9989;&nbsp; Question 3.6 (3 Points)\n",
    "\n",
    "Now that you've looked at some examples that use a `for` loop to iterate through a list, **you're going to write a bit of code that uses a `for` loop to iterate through a list**\n",
    "\n",
    "Since there a wide variety of problems that can be tackled with this sort of code, you have the option to choose from one of the following problems:\n",
    "1. Write a program that takes the following list, iterates through it using a `for` loop without using index values to access the items in the list, and prints the first letter of each item in the list. The list you should use is:\n",
    "    ```python\n",
    "    ['Mercurys', 'Volcanoes', 'Erupt', 'Mulberry', 'Jam', 'Sandwiches', 'Until', 'Noon']\n",
    "    ```\n",
    "\n",
    "2. Write a program that takes the following list, interates through it using a `for` loop without using index values to access the items in the list, and prints the result of each number in the list times 9. The list you should use is:\n",
    "    ```python\n",
    "    [0, 1, 2, 3, 4, 5, 6, 7, 8, 9, 10]\n",
    "    ```\n",
    "\n",
    "3. Write a program that takes the following list, iterates through it using a `for` loop without using index values to access the items in the list, and prints the length of each item in the list. The list you should use is:\n",
    "    ```python\n",
    "    ['one', 'two', 'three', 'four', 'five', 'six', 'seven', 'eight', 'nine', 'ten']\n",
    "    ```\n",
    "\n",
    "For all of these problems, **try to use good coding practices when writing your solutions!**\n",
    "\n",
    "In the markdown cell below, **state which problem you intend to solve**. Then, in the code cell below that, **solve the problem using a `for` loop that iterates through a list.**"
   ]
  },
  {
   "cell_type": "markdown",
   "id": "0fbf460c",
   "metadata": {},
   "source": [
    "<font size=6 color=\"#009600\">&#9998;</font> Ima do the second one"
   ]
  },
  {
   "cell_type": "code",
   "execution_count": 43,
   "id": "f5781a21",
   "metadata": {},
   "outputs": [
    {
     "name": "stdout",
     "output_type": "stream",
     "text": [
      "0\n",
      "0\n",
      "0\n",
      "0\n",
      "0\n",
      "0\n",
      "0\n",
      "0\n",
      "0\n",
      "1\n",
      "1\n",
      "1\n",
      "1\n",
      "1\n",
      "1\n",
      "1\n",
      "1\n",
      "1\n",
      "2\n",
      "2\n",
      "2\n",
      "2\n",
      "2\n",
      "2\n",
      "2\n",
      "2\n",
      "2\n",
      "3\n",
      "3\n",
      "3\n",
      "3\n",
      "3\n",
      "3\n",
      "3\n",
      "3\n",
      "3\n",
      "4\n",
      "4\n",
      "4\n",
      "4\n",
      "4\n",
      "4\n",
      "4\n",
      "4\n",
      "4\n",
      "5\n",
      "5\n",
      "5\n",
      "5\n",
      "5\n",
      "5\n",
      "5\n",
      "5\n",
      "5\n",
      "6\n",
      "6\n",
      "6\n",
      "6\n",
      "6\n",
      "6\n",
      "6\n",
      "6\n",
      "6\n",
      "7\n",
      "7\n",
      "7\n",
      "7\n",
      "7\n",
      "7\n",
      "7\n",
      "7\n",
      "7\n",
      "8\n",
      "8\n",
      "8\n",
      "8\n",
      "8\n",
      "8\n",
      "8\n",
      "8\n",
      "8\n",
      "9\n",
      "9\n",
      "9\n",
      "9\n",
      "9\n",
      "9\n",
      "9\n",
      "9\n",
      "9\n",
      "10\n",
      "10\n",
      "10\n",
      "10\n",
      "10\n",
      "10\n",
      "10\n",
      "10\n",
      "10\n"
     ]
    }
   ],
   "source": [
    "# Put your code that solves the problem, here.\n",
    "# Make sure you make use of a for loop that iterates through a list\n",
    "\n",
    "base10 = [0, 1, 2, 3, 4, 5, 6, 7, 8, 9, 10]\n",
    "for i in base10:\n",
    "    for j in range(9):\n",
    "        print(i)"
   ]
  },
  {
   "cell_type": "markdown",
   "id": "65632b94",
   "metadata": {},
   "source": [
    "### Writing a loop that accesses list values using integers or \"by index\"\n",
    "\n",
    "Now that you've looked at how you can use a `for` loop to move through a series of integer values and how you can use a `for` loop to step through a Python list of values, you're go to explore how you can use the integer-based `for` loop approach to **index values in a list inside a loops**.\n",
    "\n",
    "If you find yourself in a situation where you need to do a set of repeated operations on using more than one list at a time, using this integer or **index-based** approach can be really valueable.\n",
    "\n",
    "#### &#9989;&nbsp; Question 3.7 (2 Points)\n",
    "\n",
    "Using the internet, find some example where a `for` loop uses the `range()` function to generate integers that are then used as indices (the plural of \"index\") to access information from a list inside the loop. After you find some examples, **pick two of the examples, copy them into your notebook in the code cells below, and get them to run.** Since you're using code you found on the internet, **include a comment in your code (using the `#` symbol) that provides the URL that your example came from and the date you accessed that URL**. Your comment should look something like:\n",
    "\n",
    "```python\n",
    "# Original code from https://superusefulpythoncode.com/for-loops-with-range-can-access-lists/, accessed on January 20, 2023\n",
    "```"
   ]
  },
  {
   "cell_type": "code",
   "execution_count": 46,
   "id": "556ebd4e",
   "metadata": {},
   "outputs": [
    {
     "name": "stdout",
     "output_type": "stream",
     "text": [
      "Index 0: Alice\n",
      "Index 1: Bob\n",
      "Index 2: Charlie\n",
      "Index 3: David\n",
      "Index 4: Eve\n"
     ]
    }
   ],
   "source": [
    "# Put your first example, where it came from, and when you accessed the URL here \n",
    "#chat.openai.com I'm so tired of writing the date can you just give me points for doing it please?\n",
    "names = [\"Alice\", \"Bob\", \"Charlie\", \"David\", \"Eve\"]\n",
    "\n",
    "# Using a for loop with range() to access list elements by index\n",
    "for i in range(len(names)):\n",
    "    print(f\"Index {i}: {names[i]}\")\n"
   ]
  },
  {
   "cell_type": "code",
   "execution_count": 1,
   "id": "dd8bf8bc",
   "metadata": {},
   "outputs": [
    {
     "name": "stdout",
     "output_type": "stream",
     "text": [
      "Mysql Mongodb PostgreSQL Firebase "
     ]
    }
   ],
   "source": [
    "# Put your second example, where it came from, and when you accessed the URL here \n",
    "#https://www.guru99.com/python-range-function.html#:~:text=Using%20for%2Dloop%20with%20Python%20range(),-In%20this%20example&text=The%20for%20loop%20will%20iterate,meaning%204%20%2D1%20%3D%203.\n",
    "arr_list = ['Mysql', 'Mongodb', 'PostgreSQL', 'Firebase']\n",
    "\n",
    "for i in range(len(arr_list)):\n",
    "    print(arr_list[i], end =\" \")\n",
    "    "
   ]
  },
  {
   "cell_type": "markdown",
   "id": "937a7114",
   "metadata": {},
   "source": [
    "#### &#9989;&nbsp; Question 3.8 (2 Points)\n",
    "\n",
    "For each example, answer the following questions in the markdown cell below.\n",
    "1. What does this example do?\n",
    "2. As before, considering what the example code you found and copied does, **write a homework problem you could give another CMSE 201 student, where the answer to your problem is the example code you’ve found.**"
   ]
  },
  {
   "cell_type": "markdown",
   "id": "31c8fa3c",
   "metadata": {},
   "source": [
    "<font size=6 color=\"#009600\">&#9998;</font> The first bit of code prints both the names of the list and the indicies used to pull it out of the list. Recall the values stored in a list and print both those and the indicies used to recall them.\n",
    "\n",
    "The second bit of code does the same but without stating the related index value. Use a loop through range(len(list)) to recall the values in the list "
   ]
  },
  {
   "cell_type": "markdown",
   "id": "da6ab3d3",
   "metadata": {},
   "source": [
    "#### &#9989;&nbsp; Question 3.9 (3 Points)\n",
    "\n",
    "Now that you've looked at some examples that use the `range()` function in a `for` loop to access information in list, **you're going to write a bit of code that does precisely this**.\n",
    "\n",
    "Since there a wide variety of problems that can be tackled with this sort of code, you have the option to choose from one of the following problems:\n",
    "1. Write a program that iterates through two lists (which are the same length) and prints the product of the values in the lists such that the result of the first iteration is the first item in the first list multiplied by the first item in the second list, the result of the second iteration is the second item in the first list multiplied by the second item in the second list, and so on...\n",
    "\n",
    "    Use these two lists:\n",
    "    ```python\n",
    "    [0, 1, 2, 3, 4, 5, 6]\n",
    "    [10, 11, 12, 13, 14, 15, 16]\n",
    "    ```\n",
    "\n",
    "2. Write a program that iterates through two lists (which are the same length), concatenates the letters in each list item-by-item, and prints the concatenated results for each iteration. The end result should be such that the printed output of the first iteration is the concatenation of the first item in the first list with the first item in the second list, the second printed output is the concatenation of the second item in the first list with the second item in the second list, and so on...\n",
    "\n",
    "    Use these two lists:\n",
    "    ```python\n",
    "    ['H', 'the', 'gre', 'wo', 's', 'f']\n",
    "    ['i', 're', 'at', 'rk', 'o', 'ar']\n",
    "    ```\n",
    "\n",
    "    **As a reminder**, you can concatenate two strings by using the `+` operator in Python.\n",
    "\n",
    "3. Write a program that iterates through two lists (which are the same length), takes the length of the item in the first list and divides it by the value in the second list, and prints the result for each iteration. The end result should be printed output of numbers such that the first output is the length of the first item in the first list divided by the first value in the second list, the second output is the length of the second item in the first list divided by the second value in the second list, and so on...\n",
    "\n",
    "    Use these two lists:\n",
    "    ```python\n",
    "    ['one', 'two', 'three', 'four', 'five', 'six', 'seven', 'eight', 'nine', 'ten']\n",
    "    [1, 2, 3, 4, 5, 6, 7, 8, 9, 10]\n",
    "    ```\n",
    "    \n",
    "\n",
    "For all of these problems, **try to use good coding practices when writing your solutions!**\n",
    "\n",
    "In the markdown cell below, **state which problem you intend to solve**. Then, in the code cell below that, **solve the problem using the `range()` function in `for` loop that accesses information from one or more lists.**"
   ]
  },
  {
   "cell_type": "markdown",
   "id": "bc5fa76d",
   "metadata": {},
   "source": [
    "<font size=6 color=\"#009600\">&#9998;</font> #1"
   ]
  },
  {
   "cell_type": "code",
   "execution_count": 3,
   "id": "244b9314",
   "metadata": {},
   "outputs": [
    {
     "name": "stdout",
     "output_type": "stream",
     "text": [
      "[0, 11, 24, 39, 56, 75, 96]\n"
     ]
    }
   ],
   "source": [
    "# Put your code that solves the problem, here.\n",
    "# Make sure you make use of a for loop and the range function to access information is one or more lists\n",
    "factor = [0, 1, 2, 3, 4, 5, 6]\n",
    "rotcaf = [10, 11, 12, 13, 14, 15, 16]\n",
    "product = []\n",
    "for i in range(len(factor)):\n",
    "    product.append(factor[i] * rotcaf[i])\n",
    "print(product)"
   ]
  },
  {
   "cell_type": "markdown",
   "id": "d4ee3d99",
   "metadata": {},
   "source": [
    "---\n",
    "## 4. Writing `while` loops in Python (7 points)\n",
    "\n",
    "The `while` loop is another fundamental programming concept in many programming languages and another \"control flow\" method. The `while` loop basically tells the computer to execute the code inside the loop until a particlar condition is met. This means that the number of times the loop is executed may not be immediately known because the conditional statement used to determine when to exit the loop is often dependent on the code that is being called inside the loop.\n",
    "\n",
    "While using a conditional statement to determine when to stop iterating over the loop can be really useful, it can also be **really problematic**. A poorly written `while` loop can result in what is often referred to as an **\"infinite\" or \"endless\" loop**. An infinite loop is a loop that, as you might expect, runs continuously with no end (hence the alternate \"endless\" name). Infinite loops occur when the conditional statement used in the `while` loop never becomes `False`. If the conditional statement is always `True`, then the loop will run forever.\n",
    "\n",
    "**When using `while` loops in Python, <font color=\"red\">watch out for infinite loops!</font>**. You'll often notice that you've created an infinite loop when you see `In[*]` on the left-hand side of the cell you just executed for longer than expected. Normally, when a cell finishes running, the `*` becomes a number. **Take a look at your code cells above to confirm this.**\n",
    "\n",
    "If, in this assignment, you've found that you created an infinite loop, or suspect that you might have, you can \"interrupt\" the notebook and stop the code from trying to run. Then you can fix your error and try again. To interrupt your notebook and stop the cell from running, click on the \"Kernel\" tab at the top of your notebook and select \"Interrupt\" or, simply click on the &#9632; at the top of the notebook."
   ]
  },
  {
   "cell_type": "markdown",
   "id": "ebfed970",
   "metadata": {},
   "source": [
    "### Looping by condition\n",
    "\n",
    "When we use a `while` loop, we are telling the computer to repeat a block of code until a particular condition is met. The condition may be met with only a few iterations or it may take many iterations. If we're not sure in advance how many iterations will be necessary, using this condition-based `while` loop can be a great option.\n",
    "\n",
    "**Important**: When deciding to use a `while` loop to tackle a problem make sure to first ask yourself, does this really require a `while` loop or would I have better luck with a `for` loop? It's important to get into the habit of choosing the right tool for the job!\n",
    "\n",
    "#### &#9989;&nbsp; Question 4.1 (2 Points)\n",
    "\n",
    "Using the internet, find some examples of how a `while` loop can be used to repeatedly execute a block of code until a specific condition is met. After you find some examples, **pick two of the examples, copy them into your notebook in the code cells below, and get them to run.** Since you're using code you found on the internet, **include a comment in your code (using the `#` symbol) that provides the URL that your example came from and the date you accessed that URL**. Your comment should look something like:\n",
    "\n",
    "```python\n",
    "# Original code from https://superusefulpythoncode.com/while-loops-can-be-handy-but-dangerous/, accessed on January 18, 2023\n",
    "```"
   ]
  },
  {
   "cell_type": "code",
   "execution_count": 4,
   "id": "4c51d5b7",
   "metadata": {},
   "outputs": [
    {
     "name": "stdout",
     "output_type": "stream",
     "text": [
      "This is iteration 1\n",
      "This is iteration 2\n",
      "This is iteration 3\n",
      "This is iteration 4\n",
      "This is iteration 5\n"
     ]
    }
   ],
   "source": [
    "# Put your first example, where it came from, and when you accessed the URL here \n",
    "#chat.openai.com\n",
    "# Initialize a variable\n",
    "count = 1\n",
    "\n",
    "# Set the condition for the while loop\n",
    "while count <= 5:\n",
    "    # This code block will be executed repeatedly\n",
    "    print(\"This is iteration\", count)\n",
    "    \n",
    "    # Update the variable to eventually meet the exit condition\n",
    "    count += 1\n",
    "\n",
    "# The loop will continue until 'count' is no longer less than or equal to 5\n",
    "# Once 'count' becomes 6, the loop will exit\n"
   ]
  },
  {
   "cell_type": "code",
   "execution_count": 5,
   "id": "41ea48c8",
   "metadata": {},
   "outputs": [
    {
     "name": "stdout",
     "output_type": "stream",
     "text": [
      "1\n",
      "2\n",
      "3\n",
      "4\n",
      "5\n"
     ]
    }
   ],
   "source": [
    "# Put your second example, where it came from, and when you accessed the URL here \n",
    "#https://www.programiz.com/python-programming/while-loop \n",
    "# program to display numbers from 1 to 5\n",
    "\n",
    "# initialize the variable\n",
    "i = 1\n",
    "n = 5\n",
    "\n",
    "# while loop from i = 1 to 5\n",
    "while i <= n:\n",
    "    print(i)\n",
    "    i = i + 1"
   ]
  },
  {
   "cell_type": "markdown",
   "id": "9346679c",
   "metadata": {},
   "source": [
    "#### &#9989;&nbsp; Question 4.2 (2 Points)\n",
    "\n",
    "For each example, answer the following questions in the markdown cell below.\n",
    "1. What does this example do?\n",
    "2. Considering what the example code you found and copied does, **write a homework problem you could give another CMSE 201 student, where the answer to your problem is the example code you’ve found.**\n",
    "    \n",
    "    For example, if my code example was:\n",
    "    > ```python\n",
    "    > i = 0\n",
    "    > while i < 3:\n",
    "    >     print(i)\n",
    "    >     i = i + 1\n",
    "    >```\n",
    "    \n",
    "    then my prompt might be \"Write a program using a while loop that prints all integers that are less than 3, starting with 0.\""
   ]
  },
  {
   "cell_type": "markdown",
   "id": "dafb2e4e",
   "metadata": {},
   "source": [
    "<font size=6 color=\"#009600\">&#9998;</font> Both examples are esentially the same. Both print 1-5 using a while loop. Use a while loop to print the numbers 1-5"
   ]
  },
  {
   "cell_type": "markdown",
   "id": "47a3e39d",
   "metadata": {},
   "source": [
    "#### &#9989;&nbsp; Question 4.3 (3 Points)\n",
    "\n",
    "Now that you've looked at some examples that use a `while` loop to interate over some code until a particular condition is met, **you're going to write a bit of code that uses a `while` loop.**\n",
    "\n",
    "Since there a wide variety of problems that can be tackled with this sort of code, you have the option to choose from one of the following problems:\n",
    "1. Write a program that prints all of the odd numbers (starting at 1) that are less than some number \"n\" where \"n\" is a number of your choosing. Make sure you don't accidentally create an **infinite loop**!\n",
    "\n",
    "2. Write a program that calculates a running sum of all even numbers (starting with 2) until the sum is greater than 65. Print out the sum after each number you add to the total. To clarify this a bit, you should add 2+4, which is 6, then 6+6, which is 12, then 12+8, which is 20, and so on... The loop should stop after the sum becomes greater than 65. Make sure you don't accidentally create an **infinite loop**!\n",
    "\n",
    "3. Write a program that keeps track of how many tacos are consumed assuming that people greedily eat 4 tacos at a time and stops running when there are no longer 4 or more tacos left to eat. Assume that you start with 42 tacos. Print how many tacos are left in each iteration of your loop. Make sure you don't accidentally create an **infinite loop**!\n",
    "\n",
    "For all of these problems, **try to use good coding practices when writing your solutions!**\n",
    "\n",
    "In the markdown cell below, **state which problem you intend to solve**. Then, in the code cell below that, **solve the problem using a `while` loop.**"
   ]
  },
  {
   "cell_type": "markdown",
   "id": "9010a876",
   "metadata": {},
   "source": [
    "<font size=6 color=\"#009600\">&#9998;</font> #1"
   ]
  },
  {
   "cell_type": "code",
   "execution_count": 6,
   "id": "e7c9d5b1",
   "metadata": {},
   "outputs": [
    {
     "name": "stdout",
     "output_type": "stream",
     "text": [
      "0\n",
      "2\n",
      "4\n",
      "6\n",
      "8\n",
      "10\n",
      "12\n",
      "14\n",
      "16\n",
      "18\n",
      "20\n",
      "22\n",
      "24\n",
      "26\n",
      "28\n",
      "30\n",
      "32\n",
      "34\n",
      "36\n",
      "38\n",
      "40\n",
      "42\n",
      "44\n",
      "46\n",
      "48\n",
      "50\n",
      "52\n",
      "54\n",
      "56\n",
      "58\n",
      "60\n",
      "62\n",
      "64\n",
      "66\n",
      "68\n"
     ]
    }
   ],
   "source": [
    "# Put your code that solves the problem, here.\n",
    "# Make sure you make use of a while loop\n",
    "n = 69\n",
    "x = 0\n",
    "while x < n:\n",
    "    print(x)\n",
    "    x += 2"
   ]
  },
  {
   "cell_type": "markdown",
   "id": "aaefa6cd",
   "metadata": {},
   "source": [
    "---\n",
    "## 5. Writing \"`if`\" statements in Python (9 points)\n",
    "\n",
    "Conditional statements that are used outside of `while` loops in Python, often referred to as \"`if`\" statements, are a really useful way to control the flow of your code so that certain pieces of code are only executed when specific conditions are met (hence the term \"conditional\"). Getting used to using `if` statements, and more complex `if`-`else` or `if`-`elif`-`else` statements, is an important part of learning to build evermore complex algorithms.\n",
    "\n",
    "One of the most challenging aspects of writing `if` statements is just thinking through the logic of what the right conditions are to get the code to do what you want. When writing `if` statements, it can be a useful exercise to try and think through the variety of outcomes that might be possible when your code runs and determine how your `if` statements would be evaluated given these possible outcomes.\n",
    "\n",
    "#### &#9989;&nbsp; Question 5.1 (3 Points)\n",
    "\n",
    "Using the internet, find some examples of how `if` statements, `if`-`else` statements, and `if`-`elif`-`else` statements can be used in Python to control the flow of your code. After you find some examples, **pick three of the examples such that you have**:\n",
    "1. One example that uses just one or more `if` statements\n",
    "2. One example that uses the combination of `if` and `else`\n",
    "3. One example that uses the combination of `if`, `elif`, and `else`\n",
    "\n",
    "Copy these examples into your notebook in the code cells below, and get them to run.** Since you're using code you found on the internet, **include a comment in your code (using the `#` symbol) that provides the URL that your example came from and the date you accessed that URL**. Your comment should look something like:\n",
    "\n",
    "```python\n",
    "# Original code from https://superusefulpythoncode.com/conditional-statements-are-cool/, accessed on January 22, 2023\n",
    "```"
   ]
  },
  {
   "cell_type": "code",
   "execution_count": 28,
   "id": "7b788d93",
   "metadata": {},
   "outputs": [],
   "source": [
    "# Put your first example, where it came from, and when you accessed the URL here \n"
   ]
  },
  {
   "cell_type": "code",
   "execution_count": 29,
   "id": "efbfc761",
   "metadata": {},
   "outputs": [],
   "source": [
    "# Put your second example, where it came from, and when you accessed the URL here \n"
   ]
  },
  {
   "cell_type": "code",
   "execution_count": 30,
   "id": "7ec1c846",
   "metadata": {},
   "outputs": [],
   "source": [
    "# Put your third example, where it came from, and when you accessed the URL here \n"
   ]
  },
  {
   "cell_type": "markdown",
   "id": "1ba9ce07",
   "metadata": {},
   "source": [
    "#### &#9989;&nbsp; Question 5.2 (3 Points)\n",
    "\n",
    "For each example, answer the following questions in the markdown cell below.\n",
    "1. What does this example do?\n",
    "2. Considering what the example code you found and copied does, **write a homework problem you could give another CMSE 201 student, where the answer to your problem is the example code you’ve found.**"
   ]
  },
  {
   "cell_type": "markdown",
   "id": "d9b466c0",
   "metadata": {},
   "source": [
    "<font size=6 color=\"#009600\">&#9998;</font> *Respond to the questions for each example here.*"
   ]
  },
  {
   "cell_type": "markdown",
   "id": "7bdeb081",
   "metadata": {},
   "source": [
    "#### &#9989;&nbsp; Question 5.3 (3 Points)\n",
    "\n",
    "Now that you've looked at some examples that use `if` statements (or more complex statements with `elif` and `else`) to control the flow of your code based on specific conditions, **you're going to write a bit of code that uses conditional statements.**\n",
    "\n",
    "Since there a wide variety of problems that can be tackled with this sort of code, you have the option to choose from one of the following problems:\n",
    "1. Write a program that determines if a word (as a string) ends with the letter `'a'`, `'b'`, or something else. If the word ends with the letter `'a'`, print \"ends with a\", if the word ends with the letter `'b'`, print \"ends with b\", and if the word doesn't end with an `'a'` or `'b'`, print \"does not end with a or b.\" Test your program with the words `'superb'`, `'banana'`, and `'potato'`, to confirm your program works.\n",
    "\n",
    "2. Write a program that adds 2 to a number if it is less than 10, multiplies the number by 3 if it is greater than 10, and mutiplies the number by 4 if it is 10. Print out the result at the end. Make sure to test your code for all three cases to ensure your program works.\n",
    "\n",
    "3. Write a program that compares two digital numbers a and b. If b is greater than a, print \"b is greater than a\". If b is not greater than a, then print \"b is not greater than a.\" \n",
    "\n",
    "For all of these problems, **try to use good coding practices when writing your solutions!**\n",
    "\n",
    "In the markdown cell below, **state which problem you intend to solve**. Then, in the code cell below that, **solve the problem using conditional statements.**"
   ]
  },
  {
   "cell_type": "markdown",
   "id": "4af320f3",
   "metadata": {},
   "source": [
    "<font size=6 color=\"#009600\">&#9998;</font> *Write which of the 3 problems stated above you plan to solve here.*"
   ]
  },
  {
   "cell_type": "code",
   "execution_count": 31,
   "id": "c9304b82",
   "metadata": {},
   "outputs": [],
   "source": [
    "# Put your code that solves the problem, here.\n",
    "# Make sure you make use of conditional statements\n"
   ]
  },
  {
   "cell_type": "markdown",
   "id": "281eb271",
   "metadata": {},
   "source": [
    "---\n",
    "## Wait! Before you submit your notebook, read the following important recommendations\n",
    "\n",
    "When your TA opens your notebook to grade the assignment, it will be really useful if your notebook is saved in a fully executed state so that they can see the output of all your code. Additionally, it may be necessary from time to time for the TA to actually run your notebook, but when they run the notebook, it is important that you are certain that all the code will actually run for them!\n",
    "\n",
    "You should get into the following habit: **before you save and submit your final notebook for your assignments, go to the \"Kernel\" tab at the top of the notebook and select \"Restart and Run all\".** This will restart your notebook and try to run the code cell-by-cell from the top to the bottom. Once it finished, review you notebook and make sure there weren't any errors that popped up. Sometimes, when working with notebooks, we accidentally change code in one cell that break our code in another cell. If your TA stumbles across code cells that don't work, **they will likely have to give you a zero for those portions of the notebook that don't work**. Testing your notebook one last time is a good way to make sure this doesn't happen.\n",
    "\n",
    "**Once you've tested your whole notebook again, make sure you save it one last time before you upload it to D2L.**"
   ]
  },
  {
   "cell_type": "markdown",
   "id": "883c1744",
   "metadata": {},
   "source": [
    "---\n",
    "\n",
    "### Congratulations, you're done! ###\n",
    "\n",
    "Submit this assignment by uploading it to the course Desire2Learn web page. Go to the \"Homework Assignments\" section, find the submission folder link for Homework #1, and upload it there."
   ]
  },
  {
   "cell_type": "markdown",
   "id": "6eb06430",
   "metadata": {},
   "source": [
    "Copyright &#169; 2023, [Department of Computational Mathematics, Science and Engineering](https://cmse.msu.edu/) at Michigan State University, All rights reserved."
   ]
  }
 ],
 "metadata": {
  "kernelspec": {
   "display_name": "Python 3 (ipykernel)",
   "language": "python",
   "name": "python3"
  },
  "language_info": {
   "codemirror_mode": {
    "name": "ipython",
    "version": 3
   },
   "file_extension": ".py",
   "mimetype": "text/x-python",
   "name": "python",
   "nbconvert_exporter": "python",
   "pygments_lexer": "ipython3",
   "version": "3.11.5"
  },
  "vscode": {
   "interpreter": {
    "hash": "57d964a2ef938b66daa93f67207194045a8aae98a88dc0c9d20f5f06155eead0"
   }
  }
 },
 "nbformat": 4,
 "nbformat_minor": 5
}
