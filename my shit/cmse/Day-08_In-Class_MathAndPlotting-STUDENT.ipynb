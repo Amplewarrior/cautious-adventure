{
 "cells": [
  {
   "cell_type": "markdown",
   "metadata": {},
   "source": [
    "# Day 8 In-class Assignment: Visualizing population growth"
   ]
  },
  {
   "cell_type": "markdown",
   "metadata": {},
   "source": [
    "### <p style=\"text-align: right;\"> &#9989; Put your name here.\n",
    "<p style=\"text-align: right;\"> &#9989; Put your group member names here."
   ]
  },
  {
   "cell_type": "markdown",
   "metadata": {},
   "source": [
    "We've already spent a bit of time in this course thinking about the growth of money when you put it into a savings account. Now we’re going to be thinking about another kind of growth: **population growth.** \n",
    "\n",
    "In this assignment you're going to work to **visualize growth of the human population.** This should give you a good foundation for modeling some of our future projects!\n",
    "\n",
    "<div align=\"center\"><img src=\"https://futuresplanning.files.wordpress.com/2010/07/populationgrowthhistory2.jpg\" width=600px></div>\n"
   ]
  },
  {
   "cell_type": "markdown",
   "metadata": {},
   "source": [
    "## Learning Goals:\n",
    "\n",
    "By the end of this assignment you should be able to:\n",
    "\n",
    "* Use the numpy module in Python to compute values that can be used in computational models for real-world phenomena.\n",
    "* Use matplotlib to visualize your models.\n",
    "* Customize matplotlib plots to maximize the information they provide."
   ]
  },
  {
   "cell_type": "markdown",
   "metadata": {},
   "source": [
    "---\n",
    "## Part 1: Modeling and visualizing population growth\n",
    "\n",
    "We're going to model another evolving system -- the human population. One possible model for population growth is called a *logistic model*. For this model, the growth of the population ($P$) as a function of time, $t$, can be modeled using the following equation:\n",
    "\n",
    "$$P(t) = \\frac{K}{1 + Ae^{-k_R (t-t_0)}}$$\n",
    "\n",
    "where $K$ represents the *carrying capacity* of the population, which is the maximum population that the environment can sustain, and $k_R$ is the relative growth rate coefficient (in units of 1/time). $A$ is defined as:\n",
    "\n",
    "$$A = \\frac{K-P_{0}}{P_{0}}$$\n",
    "\n",
    "where $P_{0}$ is the initial value of the population at $t=t_0$.\n",
    "\n",
    "Remember that the exponential, $e$, can be computed using the numpy module, `np.exp()`."
   ]
  },
  {
   "cell_type": "markdown",
   "metadata": {},
   "source": [
    "### 1.1 Plan out your code: Calculating Total Population\n",
    "\n",
    "&#9989;&nbsp; **As a group**, design a function called `calc_population`. \n",
    "It should take: \n",
    "- An initial population, $P_{0}$\n",
    "- A carrying capacity, $K$\n",
    "- A relative growth rate, $k_R$\n",
    "- A **list** of times in years\n",
    "- An initial time $t_0$\n",
    "\n",
    "It should return a **a list of the corresponding population values** for each time in the list that was passed. \n",
    "\n",
    "You and your groups members are expected to work this out **together using a whiteboard** (either a physical or virtual one (e.g. [Google Jamboard](https://jamboard.google.com/))).\n",
    "\n",
    "*Things to think about:*\n",
    "- how will you convert the math from the equations above into code?\n",
    "- How will you calculate the population for every time value in the list that was passed?\n",
    "- How will you return the population values?"
   ]
  },
  {
   "cell_type": "markdown",
   "metadata": {},
   "source": [
    "<font size=\"+3\">&#9998;</font> *Write your plan here*"
   ]
  },
  {
   "cell_type": "markdown",
   "metadata": {},
   "source": [
    "### 1.2 Translate your plan into code: Calculating Populations\n",
    "\n",
    "&#9989;&nbsp; Translate your plan from the previous problem into a function that calculates the total population for a given set of initial inputs.\n",
    "\n",
    "**Work with your group to figure this out!**"
   ]
  },
  {
   "cell_type": "code",
   "execution_count": null,
   "metadata": {},
   "outputs": [],
   "source": [
    "# Put your code here"
   ]
  },
  {
   "cell_type": "markdown",
   "metadata": {},
   "source": [
    "### 1.3 Testing your code: Calculating Populations\n",
    "\n",
    "&#9989;&nbsp; Test out your code to see if it is working. Use the following values for your model:\n",
    "- Assume the carrying capacity, $K$, is 12 billion \n",
    "- The initial population, $P_0$, is 1 billion, \n",
    "- The starting time is 1800 and the end time is 2100 (assume a time step size of 1 year)\n",
    "- The relative population growth, $k_R$, is 0.01 per year.\n",
    "\n",
    "**Model the population growth for these inputs and make a plot showing the results.**\n",
    "\n",
    "**Work with your group to figure this out!**"
   ]
  },
  {
   "cell_type": "code",
   "execution_count": null,
   "metadata": {},
   "outputs": [],
   "source": [
    "# The following line creates your initial time list (technically, it is creating a numpy array, but we won't worry about that for now)\n",
    "t_list = np.arange(1800,2100,1) # make an array of year values\n",
    "\n",
    "# Put your code here\n"
   ]
  },
  {
   "cell_type": "markdown",
   "metadata": {},
   "source": [
    "### 1.4 Varying the Parameters: Calculating Populations\n",
    "\n",
    "Let's see how the different parameters effect our growth model. \n",
    "\n",
    "&#9989;&nbsp; Calculate the population growth for all of the same input values as 1.1.3 except use a relative population growth values of:\n",
    "\n",
    "$k_R =$ 0.01, 0.015, 0.02, 0.03, 0.04, and 0.05\n",
    "\n",
    "Put the lines for **all five** growth models on the **same plot**. Use `plt.legend()` to add a legend to the plot so that you know which line is which. You'll want to use the `label` parameter in your plot command to make sure the legend has the appropriate labels for the lines.\n",
    "\n",
    "**Make sure to add appropriate axis labels and a plot title.**\n",
    "\n",
    "**Work with your group to figure this out!**"
   ]
  },
  {
   "cell_type": "code",
   "execution_count": null,
   "metadata": {},
   "outputs": [],
   "source": [
    "# The following line creates your initial time list (technically, it is creating a numpy array, but we won't worry about that for now)\n",
    "t_list = np.arange(1800,2100,1) # make an array of year values\n",
    "\n",
    "# Put your code here\n"
   ]
  },
  {
   "cell_type": "markdown",
   "metadata": {},
   "source": [
    "&#9989;&nbsp; **Question**: Do the population models behave as you would expect? Specifically, for the larger values of $k_R$, does it approach, but not exceed the carrying capacity, $K$?"
   ]
  },
  {
   "cell_type": "markdown",
   "metadata": {},
   "source": [
    "<font size=\"+3\">&#9998;</font> *Put your answer here*"
   ]
  },
  {
   "cell_type": "markdown",
   "metadata": {},
   "source": [
    "&#9989;&nbsp; **Question**: If the human population was roughly 7 billion in 2012, what would be the value of $k_R$ that would most closely match that population at that time given the current parameters of the model?\n",
    ">**Hint**: Try adding a `plt.grid()` after your plot commands to add a grid to the plot. This can be helpful for seeing where a specific point is."
   ]
  },
  {
   "cell_type": "markdown",
   "metadata": {},
   "source": [
    "<font size=\"+3\">&#9998;</font> *Put your answer here*"
   ]
  },
  {
   "cell_type": "markdown",
   "metadata": {},
   "source": [
    "### 1.5 Plot modifications\n",
    "\n",
    "&#9989;&nbsp; Now, modify your plot in the following ways:\n",
    "\n",
    "1. Instead of plotting each model as a line, plot the models as individual points without lines connecting the points. Use the \"star\" symbol for the points. \n",
    "2. Rescale the $x$ and $y$ range of the plot so that you only see the first 25 years of values on the $x$-axis and a population range of 0.5 billion to 3 billion on the $y$-axis. **Hint**: you'll want to use the `xlim` and `ylim` functions in `pyplot`.\n",
    "\n",
    "**Make sure you still include the legend in your plot and that the axes have appropriate labels!**"
   ]
  },
  {
   "cell_type": "code",
   "execution_count": null,
   "metadata": {},
   "outputs": [],
   "source": [
    "# The following line creates your initial time list (technically, it is creating a numpy array, but we won't worry about that for now)\n",
    "t_list = np.arange(1800,2100,1) # make an array of year values\n",
    "\n",
    "# Put your code here\n"
   ]
  },
  {
   "cell_type": "markdown",
   "metadata": {},
   "source": [
    "### A SHORT DETOUR: Putting multiple plots in the same figure using `subplot()`\n",
    "\n",
    "`matplotlib` comes with a handy way to put mutiple plots in the same figure. A function that does this is called `subplot` and is part of the `pyplot` module. The command for making a `subplot` figure is something like this:\n",
    "\n",
    "`plt.subplot(3,2,1)`\n",
    "\n",
    "The above command creates and returns a set of `axes` for a figure with 6 plots in it arranged in 3 rows and 2 columns.  The `1` at then end of the inputs is the index for which axes you are going to fill in next.  For example:\n",
    "\n",
    "`plt.subplot(3,2,1)`<br>\n",
    "`plt.plot(xA, yA)`\n",
    "\n",
    "will plot the values in `(xA, yA)` in the first sub plot. And, \n",
    "\n",
    "`plt.subplot(3,2,2)`<br>\n",
    "`plt.plot(xB, yB)`\n",
    "\n",
    "will plot the values in `(xB, yB)` in the second sub plot of this figure.\n",
    "\n",
    "The following bit of code provides an example of how the `subplot` function can be used. **Make sure you read and understand what the code is doing!**\n",
    "\n",
    "You may also find this page of `subplot` examples useful: https://matplotlib.org/stable/api/_as_gen/matplotlib.pyplot.subplot.html"
   ]
  },
  {
   "cell_type": "code",
   "execution_count": null,
   "metadata": {},
   "outputs": [],
   "source": [
    "# initialize lists\n",
    "x_list = []\n",
    "y1 = []\n",
    "y2 = []\n",
    "y3 = []\n",
    "y4 = []\n",
    "y5 = []\n",
    "y6 = []\n",
    "\n",
    "# fill lists with values\n",
    "for i in range(100):\n",
    "    x = i*0.1\n",
    "    x_list.append(x)\n",
    "    y1.append(np.sin(x))\n",
    "    y2.append(np.sin(2*x))\n",
    "    y3.append(np.sin(3*x))\n",
    "    y4.append(np.sin(4*x))\n",
    "    y5.append(np.sin(5*x))\n",
    "    y6.append(np.sin(6*x))\n",
    "\n",
    "# makes a single figure that is 8 in wide and 10 in tall\n",
    "plt.figure(figsize=(8,10))\n",
    "plt.suptitle('A bunch of sine plots')  # title for the whole figure\n",
    "\n",
    "\n",
    "# plot each curve on a separate subplot\n",
    "plt.subplot(3,2,1) # Generate the 1st subplot of a 3x2 set of plots\n",
    "plt.plot(x_list, y1, color='red') # plot points in the first subplot\n",
    "plt.xlabel('x')\n",
    "plt.ylabel('y')\n",
    "plt.title('y=sin(x)')  # title for 1st subplot\n",
    "\n",
    "plt.subplot(3,2,2) # Generate the 2nd subplot of a 3x2 set of plots\n",
    "plt.plot(x_list, y2, color='blue') # plot points in the second subplot\n",
    "plt.xlabel('x')\n",
    "plt.ylabel('y')\n",
    "plt.title('y=sin(2x)')\n",
    "\n",
    "plt.subplot(3,2,3) # Generate the 3rd subplot of a 3x2 set of plots\n",
    "plt.plot(x_list, y3, color='green') # plot points in the third subplot\n",
    "plt.xlabel('x')\n",
    "plt.ylabel('y')\n",
    "plt.title('y=sin(3x)')\n",
    "\n",
    "plt.subplot(3,2,4) # Generate the 4th subplot of a 3x2 set of plots\n",
    "plt.plot(x_list, y4, color='orange') # plot points in the fourth subplot\n",
    "plt.xlabel('x')\n",
    "plt.ylabel('y')\n",
    "plt.title('y=sin(4x)')\n",
    "\n",
    "plt.subplot(3,2,5) # Generate the 5th subplot of a 3x2 set of plots\n",
    "plt.plot(x_list, y5, color='black') # plot points in the fifth subplot\n",
    "plt.xlabel('x')\n",
    "plt.ylabel('y')\n",
    "plt.title('y=sin(5x)')\n",
    "\n",
    "plt.subplot(3,2,6) # Generate the 6th subplot of a 3x2 set of plots\n",
    "plt.plot(x_list, y6, color='purple') # plot points in the sixth subplot\n",
    "plt.xlabel('x')\n",
    "plt.ylabel('y')\n",
    "plt.title('y=sin(6x)')\n",
    "\n",
    "plt.tight_layout()"
   ]
  },
  {
   "cell_type": "markdown",
   "metadata": {
    "tags": []
   },
   "source": [
    "Notice how each of the above six plots are made. The order of the plotting matters here.  There are also other functions in `matplotlib` for achieving the same result."
   ]
  },
  {
   "cell_type": "markdown",
   "metadata": {},
   "source": [
    "&#9989;&nbsp; **Question**: What does the last command, `plt.tight_layout()` in the example code do? Try commenting it out to see how it changes things."
   ]
  },
  {
   "cell_type": "markdown",
   "metadata": {},
   "source": [
    "<font size=\"+3\">&#9998;</font> *Put your answer here*"
   ]
  },
  {
   "cell_type": "markdown",
   "metadata": {},
   "source": [
    "---\n",
    "## Assignment wrapup\n",
    "\n",
    "Please fill out the form that appears when you run the code below. **You must completely fill this out in order to receive credit for the assignment!** "
   ]
  },
  {
   "cell_type": "code",
   "execution_count": null,
   "metadata": {},
   "outputs": [],
   "source": [
    "from IPython.display import HTML\n",
    "HTML(\n",
    "\"\"\"\n",
    "<iframe \n",
    "\tsrc=\"https://cmse.msu.edu/cmse201-ic-survey\" \n",
    "\twidth=\"800px\" \n",
    "\theight=\"600px\" \n",
    "\tframeborder=\"0\" \n",
    "\tmarginheight=\"0\" \n",
    "\tmarginwidth=\"0\">\n",
    "\tLoading...\n",
    "</iframe>\n",
    "\"\"\"\n",
    ")"
   ]
  },
  {
   "cell_type": "markdown",
   "metadata": {},
   "source": [
    "---"
   ]
  },
  {
   "cell_type": "markdown",
   "metadata": {},
   "source": [
    "## Congratulations, you're done!\n",
    "\n",
    "Submit this assignment by uploading it to the course Desire2Learn web page.  Go to the \"In-class assignments\" folder, find the appropriate submission folder link, and upload it there.\n",
    "\n",
    "See you next class!"
   ]
  },
  {
   "cell_type": "markdown",
   "metadata": {},
   "source": [
    "&#169; Copyright 2023,  The Department of Computational Mathematics, Science and Engineering at Michigan State University"
   ]
  }
 ],
 "metadata": {
  "kernelspec": {
   "display_name": "Python 3 (ipykernel)",
   "language": "python",
   "name": "python3"
  },
  "language_info": {
   "codemirror_mode": {
    "name": "ipython",
    "version": 3
   },
   "file_extension": ".py",
   "mimetype": "text/x-python",
   "name": "python",
   "nbconvert_exporter": "python",
   "pygments_lexer": "ipython3",
   "version": "3.9.7"
  },
  "vscode": {
   "interpreter": {
    "hash": "57d964a2ef938b66daa93f67207194045a8aae98a88dc0c9d20f5f06155eead0"
   }
  }
 },
 "nbformat": 4,
 "nbformat_minor": 4
}
