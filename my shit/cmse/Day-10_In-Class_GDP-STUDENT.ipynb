{
 "cells": [
  {
   "cell_type": "markdown",
   "metadata": {},
   "source": [
    "# Day 10 In-Class: Cleaning and Analyzing Economic Data\n"
   ]
  },
  {
   "cell_type": "markdown",
   "metadata": {},
   "source": [
    "### <p style=\"text-align: right;\"> &#9989; Put your name here </p>\n",
    "\n",
    "#### <p style=\"text-align: right;\"> &#9989; Put your group member names here.</p>"
   ]
  },
  {
   "cell_type": "markdown",
   "metadata": {},
   "source": [
    "<img src=\"https://www.visualcapitalist.com/wp-content/uploads/2021/12/Global-GDP-by-Country-2021-V15-Mobile-1.jpg\" width=400px align=\"right\">\n",
    "\n",
    "## Goals for today's in-class project\n",
    "\n",
    "- Load in data and clean Pandas dataframes\n",
    "- Learn different ways to index Pandas dataframes \n",
    "- Analyze different countries GDP data\n",
    "- Practice using online research to learn new programming skills"
   ]
  },
  {
   "cell_type": "markdown",
   "metadata": {},
   "source": [
    "## Assignment instructions\n",
    "\n",
    "Work with your group to complete this assignment. The assignment is due at the end of class and should be uploaded to the appropriate submission folder on D2L."
   ]
  },
  {
   "cell_type": "markdown",
   "metadata": {},
   "source": [
    "---"
   ]
  },
  {
   "cell_type": "markdown",
   "metadata": {},
   "source": [
    "# Part 1: Practice calculating statistics using Python\n",
    "\n",
    "### 1.1 Computing standard deviation by hand\n",
    "\n",
    "&#9989;&nbsp; **Fix the following function** which is supposed to take in a _list of values_ and calculate the _standard deviation_ using only basic python functions. The function is already written but it doesn't *quite* work. Run the cell to see. Here's the equation for standard deviation:"
   ]
  },
  {
   "cell_type": "markdown",
   "metadata": {},
   "source": [
    "## $$ \\sigma = \\sqrt{\\frac{\\sum\\limits_{i=1}^{N} (x_{i}-\\mu)^2}{N}} $$\n",
    "\n",
    "where the symbols in this equation represent the following:\n",
    "\n",
    "* $\\sigma$: Standard Deviation\n",
    "* $\\mu$: Mean\n",
    "* $N$: Number of observations\n",
    "* $x_{i}$: the value of dataset at position $i$\n",
    "\n",
    "**You may want to check in with your group to make sure you understand the notation in this equation!**"
   ]
  },
  {
   "cell_type": "code",
   "execution_count": null,
   "metadata": {},
   "outputs": [],
   "source": [
    "# Fix this function to make sure it correctly calculates the standard deviation\n",
    "def std(vals):\n",
    "    length = len(vals)\n",
    "    mean = sum(vals)\n",
    "    diffs = []\n",
    "    for i in range(length):\n",
    "        diffs.append(vals[i] - mean)\n",
    "    return sum(diffs)**0.5"
   ]
  },
  {
   "cell_type": "markdown",
   "metadata": {},
   "source": [
    "&#9989;&nbsp; **Check your function for accuracy**\n",
    "\n",
    "Call your function using the variable `test_list` (provided below) as the input and compare your function's output with that of `np.std()` to make sure you calculated standard deviation correctly."
   ]
  },
  {
   "cell_type": "code",
   "execution_count": null,
   "metadata": {},
   "outputs": [],
   "source": [
    "import matplotlib.pyplot as plt\n",
    "import numpy as np"
   ]
  },
  {
   "cell_type": "code",
   "execution_count": null,
   "metadata": {},
   "outputs": [],
   "source": [
    "test_list = [1,3,5,10,15,5]\n",
    "\n",
    "# Put your code for comparing the answers here\n"
   ]
  },
  {
   "cell_type": "markdown",
   "metadata": {},
   "source": [
    "### 1.2 Next, we will apply stats to a distribution *visually*\n",
    "\n",
    "But first, let's cover how to visualize the distribution of a one-dimensional data set. We begin with a random distribution of numbers from a random number generator in the NumPy library."
   ]
  },
  {
   "cell_type": "code",
   "execution_count": null,
   "metadata": {},
   "outputs": [],
   "source": [
    "# You might not be familiar this with random number generator, that's OK,\n",
    "# This is one of _many_ that are available in NumPy.\n",
    "random_distribution = np.random.wald(200,500,size=1000)"
   ]
  },
  {
   "cell_type": "markdown",
   "metadata": {},
   "source": [
    "This is an array holding 1000 random numbers, generated from a statistical distribution called the \"[Wald distribution](https://en.wikipedia.org/wiki/Inverse_Gaussian_distribution)\" (or \"inverse gaussian distribution\").  \n",
    "\n",
    "Let's look at the first 10 numbers. **Take special notice of how we are \"slicing\" the array to get just a subset of the values using \"`:`\"!**"
   ]
  },
  {
   "cell_type": "code",
   "execution_count": null,
   "metadata": {},
   "outputs": [],
   "source": [
    "# Run this cell!\n",
    "random_distribution[0:10]"
   ]
  },
  {
   "cell_type": "markdown",
   "metadata": {},
   "source": [
    "And now let's make a plot all of the elements:"
   ]
  },
  {
   "cell_type": "code",
   "execution_count": null,
   "metadata": {},
   "outputs": [],
   "source": [
    "# Run this cell!\n",
    "plt.plot(random_distribution,'o')\n",
    "plt.xlabel('Index')\n",
    "plt.ylabel('Value')"
   ]
  },
  {
   "cell_type": "markdown",
   "metadata": {},
   "source": [
    "What are some other ways we can analyze and visualize this data?  One visualization is a box plot, which shows where the ***quartiles*** of the data set are, as well as **outliers**."
   ]
  },
  {
   "cell_type": "code",
   "execution_count": null,
   "metadata": {},
   "outputs": [],
   "source": [
    "# Run this cell!\n",
    "box = plt.boxplot(random_distribution, vert=False)\n",
    "ylabel = plt.ylabel(\"Frequency\")\n",
    "xlabel = plt.xlabel(\"Value\")\n",
    "title = plt.title(\"Wald Distribution\")"
   ]
  },
  {
   "cell_type": "markdown",
   "metadata": {},
   "source": [
    "Another visualization is a **histogram**, which splits the data set into a bunch of equally sized intervals, and then graphs the number of data points that fall into each interval. The higher the bar on a histogram, the more data points in that interval. Thought of another way, a histogram shows you the \"count\" or \"frequency\" of values falling into a specific bin on the x-axis."
   ]
  },
  {
   "cell_type": "code",
   "execution_count": null,
   "metadata": {
    "scrolled": false
   },
   "outputs": [],
   "source": [
    "# Run this cell!\n",
    "hist = plt.hist(random_distribution, bins=50, color=\"k\", alpha=0.5) #what's the alpha argument doing?\n",
    "ylabel = plt.ylabel(\"Frequency\")\n",
    "xlabel = plt.xlabel(\"Value\")\n",
    "title = plt.title(\"Wald Distribution\")"
   ]
  },
  {
   "cell_type": "markdown",
   "metadata": {},
   "source": [
    "&#9989;&nbsp; **Compare the representations above**\n",
    "\n",
    "What are the similarities between how the boxplot represents the data set versus the histogram? What does the boxplot do a better job of showing? What does the histogram do a better job of showing?"
   ]
  },
  {
   "cell_type": "markdown",
   "metadata": {},
   "source": [
    "<font size=+3>&#9998;</font> *Put your answer here*"
   ]
  },
  {
   "cell_type": "markdown",
   "metadata": {},
   "source": [
    "### 1.3 Compute and Compare\n",
    "\n",
    "&#9989;&nbsp; **Now lets actually compute the mean and median and visualize them on the distribution graph.**\n",
    "\n",
    "Add **two vertical lines** with different colors where the **mean** and **median** are using Matplotlib's [`plt.axvline()`](https://matplotlib.org/3.1.1/api/_as_gen/matplotlib.pyplot.axvline.html) function -- this might be new to you, so make sure you understand how it works!\n",
    "\n",
    "**Make sure you label your lines and include a legend.**"
   ]
  },
  {
   "cell_type": "code",
   "execution_count": null,
   "metadata": {},
   "outputs": [],
   "source": [
    "hist = plt.hist(random_distribution,bins=50,color=\"k\",alpha=0.5)\n",
    "# Add your additional plotting commands here\n",
    "\n",
    "# The following line is provided to help get you started, you need to decide what to use for the \"x\" argument\n",
    "#plt.axvline(x=?,linewidth=2, color='r',label = \"Median\")\n"
   ]
  },
  {
   "cell_type": "markdown",
   "metadata": {},
   "source": [
    "&#9989;&nbsp; **Which is larger for this data set, mean or median? Explain why you think that is.**"
   ]
  },
  {
   "cell_type": "markdown",
   "metadata": {},
   "source": [
    "<font size=+3>&#9998;</font> *Put your answer here*"
   ]
  },
  {
   "cell_type": "markdown",
   "metadata": {},
   "source": [
    "---"
   ]
  },
  {
   "cell_type": "markdown",
   "metadata": {},
   "source": [
    "\n",
    "# Part 2: Loading in and cleaning economic data\n",
    "\n",
    "The next part we will focus on transforming and manipulating a dataset using Pandas. As data scientist/computational professional in training, one of the goals we want you to accomplish is to be comfortable searching through online resources to try and solve problems. There are far too many functions and concepts in programming to remember everything so in practice it's essential to utilize package documentation, stack overflow, etc. Some of the questions you will see below will ask you to use or look for a function you've never used before to get you to practice Googling questions that help you accomplish your task."
   ]
  },
  {
   "cell_type": "markdown",
   "metadata": {},
   "source": [
    "---"
   ]
  },
  {
   "cell_type": "markdown",
   "metadata": {},
   "source": [
    "## What data are we working with?\n",
    "\n",
    "We will be analyzing a dataset from the World Bank containing yearly GDP data for countries from 1960-2020. The GDP numbers have been converted to USD for all countries by the exchange rate at the time. Which is important to note because depending on the exchange rates at the time this could over/under value the non US countries numbers or increase the variance of GDP.\n",
    "\n",
    "The dataset comes from here: https://data.worldbank.org/indicator/ny.gdp.mktp.cd\n",
    "\n",
    "GDP stands for **Gross Domestic Product** and it is equal to the market value of all the finished goods and services produced within a country's borders in a specific time period.\n",
    "\n",
    "GDP = Consumer Spending + Private Investment + Government Expenditure + Net Exports\n",
    "\n",
    "---\n",
    "\n",
    "### 2.1 Cleaning data is an important part analyzing data.\n",
    "\n",
    "First, we're going to load in the `.csv` dataset into a Pandas Dataframe and explore the original structure of the data and think about if it could be formatted in a more useful way. **If you were to download the data from the website, you might end up with more than one .csv file, we've provided the one that contains the GDP information on the course website.**\n",
    "\n",
    "Make sure you import the Pandas module before moving on!"
   ]
  },
  {
   "cell_type": "code",
   "execution_count": null,
   "metadata": {},
   "outputs": [],
   "source": [
    "# put your Pandas import command here\n"
   ]
  },
  {
   "cell_type": "markdown",
   "metadata": {},
   "source": [
    "&#9989;&nbsp; **Load in the API_NY.GDP.MKTP.CD_DS2_en_csv_v2_4770391.csv file using `pd.read_csv()`.  Skip the first 4 rows and use a comma as the delimiter. Then display the first few lines using `.head()`.**\n",
    "\n",
    "Use `gdp` as the variable name for storing your dataframe as indicated in the code cell below."
   ]
  },
  {
   "cell_type": "code",
   "execution_count": null,
   "metadata": {},
   "outputs": [],
   "source": [
    "# Load in GDP.csv\n",
    "#gdp = # Finish this line to load in the data!"
   ]
  },
  {
   "cell_type": "markdown",
   "metadata": {},
   "source": [
    "As a first step to cleaning a data set, it can be helpful to get rid of rows that have a lot of \"NaN\" values. NaN means \"Not a Number,\" and it is a value that sometimes takes the place of a blank entry. Countries that did not track GDP as far back as 1960 will have some NaN values, such as Aruba and Angola. You may want to keep these rows in your own data sets, but for this assignment, we are going to \"drop\" them from the data set, using a handy pandas function called \"dropna\".\n",
    "\n",
    "**Important note**: sometimes when you use Pandas function is modifies your dataframe directly, but other times it generates a *new* dataframe based on the old one. When the function **returns** a new dataframe, we need to make sure we store that result in a variable. **Look carefully at the code below to see how this is being done**."
   ]
  },
  {
   "cell_type": "code",
   "execution_count": null,
   "metadata": {},
   "outputs": [],
   "source": [
    "gdp = gdp.dropna(axis=\"columns\", how=\"all\") # drop empty columns, like the last column in gdp\n",
    "gdp = gdp.dropna() # drop rows with NaNs, like Aruba and Angola\n",
    "gdp.head()"
   ]
  },
  {
   "cell_type": "markdown",
   "metadata": {},
   "source": [
    "___\n",
    "**Note that the `dropna` function was accessed from the dataframe itself (`gdp.dropna()`).**  These functions are included with each dataframe object. We've already seen this with functions like `describe()`, and even with numpy array functions like `my_array.sum()`.  Many of the functions you'll be using today are included with the dataframe objects. \n",
    "\n",
    "You can browse through these built-in functions by typing the name of a dataframe followed by `.` and then hitting the tab key.  Try it out below!"
   ]
  },
  {
   "cell_type": "code",
   "execution_count": null,
   "metadata": {},
   "outputs": [],
   "source": [
    "# uncomment the line below, then go to the end of the line and hit tab \n",
    "#gdp."
   ]
  },
  {
   "cell_type": "markdown",
   "metadata": {},
   "source": [
    "If you want to learn more about something, select it (or type it out), add a question mark (`?`) and then run the cell. **Ask an instructor for help if you can't get the `?` mark trick to work!**\n",
    "___"
   ]
  },
  {
   "cell_type": "markdown",
   "metadata": {},
   "source": [
    "### Making the dataset easier to explore\n",
    "\n",
    "Typically when we are looking at data over time we represent each time step as a row rather than a column. Switching the rows and columns is an operation known as \"Transposing\" and [Pandas has a function](https://pandas.pydata.org/docs/reference/api/pandas.DataFrame.transpose.html) that does that! \n",
    "\n",
    "**IMPORTANT:** When you use Pandas functions on dataframes, some operations will affect the original dataframe (referred to as \"**in place**\" operations), and some will not (referred to as \"**not in place**\" operations). Transposing a dataframe is a **not in place** operation, meaning that the results are not saved unless you save them to a variable!\n",
    "\n",
    "Let's transpose the dataset to get years as rows instead of columns.\n",
    "\n",
    "Example of Transposing:\n",
    "\n",
    "<img src=\"https://www.howtogeek.com/wp-content/uploads/2016/06/00_lead_image_transpose_word_table.png\" width=500px>\n",
    "\n",
    "&#9989;&nbsp; **Transpose the data** to flip the orientation of the rows and columns."
   ]
  },
  {
   "cell_type": "code",
   "execution_count": null,
   "metadata": {},
   "outputs": [],
   "source": [
    "# Transpose the dataframe here and check to see if it worked\n",
    "# MAKE SURE YOU SAVE YOUR TRANSPOSED DATAFRAME AS A VARIABLE"
   ]
  },
  {
   "cell_type": "markdown",
   "metadata": {},
   "source": [
    "One of the benefits of Pandas Dataframe is being able to index a column by name rather than a number.\n",
    "\n",
    "&#9989;&nbsp; **Modify the dataframe so that each country name is used as the column headers by assigning the first row of the dataframe to be the column headers.**\n",
    "\n",
    "Think back to the Pre-Class Assignment. What information are you looking to retrieve? What tools do you have to access this information? You may want to use `.iloc` to do this. If done correctly, you then should be able to index a column out of our dataframe using `gdp['United States']`, for example. Make sure to test this out!"
   ]
  },
  {
   "cell_type": "code",
   "execution_count": null,
   "metadata": {},
   "outputs": [],
   "source": [
    "# Change the column headers to be the country names here.\n"
   ]
  },
  {
   "cell_type": "markdown",
   "metadata": {},
   "source": [
    "This is looking pretty good!\n",
    "\n",
    "Of course, now we have a few redundant rows: \"Country Name\", \"Country Code\", \"Indicator Name\", and \"Indicator Code\". We don't really need these any more now that we've change the column labels.\n",
    "\n",
    "&#9989;&nbsp; **Remove these four rows, since they don't contain yearly GDP data.** There's more than one way to do this. The best option is to use the `gdp.drop()` function. Figure out how it works with `gdp.drop?`."
   ]
  },
  {
   "cell_type": "code",
   "execution_count": null,
   "metadata": {},
   "outputs": [],
   "source": [
    "# Try to remove the rows that don't represent years here"
   ]
  },
  {
   "cell_type": "markdown",
   "metadata": {},
   "source": [
    "Now our dataset should be in an easier format. The next step is to examine the structure of our data.\n",
    "\n",
    "&#9989;&nbsp; **Review the following code and comment what each line is doing.**"
   ]
  },
  {
   "cell_type": "code",
   "execution_count": null,
   "metadata": {},
   "outputs": [],
   "source": [
    "print(gdp.index) #comment here\n",
    "\n",
    "\n",
    "print(type(gdp.index[0])) #comment here"
   ]
  },
  {
   "cell_type": "markdown",
   "metadata": {},
   "source": [
    "We can see the index column is made up of strings representing years, which isn't ideal!\n",
    "\n",
    "The code below will change the data type from strings to integers. This will be helpful for when we begin plotting because when you try to plot strings as numbers it doesn't usually work out very well!"
   ]
  },
  {
   "cell_type": "code",
   "execution_count": null,
   "metadata": {},
   "outputs": [],
   "source": [
    "gdp.index = gdp.index.astype(int)\n",
    "gdp.index"
   ]
  },
  {
   "cell_type": "markdown",
   "metadata": {},
   "source": [
    "### 2.2 Exploring the Data"
   ]
  },
  {
   "cell_type": "markdown",
   "metadata": {},
   "source": [
    "&#9989;&nbsp; **Now pick 2 countries and print the GDP for year 1975 using `.loc` and the column name.** Again, look back at the dataset and think about what information we are looking to retrieve. What information is stored in our columns? What information is stored in our rows? "
   ]
  },
  {
   "cell_type": "code",
   "execution_count": null,
   "metadata": {},
   "outputs": [],
   "source": [
    "# Put your code here\n"
   ]
  },
  {
   "cell_type": "markdown",
   "metadata": {},
   "source": [
    "&#9989;&nbsp; Now, **plot those two countries GDP *in billions of dollars* from 1960-2020, make sure to have proper labels and legends.**\n"
   ]
  },
  {
   "cell_type": "code",
   "execution_count": null,
   "metadata": {},
   "outputs": [],
   "source": [
    "# Put your plotting commands here\n"
   ]
  },
  {
   "cell_type": "markdown",
   "metadata": {},
   "source": [
    "&#9989;&nbsp; **Question** Is this a good way visual comparison for the two countries? If one country has a much larger GDP or much larger population than the other country what would be a better way to normalize or compare the data? This might involve doing some sort of calculation or visualizing the data differently."
   ]
  },
  {
   "cell_type": "markdown",
   "metadata": {},
   "source": [
    "<font size=+3>&#9998;</font> *Put your answer here*"
   ]
  },
  {
   "cell_type": "markdown",
   "metadata": {},
   "source": [
    "### 2.3 Exploring the log-linear plot\n",
    "\n",
    "During the COVID-19 pandemic, some of the visualizations floating around that show the numbers of confirmed cases in various places around the world have been \"log-linear\" plots which uses a logarithmic scale (tick marks indicate powers of 10) on the y-axis and a linear scale on the x-axis. Some folks have even written papers about [how these sort of plots may or may not impact how people perceive the need for confinement](https://www.ncbi.nlm.nih.gov/pmc/articles/PMC7200843/) to stop the spread of the virus.\n",
    "\n",
    "You can change the scaling of an axis for a matplotlib plot using `plt.yscale('log')`. Or, you can try using the `plt.semilogy()` function.\n",
    "\n",
    "&#9989;&nbsp; Try using a log scale for the GDP in the previous plot for the two different countries to see if it facilitates a better comparison!"
   ]
  },
  {
   "cell_type": "code",
   "execution_count": null,
   "metadata": {},
   "outputs": [],
   "source": [
    "# Try making a \"semilogy\" plot here or try use the `plt.yscale()` function to modify your plot\n"
   ]
  },
  {
   "cell_type": "markdown",
   "metadata": {},
   "source": [
    "&#9989;&nbsp; **Question** Do you find this to be a better way to visualize the data, yes or no? Explain your reasoning!"
   ]
  },
  {
   "cell_type": "markdown",
   "metadata": {},
   "source": [
    "<font size=+3>&#9998;</font> *Put your answer here*"
   ]
  },
  {
   "cell_type": "markdown",
   "metadata": {},
   "source": [
    "### 2.4 Analyzing growth rates\n",
    "\n",
    "One way to compare GDP between different countries in a way that is unit free would be to consider the countries _growth rates_. The growth rate for a year would be equal to the **percent change** going from one year to another, defined like so:\n",
    "\n",
    "* Growth Rate in 1961 = (GDP in year 1961 - GDP in year 1960) / GDP in year 1960\n",
    "\n",
    "&#9989;&nbsp; **Lets plot two countries growth rates on the same plot over time making sure to properly label our graph.**\n",
    "\n",
    "(**Hint**: Pandas dataframes might have a function that can compute the percent change for you -- time to consult the internet again!)"
   ]
  },
  {
   "cell_type": "code",
   "execution_count": null,
   "metadata": {},
   "outputs": [],
   "source": [
    "# Calculate and plot the growth rates as a function of time\n"
   ]
  },
  {
   "cell_type": "markdown",
   "metadata": {},
   "source": [
    "&#9989;&nbsp; **Question**: Why might comparing growth rates be a better comparison for countries that have GDP's of very different magnitudes?\n"
   ]
  },
  {
   "cell_type": "markdown",
   "metadata": {},
   "source": [
    "<font size=+3>&#9998;</font> *Put your answer here*"
   ]
  },
  {
   "cell_type": "markdown",
   "metadata": {},
   "source": [
    "---"
   ]
  },
  {
   "cell_type": "markdown",
   "metadata": {},
   "source": [
    "## More Data Manipulation (time permitting or if you're interested in exploring the data further on your own time!)\n",
    "### Filtering, sorting, and calculating new quantities \n",
    "\n",
    "You've been able to clean, transform, and visualize the data, but for an extra challenge let's use any time you have remaining to work on filtering and sorting your data.\n",
    "\n",
    "The below analyses are going to focus on data for individual countries for the year 2020. To get started, we're going to:\n",
    "\n",
    "1. create a new dataset for only the year 2020, and\n",
    "2. drop columns that don't correspond to individual countries"
   ]
  },
  {
   "cell_type": "code",
   "execution_count": null,
   "metadata": {},
   "outputs": [],
   "source": [
    "gdp2020 = gdp.loc[2020]\n",
    "gdp2020 = gdp2020.drop(['World', 'High income', 'OECD members', 'Post-demographic dividend', 'IDA & IBRD total', \n",
    "                        'Low & middle income', 'Middle income', 'IBRD only', 'Upper middle income',\n",
    "                        'North America', 'Late-demographic dividend',\n",
    "                        'East Asia & Pacific',\n",
    "                        'East Asia & Pacific (excluding high income)',\n",
    "                        'East Asia & Pacific (IDA & IBRD countries)', 'Euro area', 'Early-demographic dividend',\n",
    "                        'Lower middle income', 'Latin America & Caribbean',\n",
    "                        'Latin America & the Caribbean (IDA & IBRD countries)',\n",
    "                        'Latin America & Caribbean (excluding high income)', 'South Asia',\n",
    "                        'South Asia (IDA & IBRD)', 'IDA total',\n",
    "                        'Sub-Saharan Africa', 'Sub-Saharan Africa (IDA & IBRD countries)',\n",
    "                        'Sub-Saharan Africa (excluding high income)', 'IDA only'])"
   ]
  },
  {
   "cell_type": "markdown",
   "metadata": {},
   "source": [
    "&#9989;&nbsp; **Great!  Now filter the top 10% of countries in the cleaned up data set by their 2020 GDP, print their names, and store the names in a list in ordered by their GDP ranking.**\n",
    "\n",
    "(**Hint**: Pandas has a `quantile` function that could be useful to find the value for the 10% cut off as well as a function for sorting the values)"
   ]
  },
  {
   "cell_type": "code",
   "execution_count": null,
   "metadata": {},
   "outputs": [],
   "source": [
    "# Put your code for finding the countries with the highest 10 GDP values and sorting them here\n"
   ]
  },
  {
   "cell_type": "markdown",
   "metadata": {},
   "source": [
    "&#9989;&nbsp; **Let's take a closer look at how the countries rank by plotting a horizontal bar graph of the top 10% countries GDP in billions by ranking order starting with the highest GDP.**\n",
    "\n",
    "Pandas dataframes have a horizontal bar graph function as well (`.plot.barh()`) -- isn't Pandas handy?"
   ]
  },
  {
   "cell_type": "code",
   "execution_count": null,
   "metadata": {},
   "outputs": [],
   "source": [
    "# Make your horizonal bar graph here\n"
   ]
  },
  {
   "cell_type": "markdown",
   "metadata": {},
   "source": [
    "&#9989;&nbsp; **With Pandas, we can pull multiple columns at the same time. Using that list of the top 10% of countries, create a subset of the original GDP dataframe that has data for only the last 20 years for countries in your list of top 10%.**\n",
    "\n",
    "We can create a subset by setting a new variable to equal the subset of the Dataframe. \n",
    "\n",
    "(something like: `Subset = DataFrame[list_of_columns_headers]`)\n",
    "\n"
   ]
  },
  {
   "cell_type": "code",
   "execution_count": null,
   "metadata": {},
   "outputs": [],
   "source": [
    "# Put your code here and create additional code cells as needed\n"
   ]
  },
  {
   "cell_type": "markdown",
   "metadata": {},
   "source": [
    "&#9989;&nbsp; Next, **calculate the standard deviation of GDP for each country in the subset dataframe over the last 20 years. Recreate the Horizontal Bargraph above with but using the standard deviation.**"
   ]
  },
  {
   "cell_type": "markdown",
   "metadata": {},
   "source": [
    "&#9989;&nbsp; **Are there similiarities between the GDP graph and the standard deviation graph? Explain why you think they look similiar and what the limitation is with using standard deviation to compare the variation of the GDP for different contries.**"
   ]
  },
  {
   "cell_type": "markdown",
   "metadata": {},
   "source": [
    "<font size=+3>&#9998;</font> *Put your answer here*"
   ]
  },
  {
   "cell_type": "markdown",
   "metadata": {},
   "source": [
    "---"
   ]
  },
  {
   "cell_type": "markdown",
   "metadata": {},
   "source": [
    "**Let's pause and think about the following example:**"
   ]
  },
  {
   "cell_type": "code",
   "execution_count": null,
   "metadata": {},
   "outputs": [],
   "source": [
    "X = np.array([2,4,10,15,30,50])\n",
    "print(np.std(X))\n",
    "\n",
    "X2 = X*50\n",
    "print(np.std(X2))"
   ]
  },
  {
   "cell_type": "markdown",
   "metadata": {},
   "source": [
    "The idea here is the spread between the numbers in the datasets `X` & `X2` are the same in when considered as a percentage of the total, but the standard deviation will be proportionally higher for `X2`. This means the difference between each observation and the mean from a percentage basis is the same, but because the values in `X2` are 50 times larger, the standard deviation will be 50 times larger.\n",
    "\n",
    "The take away is if we want to compare how much a countries GDP growth varies relative to another country, we want an apples to apples comparison. For example, taking the standard deviation of the United States compared to Thailand we would expect United States to have a higher standard deviation because the US GDP is much higher. When in reality, Thailand's GDP varies relatively more than the United States GDP varies.\n"
   ]
  },
  {
   "cell_type": "markdown",
   "metadata": {},
   "source": [
    "---"
   ]
  },
  {
   "cell_type": "markdown",
   "metadata": {},
   "source": [
    "In order to compare the variation in GDP by countries of different magnitudes we want to be looking at the change in GDP from a percentage view.\n",
    "\n",
    "&#9989;&nbsp; **Recreate the horizontal bar graph again, but this time take the standard deviation of the percent changes, or growth rates, of GDP for the last 20 years.**"
   ]
  },
  {
   "cell_type": "code",
   "execution_count": null,
   "metadata": {},
   "outputs": [],
   "source": [
    "# Put your code here\n"
   ]
  },
  {
   "cell_type": "markdown",
   "metadata": {},
   "source": [
    "&#9989;&nbsp; **What do you observe? Why is taking the standard deviation of growth rates a better assessment of volatility than standard deviation of normal GDP for this data?**\n",
    "\n"
   ]
  },
  {
   "cell_type": "markdown",
   "metadata": {},
   "source": [
    "<font size=+3>&#9998;</font> *Put your answer here*"
   ]
  },
  {
   "cell_type": "markdown",
   "metadata": {},
   "source": [
    "---\n",
    "## Assignment wrapup\n",
    "\n",
    "Please fill out the form that appears when you run the code below. **You must completely fill this out in order to receive credit for the assignment!** "
   ]
  },
  {
   "cell_type": "code",
   "execution_count": null,
   "metadata": {},
   "outputs": [],
   "source": [
    "from IPython.display import HTML\n",
    "HTML(\n",
    "\"\"\"\n",
    "<iframe \n",
    "\tsrc=\"https://cmse.msu.edu/cmse201-ic-survey\" \n",
    "\twidth=\"800px\" \n",
    "\theight=\"600px\" \n",
    "\tframeborder=\"0\" \n",
    "\tmarginheight=\"0\" \n",
    "\tmarginwidth=\"0\">\n",
    "\tLoading...\n",
    "</iframe>\n",
    "\"\"\"\n",
    ")"
   ]
  },
  {
   "cell_type": "markdown",
   "metadata": {},
   "source": [
    "---\n"
   ]
  },
  {
   "cell_type": "markdown",
   "metadata": {},
   "source": [
    "## Congratulations, you're done!\n",
    "\n",
    "Submit this assignment by uploading your notebook to the course Desire2Learn web page.  Go to the \"In-Class Assignments\" folder, find the appropriate submission link, and upload everything there. Make sure your name is on it!"
   ]
  },
  {
   "cell_type": "markdown",
   "metadata": {},
   "source": [
    "&#169; Copyright 2023,  The Department of Computational Mathematics, Science and Engineering at Michigan State University."
   ]
  }
 ],
 "metadata": {
  "kernelspec": {
   "display_name": "Python 3 (ipykernel)",
   "language": "python",
   "name": "python3"
  },
  "language_info": {
   "codemirror_mode": {
    "name": "ipython",
    "version": 3
   },
   "file_extension": ".py",
   "mimetype": "text/x-python",
   "name": "python",
   "nbconvert_exporter": "python",
   "pygments_lexer": "ipython3",
   "version": "3.9.7"
  },
  "vscode": {
   "interpreter": {
    "hash": "57d964a2ef938b66daa93f67207194045a8aae98a88dc0c9d20f5f06155eead0"
   }
  }
 },
 "nbformat": 4,
 "nbformat_minor": 4
}
