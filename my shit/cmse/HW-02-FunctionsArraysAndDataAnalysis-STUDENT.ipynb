{
 "cells": [
  {
   "cell_type": "markdown",
   "id": "45bb8053-48ae-4a43-9420-7531a2088f70",
   "metadata": {},
   "source": [
    "# Homework 2: Functions, arrays, and data analysis"
   ]
  },
  {
   "cell_type": "markdown",
   "id": "369b25c4-5270-44f7-b4aa-5de43f181457",
   "metadata": {},
   "source": [
    "### <p style=\"text-align: right;\"> &#9989; **Put your name here** </p>"
   ]
  },
  {
   "cell_type": "markdown",
   "id": "9db8f7d4-bb38-4e4d-81eb-b3f4a29e4390",
   "metadata": {
    "jp-MarkdownHeadingCollapsed": true
   },
   "source": [
    "<img src=\"https://cmse.msu.edu/sites/_cmse/assets/Image/image002.jpg\"\n",
    "     alt=\"CMSE Logo\"\n",
    "     align=\"right\" \n",
    "     width=\"100\" />\n",
    "\n",
    "\n",
    "## Learning Goals\n",
    "\n",
    "### Content Goals\n",
    "- Practice how to define and use functions in Python (including using the `return` statement and default arguments)\n",
    "- Use functions, conditional logic, and packages to do calculations with lists / arrays of numbers\n",
    "- Practice using NumPy and Matplotlib and use them to read, analyze, visualize, and interpret data\n",
    "\n",
    "### Practice Goals\n",
    "- Use the internet as a resource for learning how to write code, learn new things, and troubleshoot problems\n",
    "___\n"
   ]
  },
  {
   "cell_type": "markdown",
   "id": "e2d25c6b-8ba7-4899-b2aa-e1c9db4ade5c",
   "metadata": {},
   "source": [
    "## Assignment instructions\n",
    "\n",
    "Work through the following assignment, making sure to follow all the directions and answer all the questions.\n",
    "\n",
    "**This assignment is due at 11:59 pm on Friday, October 13.** It should be uploaded into the \"Homework Assignments\" submission folder for Homework #2.  Submission instructions can be found at the end of the notebook.\n"
   ]
  },
  {
   "cell_type": "markdown",
   "id": "3c95e3e0-bf6e-4735-aa5c-ffdf3b4b69a4",
   "metadata": {},
   "source": [
    "---\n",
    "## Version check\n",
    "\n",
    "Before you begin, make sure your Jupyter kernel is Python 3. There are significant differences between Python 2 and Python 3, and we use Python 3 in this course. The kernel type at the upper-right corner should say \"Python 3\", and the following code should show a version of the form: `3.x.y` (where \"x\" and \"y\" are the sub-version numbers).\n",
    "\n",
    "If your kernel is Python 2, try selecting Python 3 from the Kernel menu above under the sub-menu \"Change kernel\". If that does not work, consult the Teams help channel for assistance."
   ]
  },
  {
   "cell_type": "code",
   "execution_count": 1,
   "id": "df6fc368-2a6f-4a95-83c1-89279fbc61b3",
   "metadata": {},
   "outputs": [
    {
     "name": "stdout",
     "output_type": "stream",
     "text": [
      "3.10.12 (main, Jun 11 2023, 05:26:28) [GCC 11.4.0]\n"
     ]
    }
   ],
   "source": [
    "import sys\n",
    "print(sys.version)"
   ]
  },
  {
   "cell_type": "markdown",
   "id": "aaefa6cd",
   "metadata": {},
   "source": [
    "---\n",
    "## 1. Writing functions in Python (20 points)\n",
    "\n",
    "Remember, functions are a great programming concept because they are:\n",
    "\n",
    "1. Modular\n",
    "2. Re-usable\n",
    "3. Useful\n",
    "\n",
    "While functions can help us to build progressively more sophisticated code, we need to make sure we understand the basic structure of a function to properly write them."
   ]
  },
  {
   "cell_type": "markdown",
   "id": "edc90eb3-6c71-4f0b-9eb2-3bc6bc02f6b0",
   "metadata": {},
   "source": [
    "#### &#9989;&nbsp; Question 1.1 (4 points): Writing a function to sum elements in a list"
   ]
  },
  {
   "cell_type": "markdown",
   "id": "3d6d03c6-12a5-4afc-8906-b5d110c2b840",
   "metadata": {},
   "source": [
    "Write a function to return the sum of a list of integers.\n",
    "\n",
    "Examples:\n",
    "- The sum of `[1, 2, 3]` is `1 + 2 + 3 = 6`.\n",
    "- The sum of `[-1, 0, 1]` is `-1 + 0 + 1 = 0`.\n",
    "\n",
    "Note: Write the function \"from scratch\" - don't use any built-in Python functions."
   ]
  },
  {
   "cell_type": "code",
   "execution_count": 2,
   "id": "88d72da4-ab43-4c89-b43c-d2439ff05fb9",
   "metadata": {},
   "outputs": [],
   "source": [
    "# Your code here."
   ]
  },
  {
   "cell_type": "markdown",
   "id": "08106c1d-5120-4f35-aa36-205c39ee8539",
   "metadata": {},
   "source": [
    "#### &#9989;&nbsp; Question 1.2 (2 points): Testing a function is correct"
   ]
  },
  {
   "cell_type": "markdown",
   "id": "2d138342-e5cb-480d-bac6-498a23bd135a",
   "metadata": {},
   "source": [
    "Python has a built-in function called `sum` which can be used to calculate the value of a list. Compare your function to Python's `sum` on at least one list and show they give the same answer."
   ]
  },
  {
   "cell_type": "code",
   "execution_count": 4,
   "id": "dad954a2-be27-4c61-ba29-10d3742fba11",
   "metadata": {},
   "outputs": [],
   "source": [
    "# Your code here."
   ]
  },
  {
   "cell_type": "markdown",
   "id": "67d0f706-11b4-4f74-b7e3-f21ce78f30f6",
   "metadata": {},
   "source": [
    "#### &#9989;&nbsp; Question 1.3 (2 points): Thinking about edge cases"
   ]
  },
  {
   "cell_type": "markdown",
   "id": "e4bfdda6-c55d-4006-85d6-0e32f3e7ffaa",
   "metadata": {},
   "source": [
    "What happens if you try to compute the sum of a list of integers with an empty list? This is an example of an *edge case* in programming - it refers to the situation in which the general rule may not apply. This happens quite often in many contexts and is important to keep in mind when writing functions.\n",
    "\n",
    "In the cell below, explore what happens when you pass an empty list into your function and what happens when you pass an empty list into Python's `sum` function. After that, reflect on the behavior - are they the same? different? is one more appropriate for certain situations? are there any other options for the behavior of the function on an empty list?\n",
    "\n"
   ]
  },
  {
   "cell_type": "code",
   "execution_count": 6,
   "id": "0fe3102c-6a99-4bce-844c-c9b0dc47a907",
   "metadata": {},
   "outputs": [],
   "source": [
    "# Your code here."
   ]
  },
  {
   "cell_type": "markdown",
   "id": "950deb4f",
   "metadata": {},
   "source": [
    "<font size=6 color=\"#009600\">&#9998;</font> *Respond to the questions here.*"
   ]
  },
  {
   "cell_type": "markdown",
   "id": "c8586bed-28e6-4ea7-bad2-f714ae6e2ce6",
   "metadata": {},
   "source": [
    "#### &#9989;&nbsp; Question 1.4 (4 points): Counting certain elements in a list"
   ]
  },
  {
   "cell_type": "markdown",
   "id": "a99b0cbe-8d26-4f05-b341-c5284e5cdf3d",
   "metadata": {},
   "source": [
    "Write a function to return the number of elements in a list that are greater than or equal some `threshold` value. The function should take the list of numbers and the `threshold` value as input parameters, and set the default value of `threshold` to `0.0`. Include at least one check to show your function is correct.\n",
    "\n",
    "Examples: \n",
    "- The number of elements in `[-1.0, 2.1, 5.0]` greater than or equal to `threshold=0.0` is `2`.\n",
    "- The number of elements in `[-1.0, 2.1, 5.0]` greater than or equal to `threshold=3.2` is `1`."
   ]
  },
  {
   "cell_type": "code",
   "execution_count": 8,
   "id": "0a28c825-b317-49b8-8bc2-65f2798d527e",
   "metadata": {},
   "outputs": [],
   "source": [
    "# Your code here."
   ]
  },
  {
   "cell_type": "markdown",
   "id": "883af895-646d-4234-b46a-15986881adbe",
   "metadata": {},
   "source": [
    "#### &#9989;&nbsp; Question 1.5 (6 points): Is this a probability distribution?"
   ]
  },
  {
   "cell_type": "markdown",
   "id": "3ec267b0-87bc-43d1-87b0-effeef28d3bb",
   "metadata": {},
   "source": [
    "A *probability distribution* is a list of non-negative numbers that sums to one. For example, we can describe a fair coin by the probability distribution `[0.5, 0.5]` corresponding to the probability of heads and tails.\n",
    "\n",
    "Write a function that inputs a list of numbers and returns `True` if the list of numbers is a probability distribution, else returns `False`. This function should use at least one of the functions you've written above.\n",
    "\n",
    "Examples:\n",
    "- `[0, 1/3, 1/3, 1/3]` is a probability distribution.\n",
    "- `[-1, 1, 1]` is not a probability distribution because it has a negative number.\n",
    "- `[1/2, 1/2, 1/2]` is not a probability distribution because its values don't sum to one.\n",
    "\n",
    "Note: Checking if the sum of values is exactly `1` can be unsafe using `==` with floating point numbers.  Instead you should use the function `np.isclose` from the `numpy` library to do this. Reminder: You can get help for a function using the `help` command, or look at documentation online."
   ]
  },
  {
   "cell_type": "code",
   "execution_count": 10,
   "id": "3f595d89-2bdb-4948-968f-92cde8815aa8",
   "metadata": {},
   "outputs": [],
   "source": [
    "# Your code here."
   ]
  },
  {
   "cell_type": "code",
   "execution_count": 12,
   "id": "2fc93378-0b57-4735-8a48-e6c117cff79f",
   "metadata": {},
   "outputs": [],
   "source": [
    "assert is_probabiliy_distribution([0, 1 / 3, 1 / 3, 1 / 3])\n",
    "assert not is_probabiliy_distribution([-1, 1, 1])\n",
    "assert not is_probabiliy_distribution([1 / 2, 1 / 2, 1 / 2])"
   ]
  },
  {
   "cell_type": "markdown",
   "id": "ff4e8ed8-f015-4e0a-9bb0-deb5d4909592",
   "metadata": {},
   "source": [
    "#### &#9989;&nbsp; Question 1.6 (2 points): Code discovery"
   ]
  },
  {
   "cell_type": "markdown",
   "id": "ad2c8899-6322-419e-b041-b45ea1847d3e",
   "metadata": {},
   "source": [
    "Being able to write functions is a must-have skill, but it's also important to be able to search for functions online or in documentation so you don't always have to write everything from scratch.\n",
    "\n",
    "Find a function in Python that's either built-in (like `sum`) or in a package (like `np.isclose`) which we have *not* discussed previously, describe what it does below, and show and example of using it."
   ]
  },
  {
   "cell_type": "markdown",
   "id": "c6bd35c1-ecb9-4da7-87d7-d74545567ad6",
   "metadata": {},
   "source": [
    "<font size=6 color=\"#009600\">&#9998;</font> *Respond to the questions here.*"
   ]
  },
  {
   "cell_type": "code",
   "execution_count": 13,
   "id": "fde2febd-f426-4be8-b301-35b862569533",
   "metadata": {},
   "outputs": [],
   "source": [
    "# Your code here."
   ]
  },
  {
   "cell_type": "markdown",
   "id": "41c3d57b-6d7c-4262-9878-bbb192f33719",
   "metadata": {},
   "source": [
    "---\n",
    "## 2. Computing with arrays (20 points)"
   ]
  },
  {
   "cell_type": "markdown",
   "id": "86df4a53-5126-446e-a019-2511dc1f861e",
   "metadata": {},
   "source": [
    "NumPy arrays are very useful ways to store and work with data because they do operations in parallel. In this question you'll practice writing functions to do operations on lists in parallel, then practice using NumPy to do the same task. Finally, you'll use NumPy to read in and analyze data."
   ]
  },
  {
   "cell_type": "markdown",
   "id": "91843a34-f279-401a-86ef-a61a419885d4",
   "metadata": {},
   "source": [
    "#### &#9989;&nbsp; Question 2.1 (5 points): Are these lists equal?"
   ]
  },
  {
   "cell_type": "markdown",
   "id": "643b1972-1ee7-4c5e-8696-c7b4150f296a",
   "metadata": {},
   "source": [
    "Two lists are equal if:\n",
    "- They have the same length.\n",
    "- Every element is equal.\n",
    "\n",
    "Write a function which inputs two lists of numbers and returns `True` if they are equal, else returns `False`. Check your function on at least two example inputs to show its working correctly."
   ]
  },
  {
   "cell_type": "code",
   "execution_count": 15,
   "id": "e37805fa-b9cc-4590-a109-8eaec235bbee",
   "metadata": {},
   "outputs": [],
   "source": [
    "# Your code here."
   ]
  },
  {
   "cell_type": "markdown",
   "id": "b0ae62f9-d083-4c67-9030-26ec56daf4b7",
   "metadata": {},
   "source": [
    "#### &#9989;&nbsp; Question 2.2 (5 points): The sum of two lists"
   ]
  },
  {
   "cell_type": "markdown",
   "id": "9292923c-ef99-499a-bdb2-8f4f272e163c",
   "metadata": {},
   "source": [
    "Given two lists with the same length, we define their sum element-wise. For example, `[1, 2, 3] + [1, 0, 1] = [1 + 1, 2 + 0, 3 + 1] = [2, 2, 4]`.\n",
    "\n",
    "Write a function that inputs two lists of numbers and returns the sum of the two lists. You can assume the lists have the same length. Test your function on at least two example inputs to show its working correctly."
   ]
  },
  {
   "cell_type": "code",
   "execution_count": 17,
   "id": "4af9b2bf-7e57-4990-9660-08725322bb45",
   "metadata": {},
   "outputs": [],
   "source": [
    "# Your code here."
   ]
  },
  {
   "cell_type": "markdown",
   "id": "54c15e97-0df0-4e51-8e56-9b27958d9305",
   "metadata": {},
   "source": [
    "#### &#9989;&nbsp; Question 2.3 (3 points): Comparing to NumPy array sum"
   ]
  },
  {
   "cell_type": "markdown",
   "id": "514d897d-8293-4c9a-9d87-06af02ff20b5",
   "metadata": {},
   "source": [
    "NumPy arrays are very convenient because they do operations in parallel. In the cell below, create two NumPy arrays and add them together. Compare this result to your function which computes the element-wise sum of two lists and show they give the same answer."
   ]
  },
  {
   "cell_type": "code",
   "execution_count": 19,
   "id": "65f2e4d5-dd58-491b-a208-e33e9b5be98e",
   "metadata": {},
   "outputs": [],
   "source": [
    "# Your code here."
   ]
  },
  {
   "cell_type": "markdown",
   "id": "82937cd8-ddc2-4a9d-9949-4351ff72a13c",
   "metadata": {},
   "source": [
    "#### &#9989;&nbsp; Question 2.4 (7 points): Working with NumPy arrays"
   ]
  },
  {
   "cell_type": "markdown",
   "id": "d54adfc5-da49-4658-8239-cd8b8129243d",
   "metadata": {},
   "source": [
    "There's a file called `random_lists.txt` on the course website along with this homework. This data is two-dimensional: each column of the data is a list, and there are multiple columns. Load this file into a NumPy array and determine the indices of the columns that are probability distributions."
   ]
  },
  {
   "cell_type": "code",
   "execution_count": 21,
   "id": "305fec0c-e03c-4cd2-99dd-7930201896d6",
   "metadata": {},
   "outputs": [],
   "source": [
    "# Your code here."
   ]
  },
  {
   "cell_type": "markdown",
   "id": "c5abcf7d",
   "metadata": {},
   "source": [
    "---\n",
    "## 3. Analyzing and Visualizing Endangered Species Data (30 points) "
   ]
  },
  {
   "cell_type": "markdown",
   "id": "0bffd495",
   "metadata": {},
   "source": [
    "You are a zoologist exploring data from the International Union for Conservation of Nature's (IUCN) Red List, a tool that leverages research and data to provide a comprehensive assessment of an organism's extinction risk. Put simply, the Red List provides a status on nearly all species on Earth as to whether it is doing ok, Vulnerable to extinction, Endangered, or even Extinct ([Source](https://data.world/project-data-viz/iucn-redlist-changes-2002-to-2022-pdv-10-2022/workspace/project-summary?agentid=project-data-viz&datasetid=iucn-redlist-changes-2002-to-2022-pdv-10-2022)). \n",
    "\n",
    "The structure of the data is as follows:\n",
    "* Column 0: Year (ranging from 2002-2022)\n",
    "* Column 1: Mammal Species Assessed\n",
    "* Column 2: Bird Species Assessed\n",
    "* Column 3: Reptile Species Assessed\n",
    "* Column 4: Amphibian Species Assessed\n",
    "* Column 5: Fish Species Assessed\n",
    "* Column 6: Insect Species Assessed\n",
    "* Column 7: Mollusc Species Assessed\n",
    "* Column 8: Other Invertebrate Species Assessed\n",
    "* Column 9: Plant Species Assessed\n",
    "* Column 10: Fungus & Protist Species Assessed\n",
    "* Column 11: Mammal Species Critically Endangered\n",
    "* Column 12: Bird Species Critically Endangered\n",
    "* Column 13: Reptile Species Critically Endangered\n",
    "* Column 14: Amphibian Species Critically Endangered\n",
    "* Column 15: Fish Species Critically Endangered\n",
    "* Column 16: Insect Species Critically Endangered\n",
    "* Column 17: Mollusc Species Critically Endangered\n",
    "* Column 18: Other Invertebrate Species Critically Endangered\n",
    "* Column 19: Plant Species Critically Endangered\n",
    "* Column 20: Fungus & Protist Species Critically Endangered\n",
    "* Column 21: Mammal Species  Endangered\n",
    "* Column 22: Bird Species Endangered\n",
    "* Column 23: Reptile Species Endangered\n",
    "* Column 24: Amphibian Species Endangered\n",
    "* Column 25: Fish Species Endangered\n",
    "* Column 26: Insect Species  Endangered\n",
    "* Column 27: Mollusc Species Endangered\n",
    "* Column 28: Other Invertebrate Species Endangered\n",
    "* Column 29: Plant Species Endangered\n",
    "* Column 30: Fungus & Protist Species  Endangered\n",
    "* Column 31: Mammal Species Vulnerable\n",
    "* Column 32: Bird Species Vulnerable\n",
    "* Column 33: Reptile Species Vulnerable\n",
    "* Column 34: Amphibian Species Vulnerable\n",
    "* Column 35: Fish Species Vulnerable\n",
    "* Column 36: Insect Species Vulnerable\n",
    "* Column 37: Mollusc Species Vulnerable\n",
    "* Column 38: Other Invertebrate Species Vulnerable\n",
    "* Column 39: Plant Species Vulnerable\n",
    "* Column 40: Fungus & Protist Species Vulnerable"
   ]
  },
  {
   "cell_type": "markdown",
   "id": "57f05e9c",
   "metadata": {},
   "source": [
    "#### &#9989;&nbsp; Question 3.1 (5 points): Data Context\n",
    "\n",
    "Before you examine the data itself, you need to determine the context of the data set. Visit the [IUCN Red List Website](https://www.iucnredlist.org/), and spend at least 15 minutes exploring the website to determine some context for the data set. Some ideas for what to look for are:\n",
    "\n",
    "* How IUCN defines the different categories (e.g. \"Criticically Endangered\" vs. \"Endangered\").\n",
    "* Who collects the data?\n",
    "* How is IUCN funded?\n",
    "* How often is the data reviewed? Who reviews it?\n",
    "\n",
    "For more information or reading on the importance of data context, check out [The Numbers Don't Speak for Themselves](https://data-feminism.mitpress.mit.edu/pub/czq9dfs5/release/3)."
   ]
  },
  {
   "cell_type": "markdown",
   "id": "45d9bd14",
   "metadata": {},
   "source": [
    "<font size=+3>&#9998;</font> *Your answer here*"
   ]
  },
  {
   "cell_type": "markdown",
   "id": "c2be5130-5288-4756-acc6-cc0a2fb77753",
   "metadata": {},
   "source": [
    "#### &#9989;&nbsp; Question 3.2 (5 points): Reading in the data\n",
    "\n",
    "In the cell below, read in the data file `endangered_species_HW2.csv` **with `np.loadtxt()`.** (Yes, you have learned `pandas`, but we're practicing with `numpy` here!) \n",
    "\n",
    "There are 41 columns of data, so you should pick one endangered category (i.e. 'Vulnerable, Endangered, or Critically Endangered) and read in **only those columns along with the Year column and Total Species Assessed columns.** That should result in 21 columns of data. Make sure you double check that you have the columns that you want! \n",
    "\n",
    "Each column should have its own variable name, and you can accomplish this either as you read in the file or by defining the variables after you read them in."
   ]
  },
  {
   "cell_type": "code",
   "execution_count": 25,
   "id": "f710f6ed",
   "metadata": {},
   "outputs": [],
   "source": [
    "# Put your code here!"
   ]
  },
  {
   "cell_type": "markdown",
   "id": "5531f344",
   "metadata": {},
   "source": [
    "#### &#9989;&nbsp; Question 3.3 (5 points): Exploring the Data\n",
    "\n",
    "When presented with a new data file, the first goal is to understand the data. In the cell(s) below, make at least **four** plots of the data using plt.subplot(). Make sure to include all of the appropriate components and make your plots readable! Then, describe one thing you notice from each plot."
   ]
  },
  {
   "cell_type": "code",
   "execution_count": 23,
   "id": "a29f68af",
   "metadata": {},
   "outputs": [],
   "source": [
    "# Put your code here"
   ]
  },
  {
   "cell_type": "markdown",
   "id": "248dec55",
   "metadata": {},
   "source": [
    "<font size=+3>&#9998;</font> *Your answers here*"
   ]
  },
  {
   "cell_type": "markdown",
   "id": "b7e27eaf",
   "metadata": {},
   "source": [
    "#### &#9989;&nbsp; Question 3.4 (7 points): Analyzing the Data\n",
    "\n",
    "Now, it's time to do some statistics to see if we can find some meaning from this data.\n",
    "\n",
    "First, choose a species category (e.g. \"Mammals\") from your existing data. Keep your previously chosen Red List category the same so you don't have to read in new data!\n",
    "\n",
    "Then, do the following calculations:\n",
    "\n",
    "* Calculate the percentage of your Red List category in the total species assessed category (e.g. (mammals critically endangered / total mammals assessed)  $\\times$ 100 )\n",
    "* Calculate the Mean, Standard Deviation, and Median of your total species assessed category using the `numpy` functions\n",
    "* Calculate the Mean, Standard Deviation, and Median of your Red List species category using the `numpy` functions"
   ]
  },
  {
   "cell_type": "code",
   "execution_count": 37,
   "id": "c7e60f9e",
   "metadata": {},
   "outputs": [],
   "source": [
    "# Put your answer here"
   ]
  },
  {
   "cell_type": "markdown",
   "id": "6dfe3c4c",
   "metadata": {},
   "source": [
    "#### &#9989;&nbsp; Question 3.5 (8 points): Visualizing the Data (8 points)\n",
    "\n",
    "Now let's visualize our calculations! You are going to create **three plots**:\n",
    "\n",
    "1. Total Species Assessed over time, with mean, standard deviation (plus and minus!), and median plotted as horizontal lines.\n",
    "2. Red List category over time, with mean, standard deviation (plus and minus!), and median plotted as horizontal lines.\n",
    "3. Plot of percentage over time.\n",
    "\n",
    "Note: You can use `plt.axhline()` for horizontal lines on plots!\n",
    "\n",
    "Then, answer the following questions for **each plot**:\n",
    "\n",
    "1. In plain English, describe how the values are changing with time.\n",
    "2. Is there a difference between the mean and median? If so, what might that indicate?\n",
    "3. Where do the standard deviations lie in relation to the data and the mean and what does that tell us about the data?\n",
    "4. Recall the context you explored early in this problem, how does the context apply here?"
   ]
  },
  {
   "cell_type": "code",
   "execution_count": 38,
   "id": "8d3a4baf",
   "metadata": {},
   "outputs": [],
   "source": [
    "# Put your code here"
   ]
  },
  {
   "cell_type": "markdown",
   "id": "dc0f7d53",
   "metadata": {},
   "source": [
    "<font size=+3>&#9998;</font> *Your answers here*"
   ]
  },
  {
   "cell_type": "markdown",
   "id": "281eb271",
   "metadata": {},
   "source": [
    "---\n",
    "## Wait! Before you submit your notebook, read the following important recommendations\n",
    "\n",
    "When your TA opens your notebook to grade the assignment, it will be really useful if your notebook is saved in a fully executed state so that they can see the output of all your code. Additionally, it may be necessary from time to time for the TA to actually run your notebook, but when they run the notebook, it is important that you are certain that all the code will actually run for them!\n",
    "\n",
    "You should get into the following habit: **before you save and submit your final notebook for your assignments, go to the \"Kernel\" tab at the top of the notebook and select \"Restart and Run all\".** This will restart your notebook and try to run the code cell-by-cell from the top to the bottom. Once it finished, review you notebook and make sure there weren't any errors that popped up. Sometimes, when working with notebooks, we accidentally change code in one cell that break our code in another cell. If your TA stumbles across code cells that don't work, **they will likely have to give you a zero for those portions of the notebook that don't work**. Testing your notebook one last time is a good way to make sure this doesn't happen.\n",
    "\n",
    "**Once you've tested your whole notebook again, make sure you save it one last time before you upload it to D2L.**"
   ]
  },
  {
   "cell_type": "markdown",
   "id": "883c1744",
   "metadata": {},
   "source": [
    "---\n",
    "\n",
    "### Congratulations, you're done! ###\n",
    "\n",
    "Submit this assignment by uploading it to the course Desire2Learn web page. Go to the \"Homework Assignments\" section, find the submission folder link for Homework #2, and upload it there."
   ]
  },
  {
   "cell_type": "markdown",
   "id": "2924456e",
   "metadata": {
    "id": "oioWRiR0d2zQ"
   },
   "source": [
    "Copyright &#169; 2023, [Department of Computational Mathematics, Science and Engineering](https://cmse.msu.edu/) at Michigan State University, All rights reserved."
   ]
  }
 ],
 "metadata": {
  "kernelspec": {
   "display_name": "Python 3 (ipykernel)",
   "language": "python",
   "name": "python3"
  },
  "language_info": {
   "codemirror_mode": {
    "name": "ipython",
    "version": 3
   },
   "file_extension": ".py",
   "mimetype": "text/x-python",
   "name": "python",
   "nbconvert_exporter": "python",
   "pygments_lexer": "ipython3",
   "version": "3.9.7"
  },
  "vscode": {
   "interpreter": {
    "hash": "57d964a2ef938b66daa93f67207194045a8aae98a88dc0c9d20f5f06155eead0"
   }
  }
 },
 "nbformat": 4,
 "nbformat_minor": 5
}
