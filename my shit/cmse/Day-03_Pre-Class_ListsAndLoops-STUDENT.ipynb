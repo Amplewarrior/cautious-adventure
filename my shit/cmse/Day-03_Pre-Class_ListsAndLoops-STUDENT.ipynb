{
 "cells": [
  {
   "cell_type": "markdown",
   "metadata": {},
   "source": [
    "# Day 3: Pre-Class Assignment: Lists and Loops"
   ]
  },
  {
   "cell_type": "markdown",
   "metadata": {},
   "source": [
    "### <p style=\"text-align: right;\"> &#9989; Put your name here</p>"
   ]
  },
  {
   "cell_type": "markdown",
   "metadata": {},
   "source": [
    "### Goals for Today's Pre-Class Assignment\n",
    "By the end of this assignment, you should be able to:\n",
    "* Create and manipulate lists in Python\n",
    "* Write `for` loops and `while` loops in Python\n",
    "* Combine lists and loops to compute new values.\n",
    "\n",
    "### Assignment instructions\n",
    "\n",
    "Read this notebook, watch the videos below and complete the assigned programming problems.  Please get started early, and come to office hours if you have any questions!\n",
    "\n",
    "Recall that to make notebook cells that have Python code in them do something, hold down the 'shift' key and then press the 'enter' key (you'll have to do this to get the YouTube videos to run).  To edit a cell (to add answers, for example) you double-click on the cell, add your text, and then enter it by holding down 'shift' and pressing 'enter'.\n",
    "\n",
    "**This assignment is due by 11:59 p.m. the day before class,** and should be uploaded into the appropriate \"Pre-class assignments\" submission folder on D2L.  Submission instructions can be found at the end of the notebook."
   ]
  },
  {
   "cell_type": "markdown",
   "metadata": {},
   "source": [
    "---\n",
    "### Keyboard shortcuts!\n",
    "\n",
    "If you want to start using keyboard shortcuts in Jupyter Notebooks to make your life easier and more efficient, **try pressing `ESC` to enter command mode and then press `H`**. This will bring up the list of the keyboard shortcuts. Some of the useful shortcuts include `A` and `B`, which insert cells into the notebook \"above\" and \"below\" the current cell, respectively. `X` is also useful for cutting out cells that you don't need."
   ]
  },
  {
   "cell_type": "markdown",
   "metadata": {},
   "source": [
    "## Part 1: Lists in Python\n",
    "\n",
    "One very useful data type/container in Python is the \"list\". A list is considered a \"mutable\" Python data type which means that once you create a list, you are free to change the contents of that list. Lists are also handy because they can store pretty much any other type of python variable within them -- including other lists! Creating lists of lists can actually be extremely handy at times. The following table should serve as a simple reference guide for lists. Note that you might have to scroll side to the side to see the whole table."
   ]
  },
  {
   "cell_type": "markdown",
   "metadata": {},
   "source": [
    "\n",
    "|Container Type|Mutable or Immutable|Initialization *Without* Values|Initializtion *With* Values|Adding Values to Container|Removing Values from Container|Modifying Values|Access Method        |Notable Operations and Additional Information|\n",
    "|:----------|:----------|:----------|:----------|:----------|:----------|:----------|:----------|:----------|\n",
    "|**List** $\\hspace{0.5in}$| Mutable $\\hspace{0.5in}$|<ul><li>`a=list()` </li><li> `a=[]` </li></ul> $\\hspace{1.0in}$| `a=['1', '2', '3']` $\\hspace{1.5in}$|  <ul><li>` list.append(item) #Adds item to the end of the list` </li><li> ` list.insert(index, item) #Adds item to the specified index in the list`</li></ul> $\\hspace{2.5in}$|`list.remove(item) #removes the first instance of 'item' from the list. If there is not such an element, this will cause an error` $\\hspace{2.0in}$|`>>> a[0] = 'cat'` <br> `>>> a` <br> `['cat', '2', '3']` $\\hspace{1.5in}$|Access by index: <br> `>>> a[0]` <br> `1` $\\hspace{1.2in}$|See webpage at [here](http://www.linuxtopia.org/online_books/programming_books/python_programming/python_ch14s07.html) for some helpful methods when dealing with lists. $\\hspace{1.5in}$|"
   ]
  },
  {
   "cell_type": "markdown",
   "metadata": {},
   "source": [
    "**Now**, watch the following video about lists. If the YouTube video doesn't work, try this link: https://mediaspace.msu.edu/media/The+list+data+type+in+Python/0_55bjfjvn"
   ]
  },
  {
   "cell_type": "code",
   "execution_count": null,
   "metadata": {},
   "outputs": [],
   "source": [
    "# Imports the functionality that we need to display YouTube videos in a Jupyter notebook.  \n",
    "# You need to run this cell before you run ANY of the YouTube videos.\n",
    "from IPython.display import YouTubeVideo\n",
    "\n",
    "# Watch this video to learn about the list type in Python \n",
    "YouTubeVideo(\"TJ_bGrigAMg\",width=640,height=360)"
   ]
  },
  {
   "cell_type": "markdown",
   "metadata": {},
   "source": [
    "We can think of a list like multiple containers placed side by side in a line. Each container in our list has an _index_ that tells us where that container lies in relation to the other containers in the list. Within each container lies a piece of data that could be any Python variable type. We typically refer to these pieces of data as the _values_ of the list. \n",
    "\n",
    "Here's an example list: <code>[7, 24.5, \"class\"]</code>. We can think about this list as three containers next to each other with each container containing a single element from this list. So for this list, we have a container at the index 0 with the value of 7, a container at the index 1 with the value 24.5, and a container with the index 2 with the value \"class\" (remembering Python indexing starts at 0!). \n",
    "\n",
    "&#9989;&nbsp; **Question 1:**  In the cell below, create a list that contains, in this order:\n",
    "\n",
    "   1. Your first name as a string\n",
    "   2. Your age as a floating-point number in years. Include one decimal point of precision and a comment about how you calculated the decimal value.\n",
    "   3. Your room, apartment, or house number as an integer\n",
    "\n",
    "**Then**:\n",
    "* Print this list out.  \n",
    "* Replace your first name in the list with your last name, and replace your age with the current year as an integer. Use indexing to change these values! That means use something like \"`mylist[0] =`\" where `mylist` is whatever you named your list. After the equal sign, put your new value for that item in the list.\n",
    "* Append one or more new variables (anything you like), print out the length of the list using the len() function, and then print out the entire list again."
   ]
  },
  {
   "cell_type": "code",
   "execution_count": null,
   "metadata": {},
   "outputs": [],
   "source": [
    "# Write your program here, using multiple cells if necessary. Add extra cells using\n",
    "# the 'Cell' menu at the top of this notebook or by using the keyboard shortcut. Don't forget that you can execute \n",
    "# your program by holding down 'shift' and pressing 'enter' in each cell!\n"
   ]
  },
  {
   "cell_type": "markdown",
   "metadata": {},
   "source": [
    "---\n",
    "## Part 2: For loops and While loops\n",
    "\n",
    "### Part 2.1: For loops\n",
    "\n",
    "Watch the following video, which introduces the concepts of <code>for</code> loops and how they work in Python. After you watch the video, answer the questions below.\n",
    "\n",
    "If the YouTube video below doesn't work, try this link: https://mediaspace.msu.edu/media/Loops+in+python/0_ls7psyq2?ed=629"
   ]
  },
  {
   "cell_type": "code",
   "execution_count": null,
   "metadata": {},
   "outputs": [],
   "source": [
    "# Video on \"for\" loops in Python\n",
    "# Make sure to watch it in full-screen mode!\n",
    "YouTubeVideo(\"VnTN5sFIPD0\",width=640,height=360,end=629)"
   ]
  },
  {
   "cell_type": "markdown",
   "metadata": {},
   "source": [
    "&#9989;&nbsp; **Question 2**: Write a `for` loop that prints the numbers 0 through 9 in the cell below."
   ]
  },
  {
   "cell_type": "code",
   "execution_count": null,
   "metadata": {},
   "outputs": [],
   "source": [
    "# put your code here!\n"
   ]
  },
  {
   "cell_type": "markdown",
   "metadata": {},
   "source": [
    "&#9989;&nbsp; **Question 3**: Write a `for` loop that iterates through the items in the \"cmse_grab_bag\" list provided in the cell below and prints each item."
   ]
  },
  {
   "cell_type": "code",
   "execution_count": null,
   "metadata": {},
   "outputs": [],
   "source": [
    "cmse_grab_bag = [\"CMSE\", 201, \"Section 001\", \"Room 3201\",\n",
    "                 \"pre-class\", 3,  \"in-class\", \"TA\", \"Section 005\", \n",
    "                 \"LA\", \"flipped classroom\"]\n",
    "\n",
    "# put your code here!"
   ]
  },
  {
   "cell_type": "markdown",
   "metadata": {},
   "source": [
    "&#9989;&nbsp; **Task**: Looking at Questions 2 and 3, answer the following questions:\n",
    "- What type of information did you loop over? Explain the code that you wrote in plain English. \n",
    "- Are there differences between the structure of the loops that you wrote for Questions 2 and 3? If not, how else could you have completed Question 3 such that the structure would be different? "
   ]
  },
  {
   "cell_type": "markdown",
   "metadata": {},
   "source": [
    "<font size=\"+3\">&#9998;</font> *Put your answer here*"
   ]
  },
  {
   "cell_type": "markdown",
   "metadata": {},
   "source": [
    "### Index vs Value\n",
    "\n",
    "Remember the container idea we mentioned above? \n",
    "\n",
    "In <code>for</code> loops, we can access the values in a list _by the value itself or by the index of the container_. For example, if you answered Question 3 with the structure of <code>for value in list:</code>, you accessed the values each container directly. We could also access the values in the container by using the index of where the container lies in list - in some sense, we are saying \"find the container at this index and return the value in that container.\" \n",
    "\n",
    "Looking at the list in Question 3, let's say we want to know which indices contain a section name. So, now we need to know the index **and** the value of the list at that index. In order to use the index to look through our list, we need to know how many total containers there are in the list. And since indices are numbers, we can easily use the range function from above. Since we want to loop through all the containers in the list, we start at 0 and end at the total number of containers in the list. Then, we print the index and the value of the list at that index. \n",
    " \n",
    "Here's what that looks like:"
   ]
  },
  {
   "cell_type": "code",
   "execution_count": null,
   "metadata": {},
   "outputs": [],
   "source": [
    "for i in range(0, len(cmse_grab_bag)): #this can also be written for i in range(len(cmse_grab_bag)):\n",
    "   print(i, cmse_grab_bag[i])"
   ]
  },
  {
   "cell_type": "markdown",
   "metadata": {},
   "source": [
    "We can see that the two section names are located at index 2 and index 8. While this is a simple example, it can easily be expanded to other situations. \n",
    "\n",
    "Now you might be asking, when do I loop by index and when do I loop by the value? Here's some tips: \n",
    "\n",
    "- If you only need to access the values in a single list, without any of the index information, the <code>for value in list:</code> structure is most likely the way to go. \n",
    "\n",
    "- As your code gets more complicated, we often use the <code>for i in range(len(list)): </code> structure. Some examples are:\n",
    "    - When you need the index information, like above\n",
    "    - When you want to access values at the same index in multiple lists\n",
    "    \n",
    "The gif below shows the difference between looping over the value versus the index. Notice that the lists and the output for each are the same.  "
   ]
  },
  {
   "cell_type": "markdown",
   "metadata": {},
   "source": [
    "<img src=https://media.giphy.com/media/RDTzdq71CtvK2TOew9/giphy.gif width=\"600\" height=\"450\" align=\"center\">"
   ]
  },
  {
   "cell_type": "markdown",
   "metadata": {},
   "source": [
    "&#9989;&nbsp; **Task**: Before moving on to while loops, explain the idea of an index to a someone who has never coded before. "
   ]
  },
  {
   "cell_type": "markdown",
   "metadata": {},
   "source": [
    "<font size=\"+3\">&#9998;</font> *Put your answer here*"
   ]
  },
  {
   "cell_type": "markdown",
   "metadata": {},
   "source": [
    "### Part 2.2: While loops\n",
    "\n",
    "Watch the following video clip, which introduces the concept of <code>while</code> loops in Python. After you watch the video, answer the questions below.\n",
    "\n",
    "**Note**: Ignore the little bit at the end of the video clip that mentions numpy arrays and the <code>nditer</code> function.\n",
    "\n",
    "If the YouTube video below doesn't work, try this link: https://mediaspace.msu.edu/media/Loops+in+python/0_ls7psyq2?st=823"
   ]
  },
  {
   "cell_type": "code",
   "execution_count": null,
   "metadata": {},
   "outputs": [],
   "source": [
    "# Video on \"while\" loops in Python\n",
    "# Make sure to watch it in full-screen mode!\n",
    "YouTubeVideo(\"VnTN5sFIPD0\",width=640,height=360,start=823)"
   ]
  },
  {
   "cell_type": "markdown",
   "metadata": {},
   "source": [
    "&#9989;&nbsp; **Question 4**: Write a `while` loop that starts with a value of \"`x = 2`\", on each iteration multiples `x` by 2, prints the value of `x`, and keeps running until `x` is greater than 4096.\n",
    "\n",
    "**Caution: When working with while loops it is easy to accidentally create an \"infinite\" loop that runs forever.  If you do this the notebook will get stuck on a cell (appearing as `In [*]:` on the left). The best way to fix this is to select \"Interrupt\" from the Kernel menu above.**"
   ]
  },
  {
   "cell_type": "code",
   "execution_count": null,
   "metadata": {},
   "outputs": [],
   "source": [
    "# put your code here!"
   ]
  },
  {
   "cell_type": "markdown",
   "metadata": {},
   "source": [
    "&#9989;&nbsp; **Task**: Now that you have worked with both `for` and `while` loops, what are the main differences between them? How would you explain the difference to a friend who did not get to watch the videos in this lesson? "
   ]
  },
  {
   "cell_type": "markdown",
   "metadata": {},
   "source": [
    "<font size=\"+3\">&#9998;</font> *Put your answer here*"
   ]
  },
  {
   "cell_type": "markdown",
   "metadata": {},
   "source": [
    "---\n",
    "## Part 3: Combining lists and loops.\n",
    "\n",
    "&#9989;&nbsp; **Question 5**: Now we want you to try to use various components of everything you just learned to calculate some values. \n",
    "\n",
    "The cell below includes two lists of values, `x` and `y`. Your task is to initialize one new empty list, `addition`, iterate through the two lists of values, `x` and `y`, using a loop to compute $x + y$, and store these values in your new list. Once you've computed all the values, print out the results.\n",
    "\n",
    "**Hint**: If you take a look at the table in Part 1 that contains information about lists, you see that it mentions adding values to a list using `.append()`, this is what you'll want to use to fill your `addition` list. Also, remember that we use `**` to compute powers in Python. So \"2 squared\" would be `2**2`."
   ]
  },
  {
   "cell_type": "code",
   "execution_count": null,
   "metadata": {},
   "outputs": [],
   "source": [
    "x = [2,4,6,8,10,12,14,16,18]\n",
    "y = [10,8.25,7.5,7,6.5,7,7.5,8.25,10]\n",
    "\n",
    "# Put your commands for intializing your new list below this comment\n",
    "\n",
    "\n",
    "# Put your loop for computing x+y below these comments.\n",
    "# You'll be using .append() to add new values to the lists you just initialized.\n",
    "\n"
   ]
  },
  {
   "cell_type": "markdown",
   "metadata": {},
   "source": [
    "&#9989;&nbsp; **Question 6**: Nested Loops\n",
    "\n",
    "In the cell below is an example of a [\"nested loop.\"](https://pynative.com/python-nested-loops/) Beginning with your code from Question 5 (and using the nested loop example below as a reference), write a loop inside your loop from Question 5 that calculates $(x+y)^2$ for every value of $y$ (i.e. your inner loop should be over the list of y-values) and appends it to a new list `xy_squared`. In your outer loop, print out that list. \n",
    "\n",
    "If you've done this correctly, then the first list you get should look like the following:\n",
    "\n",
    "`[144, 105.0625, 90.25, 81, 72.25, 81, 90.25, 105.0625, 144]`\n",
    "\n",
    "which is [(2+10)^2, (2+8.25)^2, (2+7.5)^2, (2+7)^2, (2+6.5)^2, (2+7)^2, (2+7.5)^2, (2+8.25)^2, (2+10)^2].\n",
    "\n",
    "The next list should be the result of [(4+10)^2, (4+8.25)^2, (4+7.5)^2, (4+7)^2, (4+6.5)^2, (4+7)^2, (4+7.5)^2, (4+8.25)^2, (4+10)^2] because you should move on to the next value in the `x` list. This will look like:\n",
    "\n",
    "`[196, 150.0625, 132.25, 121, 110.25, 121, 132.25, 150.0625, 196]`\n",
    "\n",
    "**Yes**, this might seem a bit complicated -- that's totally expected. After all, you're still learning to write code! If you find yourself spending too much time to figure this out, make use of Teams or try to drop by office hours or help room hours. Making sure that you spend time on your own trying to work through pre-class activities like this one are important for making your time in class as productive as possible."
   ]
  },
  {
   "cell_type": "code",
   "execution_count": null,
   "metadata": {},
   "outputs": [],
   "source": [
    "# Nested Loop example from https://pynative.com/python-nested-loops/\n",
    "lines = 5\n",
    "# outer loop\n",
    "for line in range(1, lines + 1):\n",
    "    # inner loop\n",
    "    for idx in range(1, line + 1):\n",
    "        print(\"#\", end=\" \") # print statement that does not make a new line each time\n",
    "    print('\\n') # add a new line between each iteration of the outer loop "
   ]
  },
  {
   "cell_type": "markdown",
   "metadata": {},
   "source": [
    "Before you write any code for solving the problem, answer these questions:\n",
    "- What information do you need from each list?\n",
    "- How are you going to access that information?\n",
    "- Once you have the information, what are you going to do with it?"
   ]
  },
  {
   "cell_type": "markdown",
   "metadata": {},
   "source": [
    "<font size=\"+3\">&#9998;</font> *Put your answer here*"
   ]
  },
  {
   "cell_type": "code",
   "execution_count": null,
   "metadata": {},
   "outputs": [],
   "source": [
    "# put your code here"
   ]
  },
  {
   "cell_type": "markdown",
   "metadata": {},
   "source": [
    "---\n",
    "## Follow-up Questions\n",
    "\n",
    "Copy and paste the following questions into the appropriate box in the assignment survey include below and answer them there. (Note: You'll have to fill out the section number and the assignment number and go to the \"NEXT\" section of the survey to paste in these questions.)\n",
    "\n",
    "1. If you had a list variable called `directory`, how you would access the fourth element in this list?\n",
    "\n",
    "2. Explain when you might use a `for` loop versus a `while` loop.\n"
   ]
  },
  {
   "cell_type": "markdown",
   "metadata": {},
   "source": [
    "---\n",
    "## Assignment wrap-up\n",
    "\n",
    "Please fill out the form that appears when you run the code below.  **You must completely fill this out in order to receive credit for the assignment!**"
   ]
  },
  {
   "cell_type": "code",
   "execution_count": null,
   "metadata": {},
   "outputs": [],
   "source": [
    "from IPython.display import HTML\n",
    "HTML(\n",
    "\"\"\"\n",
    "<iframe \n",
    "\tsrc=\"https://cmse.msu.edu/cmse201-pc-survey\" \n",
    "\twidth=\"800px\" \n",
    "\theight=\"600px\" \n",
    "\tframeborder=\"0\" \n",
    "\tmarginheight=\"0\" \n",
    "\tmarginwidth=\"0\">\n",
    "\tLoading...\n",
    "</iframe>\n",
    "\"\"\"\n",
    ")"
   ]
  },
  {
   "cell_type": "markdown",
   "metadata": {},
   "source": [
    "### Congratulations, you're done!\n",
    "\n",
    "Submit this assignment by uploading it to the course Desire2Learn web page.  Go to the \"Pre-class assignments\" folder, find the appropriate submission folder link, and upload it there.\n",
    "\n",
    "See you in class!"
   ]
  },
  {
   "cell_type": "markdown",
   "metadata": {},
   "source": [
    "&#169; Copyright 2023, Department of Computational Mathematics, Science and Engineering at Michigan State University."
   ]
  }
 ],
 "metadata": {
  "kernelspec": {
   "display_name": "Python 3 (ipykernel)",
   "language": "python",
   "name": "python3"
  },
  "language_info": {
   "codemirror_mode": {
    "name": "ipython",
    "version": 3
   },
   "file_extension": ".py",
   "mimetype": "text/x-python",
   "name": "python",
   "nbconvert_exporter": "python",
   "pygments_lexer": "ipython3",
   "version": "3.9.7"
  },
  "vscode": {
   "interpreter": {
    "hash": "57d964a2ef938b66daa93f67207194045a8aae98a88dc0c9d20f5f06155eead0"
   }
  }
 },
 "nbformat": 4,
 "nbformat_minor": 4
}
